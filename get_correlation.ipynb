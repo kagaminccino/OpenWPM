{
 "cells": [
  {
   "cell_type": "code",
   "execution_count": 1,
   "metadata": {},
   "outputs": [],
   "source": [
    "from sites import cat_w_sites\n",
    "import sqlite3\n",
    "import ast\n",
    "from collections import defaultdict\n",
    "from urllib.parse import urlparse\n",
    "import numpy as np\n",
    "import matplotlib\n",
    "import matplotlib.pyplot as plt"
   ]
  },
  {
   "cell_type": "code",
   "execution_count": 2,
   "metadata": {},
   "outputs": [],
   "source": [
    "def getDomain(s):\n",
    "    o = urlparse(s)\n",
    "    domain = o.netloc\n",
    "    if not domain:\n",
    "        return s\n",
    "    return domain"
   ]
  },
  {
   "cell_type": "code",
   "execution_count": 3,
   "metadata": {},
   "outputs": [
    {
     "name": "stdout",
     "output_type": "stream",
     "text": [
      "100\n",
      "{'members.tripod.com': 0, 'www.canadahentai.com': 0, 'www.hirameki-int.com': 0, 'www.peachprincess.com': 0, 'www.hentai-comics.com': 0, 'www.himeyashop.com': 0, 'www.jastusa.com': 0, 'ryogamasaki.netfirms.com': 0, 'www.g-collections.com': 0, 'www.hentai-games.com': 0, 'www.ctrl-a.org': 1, 'www.sfanimeclub.com': 1, 'www.auburn.edu': 1, 'www.stevens.edu': 1, 'www.freewebs.com': 1, 'www.fresnoanime.com': 1, 'www.otakuanime.org': 1, 'www.jaamke.com': 1, 'www.delawareanimesociety.com': 1, 'www.indyanime.org': 1, 'www.accountants.org.sg': 2, 'www.isaca.org': 2, 'www.icai.ie': 2, 'www.icaa.org.au': 2, 'www.cica.ca': 2, 'www.cma-canada.org': 2, 'www.aicpa.org': 2, 'www.icap.org.pk': 2, 'www.nasba.org': 2, 'www.jicpa.or.jp': 2, 'www.leekillough.com': 3, 'www.eli.sdsu.edu': 3, 'www.oopweb.com': 3, 'www.personal.kent.edu': 3, 'www.cs.ucr.edu': 3, 'alumni.imsa.edu': 3, 'editor.altervista.org': 3, 'www.intelligenceunited.com': 3, 'sigact.acm.org': 3, 'www.algosort.com': 3, 'www.gamereport.com': 4, 'www.cox-tv.com': 4, '647323,http://www.renju.net/,Games': 4, 'www.5straight.com': 4, 'www.enginuity.com': 4, 'www.boardgamegeek.com': 4, 'www.oellermann.com': 4, 'www.linkfive.com': 4, 'www.gamerz.net': 4, 'ourworld.compuserve.com': 4, 'www.cnn.com': 5, 'www.cbc.ca': 5, 'news.bbc.co.uk': 5, 'www.nytimes.com': 5, 'www.newsinpictures.com': 5, 'english.aljazeera.net': 5, 'www.foxnews.com': 5, 'www.cbsnews.com': 5, 'www.guardian.co.uk': 5, 'abcnews.go.com': 5, 'www.colonialarts.com': 6, 'www.restoration-advice.org': 6, 'www.ukulele.com': 6, 'antiquerestorers.com': 6, 'www.antiquelures.com': 6, 'www.debencemusicworld.com': 6, 'www.bassboy.com.au': 6, 'www.charleslocksmith.com': 6, 'www.tefaf.com': 6, 'www.currierprints.com': 6, 'www.fao.org': 7, 'dels.nas.edu': 7, 'www.agr.gc.ca': 7, 'www.farminfo.org': 7, 'www.ciat.cgiar.org': 7, 'www.usda.gov': 7, 'www.ruaf.org': 7, 'www.infosysplus.org': 7, 'www.garden-infosys.de': 7, 'www.niab.com': 7, 'ourworld.cs.com': 8, 'www.decodan.com': 8, 'www.dowahdiddy.com': 8, 'www.go-kat-go.com': 8, 'monimania.home.att.net': 8, 'www.decoworld.com': 8, 'www.trashdaddy.com': 8, 'www.ohioseeburgrepair.com': 8, 'tias.com': 8, 'www.classicmalt.com': 8, 'www.dynamicadventureracing.co.uk': 9, 'www.indianaar.com': 9, 'www.checkpointzero.com': 9, 'www.archronicles.com': 9, 'www.oarevents.com': 9, 'www.infiterrasports.com': 9, 'www.ar.co.za': 9, 'www.hairyscaryevolutions.com': 9, 'www.fmij.com': 9, 'www.active.com': 9}\n"
     ]
    }
   ],
   "source": [
    "cats = [cat for cat, _ in cat_w_sites]\n",
    "domain2catInd = dict()\n",
    "for i, (_, sites) in enumerate(cat_w_sites):\n",
    "    for site in sites:\n",
    "        domain = getDomain(site)\n",
    "        domain2catInd[domain] = i\n",
    "print(len(domain2catInd))\n",
    "print(domain2catInd)"
   ]
  },
  {
   "cell_type": "code",
   "execution_count": 4,
   "metadata": {},
   "outputs": [],
   "source": [
    "con = sqlite3.connect('./datadir/crawl-data.sqlite')\n",
    "cur = con.cursor()\n",
    "# start from top_level_url, direct to Host in headers\n",
    "rows = cur.execute(\"SELECT t.top_level_url, t.headers FROM http_requests AS t\").fetchall()\n",
    "graph = defaultdict(set) # key: target site, value: start site\n",
    "for r in rows:\n",
    "    start_site = r[0]\n",
    "    header = ast.literal_eval(r[1])\n",
    "    target_site = header[0][1]\n",
    "\n",
    "    start_domain = getDomain(start_site)\n",
    "    target_domain = getDomain(target_site)\n",
    "    \n",
    "    graph[target_domain].add(start_domain)\n",
    "con.close()"
   ]
  },
  {
   "cell_type": "code",
   "execution_count": 5,
   "metadata": {},
   "outputs": [],
   "source": [
    "# print(max([len(v) for v in graph.values()]))\n",
    "# print(any(k is None for k in graph.keys()))"
   ]
  },
  {
   "cell_type": "code",
   "execution_count": 6,
   "metadata": {},
   "outputs": [],
   "source": [
    "total_cat = len(cat_w_sites)\n",
    "correlation = [[0 for _ in range(total_cat)] for _ in range(total_cat)]\n",
    "# print(graph.items())\n",
    "for target_domain, start_domains in graph.items():\n",
    "    total_start_domains = len(start_domains)\n",
    "    start_domains_list = list(start_domains)\n",
    "    for i1 in range(total_start_domains):\n",
    "        for i2 in range(i1, total_start_domains):\n",
    "            start_domain1 = start_domains_list[i1]\n",
    "            start_domain2 = start_domains_list[i2]\n",
    "\n",
    "            try:\n",
    "                start_domain_id1 = domain2catInd[start_domain1]\n",
    "                start_domain_id2 = domain2catInd[start_domain2]\n",
    "\n",
    "                correlation[start_domain_id1][start_domain_id2] += 1\n",
    "                correlation[start_domain_id2][start_domain_id1] += 1\n",
    "            except:\n",
    "                pass\n",
    "\n",
    "# print(correlation)"
   ]
  },
  {
   "cell_type": "code",
   "execution_count": 7,
   "metadata": {},
   "outputs": [],
   "source": [
    "def heatmap(data, row_labels, col_labels, ax=None,\n",
    "            cbar_kw={}, cbarlabel=\"\", **kwargs):\n",
    "    \"\"\"\n",
    "    Create a heatmap from a numpy array and two lists of labels.\n",
    "\n",
    "    Parameters\n",
    "    ----------\n",
    "    data\n",
    "        A 2D numpy array of shape (M, N).\n",
    "    row_labels\n",
    "        A list or array of length M with the labels for the rows.\n",
    "    col_labels\n",
    "        A list or array of length N with the labels for the columns.\n",
    "    ax\n",
    "        A `matplotlib.axes.Axes` instance to which the heatmap is plotted.  If\n",
    "        not provided, use current axes or create a new one.  Optional.\n",
    "    cbar_kw\n",
    "        A dictionary with arguments to `matplotlib.Figure.colorbar`.  Optional.\n",
    "    cbarlabel\n",
    "        The label for the colorbar.  Optional.\n",
    "    **kwargs\n",
    "        All other arguments are forwarded to `imshow`.\n",
    "    \"\"\"\n",
    "\n",
    "    if not ax:\n",
    "        ax = plt.gca()\n",
    "\n",
    "    # Plot the heatmap\n",
    "    im = ax.imshow(data, **kwargs)\n",
    "\n",
    "    # Create colorbar\n",
    "    cbar = ax.figure.colorbar(im, ax=ax, **cbar_kw)\n",
    "    cbar.ax.set_ylabel(cbarlabel, rotation=-90, va=\"bottom\")\n",
    "\n",
    "    # Show all ticks and label them with the respective list entries.\n",
    "    ax.set_xticks(np.arange(data.shape[1]), labels=col_labels)\n",
    "    ax.set_yticks(np.arange(data.shape[0]), labels=row_labels)\n",
    "\n",
    "    # Let the horizontal axes labeling appear on top.\n",
    "    ax.tick_params(top=True, bottom=False,\n",
    "                   labeltop=True, labelbottom=False)\n",
    "\n",
    "    # Rotate the tick labels and set their alignment.\n",
    "    plt.setp(ax.get_xticklabels(), rotation=-45, ha=\"right\",\n",
    "             rotation_mode=\"anchor\")\n",
    "\n",
    "    # Turn spines off and create white grid.\n",
    "    ax.spines[:].set_visible(False)\n",
    "\n",
    "    ax.set_xticks(np.arange(data.shape[1]+1)-.5, minor=True)\n",
    "    ax.set_yticks(np.arange(data.shape[0]+1)-.5, minor=True)\n",
    "    ax.grid(which=\"minor\", color=\"w\", linestyle='-', linewidth=3)\n",
    "    ax.tick_params(which=\"minor\", bottom=False, left=False)\n",
    "\n",
    "    return im, cbar"
   ]
  },
  {
   "cell_type": "code",
   "execution_count": 8,
   "metadata": {},
   "outputs": [],
   "source": [
    "def annotate_heatmap(im, data=None, valfmt=\"{x:.2f}\",\n",
    "                     textcolors=(\"black\", \"white\"),\n",
    "                     threshold=None, **textkw):\n",
    "    \"\"\"\n",
    "    A function to annotate a heatmap.\n",
    "\n",
    "    Parameters\n",
    "    ----------\n",
    "    im\n",
    "        The AxesImage to be labeled.\n",
    "    data\n",
    "        Data used to annotate.  If None, the image's data is used.  Optional.\n",
    "    valfmt\n",
    "        The format of the annotations inside the heatmap.  This should either\n",
    "        use the string format method, e.g. \"$ {x:.2f}\", or be a\n",
    "        `matplotlib.ticker.Formatter`.  Optional.\n",
    "    textcolors\n",
    "        A pair of colors.  The first is used for values below a threshold,\n",
    "        the second for those above.  Optional.\n",
    "    threshold\n",
    "        Value in data units according to which the colors from textcolors are\n",
    "        applied.  If None (the default) uses the middle of the colormap as\n",
    "        separation.  Optional.\n",
    "    **kwargs\n",
    "        All other arguments are forwarded to each call to `text` used to create\n",
    "        the text labels.\n",
    "    \"\"\"\n",
    "\n",
    "    if not isinstance(data, (list, np.ndarray)):\n",
    "        data = im.get_array()\n",
    "\n",
    "    # Normalize the threshold to the images color range.\n",
    "    if threshold is not None:\n",
    "        threshold = im.norm(threshold)\n",
    "    else:\n",
    "        threshold = im.norm(data.max())/2.\n",
    "\n",
    "    # Set default alignment to center, but allow it to be\n",
    "    # overwritten by textkw.\n",
    "    kw = dict(horizontalalignment=\"center\",\n",
    "              verticalalignment=\"center\")\n",
    "    kw.update(textkw)\n",
    "\n",
    "    # Get the formatter in case a string is supplied\n",
    "    if isinstance(valfmt, str):\n",
    "        valfmt = matplotlib.ticker.StrMethodFormatter(valfmt)\n",
    "\n",
    "    # Loop over the data and create a `Text` for each \"pixel\".\n",
    "    # Change the text's color depending on the data.\n",
    "    texts = []\n",
    "    for i in range(data.shape[0]):\n",
    "        for j in range(data.shape[1]):\n",
    "            kw.update(color=textcolors[int(im.norm(data[i, j]) > threshold)])\n",
    "            text = im.axes.text(j, i, valfmt(data[i, j], None), **kw)\n",
    "            texts.append(text)\n",
    "\n",
    "    return texts"
   ]
  },
  {
   "cell_type": "code",
   "execution_count": 10,
   "metadata": {},
   "outputs": [
    {
     "data": {
      "image/png": "[encoded data removed]",
      "text/plain": [
       "<Figure size 432x288 with 2 Axes>"
      ]
     },
     "metadata": {
      "needs_background": "light"
     },
     "output_type": "display_data"
    }
   ],
   "source": [
    "fig, ax = plt.subplots()\n",
    "im, cbar = heatmap(np.array(correlation), cats, cats, ax=ax,\n",
    "                   cmap=\"YlOrRd\")\n",
    "# texts = annotate_heatmap(im, valfmt=\"{x:d}\")\n",
    "fig.tight_layout()\n",
    "plt.title('Correlation')\n",
    "plt.savefig('correlation.png', bbox_inches=\"tight\", dpi=300)\n",
    "plt.show()"
   ]
  }
 ],
 "metadata": {
  "interpreter": {
   "hash": "c635a6ebb06be20b27fd0dd1700385ba222857902245c40bc3ce46357b8ba3a2"
  },
  "kernelspec": {
   "display_name": "Python 3.9.7 ('openwpm')",
   "language": "python",
   "name": "python3"
  },
  "language_info": {
   "codemirror_mode": {
    "name": "ipython",
    "version": 3
   },
   "file_extension": ".py",
   "mimetype": "text/x-python",
   "name": "python",
   "nbconvert_exporter": "python",
   "pygments_lexer": "ipython3",
   "version": "3.9.7"
  },
  "orig_nbformat": 4
 },
 "nbformat": 4,
 "nbformat_minor": 2
}
