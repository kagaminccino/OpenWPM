{
 "cells": [
  {
   "cell_type": "code",
   "execution_count": 1,
   "metadata": {},
   "outputs": [],
   "source": [
    "from pathlib import Path\n",
    "\n",
    "from custom_command import LinkCountingCommand\n",
    "from openwpm.command_sequence import CommandSequence\n",
    "from openwpm.commands.browser_commands import GetCommand\n",
    "from openwpm.config import BrowserParams, ManagerParams\n",
    "from openwpm.storage.sql_provider import SQLiteStorageProvider\n",
    "from openwpm.task_manager import TaskManager\n",
    "\n",
    "from sites import cat_w_sites"
   ]
  },
  {
   "cell_type": "code",
   "execution_count": 2,
   "metadata": {},
   "outputs": [],
   "source": [
    "# The list of sites that we wish to crawl\n",
    "NUM_BROWSERS = 8\n",
    "sites = [site for _, sites in cat_w_sites for site in sites]\n",
    "\n",
    "# Loads the default ManagerParams\n",
    "# and NUM_BROWSERS copies of the default BrowserParams\n",
    "\n",
    "manager_params = ManagerParams(num_browsers=NUM_BROWSERS)\n",
    "browser_params = [BrowserParams(display_mode=\"headless\") for _ in range(NUM_BROWSERS)]"
   ]
  },
  {
   "cell_type": "code",
   "execution_count": 3,
   "metadata": {},
   "outputs": [],
   "source": [
    "# Update browser configuration (use this for per-browser settings)\n",
    "for browser_param in browser_params:\n",
    "    # Record HTTP Requests and Responses\n",
    "    browser_param.http_instrument = True\n",
    "    # Record cookie changes\n",
    "    browser_param.cookie_instrument = True\n",
    "    # Record Navigations\n",
    "    browser_param.navigation_instrument = True\n",
    "    # Record JS Web API calls\n",
    "    browser_param.js_instrument = True\n",
    "    # Record the callstack of all WebRequests made\n",
    "    browser_param.callstack_instrument = True\n",
    "    # Record DNS resolution\n",
    "    browser_param.dns_instrument = True\n",
    "\n",
    "# Update TaskManager configuration (use this for crawl-wide settings)\n",
    "manager_params.data_directory = Path(\"./datadir/\")\n",
    "manager_params.log_path = Path(\"./datadir/openwpm.log\")\n",
    "\n",
    "# memory_watchdog and process_watchdog are useful for large scale cloud crawls.\n",
    "# Please refer to docs/Configuration.md#platform-configuration-options for more information\n",
    "# manager_params.memory_watchdog = True\n",
    "# manager_params.process_watchdog = True"
   ]
  },
  {
   "cell_type": "code",
   "execution_count": 4,
   "metadata": {},
   "outputs": [
    {
     "name": "stdout",
     "output_type": "stream",
     "text": [
      "browser_manager      - INFO     - BROWSER 402892290: Launching browser...\n",
      "browser_manager      - INFO     - BROWSER 3797246577: Launching browser...\n",
      "browser_manager      - INFO     - BROWSER 695351479: Launching browser...\n",
      "browser_manager      - INFO     - BROWSER 2433889453: Launching browser...\n",
      "browser_manager      - INFO     - BROWSER 208166444: Launching browser...\n",
      "browser_manager      - INFO     - BROWSER 3380372220: Launching browser...\n",
      "browser_manager      - INFO     - BROWSER 3294789765: Launching browser...\n",
      "browser_manager      - INFO     - BROWSER 3889681542: Launching browser...\n",
      "storage_controller   - INFO     - Awaiting all tasks for visit_id -1\n",
      "storage_controller   - INFO     - Terminating handler, because the underlying socket closed\n",
      "task_manager         - INFO     - \n",
      "\n",
      "OpenWPM Version: b'v0.18.0-10-gc85ed23'\n",
      "Firefox Version: b'95.0'\n",
      "\n",
      "========== Manager Configuration ==========\n",
      "{\n",
      "  \"_failure_limit\": null,\n",
      "  \"data_directory\": \"/Users/sychuang/My Drive (sc2357@cornell.edu)/Curriculum/2022SP/CS 5436 Privacy in the Digital Age/HW1/OpenWPM/datadir\",\n",
      "  \"log_path\": \"/Users/sychuang/My Drive (sc2357@cornell.edu)/Curriculum/2022SP/CS 5436 Privacy in the Digital Age/HW1/OpenWPM/datadir/openwpm.log\",\n",
      "  \"logger_address\": [\n",
      "    \"127.0.0.1\",\n",
      "    58808\n",
      "  ],\n",
      "  \"memory_watchdog\": false,\n",
      "  \"num_browsers\": 8,\n",
      "  \"process_watchdog\": false,\n",
      "  \"screenshot_path\": \"/Users/sychuang/My Drive (sc2357@cornell.edu)/Curriculum/2022SP/CS 5436 Privacy in the Digital Age/HW1/OpenWPM/datadir/screenshots\",\n",
      "  \"source_dump_path\": \"/Users/sychuang/My Drive (sc2357@cornell.edu)/Curriculum/2022SP/CS 5436 Privacy in the Digital Age/HW1/OpenWPM/datadir/sources\",\n",
      "  \"storage_controller_address\": [\n",
      "    \"127.0.0.1\",\n",
      "    58809\n",
      "  ],\n",
      "  \"testing\": false\n",
      "}\n",
      "\n",
      "========== Browser Configuration ==========\n",
      "Keys:\n",
      "{\n",
      "  \"browser_id\": 0,\n",
      "  \"bot_mitigation\": 1,\n",
      "  \"browser\": 2,\n",
      "  \"callstack_instrument\": 3,\n",
      "  \"cookie_instrument\": 4,\n",
      "  \"custom_params\": 5,\n",
      "  \"display_mode\": 6,\n",
      "  \"dns_instrument\": 7,\n",
      "  \"donottrack\": 8,\n",
      "  \"extension_enabled\": 9,\n",
      "  \"http_instrument\": 10,\n",
      "  \"js_instrument\": 11,\n",
      "  \"js_instrument_settings\": 12,\n",
      "  \"navigation_instrument\": 13,\n",
      "  \"prefs\": 14,\n",
      "  \"profile_path\": 15,\n",
      "  \"recovery_tar\": 16,\n",
      "  \"save_content\": 17,\n",
      "  \"tp_cookies\": 18,\n",
      "  \"tracking_protection\": 19\n",
      "}\n",
      "\n",
      "         0  1      2        3     4     5    6         7     8      9     10    11    12                             13    14    15    16    17     18      19\n",
      "----------  -----  -------  ----  ----  ---  --------  ----  -----  ----  ----  ----  -----------------------------  ----  ----  ----  ----  -----  ------  -----\n",
      " 402892290  False  firefox  True  True  {}   headless  True  False  True  True  True  ['collection_fingerprinting']  True  {}                False  always  False\n",
      "3797246577  False  firefox  True  True  {}   headless  True  False  True  True  True  ['collection_fingerprinting']  True  {}                False  always  False\n",
      " 695351479  False  firefox  True  True  {}   headless  True  False  True  True  True  ['collection_fingerprinting']  True  {}                False  always  False\n",
      "2433889453  False  firefox  True  True  {}   headless  True  False  True  True  True  ['collection_fingerprinting']  True  {}                False  always  False\n",
      " 208166444  False  firefox  True  True  {}   headless  True  False  True  True  True  ['collection_fingerprinting']  True  {}                False  always  False\n",
      "3380372220  False  firefox  True  True  {}   headless  True  False  True  True  True  ['collection_fingerprinting']  True  {}                False  always  False\n",
      "3294789765  False  firefox  True  True  {}   headless  True  False  True  True  True  ['collection_fingerprinting']  True  {}                False  always  False\n",
      "3889681542  False  firefox  True  True  {}   headless  True  False  True  True  True  ['collection_fingerprinting']  True  {}                False  always  False\n",
      "\n",
      "========== JS Instrument Settings ==========\n",
      "{\"402892290\":[{\"object\":\"window['ScriptProcessorNode'].prototype\",\"instrumentedName\":\"ScriptProcessorNode\",\"logSettings\":{\"propertiesToInstrument\":[],\"nonExistingPropertiesToInstrument\":[],\"excludedProperties\":[],\"logCallStack\":false,\"logFunctionsAsStrings\":false,\"logFunctionGets\":false,\"preventSets\":false,\"recursive\":false,\"depth\":5}},{\"object\":\"window['GainNode'].prototype\",\"instrumentedName\":\"GainNode\",\"logSettings\":{\"propertiesToInstrument\":[],\"nonExistingPropertiesToInstrument\":[],\"excludedProperties\":[],\"logCallStack\":false,\"logFunctionsAsStrings\":false,\"logFunctionGets\":false,\"preventSets\":false,\"recursive\":false,\"depth\":5}},{\"object\":\"window['AnalyserNode'].prototype\",\"instrumentedName\":\"AnalyserNode\",\"logSettings\":{\"propertiesToInstrument\":[],\"nonExistingPropertiesToInstrument\":[],\"excludedProperties\":[],\"logCallStack\":false,\"logFunctionsAsStrings\":false,\"logFunctionGets\":false,\"preventSets\":false,\"recursive\":false,\"depth\":5}},{\"object\":\"window['OscillatorNode'].prototype\",\"instrumentedName\":\"OscillatorNode\",\"logSettings\":{\"propertiesToInstrument\":[],\"nonExistingPropertiesToInstrument\":[],\"excludedProperties\":[],\"logCallStack\":false,\"logFunctionsAsStrings\":false,\"logFunctionGets\":false,\"preventSets\":false,\"recursive\":false,\"depth\":5}},{\"object\":\"window['OfflineAudioContext'].prototype\",\"instrumentedName\":\"OfflineAudioContext\",\"logSettings\":{\"propertiesToInstrument\":[],\"nonExistingPropertiesToInstrument\":[],\"excludedProperties\":[],\"logCallStack\":false,\"logFunctionsAsStrings\":false,\"logFunctionGets\":false,\"preventSets\":false,\"recursive\":false,\"depth\":5}},{\"object\":\"window['AudioContext'].prototype\",\"instrumentedName\":\"AudioContext\",\"logSettings\":{\"propertiesToInstrument\":[],\"nonExistingPropertiesToInstrument\":[],\"excludedProperties\":[],\"logCallStack\":false,\"logFunctionsAsStrings\":false,\"logFunctionGets\":false,\"preventSets\":false,\"recursive\":false,\"depth\":5}},{\"object\":\"window['RTCPeerConnection'].prototype\",\"instrumentedName\":\"RTCPeerConnection\",\"logSettings\":{\"propertiesToInstrument\":[],\"nonExistingPropertiesToInstrument\":[],\"excludedProperties\":[],\"logCallStack\":false,\"logFunctionsAsStrings\":false,\"logFunctionGets\":false,\"preventSets\":false,\"recursive\":false,\"depth\":5}},{\"object\":\"window['HTMLCanvasElement'].prototype\",\"instrumentedName\":\"HTMLCanvasElement\",\"logSettings\":{\"propertiesToInstrument\":[],\"nonExistingPropertiesToInstrument\":[],\"excludedProperties\":[],\"logCallStack\":false,\"logFunctionsAsStrings\":false,\"logFunctionGets\":false,\"preventSets\":false,\"recursive\":false,\"depth\":5}},{\"object\":\"window['Storage'].prototype\",\"instrumentedName\":\"Storage\",\"logSettings\":{\"propertiesToInstrument\":[],\"nonExistingPropertiesToInstrument\":[],\"excludedProperties\":[],\"logCallStack\":false,\"logFunctionsAsStrings\":false,\"logFunctionGets\":false,\"preventSets\":false,\"recursive\":false,\"depth\":5}},{\"object\":\"window.navigator\",\"instrumentedName\":\"window.navigator\",\"logSettings\":{\"propertiesToInstrument\":[],\"nonExistingPropertiesToInstrument\":[],\"excludedProperties\":[],\"logCallStack\":false,\"logFunctionsAsStrings\":false,\"logFunctionGets\":false,\"preventSets\":false,\"recursive\":false,\"depth\":5}},{\"object\":\"window['CanvasRenderingContext2D'].prototype\",\"instrumentedName\":\"CanvasRenderingContext2D\",\"logSettings\":{\"propertiesToInstrument\":[],\"nonExistingPropertiesToInstrument\":[],\"excludedProperties\":[\"canvas\",\"drawImage\",\"transform\",\"closePath\",\"setTransform\",\"moveTo\",\"beginPath\",\"translate\",\"quadraticCurveTo\",\"lineTo\",\"clearRect\",\"globalAlpha\"],\"logCallStack\":false,\"logFunctionsAsStrings\":false,\"logFunctionGets\":false,\"preventSets\":false,\"recursive\":false,\"depth\":5}},{\"object\":\"window\",\"instrumentedName\":\"window\",\"logSettings\":{\"propertiesToInstrument\":[\"name\",\"sessionStorage\",\"localStorage\"],\"nonExistingPropertiesToInstrument\":[],\"excludedProperties\":[],\"logCallStack\":false,\"logFunctionsAsStrings\":false,\"logFunctionGets\":false,\"preventSets\":false,\"recursive\":false,\"depth\":5}},{\"object\":\"window.document\",\"instrumentedName\":\"window.document\",\"logSettings\":{\"propertiesToInstrument\":[\"referrer\",\"cookie\"],\"nonExistingPropertiesToInstrument\":[],\"excludedProperties\":[],\"logCallStack\":true,\"logFunctionsAsStrings\":false,\"logFunctionGets\":false,\"preventSets\":false,\"recursive\":false,\"depth\":5}},{\"object\":\"window.screen\",\"instrumentedName\":\"window.screen\",\"logSettings\":{\"propertiesToInstrument\":[\"pixelDepth\",\"colorDepth\"],\"nonExistingPropertiesToInstrument\":[],\"excludedProperties\":[],\"logCallStack\":false,\"logFunctionsAsStrings\":false,\"logFunctionGets\":false,\"preventSets\":false,\"recursive\":false,\"depth\":5}}],\"3797246577\":[{\"object\":\"window['ScriptProcessorNode'].prototype\",\"instrumentedName\":\"ScriptProcessorNode\",\"logSettings\":{\"propertiesToInstrument\":[],\"nonExistingPropertiesToInstrument\":[],\"excludedProperties\":[],\"logCallStack\":false,\"logFunctionsAsStrings\":false,\"logFunctionGets\":false,\"preventSets\":false,\"recursive\":false,\"depth\":5}},{\"object\":\"window['GainNode'].prototype\",\"instrumentedName\":\"GainNode\",\"logSettings\":{\"propertiesToInstrument\":[],\"nonExistingPropertiesToInstrument\":[],\"excludedProperties\":[],\"logCallStack\":false,\"logFunctionsAsStrings\":false,\"logFunctionGets\":false,\"preventSets\":false,\"recursive\":false,\"depth\":5}},{\"object\":\"window['AnalyserNode'].prototype\",\"instrumentedName\":\"AnalyserNode\",\"logSettings\":{\"propertiesToInstrument\":[],\"nonExistingPropertiesToInstrument\":[],\"excludedProperties\":[],\"logCallStack\":false,\"logFunctionsAsStrings\":false,\"logFunctionGets\":false,\"preventSets\":false,\"recursive\":false,\"depth\":5}},{\"object\":\"window['OscillatorNode'].prototype\",\"instrumentedName\":\"OscillatorNode\",\"logSettings\":{\"propertiesToInstrument\":[],\"nonExistingPropertiesToInstrument\":[],\"excludedProperties\":[],\"logCallStack\":false,\"logFunctionsAsStrings\":false,\"logFunctionGets\":false,\"preventSets\":false,\"recursive\":false,\"depth\":5}},{\"object\":\"window['OfflineAudioContext'].prototype\",\"instrumentedName\":\"OfflineAudioContext\",\"logSettings\":{\"propertiesToInstrument\":[],\"nonExistingPropertiesToInstrument\":[],\"excludedProperties\":[],\"logCallStack\":false,\"logFunctionsAsStrings\":false,\"logFunctionGets\":false,\"preventSets\":false,\"recursive\":false,\"depth\":5}},{\"object\":\"window['AudioContext'].prototype\",\"instrumentedName\":\"AudioContext\",\"logSettings\":{\"propertiesToInstrument\":[],\"nonExistingPropertiesToInstrument\":[],\"excludedProperties\":[],\"logCallStack\":false,\"logFunctionsAsStrings\":false,\"logFunctionGets\":false,\"preventSets\":false,\"recursive\":false,\"depth\":5}},{\"object\":\"window['RTCPeerConnection'].prototype\",\"instrumentedName\":\"RTCPeerConnection\",\"logSettings\":{\"propertiesToInstrument\":[],\"nonExistingPropertiesToInstrument\":[],\"excludedProperties\":[],\"logCallStack\":false,\"logFunctionsAsStrings\":false,\"logFunctionGets\":false,\"preventSets\":false,\"recursive\":false,\"depth\":5}},{\"object\":\"window['HTMLCanvasElement'].prototype\",\"instrumentedName\":\"HTMLCanvasElement\",\"logSettings\":{\"propertiesToInstrument\":[],\"nonExistingPropertiesToInstrument\":[],\"excludedProperties\":[],\"logCallStack\":false,\"logFunctionsAsStrings\":false,\"logFunctionGets\":false,\"preventSets\":false,\"recursive\":false,\"depth\":5}},{\"object\":\"window['Storage'].prototype\",\"instrumentedName\":\"Storage\",\"logSettings\":{\"propertiesToInstrument\":[],\"nonExistingPropertiesToInstrument\":[],\"excludedProperties\":[],\"logCallStack\":false,\"logFunctionsAsStrings\":false,\"logFunctionGets\":false,\"preventSets\":false,\"recursive\":false,\"depth\":5}},{\"object\":\"window.navigator\",\"instrumentedName\":\"window.navigator\",\"logSettings\":{\"propertiesToInstrument\":[],\"nonExistingPropertiesToInstrument\":[],\"excludedProperties\":[],\"logCallStack\":false,\"logFunctionsAsStrings\":false,\"logFunctionGets\":false,\"preventSets\":false,\"recursive\":false,\"depth\":5}},{\"object\":\"window['CanvasRenderingContext2D'].prototype\",\"instrumentedName\":\"CanvasRenderingContext2D\",\"logSettings\":{\"propertiesToInstrument\":[],\"nonExistingPropertiesToInstrument\":[],\"excludedProperties\":[\"canvas\",\"drawImage\",\"transform\",\"closePath\",\"setTransform\",\"moveTo\",\"beginPath\",\"translate\",\"quadraticCurveTo\",\"lineTo\",\"clearRect\",\"globalAlpha\"],\"logCallStack\":false,\"logFunctionsAsStrings\":false,\"logFunctionGets\":false,\"preventSets\":false,\"recursive\":false,\"depth\":5}},{\"object\":\"window\",\"instrumentedName\":\"window\",\"logSettings\":{\"propertiesToInstrument\":[\"name\",\"sessionStorage\",\"localStorage\"],\"nonExistingPropertiesToInstrument\":[],\"excludedProperties\":[],\"logCallStack\":false,\"logFunctionsAsStrings\":false,\"logFunctionGets\":false,\"preventSets\":false,\"recursive\":false,\"depth\":5}},{\"object\":\"window.document\",\"instrumentedName\":\"window.document\",\"logSettings\":{\"propertiesToInstrument\":[\"referrer\",\"cookie\"],\"nonExistingPropertiesToInstrument\":[],\"excludedProperties\":[],\"logCallStack\":true,\"logFunctionsAsStrings\":false,\"logFunctionGets\":false,\"preventSets\":false,\"recursive\":false,\"depth\":5}},{\"object\":\"window.screen\",\"instrumentedName\":\"window.screen\",\"logSettings\":{\"propertiesToInstrument\":[\"pixelDepth\",\"colorDepth\"],\"nonExistingPropertiesToInstrument\":[],\"excludedProperties\":[],\"logCallStack\":false,\"logFunctionsAsStrings\":false,\"logFunctionGets\":false,\"preventSets\":false,\"recursive\":false,\"depth\":5}}],\"695351479\":[{\"object\":\"window['ScriptProcessorNode'].prototype\",\"instrumentedName\":\"ScriptProcessorNode\",\"logSettings\":{\"propertiesToInstrument\":[],\"nonExistingPropertiesToInstrument\":[],\"excludedProperties\":[],\"logCallStack\":false,\"logFunctionsAsStrings\":false,\"logFunctionGets\":false,\"preventSets\":false,\"recursive\":false,\"depth\":5}},{\"object\":\"window['GainNode'].prototype\",\"instrumentedName\":\"GainNode\",\"logSettings\":{\"propertiesToInstrument\":[],\"nonExistingPropertiesToInstrument\":[],\"excludedProperties\":[],\"logCallStack\":false,\"logFunctionsAsStrings\":false,\"logFunctionGets\":false,\"preventSets\":false,\"recursive\":false,\"depth\":5}},{\"object\":\"window['AnalyserNode'].prototype\",\"instrumentedName\":\"AnalyserNode\",\"logSettings\":{\"propertiesToInstrument\":[],\"nonExistingPropertiesToInstrument\":[],\"excludedProperties\":[],\"logCallStack\":false,\"logFunctionsAsStrings\":false,\"logFunctionGets\":false,\"preventSets\":false,\"recursive\":false,\"depth\":5}},{\"object\":\"window['OscillatorNode'].prototype\",\"instrumentedName\":\"OscillatorNode\",\"logSettings\":{\"propertiesToInstrument\":[],\"nonExistingPropertiesToInstrument\":[],\"excludedProperties\":[],\"logCallStack\":false,\"logFunctionsAsStrings\":false,\"logFunctionGets\":false,\"preventSets\":false,\"recursive\":false,\"depth\":5}},{\"object\":\"window['OfflineAudioContext'].prototype\",\"instrumentedName\":\"OfflineAudioContext\",\"logSettings\":{\"propertiesToInstrument\":[],\"nonExistingPropertiesToInstrument\":[],\"excludedProperties\":[],\"logCallStack\":false,\"logFunctionsAsStrings\":false,\"logFunctionGets\":false,\"preventSets\":false,\"recursive\":false,\"depth\":5}},{\"object\":\"window['AudioContext'].prototype\",\"instrumentedName\":\"AudioContext\",\"logSettings\":{\"propertiesToInstrument\":[],\"nonExistingPropertiesToInstrument\":[],\"excludedProperties\":[],\"logCallStack\":false,\"logFunctionsAsStrings\":false,\"logFunctionGets\":false,\"preventSets\":false,\"recursive\":false,\"depth\":5}},{\"object\":\"window['RTCPeerConnection'].prototype\",\"instrumentedName\":\"RTCPeerConnection\",\"logSettings\":{\"propertiesToInstrument\":[],\"nonExistingPropertiesToInstrument\":[],\"excludedProperties\":[],\"logCallStack\":false,\"logFunctionsAsStrings\":false,\"logFunctionGets\":false,\"preventSets\":false,\"recursive\":false,\"depth\":5}},{\"object\":\"window['HTMLCanvasElement'].prototype\",\"instrumentedName\":\"HTMLCanvasElement\",\"logSettings\":{\"propertiesToInstrument\":[],\"nonExistingPropertiesToInstrument\":[],\"excludedProperties\":[],\"logCallStack\":false,\"logFunctionsAsStrings\":false,\"logFunctionGets\":false,\"preventSets\":false,\"recursive\":false,\"depth\":5}},{\"object\":\"window['Storage'].prototype\",\"instrumentedName\":\"Storage\",\"logSettings\":{\"propertiesToInstrument\":[],\"nonExistingPropertiesToInstrument\":[],\"excludedProperties\":[],\"logCallStack\":false,\"logFunctionsAsStrings\":false,\"logFunctionGets\":false,\"preventSets\":false,\"recursive\":false,\"depth\":5}},{\"object\":\"window.navigator\",\"instrumentedName\":\"window.navigator\",\"logSettings\":{\"propertiesToInstrument\":[],\"nonExistingPropertiesToInstrument\":[],\"excludedProperties\":[],\"logCallStack\":false,\"logFunctionsAsStrings\":false,\"logFunctionGets\":false,\"preventSets\":false,\"recursive\":false,\"depth\":5}},{\"object\":\"window['CanvasRenderingContext2D'].prototype\",\"instrumentedName\":\"CanvasRenderingContext2D\",\"logSettings\":{\"propertiesToInstrument\":[],\"nonExistingPropertiesToInstrument\":[],\"excludedProperties\":[\"canvas\",\"drawImage\",\"transform\",\"closePath\",\"setTransform\",\"moveTo\",\"beginPath\",\"translate\",\"quadraticCurveTo\",\"lineTo\",\"clearRect\",\"globalAlpha\"],\"logCallStack\":false,\"logFunctionsAsStrings\":false,\"logFunctionGets\":false,\"preventSets\":false,\"recursive\":false,\"depth\":5}},{\"object\":\"window\",\"instrumentedName\":\"window\",\"logSettings\":{\"propertiesToInstrument\":[\"name\",\"sessionStorage\",\"localStorage\"],\"nonExistingPropertiesToInstrument\":[],\"excludedProperties\":[],\"logCallStack\":false,\"logFunctionsAsStrings\":false,\"logFunctionGets\":false,\"preventSets\":false,\"recursive\":false,\"depth\":5}},{\"object\":\"window.document\",\"instrumentedName\":\"window.document\",\"logSettings\":{\"propertiesToInstrument\":[\"referrer\",\"cookie\"],\"nonExistingPropertiesToInstrument\":[],\"excludedProperties\":[],\"logCallStack\":true,\"logFunctionsAsStrings\":false,\"logFunctionGets\":false,\"preventSets\":false,\"recursive\":false,\"depth\":5}},{\"object\":\"window.screen\",\"instrumentedName\":\"window.screen\",\"logSettings\":{\"propertiesToInstrument\":[\"pixelDepth\",\"colorDepth\"],\"nonExistingPropertiesToInstrument\":[],\"excludedProperties\":[],\"logCallStack\":false,\"logFunctionsAsStrings\":false,\"logFunctionGets\":false,\"preventSets\":false,\"recursive\":false,\"depth\":5}}],\"2433889453\":[{\"object\":\"window['ScriptProcessorNode'].prototype\",\"instrumentedName\":\"ScriptProcessorNode\",\"logSettings\":{\"propertiesToInstrument\":[],\"nonExistingPropertiesToInstrument\":[],\"excludedProperties\":[],\"logCallStack\":false,\"logFunctionsAsStrings\":false,\"logFunctionGets\":false,\"preventSets\":false,\"recursive\":false,\"depth\":5}},{\"object\":\"window['GainNode'].prototype\",\"instrumentedName\":\"GainNode\",\"logSettings\":{\"propertiesToInstrument\":[],\"nonExistingPropertiesToInstrument\":[],\"excludedProperties\":[],\"logCallStack\":false,\"logFunctionsAsStrings\":false,\"logFunctionGets\":false,\"preventSets\":false,\"recursive\":false,\"depth\":5}},{\"object\":\"window['AnalyserNode'].prototype\",\"instrumentedName\":\"AnalyserNode\",\"logSettings\":{\"propertiesToInstrument\":[],\"nonExistingPropertiesToInstrument\":[],\"excludedProperties\":[],\"logCallStack\":false,\"logFunctionsAsStrings\":false,\"logFunctionGets\":false,\"preventSets\":false,\"recursive\":false,\"depth\":5}},{\"object\":\"window['OscillatorNode'].prototype\",\"instrumentedName\":\"OscillatorNode\",\"logSettings\":{\"propertiesToInstrument\":[],\"nonExistingPropertiesToInstrument\":[],\"excludedProperties\":[],\"logCallStack\":false,\"logFunctionsAsStrings\":false,\"logFunctionGets\":false,\"preventSets\":false,\"recursive\":false,\"depth\":5}},{\"object\":\"window['OfflineAudioContext'].prototype\",\"instrumentedName\":\"OfflineAudioContext\",\"logSettings\":{\"propertiesToInstrument\":[],\"nonExistingPropertiesToInstrument\":[],\"excludedProperties\":[],\"logCallStack\":false,\"logFunctionsAsStrings\":false,\"logFunctionGets\":false,\"preventSets\":false,\"recursive\":false,\"depth\":5}},{\"object\":\"window['AudioContext'].prototype\",\"instrumentedName\":\"AudioContext\",\"logSettings\":{\"propertiesToInstrument\":[],\"nonExistingPropertiesToInstrument\":[],\"excludedProperties\":[],\"logCallStack\":false,\"logFunctionsAsStrings\":false,\"logFunctionGets\":false,\"preventSets\":false,\"recursive\":false,\"depth\":5}},{\"object\":\"window['RTCPeerConnection'].prototype\",\"instrumentedName\":\"RTCPeerConnection\",\"logSettings\":{\"propertiesToInstrument\":[],\"nonExistingPropertiesToInstrument\":[],\"excludedProperties\":[],\"logCallStack\":false,\"logFunctionsAsStrings\":false,\"logFunctionGets\":false,\"preventSets\":false,\"recursive\":false,\"depth\":5}},{\"object\":\"window['HTMLCanvasElement'].prototype\",\"instrumentedName\":\"HTMLCanvasElement\",\"logSettings\":{\"propertiesToInstrument\":[],\"nonExistingPropertiesToInstrument\":[],\"excludedProperties\":[],\"logCallStack\":false,\"logFunctionsAsStrings\":false,\"logFunctionGets\":false,\"preventSets\":false,\"recursive\":false,\"depth\":5}},{\"object\":\"window['Storage'].prototype\",\"instrumentedName\":\"Storage\",\"logSettings\":{\"propertiesToInstrument\":[],\"nonExistingPropertiesToInstrument\":[],\"excludedProperties\":[],\"logCallStack\":false,\"logFunctionsAsStrings\":false,\"logFunctionGets\":false,\"preventSets\":false,\"recursive\":false,\"depth\":5}},{\"object\":\"window.navigator\",\"instrumentedName\":\"window.navigator\",\"logSettings\":{\"propertiesToInstrument\":[],\"nonExistingPropertiesToInstrument\":[],\"excludedProperties\":[],\"logCallStack\":false,\"logFunctionsAsStrings\":false,\"logFunctionGets\":false,\"preventSets\":false,\"recursive\":false,\"depth\":5}},{\"object\":\"window['CanvasRenderingContext2D'].prototype\",\"instrumentedName\":\"CanvasRenderingContext2D\",\"logSettings\":{\"propertiesToInstrument\":[],\"nonExistingPropertiesToInstrument\":[],\"excludedProperties\":[\"canvas\",\"drawImage\",\"transform\",\"closePath\",\"setTransform\",\"moveTo\",\"beginPath\",\"translate\",\"quadraticCurveTo\",\"lineTo\",\"clearRect\",\"globalAlpha\"],\"logCallStack\":false,\"logFunctionsAsStrings\":false,\"logFunctionGets\":false,\"preventSets\":false,\"recursive\":false,\"depth\":5}},{\"object\":\"window\",\"instrumentedName\":\"window\",\"logSettings\":{\"propertiesToInstrument\":[\"name\",\"sessionStorage\",\"localStorage\"],\"nonExistingPropertiesToInstrument\":[],\"excludedProperties\":[],\"logCallStack\":false,\"logFunctionsAsStrings\":false,\"logFunctionGets\":false,\"preventSets\":false,\"recursive\":false,\"depth\":5}},{\"object\":\"window.document\",\"instrumentedName\":\"window.document\",\"logSettings\":{\"propertiesToInstrument\":[\"referrer\",\"cookie\"],\"nonExistingPropertiesToInstrument\":[],\"excludedProperties\":[],\"logCallStack\":true,\"logFunctionsAsStrings\":false,\"logFunctionGets\":false,\"preventSets\":false,\"recursive\":false,\"depth\":5}},{\"object\":\"window.screen\",\"instrumentedName\":\"window.screen\",\"logSettings\":{\"propertiesToInstrument\":[\"pixelDepth\",\"colorDepth\"],\"nonExistingPropertiesToInstrument\":[],\"excludedProperties\":[],\"logCallStack\":false,\"logFunctionsAsStrings\":false,\"logFunctionGets\":false,\"preventSets\":false,\"recursive\":false,\"depth\":5}}],\"208166444\":[{\"object\":\"window['ScriptProcessorNode'].prototype\",\"instrumentedName\":\"ScriptProcessorNode\",\"logSettings\":{\"propertiesToInstrument\":[],\"nonExistingPropertiesToInstrument\":[],\"excludedProperties\":[],\"logCallStack\":false,\"logFunctionsAsStrings\":false,\"logFunctionGets\":false,\"preventSets\":false,\"recursive\":false,\"depth\":5}},{\"object\":\"window['GainNode'].prototype\",\"instrumentedName\":\"GainNode\",\"logSettings\":{\"propertiesToInstrument\":[],\"nonExistingPropertiesToInstrument\":[],\"excludedProperties\":[],\"logCallStack\":false,\"logFunctionsAsStrings\":false,\"logFunctionGets\":false,\"preventSets\":false,\"recursive\":false,\"depth\":5}},{\"object\":\"window['AnalyserNode'].prototype\",\"instrumentedName\":\"AnalyserNode\",\"logSettings\":{\"propertiesToInstrument\":[],\"nonExistingPropertiesToInstrument\":[],\"excludedProperties\":[],\"logCallStack\":false,\"logFunctionsAsStrings\":false,\"logFunctionGets\":false,\"preventSets\":false,\"recursive\":false,\"depth\":5}},{\"object\":\"window['OscillatorNode'].prototype\",\"instrumentedName\":\"OscillatorNode\",\"logSettings\":{\"propertiesToInstrument\":[],\"nonExistingPropertiesToInstrument\":[],\"excludedProperties\":[],\"logCallStack\":false,\"logFunctionsAsStrings\":false,\"logFunctionGets\":false,\"preventSets\":false,\"recursive\":false,\"depth\":5}},{\"object\":\"window['OfflineAudioContext'].prototype\",\"instrumentedName\":\"OfflineAudioContext\",\"logSettings\":{\"propertiesToInstrument\":[],\"nonExistingPropertiesToInstrument\":[],\"excludedProperties\":[],\"logCallStack\":false,\"logFunctionsAsStrings\":false,\"logFunctionGets\":false,\"preventSets\":false,\"recursive\":false,\"depth\":5}},{\"object\":\"window['AudioContext'].prototype\",\"instrumentedName\":\"AudioContext\",\"logSettings\":{\"propertiesToInstrument\":[],\"nonExistingPropertiesToInstrument\":[],\"excludedProperties\":[],\"logCallStack\":false,\"logFunctionsAsStrings\":false,\"logFunctionGets\":false,\"preventSets\":false,\"recursive\":false,\"depth\":5}},{\"object\":\"window['RTCPeerConnection'].prototype\",\"instrumentedName\":\"RTCPeerConnection\",\"logSettings\":{\"propertiesToInstrument\":[],\"nonExistingPropertiesToInstrument\":[],\"excludedProperties\":[],\"logCallStack\":false,\"logFunctionsAsStrings\":false,\"logFunctionGets\":false,\"preventSets\":false,\"recursive\":false,\"depth\":5}},{\"object\":\"window['HTMLCanvasElement'].prototype\",\"instrumentedName\":\"HTMLCanvasElement\",\"logSettings\":{\"propertiesToInstrument\":[],\"nonExistingPropertiesToInstrument\":[],\"excludedProperties\":[],\"logCallStack\":false,\"logFunctionsAsStrings\":false,\"logFunctionGets\":false,\"preventSets\":false,\"recursive\":false,\"depth\":5}},{\"object\":\"window['Storage'].prototype\",\"instrumentedName\":\"Storage\",\"logSettings\":{\"propertiesToInstrument\":[],\"nonExistingPropertiesToInstrument\":[],\"excludedProperties\":[],\"logCallStack\":false,\"logFunctionsAsStrings\":false,\"logFunctionGets\":false,\"preventSets\":false,\"recursive\":false,\"depth\":5}},{\"object\":\"window.navigator\",\"instrumentedName\":\"window.navigator\",\"logSettings\":{\"propertiesToInstrument\":[],\"nonExistingPropertiesToInstrument\":[],\"excludedProperties\":[],\"logCallStack\":false,\"logFunctionsAsStrings\":false,\"logFunctionGets\":false,\"preventSets\":false,\"recursive\":false,\"depth\":5}},{\"object\":\"window['CanvasRenderingContext2D'].prototype\",\"instrumentedName\":\"CanvasRenderingContext2D\",\"logSettings\":{\"propertiesToInstrument\":[],\"nonExistingPropertiesToInstrument\":[],\"excludedProperties\":[\"canvas\",\"drawImage\",\"transform\",\"closePath\",\"setTransform\",\"moveTo\",\"beginPath\",\"translate\",\"quadraticCurveTo\",\"lineTo\",\"clearRect\",\"globalAlpha\"],\"logCallStack\":false,\"logFunctionsAsStrings\":false,\"logFunctionGets\":false,\"preventSets\":false,\"recursive\":false,\"depth\":5}},{\"object\":\"window\",\"instrumentedName\":\"window\",\"logSettings\":{\"propertiesToInstrument\":[\"name\",\"sessionStorage\",\"localStorage\"],\"nonExistingPropertiesToInstrument\":[],\"excludedProperties\":[],\"logCallStack\":false,\"logFunctionsAsStrings\":false,\"logFunctionGets\":false,\"preventSets\":false,\"recursive\":false,\"depth\":5}},{\"object\":\"window.document\",\"instrumentedName\":\"window.document\",\"logSettings\":{\"propertiesToInstrument\":[\"referrer\",\"cookie\"],\"nonExistingPropertiesToInstrument\":[],\"excludedProperties\":[],\"logCallStack\":true,\"logFunctionsAsStrings\":false,\"logFunctionGets\":false,\"preventSets\":false,\"recursive\":false,\"depth\":5}},{\"object\":\"window.screen\",\"instrumentedName\":\"window.screen\",\"logSettings\":{\"propertiesToInstrument\":[\"pixelDepth\",\"colorDepth\"],\"nonExistingPropertiesToInstrument\":[],\"excludedProperties\":[],\"logCallStack\":false,\"logFunctionsAsStrings\":false,\"logFunctionGets\":false,\"preventSets\":false,\"recursive\":false,\"depth\":5}}],\"3380372220\":[{\"object\":\"window['ScriptProcessorNode'].prototype\",\"instrumentedName\":\"ScriptProcessorNode\",\"logSettings\":{\"propertiesToInstrument\":[],\"nonExistingPropertiesToInstrument\":[],\"excludedProperties\":[],\"logCallStack\":false,\"logFunctionsAsStrings\":false,\"logFunctionGets\":false,\"preventSets\":false,\"recursive\":false,\"depth\":5}},{\"object\":\"window['GainNode'].prototype\",\"instrumentedName\":\"GainNode\",\"logSettings\":{\"propertiesToInstrument\":[],\"nonExistingPropertiesToInstrument\":[],\"excludedProperties\":[],\"logCallStack\":false,\"logFunctionsAsStrings\":false,\"logFunctionGets\":false,\"preventSets\":false,\"recursive\":false,\"depth\":5}},{\"object\":\"window['AnalyserNode'].prototype\",\"instrumentedName\":\"AnalyserNode\",\"logSettings\":{\"propertiesToInstrument\":[],\"nonExistingPropertiesToInstrument\":[],\"excludedProperties\":[],\"logCallStack\":false,\"logFunctionsAsStrings\":false,\"logFunctionGets\":false,\"preventSets\":false,\"recursive\":false,\"depth\":5}},{\"object\":\"window['OscillatorNode'].prototype\",\"instrumentedName\":\"OscillatorNode\",\"logSettings\":{\"propertiesToInstrument\":[],\"nonExistingPropertiesToInstrument\":[],\"excludedProperties\":[],\"logCallStack\":false,\"logFunctionsAsStrings\":false,\"logFunctionGets\":false,\"preventSets\":false,\"recursive\":false,\"depth\":5}},{\"object\":\"window['OfflineAudioContext'].prototype\",\"instrumentedName\":\"OfflineAudioContext\",\"logSettings\":{\"propertiesToInstrument\":[],\"nonExistingPropertiesToInstrument\":[],\"excludedProperties\":[],\"logCallStack\":false,\"logFunctionsAsStrings\":false,\"logFunctionGets\":false,\"preventSets\":false,\"recursive\":false,\"depth\":5}},{\"object\":\"window['AudioContext'].prototype\",\"instrumentedName\":\"AudioContext\",\"logSettings\":{\"propertiesToInstrument\":[],\"nonExistingPropertiesToInstrument\":[],\"excludedProperties\":[],\"logCallStack\":false,\"logFunctionsAsStrings\":false,\"logFunctionGets\":false,\"preventSets\":false,\"recursive\":false,\"depth\":5}},{\"object\":\"window['RTCPeerConnection'].prototype\",\"instrumentedName\":\"RTCPeerConnection\",\"logSettings\":{\"propertiesToInstrument\":[],\"nonExistingPropertiesToInstrument\":[],\"excludedProperties\":[],\"logCallStack\":false,\"logFunctionsAsStrings\":false,\"logFunctionGets\":false,\"preventSets\":false,\"recursive\":false,\"depth\":5}},{\"object\":\"window['HTMLCanvasElement'].prototype\",\"instrumentedName\":\"HTMLCanvasElement\",\"logSettings\":{\"propertiesToInstrument\":[],\"nonExistingPropertiesToInstrument\":[],\"excludedProperties\":[],\"logCallStack\":false,\"logFunctionsAsStrings\":false,\"logFunctionGets\":false,\"preventSets\":false,\"recursive\":false,\"depth\":5}},{\"object\":\"window['Storage'].prototype\",\"instrumentedName\":\"Storage\",\"logSettings\":{\"propertiesToInstrument\":[],\"nonExistingPropertiesToInstrument\":[],\"excludedProperties\":[],\"logCallStack\":false,\"logFunctionsAsStrings\":false,\"logFunctionGets\":false,\"preventSets\":false,\"recursive\":false,\"depth\":5}},{\"object\":\"window.navigator\",\"instrumentedName\":\"window.navigator\",\"logSettings\":{\"propertiesToInstrument\":[],\"nonExistingPropertiesToInstrument\":[],\"excludedProperties\":[],\"logCallStack\":false,\"logFunctionsAsStrings\":false,\"logFunctionGets\":false,\"preventSets\":false,\"recursive\":false,\"depth\":5}},{\"object\":\"window['CanvasRenderingContext2D'].prototype\",\"instrumentedName\":\"CanvasRenderingContext2D\",\"logSettings\":{\"propertiesToInstrument\":[],\"nonExistingPropertiesToInstrument\":[],\"excludedProperties\":[\"canvas\",\"drawImage\",\"transform\",\"closePath\",\"setTransform\",\"moveTo\",\"beginPath\",\"translate\",\"quadraticCurveTo\",\"lineTo\",\"clearRect\",\"globalAlpha\"],\"logCallStack\":false,\"logFunctionsAsStrings\":false,\"logFunctionGets\":false,\"preventSets\":false,\"recursive\":false,\"depth\":5}},{\"object\":\"window\",\"instrumentedName\":\"window\",\"logSettings\":{\"propertiesToInstrument\":[\"name\",\"sessionStorage\",\"localStorage\"],\"nonExistingPropertiesToInstrument\":[],\"excludedProperties\":[],\"logCallStack\":false,\"logFunctionsAsStrings\":false,\"logFunctionGets\":false,\"preventSets\":false,\"recursive\":false,\"depth\":5}},{\"object\":\"window.document\",\"instrumentedName\":\"window.document\",\"logSettings\":{\"propertiesToInstrument\":[\"referrer\",\"cookie\"],\"nonExistingPropertiesToInstrument\":[],\"excludedProperties\":[],\"logCallStack\":true,\"logFunctionsAsStrings\":false,\"logFunctionGets\":false,\"preventSets\":false,\"recursive\":false,\"depth\":5}},{\"object\":\"window.screen\",\"instrumentedName\":\"window.screen\",\"logSettings\":{\"propertiesToInstrument\":[\"pixelDepth\",\"colorDepth\"],\"nonExistingPropertiesToInstrument\":[],\"excludedProperties\":[],\"logCallStack\":false,\"logFunctionsAsStrings\":false,\"logFunctionGets\":false,\"preventSets\":false,\"recursive\":false,\"depth\":5}}],\"3294789765\":[{\"object\":\"window['ScriptProcessorNode'].prototype\",\"instrumentedName\":\"ScriptProcessorNode\",\"logSettings\":{\"propertiesToInstrument\":[],\"nonExistingPropertiesToInstrument\":[],\"excludedProperties\":[],\"logCallStack\":false,\"logFunctionsAsStrings\":false,\"logFunctionGets\":false,\"preventSets\":false,\"recursive\":false,\"depth\":5}},{\"object\":\"window['GainNode'].prototype\",\"instrumentedName\":\"GainNode\",\"logSettings\":{\"propertiesToInstrument\":[],\"nonExistingPropertiesToInstrument\":[],\"excludedProperties\":[],\"logCallStack\":false,\"logFunctionsAsStrings\":false,\"logFunctionGets\":false,\"preventSets\":false,\"recursive\":false,\"depth\":5}},{\"object\":\"window['AnalyserNode'].prototype\",\"instrumentedName\":\"AnalyserNode\",\"logSettings\":{\"propertiesToInstrument\":[],\"nonExistingPropertiesToInstrument\":[],\"excludedProperties\":[],\"logCallStack\":false,\"logFunctionsAsStrings\":false,\"logFunctionGets\":false,\"preventSets\":false,\"recursive\":false,\"depth\":5}},{\"object\":\"window['OscillatorNode'].prototype\",\"instrumentedName\":\"OscillatorNode\",\"logSettings\":{\"propertiesToInstrument\":[],\"nonExistingPropertiesToInstrument\":[],\"excludedProperties\":[],\"logCallStack\":false,\"logFunctionsAsStrings\":false,\"logFunctionGets\":false,\"preventSets\":false,\"recursive\":false,\"depth\":5}},{\"object\":\"window['OfflineAudioContext'].prototype\",\"instrumentedName\":\"OfflineAudioContext\",\"logSettings\":{\"propertiesToInstrument\":[],\"nonExistingPropertiesToInstrument\":[],\"excludedProperties\":[],\"logCallStack\":false,\"logFunctionsAsStrings\":false,\"logFunctionGets\":false,\"preventSets\":false,\"recursive\":false,\"depth\":5}},{\"object\":\"window['AudioContext'].prototype\",\"instrumentedName\":\"AudioContext\",\"logSettings\":{\"propertiesToInstrument\":[],\"nonExistingPropertiesToInstrument\":[],\"excludedProperties\":[],\"logCallStack\":false,\"logFunctionsAsStrings\":false,\"logFunctionGets\":false,\"preventSets\":false,\"recursive\":false,\"depth\":5}},{\"object\":\"window['RTCPeerConnection'].prototype\",\"instrumentedName\":\"RTCPeerConnection\",\"logSettings\":{\"propertiesToInstrument\":[],\"nonExistingPropertiesToInstrument\":[],\"excludedProperties\":[],\"logCallStack\":false,\"logFunctionsAsStrings\":false,\"logFunctionGets\":false,\"preventSets\":false,\"recursive\":false,\"depth\":5}},{\"object\":\"window['HTMLCanvasElement'].prototype\",\"instrumentedName\":\"HTMLCanvasElement\",\"logSettings\":{\"propertiesToInstrument\":[],\"nonExistingPropertiesToInstrument\":[],\"excludedProperties\":[],\"logCallStack\":false,\"logFunctionsAsStrings\":false,\"logFunctionGets\":false,\"preventSets\":false,\"recursive\":false,\"depth\":5}},{\"object\":\"window['Storage'].prototype\",\"instrumentedName\":\"Storage\",\"logSettings\":{\"propertiesToInstrument\":[],\"nonExistingPropertiesToInstrument\":[],\"excludedProperties\":[],\"logCallStack\":false,\"logFunctionsAsStrings\":false,\"logFunctionGets\":false,\"preventSets\":false,\"recursive\":false,\"depth\":5}},{\"object\":\"window.navigator\",\"instrumentedName\":\"window.navigator\",\"logSettings\":{\"propertiesToInstrument\":[],\"nonExistingPropertiesToInstrument\":[],\"excludedProperties\":[],\"logCallStack\":false,\"logFunctionsAsStrings\":false,\"logFunctionGets\":false,\"preventSets\":false,\"recursive\":false,\"depth\":5}},{\"object\":\"window['CanvasRenderingContext2D'].prototype\",\"instrumentedName\":\"CanvasRenderingContext2D\",\"logSettings\":{\"propertiesToInstrument\":[],\"nonExistingPropertiesToInstrument\":[],\"excludedProperties\":[\"canvas\",\"drawImage\",\"transform\",\"closePath\",\"setTransform\",\"moveTo\",\"beginPath\",\"translate\",\"quadraticCurveTo\",\"lineTo\",\"clearRect\",\"globalAlpha\"],\"logCallStack\":false,\"logFunctionsAsStrings\":false,\"logFunctionGets\":false,\"preventSets\":false,\"recursive\":false,\"depth\":5}},{\"object\":\"window\",\"instrumentedName\":\"window\",\"logSettings\":{\"propertiesToInstrument\":[\"name\",\"sessionStorage\",\"localStorage\"],\"nonExistingPropertiesToInstrument\":[],\"excludedProperties\":[],\"logCallStack\":false,\"logFunctionsAsStrings\":false,\"logFunctionGets\":false,\"preventSets\":false,\"recursive\":false,\"depth\":5}},{\"object\":\"window.document\",\"instrumentedName\":\"window.document\",\"logSettings\":{\"propertiesToInstrument\":[\"referrer\",\"cookie\"],\"nonExistingPropertiesToInstrument\":[],\"excludedProperties\":[],\"logCallStack\":true,\"logFunctionsAsStrings\":false,\"logFunctionGets\":false,\"preventSets\":false,\"recursive\":false,\"depth\":5}},{\"object\":\"window.screen\",\"instrumentedName\":\"window.screen\",\"logSettings\":{\"propertiesToInstrument\":[\"pixelDepth\",\"colorDepth\"],\"nonExistingPropertiesToInstrument\":[],\"excludedProperties\":[],\"logCallStack\":false,\"logFunctionsAsStrings\":false,\"logFunctionGets\":false,\"preventSets\":false,\"recursive\":false,\"depth\":5}}],\"3889681542\":[{\"object\":\"window['ScriptProcessorNode'].prototype\",\"instrumentedName\":\"ScriptProcessorNode\",\"logSettings\":{\"propertiesToInstrument\":[],\"nonExistingPropertiesToInstrument\":[],\"excludedProperties\":[],\"logCallStack\":false,\"logFunctionsAsStrings\":false,\"logFunctionGets\":false,\"preventSets\":false,\"recursive\":false,\"depth\":5}},{\"object\":\"window['GainNode'].prototype\",\"instrumentedName\":\"GainNode\",\"logSettings\":{\"propertiesToInstrument\":[],\"nonExistingPropertiesToInstrument\":[],\"excludedProperties\":[],\"logCallStack\":false,\"logFunctionsAsStrings\":false,\"logFunctionGets\":false,\"preventSets\":false,\"recursive\":false,\"depth\":5}},{\"object\":\"window['AnalyserNode'].prototype\",\"instrumentedName\":\"AnalyserNode\",\"logSettings\":{\"propertiesToInstrument\":[],\"nonExistingPropertiesToInstrument\":[],\"excludedProperties\":[],\"logCallStack\":false,\"logFunctionsAsStrings\":false,\"logFunctionGets\":false,\"preventSets\":false,\"recursive\":false,\"depth\":5}},{\"object\":\"window['OscillatorNode'].prototype\",\"instrumentedName\":\"OscillatorNode\",\"logSettings\":{\"propertiesToInstrument\":[],\"nonExistingPropertiesToInstrument\":[],\"excludedProperties\":[],\"logCallStack\":false,\"logFunctionsAsStrings\":false,\"logFunctionGets\":false,\"preventSets\":false,\"recursive\":false,\"depth\":5}},{\"object\":\"window['OfflineAudioContext'].prototype\",\"instrumentedName\":\"OfflineAudioContext\",\"logSettings\":{\"propertiesToInstrument\":[],\"nonExistingPropertiesToInstrument\":[],\"excludedProperties\":[],\"logCallStack\":false,\"logFunctionsAsStrings\":false,\"logFunctionGets\":false,\"preventSets\":false,\"recursive\":false,\"depth\":5}},{\"object\":\"window['AudioContext'].prototype\",\"instrumentedName\":\"AudioContext\",\"logSettings\":{\"propertiesToInstrument\":[],\"nonExistingPropertiesToInstrument\":[],\"excludedProperties\":[],\"logCallStack\":false,\"logFunctionsAsStrings\":false,\"logFunctionGets\":false,\"preventSets\":false,\"recursive\":false,\"depth\":5}},{\"object\":\"window['RTCPeerConnection'].prototype\",\"instrumentedName\":\"RTCPeerConnection\",\"logSettings\":{\"propertiesToInstrument\":[],\"nonExistingPropertiesToInstrument\":[],\"excludedProperties\":[],\"logCallStack\":false,\"logFunctionsAsStrings\":false,\"logFunctionGets\":false,\"preventSets\":false,\"recursive\":false,\"depth\":5}},{\"object\":\"window['HTMLCanvasElement'].prototype\",\"instrumentedName\":\"HTMLCanvasElement\",\"logSettings\":{\"propertiesToInstrument\":[],\"nonExistingPropertiesToInstrument\":[],\"excludedProperties\":[],\"logCallStack\":false,\"logFunctionsAsStrings\":false,\"logFunctionGets\":false,\"preventSets\":false,\"recursive\":false,\"depth\":5}},{\"object\":\"window['Storage'].prototype\",\"instrumentedName\":\"Storage\",\"logSettings\":{\"propertiesToInstrument\":[],\"nonExistingPropertiesToInstrument\":[],\"excludedProperties\":[],\"logCallStack\":false,\"logFunctionsAsStrings\":false,\"logFunctionGets\":false,\"preventSets\":false,\"recursive\":false,\"depth\":5}},{\"object\":\"window.navigator\",\"instrumentedName\":\"window.navigator\",\"logSettings\":{\"propertiesToInstrument\":[],\"nonExistingPropertiesToInstrument\":[],\"excludedProperties\":[],\"logCallStack\":false,\"logFunctionsAsStrings\":false,\"logFunctionGets\":false,\"preventSets\":false,\"recursive\":false,\"depth\":5}},{\"object\":\"window['CanvasRenderingContext2D'].prototype\",\"instrumentedName\":\"CanvasRenderingContext2D\",\"logSettings\":{\"propertiesToInstrument\":[],\"nonExistingPropertiesToInstrument\":[],\"excludedProperties\":[\"canvas\",\"drawImage\",\"transform\",\"closePath\",\"setTransform\",\"moveTo\",\"beginPath\",\"translate\",\"quadraticCurveTo\",\"lineTo\",\"clearRect\",\"globalAlpha\"],\"logCallStack\":false,\"logFunctionsAsStrings\":false,\"logFunctionGets\":false,\"preventSets\":false,\"recursive\":false,\"depth\":5}},{\"object\":\"window\",\"instrumentedName\":\"window\",\"logSettings\":{\"propertiesToInstrument\":[\"name\",\"sessionStorage\",\"localStorage\"],\"nonExistingPropertiesToInstrument\":[],\"excludedProperties\":[],\"logCallStack\":false,\"logFunctionsAsStrings\":false,\"logFunctionGets\":false,\"preventSets\":false,\"recursive\":false,\"depth\":5}},{\"object\":\"window.document\",\"instrumentedName\":\"window.document\",\"logSettings\":{\"propertiesToInstrument\":[\"referrer\",\"cookie\"],\"nonExistingPropertiesToInstrument\":[],\"excludedProperties\":[],\"logCallStack\":true,\"logFunctionsAsStrings\":false,\"logFunctionGets\":false,\"preventSets\":false,\"recursive\":false,\"depth\":5}},{\"object\":\"window.screen\",\"instrumentedName\":\"window.screen\",\"logSettings\":{\"propertiesToInstrument\":[\"pixelDepth\",\"colorDepth\"],\"nonExistingPropertiesToInstrument\":[],\"excludedProperties\":[],\"logCallStack\":false,\"logFunctionsAsStrings\":false,\"logFunctionGets\":false,\"preventSets\":false,\"recursive\":false,\"depth\":5}}]}\n",
      "\n",
      "========== Input profile tar files ==========\n",
      "  No profile tar files specified\n",
      "\n",
      "========== Output (archive) profile dirs ==========\n",
      "  No profile archive directories specified\n",
      "\n",
      "\n",
      "browser_manager      - INFO     - Starting to work on CommandSequence with visit_id 8430048018726885 on browser with id 402892290\n",
      "browser_manager      - INFO     - Starting to work on CommandSequence with visit_id 7130327343078202 on browser with id 3797246577\n",
      "browser_manager      - INFO     - Starting to work on CommandSequence with visit_id 5828851023599905 on browser with id 695351479\n",
      "browser_manager      - INFO     - Starting to work on CommandSequence with visit_id 2711971102635740 on browser with id 2433889453\n",
      "browser_manager      - INFO     - BROWSER 402892290: EXECUTING COMMAND: InitializeCommand()\n",
      "browser_manager      - INFO     - Starting to work on CommandSequence with visit_id 3633157014904845 on browser with id 208166444\n",
      "browser_manager      - INFO     - BROWSER 3797246577: EXECUTING COMMAND: InitializeCommand()\n",
      "browser_manager      - INFO     - BROWSER 402892290: EXECUTING COMMAND: GetCommand(http://www.canadahentai.com,1)\n",
      "browser_manager      - INFO     - BROWSER 695351479: EXECUTING COMMAND: InitializeCommand()\n",
      "browser_manager      - INFO     - BROWSER 3797246577: EXECUTING COMMAND: GetCommand(http://www.g-collections.com,1)\n",
      "browser_manager      - INFO     - Starting to work on CommandSequence with visit_id 1235948991614645 on browser with id 3380372220\n",
      "browser_manager      - INFO     - BROWSER 2433889453: EXECUTING COMMAND: InitializeCommand()\n",
      "browser_manager      - INFO     - BROWSER 695351479: EXECUTING COMMAND: GetCommand(http://ryogamasaki.netfirms.com/,1)\n",
      "browser_manager      - INFO     - Starting to work on CommandSequence with visit_id 2515592450492518 on browser with id 3294789765\n",
      "browser_manager      - INFO     - BROWSER 2433889453: EXECUTING COMMAND: GetCommand(http://members.tripod.com/~chaz16/3.html,1)\n",
      "browser_manager      - INFO     - Starting to work on CommandSequence with visit_id 1049084272580989 on browser with id 3889681542\n",
      "browser_manager      - INFO     - BROWSER 208166444: EXECUTING COMMAND: InitializeCommand()\n",
      "browser_manager      - INFO     - BROWSER 208166444: EXECUTING COMMAND: GetCommand(http://www.hirameki-int.com,1)\n",
      "browser_manager      - INFO     - BROWSER 3380372220: EXECUTING COMMAND: InitializeCommand()\n",
      "browser_manager      - INFO     - BROWSER 3294789765: EXECUTING COMMAND: InitializeCommand()\n",
      "browser_manager      - INFO     - BROWSER 3380372220: EXECUTING COMMAND: GetCommand(http://www.jastusa.com/,1)\n",
      "browser_manager      - INFO     - BROWSER 3294789765: EXECUTING COMMAND: GetCommand(http://www.peachprincess.com/,1)\n",
      "browser_manager      - INFO     - BROWSER 3889681542: EXECUTING COMMAND: InitializeCommand()\n",
      "browser_manager      - INFO     - BROWSER 3889681542: EXECUTING COMMAND: GetCommand(http://www.hentai-games.com/,1)\n",
      "browser_manager      - INFO     - BROWSER 695351479: Received neterror dnsNotFound while executing command: GetCommand(http://ryogamasaki.netfirms.com/,1)\n",
      "browser_manager      - INFO     - BROWSER 402892290: Received neterror dnsNotFound while executing command: GetCommand(http://www.canadahentai.com,1)\n",
      "browser_manager      - INFO     - Finished working on CommandSequence with visit_id 5828851023599905 on browser with id 695351479\n",
      "browser_manager      - INFO     - Finished working on CommandSequence with visit_id 8430048018726885 on browser with id 402892290\n",
      "browser_manager      - INFO     - BROWSER 208166444: Received neterror dnsNotFound while executing command: GetCommand(http://www.hirameki-int.com,1)\n",
      "storage_controller   - INFO     - Awaiting all tasks for visit_id 5828851023599905\n",
      "browser_manager      - INFO     - Finished working on CommandSequence with visit_id 3633157014904845 on browser with id 208166444\n",
      "sql_provider         - WARNING  - Visit with visit_id 5828851023599905 got interrupted\n",
      "storage_controller   - INFO     - Awaiting all tasks for visit_id 8430048018726885\n",
      "sql_provider         - WARNING  - Visit with visit_id 8430048018726885 got interrupted\n",
      "storage_controller   - INFO     - Awaiting all tasks for visit_id 3633157014904845\n",
      "sql_provider         - WARNING  - Visit with visit_id 3633157014904845 got interrupted\n"
     ]
    },
    {
     "name": "stderr",
     "output_type": "stream",
     "text": [
      "Executing <Task pending name='Task-14' coro=<StorageController._handler() running at /Users/sychuang/My Drive (sc2357@cornell.edu)/Curriculum/2022SP/CS 5436 Privacy in the Digital Age/HW1/OpenWPM/openwpm/storage/storage_controller.py:94> wait_for=<Future pending cb=[<TaskWakeupMethWrapper object at 0x10c064c40>()] created at /Users/sychuang/miniconda3/envs/openwpm/lib/python3.9/asyncio/base_events.py:424> created at /Users/sychuang/miniconda3/envs/openwpm/lib/python3.9/asyncio/streams.py:263> took 0.225 seconds\n",
      "Executing <Task pending name='Task-14' coro=<StorageController._handler() running at /Users/sychuang/My Drive (sc2357@cornell.edu)/Curriculum/2022SP/CS 5436 Privacy in the Digital Age/HW1/OpenWPM/openwpm/storage/storage_controller.py:94> wait_for=<Future pending cb=[<TaskWakeupMethWrapper object at 0x10c064e50>()] created at /Users/sychuang/miniconda3/envs/openwpm/lib/python3.9/asyncio/base_events.py:424> created at /Users/sychuang/miniconda3/envs/openwpm/lib/python3.9/asyncio/streams.py:263> took 0.253 seconds\n",
      "Executing <Task pending name='Task-18' coro=<StorageController._handler() running at /Users/sychuang/My Drive (sc2357@cornell.edu)/Curriculum/2022SP/CS 5436 Privacy in the Digital Age/HW1/OpenWPM/openwpm/storage/storage_controller.py:94> wait_for=<Future pending cb=[<TaskWakeupMethWrapper object at 0x10c36e2b0>()] created at /Users/sychuang/miniconda3/envs/openwpm/lib/python3.9/asyncio/base_events.py:424> created at /Users/sychuang/miniconda3/envs/openwpm/lib/python3.9/asyncio/streams.py:263> took 0.273 seconds\n",
      "Executing <Task pending name='Task-18' coro=<StorageController._handler() running at /Users/sychuang/My Drive (sc2357@cornell.edu)/Curriculum/2022SP/CS 5436 Privacy in the Digital Age/HW1/OpenWPM/openwpm/storage/storage_controller.py:94> wait_for=<Future pending cb=[<TaskWakeupMethWrapper object at 0x10c36e040>()] created at /Users/sychuang/miniconda3/envs/openwpm/lib/python3.9/asyncio/base_events.py:424> created at /Users/sychuang/miniconda3/envs/openwpm/lib/python3.9/asyncio/streams.py:263> took 0.351 seconds\n"
     ]
    },
    {
     "name": "stdout",
     "output_type": "stream",
     "text": [
      "browser_manager      - INFO     - BROWSER 695351479: BrowserManager restart initiated. Clear profile? False\n",
      "browser_manager      - INFO     - BROWSER 402892290: BrowserManager restart initiated. Clear profile? False\n",
      "browser_manager      - INFO     - BROWSER 208166444: BrowserManager restart initiated. Clear profile? False\n"
     ]
    },
    {
     "name": "stderr",
     "output_type": "stream",
     "text": [
      "Executing <Task pending name='Task-14' coro=<StorageController._handler() running at /Users/sychuang/My Drive (sc2357@cornell.edu)/Curriculum/2022SP/CS 5436 Privacy in the Digital Age/HW1/OpenWPM/openwpm/storage/storage_controller.py:94> wait_for=<Future pending cb=[<TaskWakeupMethWrapper object at 0x10c283be0>()] created at /Users/sychuang/miniconda3/envs/openwpm/lib/python3.9/asyncio/base_events.py:424> created at /Users/sychuang/miniconda3/envs/openwpm/lib/python3.9/asyncio/streams.py:263> took 0.529 seconds\n",
      "Executing <Task pending name='Task-18' coro=<StorageController._handler() running at /Users/sychuang/My Drive (sc2357@cornell.edu)/Curriculum/2022SP/CS 5436 Privacy in the Digital Age/HW1/OpenWPM/openwpm/storage/storage_controller.py:94> wait_for=<Future pending cb=[<TaskWakeupMethWrapper object at 0x10c064c40>()] created at /Users/sychuang/miniconda3/envs/openwpm/lib/python3.9/asyncio/base_events.py:424> created at /Users/sychuang/miniconda3/envs/openwpm/lib/python3.9/asyncio/streams.py:263> took 0.151 seconds\n"
     ]
    },
    {
     "name": "stdout",
     "output_type": "stream",
     "text": [
      "browser_manager      - INFO     - BROWSER 3294789765: EXECUTING COMMAND: RecursiveDumpPageSourceCommand()\n"
     ]
    },
    {
     "name": "stderr",
     "output_type": "stream",
     "text": [
      "Executing <Task pending name='Task-24' coro=<StorageController._handler() running at /Users/sychuang/My Drive (sc2357@cornell.edu)/Curriculum/2022SP/CS 5436 Privacy in the Digital Age/HW1/OpenWPM/openwpm/storage/storage_controller.py:94> wait_for=<Future pending cb=[<TaskWakeupMethWrapper object at 0x10c283cd0>()] created at /Users/sychuang/miniconda3/envs/openwpm/lib/python3.9/asyncio/base_events.py:424> created at /Users/sychuang/miniconda3/envs/openwpm/lib/python3.9/asyncio/streams.py:263> took 0.849 seconds\n",
      "Executing <Task pending name='Task-22' coro=<StorageController._handler() running at /Users/sychuang/My Drive (sc2357@cornell.edu)/Curriculum/2022SP/CS 5436 Privacy in the Digital Age/HW1/OpenWPM/openwpm/storage/storage_controller.py:94> wait_for=<Future pending cb=[<TaskWakeupMethWrapper object at 0x10c36ef70>()] created at /Users/sychuang/miniconda3/envs/openwpm/lib/python3.9/asyncio/base_events.py:424> created at /Users/sychuang/miniconda3/envs/openwpm/lib/python3.9/asyncio/streams.py:263> took 0.549 seconds\n"
     ]
    },
    {
     "name": "stdout",
     "output_type": "stream",
     "text": [
      "browser_manager      - INFO     - BROWSER 3797246577: EXECUTING COMMAND: RecursiveDumpPageSourceCommand()\n"
     ]
    },
    {
     "name": "stderr",
     "output_type": "stream",
     "text": [
      "Executing <Task finished name='Task-774' coro=<SQLiteStorageProvider.store_record() done, defined at /Users/sychuang/My Drive (sc2357@cornell.edu)/Curriculum/2022SP/CS 5436 Privacy in the Digital Age/HW1/OpenWPM/openwpm/storage/sql_provider.py:48> result=None created at /Users/sychuang/miniconda3/envs/openwpm/lib/python3.9/asyncio/tasks.py:361> took 0.126 seconds\n"
     ]
    },
    {
     "name": "stdout",
     "output_type": "stream",
     "text": [
      "browser_manager      - INFO     - BROWSER 3380372220: EXECUTING COMMAND: RecursiveDumpPageSourceCommand()\n",
      "browser_manager      - INFO     - BROWSER 3797246577: EXECUTING COMMAND: FinalizeCommand(5)\n"
     ]
    },
    {
     "name": "stderr",
     "output_type": "stream",
     "text": [
      "Executing <Task pending name='Task-14' coro=<StorageController._handler() running at /Users/sychuang/My Drive (sc2357@cornell.edu)/Curriculum/2022SP/CS 5436 Privacy in the Digital Age/HW1/OpenWPM/openwpm/storage/storage_controller.py:94> wait_for=<Future pending cb=[<TaskWakeupMethWrapper object at 0x10c283970>()] created at /Users/sychuang/miniconda3/envs/openwpm/lib/python3.9/asyncio/base_events.py:424> created at /Users/sychuang/miniconda3/envs/openwpm/lib/python3.9/asyncio/streams.py:263> took 0.342 seconds\n"
     ]
    },
    {
     "name": "stdout",
     "output_type": "stream",
     "text": [
      "CommandSequence for http://ryogamasaki.netfirms.com/ ran unsuccessfully\n",
      "CommandSequence for http://www.canadahentai.com ran unsuccessfully\n",
      "CommandSequence for http://www.hirameki-int.com ran unsuccessfully\n",
      "browser_manager      - INFO     - BROWSER 402892290: Launching browser...\n",
      "browser_manager      - INFO     - BROWSER 3294789765: EXECUTING COMMAND: FinalizeCommand(5)\n",
      "browser_manager      - INFO     - BROWSER 695351479: Launching browser...\n",
      "browser_manager      - INFO     - BROWSER 3380372220: EXECUTING COMMAND: FinalizeCommand(5)\n",
      "browser_manager      - INFO     - BROWSER 208166444: Launching browser...\n"
     ]
    },
    {
     "name": "stderr",
     "output_type": "stream",
     "text": [
      "Executing <Task pending name='Task-26' coro=<StorageController._handler() running at /Users/sychuang/My Drive (sc2357@cornell.edu)/Curriculum/2022SP/CS 5436 Privacy in the Digital Age/HW1/OpenWPM/openwpm/storage/storage_controller.py:94> wait_for=<Future pending cb=[<TaskWakeupMethWrapper object at 0x10cbe2460>()] created at /Users/sychuang/miniconda3/envs/openwpm/lib/python3.9/asyncio/base_events.py:424> created at /Users/sychuang/miniconda3/envs/openwpm/lib/python3.9/asyncio/streams.py:263> took 0.709 seconds\n"
     ]
    },
    {
     "name": "stdout",
     "output_type": "stream",
     "text": [
      "storage_controller   - INFO     - Terminating handler, because the underlying socket closed\n",
      "storage_controller   - INFO     - Terminating handler, because the underlying socket closed\n"
     ]
    },
    {
     "name": "stderr",
     "output_type": "stream",
     "text": [
      "Executing <Task pending name='Task-24' coro=<StorageController._handler() running at /Users/sychuang/My Drive (sc2357@cornell.edu)/Curriculum/2022SP/CS 5436 Privacy in the Digital Age/HW1/OpenWPM/openwpm/storage/storage_controller.py:94> wait_for=<Future pending cb=[<TaskWakeupMethWrapper object at 0x10c283ee0>()] created at /Users/sychuang/miniconda3/envs/openwpm/lib/python3.9/asyncio/base_events.py:424> created at /Users/sychuang/miniconda3/envs/openwpm/lib/python3.9/asyncio/streams.py:263> took 0.441 seconds\n",
      "Executing <Task pending name='Task-22' coro=<StorageController._handler() running at /Users/sychuang/My Drive (sc2357@cornell.edu)/Curriculum/2022SP/CS 5436 Privacy in the Digital Age/HW1/OpenWPM/openwpm/storage/storage_controller.py:94> wait_for=<Future pending cb=[<TaskWakeupMethWrapper object at 0x10cf701c0>()] created at /Users/sychuang/miniconda3/envs/openwpm/lib/python3.9/asyncio/base_events.py:424> created at /Users/sychuang/miniconda3/envs/openwpm/lib/python3.9/asyncio/streams.py:263> took 0.554 seconds\n"
     ]
    },
    {
     "name": "stdout",
     "output_type": "stream",
     "text": [
      "storage_controller   - INFO     - Terminating handler, because the underlying socket closed\n"
     ]
    },
    {
     "name": "stderr",
     "output_type": "stream",
     "text": [
      "Executing <Task pending name='Task-18' coro=<StorageController._handler() running at /Users/sychuang/My Drive (sc2357@cornell.edu)/Curriculum/2022SP/CS 5436 Privacy in the Digital Age/HW1/OpenWPM/openwpm/storage/storage_controller.py:94> wait_for=<Future pending cb=[<TaskWakeupMethWrapper object at 0x10d2ac130>()] created at /Users/sychuang/miniconda3/envs/openwpm/lib/python3.9/asyncio/base_events.py:424> created at /Users/sychuang/miniconda3/envs/openwpm/lib/python3.9/asyncio/streams.py:263> took 0.594 seconds\n",
      "Executing <Task pending name='Task-14' coro=<StorageController._handler() running at /Users/sychuang/My Drive (sc2357@cornell.edu)/Curriculum/2022SP/CS 5436 Privacy in the Digital Age/HW1/OpenWPM/openwpm/storage/storage_controller.py:94> wait_for=<Future pending cb=[<TaskWakeupMethWrapper object at 0x10cbe25e0>()] created at /Users/sychuang/miniconda3/envs/openwpm/lib/python3.9/asyncio/base_events.py:424> created at /Users/sychuang/miniconda3/envs/openwpm/lib/python3.9/asyncio/streams.py:263> took 0.216 seconds\n",
      "Executing <Task pending name='Task-24' coro=<StorageController._handler() running at /Users/sychuang/My Drive (sc2357@cornell.edu)/Curriculum/2022SP/CS 5436 Privacy in the Digital Age/HW1/OpenWPM/openwpm/storage/storage_controller.py:94> wait_for=<Future pending cb=[<TaskWakeupMethWrapper object at 0x10cbe29d0>()] created at /Users/sychuang/miniconda3/envs/openwpm/lib/python3.9/asyncio/base_events.py:424> created at /Users/sychuang/miniconda3/envs/openwpm/lib/python3.9/asyncio/streams.py:263> took 0.832 seconds\n",
      "Executing <Task pending name='Task-22' coro=<StorageController._handler() running at /Users/sychuang/My Drive (sc2357@cornell.edu)/Curriculum/2022SP/CS 5436 Privacy in the Digital Age/HW1/OpenWPM/openwpm/storage/storage_controller.py:94> wait_for=<Future pending cb=[<TaskWakeupMethWrapper object at 0x10c36e1c0>()] created at /Users/sychuang/miniconda3/envs/openwpm/lib/python3.9/asyncio/base_events.py:424> created at /Users/sychuang/miniconda3/envs/openwpm/lib/python3.9/asyncio/streams.py:263> took 0.353 seconds\n"
     ]
    },
    {
     "name": "stdout",
     "output_type": "stream",
     "text": [
      "browser_manager      - INFO     - Starting to work on CommandSequence with visit_id 7714530528992204 on browser with id 208166444\n",
      "browser_manager      - INFO     - BROWSER 208166444: EXECUTING COMMAND: InitializeCommand()\n",
      "browser_manager      - INFO     - BROWSER 208166444: EXECUTING COMMAND: GetCommand(http://www.himeyashop.com/,1)\n",
      "browser_manager      - INFO     - BROWSER 3889681542: EXECUTING COMMAND: RecursiveDumpPageSourceCommand()\n",
      "browser_manager      - INFO     - BROWSER 3889681542: EXECUTING COMMAND: FinalizeCommand(5)\n"
     ]
    },
    {
     "name": "stderr",
     "output_type": "stream",
     "text": [
      "Executing <Task pending name='Task-18' coro=<StorageController._handler() running at /Users/sychuang/My Drive (sc2357@cornell.edu)/Curriculum/2022SP/CS 5436 Privacy in the Digital Age/HW1/OpenWPM/openwpm/storage/storage_controller.py:94> wait_for=<Future pending cb=[<TaskWakeupMethWrapper object at 0x10d2acf70>()] created at /Users/sychuang/miniconda3/envs/openwpm/lib/python3.9/asyncio/base_events.py:424> created at /Users/sychuang/miniconda3/envs/openwpm/lib/python3.9/asyncio/streams.py:263> took 1.159 seconds\n"
     ]
    },
    {
     "name": "stdout",
     "output_type": "stream",
     "text": [
      "browser_manager      - INFO     - Finished working on CommandSequence with visit_id 7130327343078202 on browser with id 3797246577\n"
     ]
    },
    {
     "name": "stderr",
     "output_type": "stream",
     "text": [
      "Executing <Task pending name='Task-26' coro=<StorageController._handler() running at /Users/sychuang/My Drive (sc2357@cornell.edu)/Curriculum/2022SP/CS 5436 Privacy in the Digital Age/HW1/OpenWPM/openwpm/storage/storage_controller.py:94> wait_for=<Future pending cb=[<TaskWakeupMethWrapper object at 0x10c2837f0>()] created at /Users/sychuang/miniconda3/envs/openwpm/lib/python3.9/asyncio/base_events.py:424> created at /Users/sychuang/miniconda3/envs/openwpm/lib/python3.9/asyncio/streams.py:263> took 0.207 seconds\n"
     ]
    },
    {
     "name": "stdout",
     "output_type": "stream",
     "text": [
      "browser_manager      - INFO     - Finished working on CommandSequence with visit_id 2515592450492518 on browser with id 3294789765\n",
      "browser_manager      - INFO     - Starting to work on CommandSequence with visit_id 758131997058036 on browser with id 695351479\n",
      "browser_manager      - INFO     - Finished working on CommandSequence with visit_id 1235948991614645 on browser with id 3380372220\n",
      "browser_manager      - INFO     - BROWSER 695351479: EXECUTING COMMAND: InitializeCommand()\n",
      "browser_manager      - INFO     - BROWSER 695351479: EXECUTING COMMAND: GetCommand(http://www.hentai-comics.com/,1)\n",
      "browser_manager      - INFO     - Starting to work on CommandSequence with visit_id 3391497880019686 on browser with id 402892290\n",
      "browser_manager      - INFO     - BROWSER 402892290: EXECUTING COMMAND: InitializeCommand()\n"
     ]
    },
    {
     "name": "stderr",
     "output_type": "stream",
     "text": [
      "Executing <Task pending name='Task-18' coro=<StorageController._handler() running at /Users/sychuang/My Drive (sc2357@cornell.edu)/Curriculum/2022SP/CS 5436 Privacy in the Digital Age/HW1/OpenWPM/openwpm/storage/storage_controller.py:94> wait_for=<Future pending cb=[<TaskWakeupMethWrapper object at 0x10cbe2670>()] created at /Users/sychuang/miniconda3/envs/openwpm/lib/python3.9/asyncio/base_events.py:424> created at /Users/sychuang/miniconda3/envs/openwpm/lib/python3.9/asyncio/streams.py:263> took 0.386 seconds\n"
     ]
    },
    {
     "name": "stdout",
     "output_type": "stream",
     "text": [
      "browser_manager      - INFO     - BROWSER 402892290: EXECUTING COMMAND: GetCommand(http://www.stevens.edu/anime/,1)\n",
      "storage_controller   - INFO     - Awaiting all tasks for visit_id 7130327343078202\n",
      "storage_controller   - INFO     - Awaiting all tasks for visit_id 2515592450492518\n",
      "storage_controller   - INFO     - Awaiting all tasks for visit_id 1235948991614645\n"
     ]
    },
    {
     "name": "stderr",
     "output_type": "stream",
     "text": [
      "Executing <Task pending name='Task-18' coro=<StorageController._handler() running at /Users/sychuang/My Drive (sc2357@cornell.edu)/Curriculum/2022SP/CS 5436 Privacy in the Digital Age/HW1/OpenWPM/openwpm/storage/storage_controller.py:94> wait_for=<Future pending cb=[<TaskWakeupMethWrapper object at 0x10d2ace50>()] created at /Users/sychuang/miniconda3/envs/openwpm/lib/python3.9/asyncio/base_events.py:424> created at /Users/sychuang/miniconda3/envs/openwpm/lib/python3.9/asyncio/streams.py:263> took 0.660 seconds\n",
      "Executing <Task pending name='Task-2975' coro=<StorageController._handler() running at /Users/sychuang/My Drive (sc2357@cornell.edu)/Curriculum/2022SP/CS 5436 Privacy in the Digital Age/HW1/OpenWPM/openwpm/storage/storage_controller.py:94> wait_for=<Future pending cb=[<TaskWakeupMethWrapper object at 0x10cbe2e20>()] created at /Users/sychuang/miniconda3/envs/openwpm/lib/python3.9/asyncio/base_events.py:424> created at /Users/sychuang/miniconda3/envs/openwpm/lib/python3.9/asyncio/streams.py:263> took 0.268 seconds\n"
     ]
    },
    {
     "name": "stdout",
     "output_type": "stream",
     "text": [
      "browser_manager      - INFO     - Starting to work on CommandSequence with visit_id 1016333834259339 on browser with id 3797246577\n",
      "browser_manager      - INFO     - BROWSER 3797246577: EXECUTING COMMAND: InitializeCommand()\n",
      "browser_manager      - INFO     - BROWSER 3797246577: EXECUTING COMMAND: GetCommand(http://www.jaamke.com/,1)\n",
      "browser_manager      - INFO     - Starting to work on CommandSequence with visit_id 3629881755511042 on browser with id 3380372220\n",
      "browser_manager      - INFO     - Starting to work on CommandSequence with visit_id 7206156595543946 on browser with id 3294789765\n",
      "browser_manager      - INFO     - BROWSER 3380372220: EXECUTING COMMAND: InitializeCommand()\n",
      "browser_manager      - INFO     - BROWSER 3294789765: EXECUTING COMMAND: InitializeCommand()\n",
      "browser_manager      - INFO     - BROWSER 3380372220: EXECUTING COMMAND: GetCommand(http://www.sfanimeclub.com/,1)\n",
      "browser_manager      - INFO     - BROWSER 3294789765: EXECUTING COMMAND: GetCommand(http://www.fresnoanime.com,1)\n",
      "browser_manager      - INFO     - BROWSER 3380372220: Received neterror dnsNotFound while executing command: GetCommand(http://www.sfanimeclub.com/,1)\n",
      "browser_manager      - INFO     - Finished working on CommandSequence with visit_id 3629881755511042 on browser with id 3380372220\n",
      "browser_manager      - INFO     - BROWSER 208166444: EXECUTING COMMAND: RecursiveDumpPageSourceCommand()\n"
     ]
    },
    {
     "name": "stderr",
     "output_type": "stream",
     "text": [
      "Executing <Task pending name='Task-18' coro=<StorageController._handler() running at /Users/sychuang/My Drive (sc2357@cornell.edu)/Curriculum/2022SP/CS 5436 Privacy in the Digital Age/HW1/OpenWPM/openwpm/storage/storage_controller.py:94> wait_for=<Future pending cb=[<TaskWakeupMethWrapper object at 0x10d2acf10>()] created at /Users/sychuang/miniconda3/envs/openwpm/lib/python3.9/asyncio/base_events.py:424> created at /Users/sychuang/miniconda3/envs/openwpm/lib/python3.9/asyncio/streams.py:263> took 2.274 seconds\n"
     ]
    },
    {
     "name": "stdout",
     "output_type": "stream",
     "text": [
      "browser_manager      - INFO     - BROWSER 3380372220: BrowserManager restart initiated. Clear profile? False\n",
      "browser_manager      - INFO     - Finished working on CommandSequence with visit_id 1049084272580989 on browser with id 3889681542\n",
      "browser_manager      - INFO     - BROWSER 402892290: EXECUTING COMMAND: RecursiveDumpPageSourceCommand()\n",
      "browser_manager      - INFO     - BROWSER 3797246577: Received neterror dnsNotFound while executing command: GetCommand(http://www.jaamke.com/,1)\n",
      "browser_manager      - INFO     - Finished working on CommandSequence with visit_id 1016333834259339 on browser with id 3797246577\n",
      "browser_manager      - INFO     - BROWSER 208166444: EXECUTING COMMAND: FinalizeCommand(5)\n",
      "browser_manager      - INFO     - BROWSER 402892290: EXECUTING COMMAND: FinalizeCommand(5)\n"
     ]
    },
    {
     "name": "stderr",
     "output_type": "stream",
     "text": [
      "Executing <Task pending name='Task-3346' coro=<StorageController._handler() running at /Users/sychuang/My Drive (sc2357@cornell.edu)/Curriculum/2022SP/CS 5436 Privacy in the Digital Age/HW1/OpenWPM/openwpm/storage/storage_controller.py:94> wait_for=<Future pending cb=[<TaskWakeupMethWrapper object at 0x10cbe2730>()] created at /Users/sychuang/miniconda3/envs/openwpm/lib/python3.9/asyncio/base_events.py:424> created at /Users/sychuang/miniconda3/envs/openwpm/lib/python3.9/asyncio/streams.py:263> took 1.530 seconds\n"
     ]
    },
    {
     "name": "stdout",
     "output_type": "stream",
     "text": [
      "browser_manager      - INFO     - BROWSER 695351479: EXECUTING COMMAND: RecursiveDumpPageSourceCommand()\n",
      "browser_manager      - INFO     - BROWSER 695351479: EXECUTING COMMAND: FinalizeCommand(5)\n"
     ]
    },
    {
     "name": "stderr",
     "output_type": "stream",
     "text": [
      "Executing <Task pending name='Task-2975' coro=<StorageController._handler() running at /Users/sychuang/My Drive (sc2357@cornell.edu)/Curriculum/2022SP/CS 5436 Privacy in the Digital Age/HW1/OpenWPM/openwpm/storage/storage_controller.py:94> wait_for=<Future pending cb=[<TaskWakeupMethWrapper object at 0x10c60ea30>()] created at /Users/sychuang/miniconda3/envs/openwpm/lib/python3.9/asyncio/base_events.py:424> created at /Users/sychuang/miniconda3/envs/openwpm/lib/python3.9/asyncio/streams.py:263> took 0.624 seconds\n"
     ]
    },
    {
     "name": "stdout",
     "output_type": "stream",
     "text": [
      "browser_manager      - INFO     - BROWSER 3294789765: EXECUTING COMMAND: RecursiveDumpPageSourceCommand()\n",
      "browser_manager      - INFO     - BROWSER 3294789765: EXECUTING COMMAND: FinalizeCommand(5)\n",
      "browser_manager      - INFO     - Starting to work on CommandSequence with visit_id 5227870407216532 on browser with id 3889681542\n",
      "browser_manager      - INFO     - BROWSER 3889681542: EXECUTING COMMAND: InitializeCommand()\n",
      "browser_manager      - INFO     - BROWSER 3889681542: EXECUTING COMMAND: GetCommand(http://www.auburn.edu/student_info/anime_manga/,1)\n",
      "browser_manager      - INFO     - BROWSER 3797246577: BrowserManager restart initiated. Clear profile? False\n"
     ]
    },
    {
     "name": "stderr",
     "output_type": "stream",
     "text": [
      "Executing <Task pending name='Task-2976' coro=<StorageController._handler() running at /Users/sychuang/My Drive (sc2357@cornell.edu)/Curriculum/2022SP/CS 5436 Privacy in the Digital Age/HW1/OpenWPM/openwpm/storage/storage_controller.py:94> wait_for=<Future pending cb=[<TaskWakeupMethWrapper object at 0x10c30a9d0>()] created at /Users/sychuang/miniconda3/envs/openwpm/lib/python3.9/asyncio/base_events.py:424> created at /Users/sychuang/miniconda3/envs/openwpm/lib/python3.9/asyncio/streams.py:263> took 0.602 seconds\n"
     ]
    },
    {
     "name": "stdout",
     "output_type": "stream",
     "text": [
      "storage_controller   - INFO     - Awaiting all tasks for visit_id 3629881755511042\n",
      "browser_manager      - INFO     - BROWSER 3380372220: Launching browser...\n"
     ]
    },
    {
     "name": "stderr",
     "output_type": "stream",
     "text": [
      "Executing <Task pending name='Task-24' coro=<StorageController._handler() running at /Users/sychuang/My Drive (sc2357@cornell.edu)/Curriculum/2022SP/CS 5436 Privacy in the Digital Age/HW1/OpenWPM/openwpm/storage/storage_controller.py:94> wait_for=<Future pending cb=[<TaskWakeupMethWrapper object at 0x10cbe2e50>()] created at /Users/sychuang/miniconda3/envs/openwpm/lib/python3.9/asyncio/base_events.py:424> created at /Users/sychuang/miniconda3/envs/openwpm/lib/python3.9/asyncio/streams.py:263> took 0.561 seconds\n",
      "Executing <Task pending name='Task-18' coro=<StorageController._handler() running at /Users/sychuang/My Drive (sc2357@cornell.edu)/Curriculum/2022SP/CS 5436 Privacy in the Digital Age/HW1/OpenWPM/openwpm/storage/storage_controller.py:94> wait_for=<Future pending cb=[<TaskWakeupMethWrapper object at 0x10bec2d00>()] created at /Users/sychuang/miniconda3/envs/openwpm/lib/python3.9/asyncio/base_events.py:424> created at /Users/sychuang/miniconda3/envs/openwpm/lib/python3.9/asyncio/streams.py:263> took 0.842 seconds\n"
     ]
    },
    {
     "name": "stdout",
     "output_type": "stream",
     "text": [
      "storage_controller   - INFO     - Terminating handler, because the underlying socket closed\n",
      "storage_controller   - INFO     - Terminating handler, because the underlying socket closed\n",
      "storage_controller   - INFO     - Awaiting all tasks for visit_id 1049084272580989\n",
      "browser_manager      - INFO     - BROWSER 3797246577: Launching browser...\n"
     ]
    },
    {
     "name": "stderr",
     "output_type": "stream",
     "text": [
      "Executing <Task pending name='Task-26' coro=<StorageController._handler() running at /Users/sychuang/My Drive (sc2357@cornell.edu)/Curriculum/2022SP/CS 5436 Privacy in the Digital Age/HW1/OpenWPM/openwpm/storage/storage_controller.py:94> wait_for=<Future pending cb=[<TaskWakeupMethWrapper object at 0x10cbe2880>()] created at /Users/sychuang/miniconda3/envs/openwpm/lib/python3.9/asyncio/base_events.py:424> created at /Users/sychuang/miniconda3/envs/openwpm/lib/python3.9/asyncio/streams.py:263> took 0.332 seconds\n",
      "Executing <Task pending name='Task-2976' coro=<StorageController._handler() running at /Users/sychuang/My Drive (sc2357@cornell.edu)/Curriculum/2022SP/CS 5436 Privacy in the Digital Age/HW1/OpenWPM/openwpm/storage/storage_controller.py:94> wait_for=<Future pending cb=[<TaskWakeupMethWrapper object at 0x10c60e880>()] created at /Users/sychuang/miniconda3/envs/openwpm/lib/python3.9/asyncio/base_events.py:424> created at /Users/sychuang/miniconda3/envs/openwpm/lib/python3.9/asyncio/streams.py:263> took 0.150 seconds\n"
     ]
    },
    {
     "name": "stdout",
     "output_type": "stream",
     "text": [
      "sql_provider         - WARNING  - Visit with visit_id 3629881755511042 got interrupted\n",
      "storage_controller   - INFO     - Awaiting all tasks for visit_id 1016333834259339\n"
     ]
    },
    {
     "name": "stderr",
     "output_type": "stream",
     "text": [
      "Executing <Task pending name='Task-18' coro=<StorageController._handler() running at /Users/sychuang/My Drive (sc2357@cornell.edu)/Curriculum/2022SP/CS 5436 Privacy in the Digital Age/HW1/OpenWPM/openwpm/storage/storage_controller.py:94> wait_for=<Future pending cb=[<TaskWakeupMethWrapper object at 0x10c283af0>()] created at /Users/sychuang/miniconda3/envs/openwpm/lib/python3.9/asyncio/base_events.py:424> created at /Users/sychuang/miniconda3/envs/openwpm/lib/python3.9/asyncio/streams.py:263> took 0.336 seconds\n"
     ]
    },
    {
     "name": "stdout",
     "output_type": "stream",
     "text": [
      "sql_provider         - WARNING  - Visit with visit_id 1016333834259339 got interrupted\n",
      "browser_manager      - INFO     - BROWSER 2433889453: EXECUTING COMMAND: RecursiveDumpPageSourceCommand()\n",
      "CommandSequence for http://www.g-collections.com ran successfully\n",
      "CommandSequence for http://www.peachprincess.com/ ran successfully\n",
      "CommandSequence for http://www.jastusa.com/ ran successfully\n",
      "CommandSequence for http://www.hentai-games.com/ ran successfully\n",
      "browser_manager      - INFO     - BROWSER 3889681542: EXECUTING COMMAND: RecursiveDumpPageSourceCommand()\n",
      "browser_manager      - INFO     - BROWSER 3889681542: EXECUTING COMMAND: FinalizeCommand(5)\n",
      "browser_manager      - INFO     - Starting to work on CommandSequence with visit_id 5042397284352224 on browser with id 3380372220\n",
      "browser_manager      - INFO     - BROWSER 3380372220: EXECUTING COMMAND: InitializeCommand()\n",
      "browser_manager      - INFO     - BROWSER 3380372220: EXECUTING COMMAND: GetCommand(http://www.freewebs.com/shanimeclub/,1)\n"
     ]
    },
    {
     "name": "stderr",
     "output_type": "stream",
     "text": [
      "Executing <Task pending name='Task-18' coro=<StorageController._handler() running at /Users/sychuang/My Drive (sc2357@cornell.edu)/Curriculum/2022SP/CS 5436 Privacy in the Digital Age/HW1/OpenWPM/openwpm/storage/storage_controller.py:94> wait_for=<Future pending cb=[<TaskWakeupMethWrapper object at 0x10c283dc0>()] created at /Users/sychuang/miniconda3/envs/openwpm/lib/python3.9/asyncio/base_events.py:424> created at /Users/sychuang/miniconda3/envs/openwpm/lib/python3.9/asyncio/streams.py:263> took 0.782 seconds\n",
      "Executing <Task pending name='Task-18' coro=<StorageController._handler() running at /Users/sychuang/My Drive (sc2357@cornell.edu)/Curriculum/2022SP/CS 5436 Privacy in the Digital Age/HW1/OpenWPM/openwpm/storage/storage_controller.py:94> wait_for=<Future pending cb=[<TaskWakeupMethWrapper object at 0x10c7fb520>()] created at /Users/sychuang/miniconda3/envs/openwpm/lib/python3.9/asyncio/base_events.py:424> created at /Users/sychuang/miniconda3/envs/openwpm/lib/python3.9/asyncio/streams.py:263> took 0.175 seconds\n"
     ]
    },
    {
     "name": "stdout",
     "output_type": "stream",
     "text": [
      "browser_manager      - INFO     - Finished working on CommandSequence with visit_id 7714530528992204 on browser with id 208166444\n",
      "browser_manager      - INFO     - Finished working on CommandSequence with visit_id 3391497880019686 on browser with id 402892290\n"
     ]
    },
    {
     "name": "stderr",
     "output_type": "stream",
     "text": [
      "Executing <Task pending name='Task-18' coro=<StorageController._handler() running at /Users/sychuang/My Drive (sc2357@cornell.edu)/Curriculum/2022SP/CS 5436 Privacy in the Digital Age/HW1/OpenWPM/openwpm/storage/storage_controller.py:94> wait_for=<Future pending cb=[<TaskWakeupMethWrapper object at 0x10d2ac130>()] created at /Users/sychuang/miniconda3/envs/openwpm/lib/python3.9/asyncio/base_events.py:424> created at /Users/sychuang/miniconda3/envs/openwpm/lib/python3.9/asyncio/streams.py:263> took 0.287 seconds\n"
     ]
    },
    {
     "name": "stdout",
     "output_type": "stream",
     "text": [
      "storage_controller   - INFO     - Awaiting all tasks for visit_id 7714530528992204\n",
      "storage_controller   - INFO     - Awaiting all tasks for visit_id 3391497880019686\n",
      "browser_manager      - INFO     - Finished working on CommandSequence with visit_id 758131997058036 on browser with id 695351479\n",
      "browser_manager      - INFO     - Finished working on CommandSequence with visit_id 7206156595543946 on browser with id 3294789765\n"
     ]
    },
    {
     "name": "stderr",
     "output_type": "stream",
     "text": [
      "Executing <Task pending name='Task-18' coro=<StorageController._handler() running at /Users/sychuang/My Drive (sc2357@cornell.edu)/Curriculum/2022SP/CS 5436 Privacy in the Digital Age/HW1/OpenWPM/openwpm/storage/storage_controller.py:94> wait_for=<Future pending cb=[<TaskWakeupMethWrapper object at 0x10c283850>()] created at /Users/sychuang/miniconda3/envs/openwpm/lib/python3.9/asyncio/base_events.py:424> created at /Users/sychuang/miniconda3/envs/openwpm/lib/python3.9/asyncio/streams.py:263> took 0.941 seconds\n",
      "Executing <Task finished name='Task-6868' coro=<SQLiteStorageProvider.store_record() done, defined at /Users/sychuang/My Drive (sc2357@cornell.edu)/Curriculum/2022SP/CS 5436 Privacy in the Digital Age/HW1/OpenWPM/openwpm/storage/sql_provider.py:48> result=None created at /Users/sychuang/miniconda3/envs/openwpm/lib/python3.9/asyncio/tasks.py:361> took 0.116 seconds\n",
      "Executing <Task pending name='Task-6375' coro=<StorageController._handler() running at /Users/sychuang/My Drive (sc2357@cornell.edu)/Curriculum/2022SP/CS 5436 Privacy in the Digital Age/HW1/OpenWPM/openwpm/storage/storage_controller.py:94> wait_for=<Future pending cb=[<TaskWakeupMethWrapper object at 0x10c7fbe20>()] created at /Users/sychuang/miniconda3/envs/openwpm/lib/python3.9/asyncio/base_events.py:424> created at /Users/sychuang/miniconda3/envs/openwpm/lib/python3.9/asyncio/streams.py:263> took 0.245 seconds\n"
     ]
    },
    {
     "name": "stdout",
     "output_type": "stream",
     "text": [
      "storage_controller   - INFO     - Awaiting all tasks for visit_id 758131997058036\n",
      "storage_controller   - INFO     - Awaiting all tasks for visit_id 7206156595543946\n",
      "browser_manager      - INFO     - Starting to work on CommandSequence with visit_id 5993264084526798 on browser with id 402892290\n",
      "browser_manager      - INFO     - Starting to work on CommandSequence with visit_id 8553667013692473 on browser with id 208166444\n",
      "browser_manager      - INFO     - BROWSER 402892290: EXECUTING COMMAND: InitializeCommand()\n",
      "browser_manager      - INFO     - BROWSER 208166444: EXECUTING COMMAND: InitializeCommand()\n",
      "browser_manager      - INFO     - BROWSER 402892290: EXECUTING COMMAND: GetCommand(http://www.indyanime.org,1)\n",
      "browser_manager      - INFO     - BROWSER 208166444: EXECUTING COMMAND: GetCommand(http://www.otakuanime.org,1)\n"
     ]
    },
    {
     "name": "stderr",
     "output_type": "stream",
     "text": [
      "Executing <Task pending name='Task-18' coro=<StorageController._handler() running at /Users/sychuang/My Drive (sc2357@cornell.edu)/Curriculum/2022SP/CS 5436 Privacy in the Digital Age/HW1/OpenWPM/openwpm/storage/storage_controller.py:94> wait_for=<Future pending cb=[<TaskWakeupMethWrapper object at 0x10c283310>()] created at /Users/sychuang/miniconda3/envs/openwpm/lib/python3.9/asyncio/base_events.py:424> created at /Users/sychuang/miniconda3/envs/openwpm/lib/python3.9/asyncio/streams.py:263> took 0.447 seconds\n"
     ]
    },
    {
     "name": "stdout",
     "output_type": "stream",
     "text": [
      "browser_manager      - INFO     - Starting to work on CommandSequence with visit_id 1883324766014815 on browser with id 3797246577\n",
      "browser_manager      - INFO     - BROWSER 3797246577: EXECUTING COMMAND: InitializeCommand()\n",
      "browser_manager      - INFO     - BROWSER 3797246577: EXECUTING COMMAND: GetCommand(http://www.ctrl-a.org,1)\n"
     ]
    },
    {
     "name": "stderr",
     "output_type": "stream",
     "text": [
      "Executing <Task pending name='Task-6375' coro=<StorageController._handler() running at /Users/sychuang/My Drive (sc2357@cornell.edu)/Curriculum/2022SP/CS 5436 Privacy in the Digital Age/HW1/OpenWPM/openwpm/storage/storage_controller.py:94> wait_for=<Future pending cb=[<TaskWakeupMethWrapper object at 0x10c064ee0>()] created at /Users/sychuang/miniconda3/envs/openwpm/lib/python3.9/asyncio/base_events.py:424> created at /Users/sychuang/miniconda3/envs/openwpm/lib/python3.9/asyncio/streams.py:263> took 0.137 seconds\n"
     ]
    },
    {
     "name": "stdout",
     "output_type": "stream",
     "text": [
      "browser_manager      - INFO     - Starting to work on CommandSequence with visit_id 8206641432277250 on browser with id 695351479\n",
      "browser_manager      - INFO     - BROWSER 695351479: EXECUTING COMMAND: InitializeCommand()\n",
      "browser_manager      - INFO     - BROWSER 695351479: EXECUTING COMMAND: GetCommand(http://www.delawareanimesociety.com,1)\n"
     ]
    },
    {
     "name": "stderr",
     "output_type": "stream",
     "text": [
      "Executing <Task pending name='Task-18' coro=<StorageController._handler() running at /Users/sychuang/My Drive (sc2357@cornell.edu)/Curriculum/2022SP/CS 5436 Privacy in the Digital Age/HW1/OpenWPM/openwpm/storage/storage_controller.py:94> wait_for=<Future pending cb=[<TaskWakeupMethWrapper object at 0x10c283730>()] created at /Users/sychuang/miniconda3/envs/openwpm/lib/python3.9/asyncio/base_events.py:424> created at /Users/sychuang/miniconda3/envs/openwpm/lib/python3.9/asyncio/streams.py:263> took 0.542 seconds\n"
     ]
    },
    {
     "name": "stdout",
     "output_type": "stream",
     "text": [
      "browser_manager      - INFO     - BROWSER 3380372220: EXECUTING COMMAND: RecursiveDumpPageSourceCommand()\n",
      "browser_manager      - INFO     - BROWSER 3380372220: EXECUTING COMMAND: FinalizeCommand(5)\n",
      "browser_manager      - INFO     - Starting to work on CommandSequence with visit_id 2642540806905911 on browser with id 3294789765\n",
      "browser_manager      - INFO     - BROWSER 3294789765: EXECUTING COMMAND: InitializeCommand()\n",
      "browser_manager      - INFO     - BROWSER 3294789765: EXECUTING COMMAND: GetCommand(http://www.cica.ca/,1)\n",
      "browser_manager      - INFO     - Finished working on CommandSequence with visit_id 5227870407216532 on browser with id 3889681542\n"
     ]
    },
    {
     "name": "stderr",
     "output_type": "stream",
     "text": [
      "Executing <Task pending name='Task-18' coro=<StorageController._handler() running at /Users/sychuang/My Drive (sc2357@cornell.edu)/Curriculum/2022SP/CS 5436 Privacy in the Digital Age/HW1/OpenWPM/openwpm/storage/storage_controller.py:94> wait_for=<Future pending cb=[<TaskWakeupMethWrapper object at 0x10c283460>()] created at /Users/sychuang/miniconda3/envs/openwpm/lib/python3.9/asyncio/base_events.py:424> created at /Users/sychuang/miniconda3/envs/openwpm/lib/python3.9/asyncio/streams.py:263> took 1.879 seconds\n",
      "Executing <Task pending name='Task-10' coro=<StorageController._handler() running at /Users/sychuang/My Drive (sc2357@cornell.edu)/Curriculum/2022SP/CS 5436 Privacy in the Digital Age/HW1/OpenWPM/openwpm/storage/storage_controller.py:94> wait_for=<Future pending cb=[<TaskWakeupMethWrapper object at 0x10cbe2b80>()] created at /Users/sychuang/miniconda3/envs/openwpm/lib/python3.9/asyncio/base_events.py:424> created at /Users/sychuang/miniconda3/envs/openwpm/lib/python3.9/asyncio/streams.py:263> took 0.342 seconds\n"
     ]
    },
    {
     "name": "stdout",
     "output_type": "stream",
     "text": [
      "browser_manager      - INFO     - BROWSER 402892290: EXECUTING COMMAND: RecursiveDumpPageSourceCommand()\n",
      "browser_manager      - INFO     - BROWSER 402892290: EXECUTING COMMAND: FinalizeCommand(5)\n"
     ]
    },
    {
     "name": "stderr",
     "output_type": "stream",
     "text": [
      "Executing <Task pending name='Task-2975' coro=<StorageController._handler() running at /Users/sychuang/My Drive (sc2357@cornell.edu)/Curriculum/2022SP/CS 5436 Privacy in the Digital Age/HW1/OpenWPM/openwpm/storage/storage_controller.py:94> wait_for=<Future pending cb=[<TaskWakeupMethWrapper object at 0x10c7fba00>()] created at /Users/sychuang/miniconda3/envs/openwpm/lib/python3.9/asyncio/base_events.py:424> created at /Users/sychuang/miniconda3/envs/openwpm/lib/python3.9/asyncio/streams.py:263> took 1.104 seconds\n"
     ]
    },
    {
     "name": "stdout",
     "output_type": "stream",
     "text": [
      "browser_manager      - INFO     - Starting to work on CommandSequence with visit_id 7433401569233681 on browser with id 3889681542\n",
      "browser_manager      - INFO     - BROWSER 3889681542: EXECUTING COMMAND: InitializeCommand()\n",
      "browser_manager      - INFO     - BROWSER 3889681542: EXECUTING COMMAND: GetCommand(http://www.aicpa.org/,1)\n"
     ]
    },
    {
     "name": "stderr",
     "output_type": "stream",
     "text": [
      "Executing <Task pending name='Task-2976' coro=<StorageController._handler() running at /Users/sychuang/My Drive (sc2357@cornell.edu)/Curriculum/2022SP/CS 5436 Privacy in the Digital Age/HW1/OpenWPM/openwpm/storage/storage_controller.py:94> wait_for=<Future pending cb=[<TaskWakeupMethWrapper object at 0x10d2aca30>()] created at /Users/sychuang/miniconda3/envs/openwpm/lib/python3.9/asyncio/base_events.py:424> created at /Users/sychuang/miniconda3/envs/openwpm/lib/python3.9/asyncio/streams.py:263> took 0.845 seconds\n"
     ]
    },
    {
     "name": "stdout",
     "output_type": "stream",
     "text": [
      "browser_manager      - INFO     - Finished working on CommandSequence with visit_id 5042397284352224 on browser with id 3380372220\n"
     ]
    },
    {
     "name": "stderr",
     "output_type": "stream",
     "text": [
      "Executing <Task pending name='Task-18' coro=<StorageController._handler() running at /Users/sychuang/My Drive (sc2357@cornell.edu)/Curriculum/2022SP/CS 5436 Privacy in the Digital Age/HW1/OpenWPM/openwpm/storage/storage_controller.py:94> wait_for=<Future pending cb=[<TaskWakeupMethWrapper object at 0x10c283fa0>()] created at /Users/sychuang/miniconda3/envs/openwpm/lib/python3.9/asyncio/base_events.py:424> created at /Users/sychuang/miniconda3/envs/openwpm/lib/python3.9/asyncio/streams.py:263> took 1.017 seconds\n"
     ]
    },
    {
     "name": "stdout",
     "output_type": "stream",
     "text": [
      "storage_controller   - INFO     - Awaiting all tasks for visit_id 5227870407216532\n"
     ]
    },
    {
     "name": "stderr",
     "output_type": "stream",
     "text": [
      "Executing <Task finished name='Task-8293' coro=<SQLiteStorageProvider.store_record() done, defined at /Users/sychuang/My Drive (sc2357@cornell.edu)/Curriculum/2022SP/CS 5436 Privacy in the Digital Age/HW1/OpenWPM/openwpm/storage/sql_provider.py:48> result=None created at /Users/sychuang/miniconda3/envs/openwpm/lib/python3.9/asyncio/tasks.py:361> took 0.203 seconds\n"
     ]
    },
    {
     "name": "stdout",
     "output_type": "stream",
     "text": [
      "browser_manager      - INFO     - BROWSER 3797246577: EXECUTING COMMAND: RecursiveDumpPageSourceCommand()\n"
     ]
    },
    {
     "name": "stderr",
     "output_type": "stream",
     "text": [
      "Executing <Task pending name='Task-26' coro=<StorageController._handler() running at /Users/sychuang/My Drive (sc2357@cornell.edu)/Curriculum/2022SP/CS 5436 Privacy in the Digital Age/HW1/OpenWPM/openwpm/storage/storage_controller.py:94> wait_for=<Future pending cb=[<TaskWakeupMethWrapper object at 0x10d2acee0>()] created at /Users/sychuang/miniconda3/envs/openwpm/lib/python3.9/asyncio/base_events.py:424> created at /Users/sychuang/miniconda3/envs/openwpm/lib/python3.9/asyncio/streams.py:263> took 0.623 seconds\n"
     ]
    },
    {
     "name": "stdout",
     "output_type": "stream",
     "text": [
      "browser_manager      - INFO     - BROWSER 3797246577: EXECUTING COMMAND: FinalizeCommand(5)\n",
      "CommandSequence for http://www.sfanimeclub.com/ ran unsuccessfully\n",
      "CommandSequence for http://www.jaamke.com/ ran unsuccessfully\n",
      "CommandSequence for http://www.himeyashop.com/ ran successfully\n",
      "CommandSequence for http://www.stevens.edu/anime/ ran successfully\n",
      "CommandSequence for http://www.hentai-comics.com/ ran successfully\n",
      "CommandSequence for http://www.fresnoanime.com ran successfully\n"
     ]
    },
    {
     "name": "stderr",
     "output_type": "stream",
     "text": [
      "Executing <Task pending name='Task-2975' coro=<StorageController._handler() running at /Users/sychuang/My Drive (sc2357@cornell.edu)/Curriculum/2022SP/CS 5436 Privacy in the Digital Age/HW1/OpenWPM/openwpm/storage/storage_controller.py:94> wait_for=<Future pending cb=[<TaskWakeupMethWrapper object at 0x10c7fbcd0>()] created at /Users/sychuang/miniconda3/envs/openwpm/lib/python3.9/asyncio/base_events.py:424> created at /Users/sychuang/miniconda3/envs/openwpm/lib/python3.9/asyncio/streams.py:263> took 0.579 seconds\n"
     ]
    },
    {
     "name": "stdout",
     "output_type": "stream",
     "text": [
      "browser_manager      - INFO     - Starting to work on CommandSequence with visit_id 5684357250208458 on browser with id 3380372220\n",
      "browser_manager      - INFO     - BROWSER 3380372220: EXECUTING COMMAND: InitializeCommand()\n",
      "browser_manager      - INFO     - BROWSER 3380372220: EXECUTING COMMAND: GetCommand(http://www.icai.ie/,1)\n",
      "browser_manager      - INFO     - BROWSER 695351479: EXECUTING COMMAND: RecursiveDumpPageSourceCommand()\n",
      "browser_manager      - INFO     - BROWSER 2433889453: EXECUTING COMMAND: FinalizeCommand(5)\n",
      "browser_manager      - INFO     - BROWSER 695351479: EXECUTING COMMAND: FinalizeCommand(5)\n",
      "browser_manager      - INFO     - Finished working on CommandSequence with visit_id 5993264084526798 on browser with id 402892290\n"
     ]
    },
    {
     "name": "stderr",
     "output_type": "stream",
     "text": [
      "Executing <Task pending name='Task-2976' coro=<StorageController._handler() running at /Users/sychuang/My Drive (sc2357@cornell.edu)/Curriculum/2022SP/CS 5436 Privacy in the Digital Age/HW1/OpenWPM/openwpm/storage/storage_controller.py:94> wait_for=<Future pending cb=[<TaskWakeupMethWrapper object at 0x10beb9b50>()] created at /Users/sychuang/miniconda3/envs/openwpm/lib/python3.9/asyncio/base_events.py:424> created at /Users/sychuang/miniconda3/envs/openwpm/lib/python3.9/asyncio/streams.py:263> took 1.241 seconds\n",
      "Executing <Task pending name='Task-7780' coro=<StorageController._handler() running at /Users/sychuang/My Drive (sc2357@cornell.edu)/Curriculum/2022SP/CS 5436 Privacy in the Digital Age/HW1/OpenWPM/openwpm/storage/storage_controller.py:94> wait_for=<Future pending cb=[<TaskWakeupMethWrapper object at 0x10c36e8b0>()] created at /Users/sychuang/miniconda3/envs/openwpm/lib/python3.9/asyncio/base_events.py:424> created at /Users/sychuang/miniconda3/envs/openwpm/lib/python3.9/asyncio/streams.py:263> took 0.698 seconds\n"
     ]
    },
    {
     "name": "stdout",
     "output_type": "stream",
     "text": [
      "browser_manager      - INFO     - Starting to work on CommandSequence with visit_id 3485797253905671 on browser with id 402892290\n",
      "browser_manager      - INFO     - BROWSER 402892290: EXECUTING COMMAND: InitializeCommand()\n",
      "browser_manager      - INFO     - BROWSER 402892290: EXECUTING COMMAND: GetCommand(http://www.icaa.org.au/,1)\n"
     ]
    },
    {
     "name": "stderr",
     "output_type": "stream",
     "text": [
      "Executing <Task pending name='Task-24' coro=<StorageController._handler() running at /Users/sychuang/My Drive (sc2357@cornell.edu)/Curriculum/2022SP/CS 5436 Privacy in the Digital Age/HW1/OpenWPM/openwpm/storage/storage_controller.py:94> wait_for=<Future pending cb=[<TaskWakeupMethWrapper object at 0x10f76ea00>()] created at /Users/sychuang/miniconda3/envs/openwpm/lib/python3.9/asyncio/base_events.py:424> created at /Users/sychuang/miniconda3/envs/openwpm/lib/python3.9/asyncio/streams.py:263> took 1.117 seconds\n"
     ]
    },
    {
     "name": "stdout",
     "output_type": "stream",
     "text": [
      "storage_controller   - INFO     - Awaiting all tasks for visit_id 5042397284352224\n",
      "browser_manager      - INFO     - BROWSER 402892290: Received neterror dnsNotFound while executing command: GetCommand(http://www.icaa.org.au/,1)\n",
      "browser_manager      - INFO     - Finished working on CommandSequence with visit_id 3485797253905671 on browser with id 402892290\n",
      "browser_manager      - INFO     - BROWSER 3294789765: EXECUTING COMMAND: RecursiveDumpPageSourceCommand()\n"
     ]
    },
    {
     "name": "stderr",
     "output_type": "stream",
     "text": [
      "Executing <Task pending name='Task-6375' coro=<StorageController._handler() running at /Users/sychuang/My Drive (sc2357@cornell.edu)/Curriculum/2022SP/CS 5436 Privacy in the Digital Age/HW1/OpenWPM/openwpm/storage/storage_controller.py:94> wait_for=<Future pending cb=[<TaskWakeupMethWrapper object at 0x10c2833d0>()] created at /Users/sychuang/miniconda3/envs/openwpm/lib/python3.9/asyncio/base_events.py:424> created at /Users/sychuang/miniconda3/envs/openwpm/lib/python3.9/asyncio/streams.py:263> took 0.598 seconds\n"
     ]
    },
    {
     "name": "stdout",
     "output_type": "stream",
     "text": [
      "browser_manager      - INFO     - BROWSER 208166444: EXECUTING COMMAND: RecursiveDumpPageSourceCommand()\n",
      "browser_manager      - INFO     - BROWSER 3294789765: EXECUTING COMMAND: FinalizeCommand(5)\n",
      "browser_manager      - INFO     - Finished working on CommandSequence with visit_id 1883324766014815 on browser with id 3797246577\n"
     ]
    },
    {
     "name": "stderr",
     "output_type": "stream",
     "text": [
      "Executing <Task pending name='Task-26' coro=<StorageController._handler() running at /Users/sychuang/My Drive (sc2357@cornell.edu)/Curriculum/2022SP/CS 5436 Privacy in the Digital Age/HW1/OpenWPM/openwpm/storage/storage_controller.py:94> wait_for=<Future pending cb=[<TaskWakeupMethWrapper object at 0x10c7fbfd0>()] created at /Users/sychuang/miniconda3/envs/openwpm/lib/python3.9/asyncio/base_events.py:424> created at /Users/sychuang/miniconda3/envs/openwpm/lib/python3.9/asyncio/streams.py:263> took 1.277 seconds\n"
     ]
    },
    {
     "name": "stdout",
     "output_type": "stream",
     "text": [
      "browser_manager      - INFO     - BROWSER 402892290: BrowserManager restart initiated. Clear profile? False\n",
      "browser_manager      - INFO     - BROWSER 208166444: EXECUTING COMMAND: FinalizeCommand(5)\n",
      "browser_manager      - INFO     - Finished working on CommandSequence with visit_id 8206641432277250 on browser with id 695351479\n",
      "browser_manager      - INFO     - Finished working on CommandSequence with visit_id 2711971102635740 on browser with id 2433889453\n"
     ]
    },
    {
     "name": "stderr",
     "output_type": "stream",
     "text": [
      "Executing <Task pending name='Task-2976' coro=<StorageController._handler() running at /Users/sychuang/My Drive (sc2357@cornell.edu)/Curriculum/2022SP/CS 5436 Privacy in the Digital Age/HW1/OpenWPM/openwpm/storage/storage_controller.py:94> wait_for=<Future pending cb=[<TaskWakeupMethWrapper object at 0x10d2ace50>()] created at /Users/sychuang/miniconda3/envs/openwpm/lib/python3.9/asyncio/base_events.py:424> created at /Users/sychuang/miniconda3/envs/openwpm/lib/python3.9/asyncio/streams.py:263> took 1.180 seconds\n"
     ]
    },
    {
     "name": "stdout",
     "output_type": "stream",
     "text": [
      "browser_manager      - INFO     - BROWSER 402892290: Launching browser...\n",
      "browser_manager      - INFO     - Starting to work on CommandSequence with visit_id 4229338110140334 on browser with id 3797246577\n",
      "browser_manager      - INFO     - BROWSER 3797246577: EXECUTING COMMAND: InitializeCommand()\n",
      "browser_manager      - INFO     - BROWSER 3797246577: EXECUTING COMMAND: GetCommand(http://www.icap.org.pk/,1)\n"
     ]
    },
    {
     "name": "stderr",
     "output_type": "stream",
     "text": [
      "Executing <Task pending name='Task-2975' coro=<StorageController._handler() running at /Users/sychuang/My Drive (sc2357@cornell.edu)/Curriculum/2022SP/CS 5436 Privacy in the Digital Age/HW1/OpenWPM/openwpm/storage/storage_controller.py:94> wait_for=<Future pending cb=[<TaskWakeupMethWrapper object at 0x10fd00a00>()] created at /Users/sychuang/miniconda3/envs/openwpm/lib/python3.9/asyncio/base_events.py:424> created at /Users/sychuang/miniconda3/envs/openwpm/lib/python3.9/asyncio/streams.py:263> took 1.208 seconds\n"
     ]
    },
    {
     "name": "stdout",
     "output_type": "stream",
     "text": [
      "storage_controller   - INFO     - Awaiting all tasks for visit_id 5993264084526798\n"
     ]
    },
    {
     "name": "stderr",
     "output_type": "stream",
     "text": [
      "Executing <Task pending name='Task-24' coro=<StorageController._handler() running at /Users/sychuang/My Drive (sc2357@cornell.edu)/Curriculum/2022SP/CS 5436 Privacy in the Digital Age/HW1/OpenWPM/openwpm/storage/storage_controller.py:94> wait_for=<Future pending cb=[<TaskWakeupMethWrapper object at 0x10ff279d0>()] created at /Users/sychuang/miniconda3/envs/openwpm/lib/python3.9/asyncio/base_events.py:424> created at /Users/sychuang/miniconda3/envs/openwpm/lib/python3.9/asyncio/streams.py:263> took 0.242 seconds\n"
     ]
    },
    {
     "name": "stdout",
     "output_type": "stream",
     "text": [
      "storage_controller   - INFO     - Terminating handler, because the underlying socket closed\n",
      "storage_controller   - INFO     - Awaiting all tasks for visit_id 3485797253905671\n",
      "browser_manager      - INFO     - Starting to work on CommandSequence with visit_id 6475933698854232 on browser with id 695351479\n",
      "browser_manager      - INFO     - BROWSER 695351479: EXECUTING COMMAND: InitializeCommand()\n",
      "browser_manager      - INFO     - BROWSER 695351479: EXECUTING COMMAND: GetCommand(http://www.isaca.org/,1)\n",
      "CommandSequence for http://www.auburn.edu/student_info/anime_manga/ ran successfully\n",
      "CommandSequence for http://www.freewebs.com/shanimeclub/ ran successfully\n",
      "browser_manager      - INFO     - Starting to work on CommandSequence with visit_id 7058421122346954 on browser with id 2433889453\n",
      "browser_manager      - INFO     - BROWSER 2433889453: EXECUTING COMMAND: InitializeCommand()\n",
      "browser_manager      - INFO     - BROWSER 2433889453: EXECUTING COMMAND: GetCommand(http://www.jicpa.or.jp/index.html,1)\n",
      "browser_manager      - INFO     - BROWSER 3380372220: EXECUTING COMMAND: RecursiveDumpPageSourceCommand()\n",
      "browser_manager      - INFO     - BROWSER 3380372220: EXECUTING COMMAND: FinalizeCommand(5)\n"
     ]
    },
    {
     "name": "stderr",
     "output_type": "stream",
     "text": [
      "Executing <Task pending name='Task-6375' coro=<StorageController._handler() running at /Users/sychuang/My Drive (sc2357@cornell.edu)/Curriculum/2022SP/CS 5436 Privacy in the Digital Age/HW1/OpenWPM/openwpm/storage/storage_controller.py:94> wait_for=<Future pending cb=[<TaskWakeupMethWrapper object at 0x10c064c70>()] created at /Users/sychuang/miniconda3/envs/openwpm/lib/python3.9/asyncio/base_events.py:424> created at /Users/sychuang/miniconda3/envs/openwpm/lib/python3.9/asyncio/streams.py:263> took 1.504 seconds\n"
     ]
    },
    {
     "name": "stdout",
     "output_type": "stream",
     "text": [
      "browser_manager      - INFO     - Finished working on CommandSequence with visit_id 2642540806905911 on browser with id 3294789765\n"
     ]
    },
    {
     "name": "stderr",
     "output_type": "stream",
     "text": [
      "Executing <Task pending name='Task-26' coro=<StorageController._handler() running at /Users/sychuang/My Drive (sc2357@cornell.edu)/Curriculum/2022SP/CS 5436 Privacy in the Digital Age/HW1/OpenWPM/openwpm/storage/storage_controller.py:94> wait_for=<Future pending cb=[<TaskWakeupMethWrapper object at 0x10beb9b80>()] created at /Users/sychuang/miniconda3/envs/openwpm/lib/python3.9/asyncio/base_events.py:424> created at /Users/sychuang/miniconda3/envs/openwpm/lib/python3.9/asyncio/streams.py:263> took 1.419 seconds\n"
     ]
    },
    {
     "name": "stdout",
     "output_type": "stream",
     "text": [
      "storage_controller   - INFO     - Awaiting all tasks for visit_id 1883324766014815\n",
      "storage_controller   - INFO     - Awaiting all tasks for visit_id 8206641432277250\n",
      "browser_manager      - INFO     - Finished working on CommandSequence with visit_id 8553667013692473 on browser with id 208166444\n"
     ]
    },
    {
     "name": "stderr",
     "output_type": "stream",
     "text": [
      "Executing <Task pending name='Task-2976' coro=<StorageController._handler() running at /Users/sychuang/My Drive (sc2357@cornell.edu)/Curriculum/2022SP/CS 5436 Privacy in the Digital Age/HW1/OpenWPM/openwpm/storage/storage_controller.py:94> wait_for=<Future pending cb=[<TaskWakeupMethWrapper object at 0x10c7fb6a0>()] created at /Users/sychuang/miniconda3/envs/openwpm/lib/python3.9/asyncio/base_events.py:424> created at /Users/sychuang/miniconda3/envs/openwpm/lib/python3.9/asyncio/streams.py:263> took 0.133 seconds\n"
     ]
    },
    {
     "name": "stdout",
     "output_type": "stream",
     "text": [
      "storage_controller   - INFO     - Awaiting all tasks for visit_id 2711971102635740\n"
     ]
    },
    {
     "name": "stderr",
     "output_type": "stream",
     "text": [
      "Executing <Task pending name='Task-18' coro=<StorageController._handler() running at /Users/sychuang/My Drive (sc2357@cornell.edu)/Curriculum/2022SP/CS 5436 Privacy in the Digital Age/HW1/OpenWPM/openwpm/storage/storage_controller.py:94> wait_for=<Future pending cb=[<TaskWakeupMethWrapper object at 0x10d2ace50>()] created at /Users/sychuang/miniconda3/envs/openwpm/lib/python3.9/asyncio/base_events.py:424> created at /Users/sychuang/miniconda3/envs/openwpm/lib/python3.9/asyncio/streams.py:263> took 0.208 seconds\n"
     ]
    },
    {
     "name": "stdout",
     "output_type": "stream",
     "text": [
      "browser_manager      - INFO     - Starting to work on CommandSequence with visit_id 5141868303720913 on browser with id 3294789765\n",
      "browser_manager      - INFO     - BROWSER 3294789765: EXECUTING COMMAND: InitializeCommand()\n",
      "browser_manager      - INFO     - BROWSER 3294789765: EXECUTING COMMAND: GetCommand(http://www.accountants.org.sg/,1)\n",
      "browser_manager      - INFO     - BROWSER 3889681542: EXECUTING COMMAND: RecursiveDumpPageSourceCommand()\n"
     ]
    },
    {
     "name": "stderr",
     "output_type": "stream",
     "text": [
      "Executing <Task pending name='Task-2975' coro=<StorageController._handler() running at /Users/sychuang/My Drive (sc2357@cornell.edu)/Curriculum/2022SP/CS 5436 Privacy in the Digital Age/HW1/OpenWPM/openwpm/storage/storage_controller.py:94> wait_for=<Future pending cb=[<TaskWakeupMethWrapper object at 0x10f2fdfd0>()] created at /Users/sychuang/miniconda3/envs/openwpm/lib/python3.9/asyncio/base_events.py:424> created at /Users/sychuang/miniconda3/envs/openwpm/lib/python3.9/asyncio/streams.py:263> took 1.668 seconds\n"
     ]
    },
    {
     "name": "stdout",
     "output_type": "stream",
     "text": [
      "browser_manager      - INFO     - Starting to work on CommandSequence with visit_id 1588947569080558 on browser with id 208166444\n",
      "browser_manager      - INFO     - BROWSER 208166444: EXECUTING COMMAND: InitializeCommand()\n",
      "browser_manager      - INFO     - BROWSER 208166444: EXECUTING COMMAND: GetCommand(http://www.nasba.org/,1)\n"
     ]
    },
    {
     "name": "stderr",
     "output_type": "stream",
     "text": [
      "Executing <Task pending name='Task-24' coro=<StorageController._handler() running at /Users/sychuang/My Drive (sc2357@cornell.edu)/Curriculum/2022SP/CS 5436 Privacy in the Digital Age/HW1/OpenWPM/openwpm/storage/storage_controller.py:94> wait_for=<Future pending cb=[<TaskWakeupMethWrapper object at 0x10c9811c0>()] created at /Users/sychuang/miniconda3/envs/openwpm/lib/python3.9/asyncio/base_events.py:424> created at /Users/sychuang/miniconda3/envs/openwpm/lib/python3.9/asyncio/streams.py:263> took 1.134 seconds\n",
      "Executing <Task finished name='Task-10351' coro=<SQLiteStorageProvider.store_record() done, defined at /Users/sychuang/My Drive (sc2357@cornell.edu)/Curriculum/2022SP/CS 5436 Privacy in the Digital Age/HW1/OpenWPM/openwpm/storage/sql_provider.py:48> result=None created at /Users/sychuang/miniconda3/envs/openwpm/lib/python3.9/asyncio/tasks.py:361> took 0.171 seconds\n"
     ]
    },
    {
     "name": "stdout",
     "output_type": "stream",
     "text": [
      "browser_manager      - INFO     - Finished working on CommandSequence with visit_id 5684357250208458 on browser with id 3380372220\n",
      "sql_provider         - WARNING  - Visit with visit_id 3485797253905671 got interrupted\n"
     ]
    },
    {
     "name": "stderr",
     "output_type": "stream",
     "text": [
      "Executing <Task pending name='Task-10' coro=<StorageController._handler() running at /Users/sychuang/My Drive (sc2357@cornell.edu)/Curriculum/2022SP/CS 5436 Privacy in the Digital Age/HW1/OpenWPM/openwpm/storage/storage_controller.py:94> wait_for=<Future pending cb=[<TaskWakeupMethWrapper object at 0x10f2fda00>()] created at /Users/sychuang/miniconda3/envs/openwpm/lib/python3.9/asyncio/base_events.py:424> created at /Users/sychuang/miniconda3/envs/openwpm/lib/python3.9/asyncio/streams.py:263> took 0.262 seconds\n"
     ]
    },
    {
     "name": "stdout",
     "output_type": "stream",
     "text": [
      "browser_manager      - INFO     - BROWSER 3797246577: EXECUTING COMMAND: RecursiveDumpPageSourceCommand()\n",
      "browser_manager      - INFO     - BROWSER 3889681542: EXECUTING COMMAND: FinalizeCommand(5)\n",
      "browser_manager      - INFO     - BROWSER 3797246577: EXECUTING COMMAND: FinalizeCommand(5)\n",
      "browser_manager      - INFO     - Starting to work on CommandSequence with visit_id 2200463354313244 on browser with id 3380372220\n",
      "browser_manager      - INFO     - BROWSER 3380372220: EXECUTING COMMAND: InitializeCommand()\n",
      "browser_manager      - INFO     - BROWSER 3380372220: EXECUTING COMMAND: GetCommand(http://www.cma-canada.org/,1)\n"
     ]
    },
    {
     "name": "stderr",
     "output_type": "stream",
     "text": [
      "Executing <Task pending name='Task-7780' coro=<StorageController._handler() running at /Users/sychuang/My Drive (sc2357@cornell.edu)/Curriculum/2022SP/CS 5436 Privacy in the Digital Age/HW1/OpenWPM/openwpm/storage/storage_controller.py:94> wait_for=<Future pending cb=[<TaskWakeupMethWrapper object at 0x10c064eb0>()] created at /Users/sychuang/miniconda3/envs/openwpm/lib/python3.9/asyncio/base_events.py:424> created at /Users/sychuang/miniconda3/envs/openwpm/lib/python3.9/asyncio/streams.py:263> took 3.547 seconds\n"
     ]
    },
    {
     "name": "stdout",
     "output_type": "stream",
     "text": [
      "browser_manager      - INFO     - Starting to work on CommandSequence with visit_id 1522003107297183 on browser with id 402892290\n",
      "browser_manager      - INFO     - BROWSER 402892290: EXECUTING COMMAND: InitializeCommand()\n",
      "browser_manager      - INFO     - BROWSER 402892290: EXECUTING COMMAND: GetCommand(http://editor.altervista.org/,1)\n"
     ]
    },
    {
     "name": "stderr",
     "output_type": "stream",
     "text": [
      "Executing <Task pending name='Task-2976' coro=<StorageController._handler() running at /Users/sychuang/My Drive (sc2357@cornell.edu)/Curriculum/2022SP/CS 5436 Privacy in the Digital Age/HW1/OpenWPM/openwpm/storage/storage_controller.py:94> wait_for=<Future pending cb=[<TaskWakeupMethWrapper object at 0x10c981b50>()] created at /Users/sychuang/miniconda3/envs/openwpm/lib/python3.9/asyncio/base_events.py:424> created at /Users/sychuang/miniconda3/envs/openwpm/lib/python3.9/asyncio/streams.py:263> took 1.467 seconds\n",
      "Executing <Task pending name='Task-18' coro=<StorageController._handler() running at /Users/sychuang/My Drive (sc2357@cornell.edu)/Curriculum/2022SP/CS 5436 Privacy in the Digital Age/HW1/OpenWPM/openwpm/storage/storage_controller.py:94> wait_for=<Future pending cb=[<TaskWakeupMethWrapper object at 0x10efc9850>()] created at /Users/sychuang/miniconda3/envs/openwpm/lib/python3.9/asyncio/base_events.py:424> created at /Users/sychuang/miniconda3/envs/openwpm/lib/python3.9/asyncio/streams.py:263> took 0.411 seconds\n",
      "Executing <Task pending name='Task-6375' coro=<StorageController._handler() running at /Users/sychuang/My Drive (sc2357@cornell.edu)/Curriculum/2022SP/CS 5436 Privacy in the Digital Age/HW1/OpenWPM/openwpm/storage/storage_controller.py:94> wait_for=<Future pending cb=[<TaskWakeupMethWrapper object at 0x10efc9f10>()] created at /Users/sychuang/miniconda3/envs/openwpm/lib/python3.9/asyncio/base_events.py:424> created at /Users/sychuang/miniconda3/envs/openwpm/lib/python3.9/asyncio/streams.py:263> took 0.145 seconds\n"
     ]
    },
    {
     "name": "stdout",
     "output_type": "stream",
     "text": [
      "browser_manager      - INFO     - BROWSER 2433889453: EXECUTING COMMAND: RecursiveDumpPageSourceCommand()\n",
      "browser_manager      - INFO     - BROWSER 2433889453: EXECUTING COMMAND: FinalizeCommand(5)\n"
     ]
    },
    {
     "name": "stderr",
     "output_type": "stream",
     "text": [
      "Executing <Task pending name='Task-26' coro=<StorageController._handler() running at /Users/sychuang/My Drive (sc2357@cornell.edu)/Curriculum/2022SP/CS 5436 Privacy in the Digital Age/HW1/OpenWPM/openwpm/storage/storage_controller.py:94> wait_for=<Future pending cb=[<TaskWakeupMethWrapper object at 0x10d95bd00>()] created at /Users/sychuang/miniconda3/envs/openwpm/lib/python3.9/asyncio/base_events.py:424> created at /Users/sychuang/miniconda3/envs/openwpm/lib/python3.9/asyncio/streams.py:263> took 0.671 seconds\n"
     ]
    },
    {
     "name": "stdout",
     "output_type": "stream",
     "text": [
      "browser_manager      - INFO     - Finished working on CommandSequence with visit_id 7433401569233681 on browser with id 3889681542\n",
      "browser_manager      - INFO     - Finished working on CommandSequence with visit_id 4229338110140334 on browser with id 3797246577\n",
      "storage_controller   - INFO     - Awaiting all tasks for visit_id 8553667013692473\n"
     ]
    },
    {
     "name": "stderr",
     "output_type": "stream",
     "text": [
      "Executing <Task pending name='Task-2975' coro=<StorageController._handler() running at /Users/sychuang/My Drive (sc2357@cornell.edu)/Curriculum/2022SP/CS 5436 Privacy in the Digital Age/HW1/OpenWPM/openwpm/storage/storage_controller.py:94> wait_for=<Task pending name='Task-10805' coro=<SQLiteStorageProvider.store_record() running at /Users/sychuang/My Drive (sc2357@cornell.edu)/Curriculum/2022SP/CS 5436 Privacy in the Digital Age/HW1/OpenWPM/openwpm/storage/sql_provider.py:48> cb=[<TaskWakeupMethWrapper object at 0x10ed9ac40>()] created at /Users/sychuang/miniconda3/envs/openwpm/lib/python3.9/asyncio/tasks.py:361> created at /Users/sychuang/miniconda3/envs/openwpm/lib/python3.9/asyncio/streams.py:263> took 0.441 seconds\n"
     ]
    },
    {
     "name": "stdout",
     "output_type": "stream",
     "text": [
      "storage_controller   - INFO     - Awaiting all tasks for visit_id 2642540806905911\n",
      "browser_manager      - INFO     - BROWSER 695351479: EXECUTING COMMAND: RecursiveDumpPageSourceCommand()\n"
     ]
    },
    {
     "name": "stderr",
     "output_type": "stream",
     "text": [
      "Executing <Task finished name='Task-11697' coro=<SQLiteStorageProvider.store_record() done, defined at /Users/sychuang/My Drive (sc2357@cornell.edu)/Curriculum/2022SP/CS 5436 Privacy in the Digital Age/HW1/OpenWPM/openwpm/storage/sql_provider.py:48> result=None created at /Users/sychuang/miniconda3/envs/openwpm/lib/python3.9/asyncio/tasks.py:361> took 0.140 seconds\n"
     ]
    },
    {
     "name": "stdout",
     "output_type": "stream",
     "text": [
      "browser_manager      - INFO     - BROWSER 695351479: EXECUTING COMMAND: FinalizeCommand(5)\n",
      "CommandSequence for http://www.indyanime.org ran successfully\n",
      "CommandSequence for http://www.ctrl-a.org ran successfully\n",
      "CommandSequence for http://www.delawareanimesociety.com ran successfully\n",
      "CommandSequence for http://members.tripod.com/~chaz16/3.html ran successfully\n",
      "CommandSequence for http://www.icaa.org.au/ ran unsuccessfully\n"
     ]
    },
    {
     "name": "stderr",
     "output_type": "stream",
     "text": [
      "Executing <Task pending name='Task-2975' coro=<StorageController._handler() running at /Users/sychuang/My Drive (sc2357@cornell.edu)/Curriculum/2022SP/CS 5436 Privacy in the Digital Age/HW1/OpenWPM/openwpm/storage/storage_controller.py:94> wait_for=<Future pending cb=[<TaskWakeupMethWrapper object at 0x10d2aca00>()] created at /Users/sychuang/miniconda3/envs/openwpm/lib/python3.9/asyncio/base_events.py:424> created at /Users/sychuang/miniconda3/envs/openwpm/lib/python3.9/asyncio/streams.py:263> took 0.915 seconds\n",
      "Executing <Task pending name='Task-18' coro=<StorageController._handler() running at /Users/sychuang/My Drive (sc2357@cornell.edu)/Curriculum/2022SP/CS 5436 Privacy in the Digital Age/HW1/OpenWPM/openwpm/storage/storage_controller.py:94> wait_for=<Future pending cb=[<TaskWakeupMethWrapper object at 0x10c064ca0>()] created at /Users/sychuang/miniconda3/envs/openwpm/lib/python3.9/asyncio/base_events.py:424> created at /Users/sychuang/miniconda3/envs/openwpm/lib/python3.9/asyncio/streams.py:263> took 0.122 seconds\n"
     ]
    },
    {
     "name": "stdout",
     "output_type": "stream",
     "text": [
      "browser_manager      - INFO     - BROWSER 208166444: EXECUTING COMMAND: RecursiveDumpPageSourceCommand()\n",
      "storage_controller   - INFO     - Awaiting all tasks for visit_id 5684357250208458\n",
      "browser_manager      - INFO     - BROWSER 208166444: EXECUTING COMMAND: FinalizeCommand(5)\n",
      "browser_manager      - INFO     - Starting to work on CommandSequence with visit_id 6596435902677269 on browser with id 3889681542\n",
      "browser_manager      - INFO     - BROWSER 3889681542: EXECUTING COMMAND: InitializeCommand()\n",
      "browser_manager      - INFO     - BROWSER 3889681542: EXECUTING COMMAND: GetCommand(http://www.personal.kent.edu/~rmuhamma/algorithms/algorithm.html,1)\n",
      "browser_manager      - INFO     - Starting to work on CommandSequence with visit_id 2089981355355513 on browser with id 3797246577\n",
      "browser_manager      - INFO     - BROWSER 3797246577: EXECUTING COMMAND: InitializeCommand()\n",
      "browser_manager      - INFO     - BROWSER 3797246577: EXECUTING COMMAND: GetCommand(http://www.oopweb.com/algorithms/files/algorithms.html,1)\n",
      "storage_controller   - INFO     - Awaiting all tasks for visit_id 4229338110140334\n"
     ]
    },
    {
     "name": "stderr",
     "output_type": "stream",
     "text": [
      "Executing <Task pending name='Task-7780' coro=<StorageController._handler() running at /Users/sychuang/My Drive (sc2357@cornell.edu)/Curriculum/2022SP/CS 5436 Privacy in the Digital Age/HW1/OpenWPM/openwpm/storage/storage_controller.py:94> wait_for=<Task pending name='Task-12276' coro=<SQLiteStorageProvider.store_record() running at /Users/sychuang/My Drive (sc2357@cornell.edu)/Curriculum/2022SP/CS 5436 Privacy in the Digital Age/HW1/OpenWPM/openwpm/storage/sql_provider.py:48> cb=[<TaskWakeupMethWrapper object at 0x10c36e1c0>()] created at /Users/sychuang/miniconda3/envs/openwpm/lib/python3.9/asyncio/tasks.py:361> created at /Users/sychuang/miniconda3/envs/openwpm/lib/python3.9/asyncio/streams.py:263> took 0.842 seconds\n"
     ]
    },
    {
     "name": "stdout",
     "output_type": "stream",
     "text": [
      "browser_manager      - INFO     - BROWSER 3380372220: EXECUTING COMMAND: RecursiveDumpPageSourceCommand()\n"
     ]
    },
    {
     "name": "stderr",
     "output_type": "stream",
     "text": [
      "Executing <Task pending name='Task-2976' coro=<StorageController._handler() running at /Users/sychuang/My Drive (sc2357@cornell.edu)/Curriculum/2022SP/CS 5436 Privacy in the Digital Age/HW1/OpenWPM/openwpm/storage/storage_controller.py:94> wait_for=<Future pending cb=[<TaskWakeupMethWrapper object at 0x10f97e6a0>()] created at /Users/sychuang/miniconda3/envs/openwpm/lib/python3.9/asyncio/base_events.py:424> created at /Users/sychuang/miniconda3/envs/openwpm/lib/python3.9/asyncio/streams.py:263> took 0.376 seconds\n",
      "Executing <Task pending name='Task-26' coro=<StorageController._handler() running at /Users/sychuang/My Drive (sc2357@cornell.edu)/Curriculum/2022SP/CS 5436 Privacy in the Digital Age/HW1/OpenWPM/openwpm/storage/storage_controller.py:94> wait_for=<Future pending cb=[<TaskWakeupMethWrapper object at 0x10f7f9ca0>()] created at /Users/sychuang/miniconda3/envs/openwpm/lib/python3.9/asyncio/base_events.py:424> created at /Users/sychuang/miniconda3/envs/openwpm/lib/python3.9/asyncio/streams.py:263> took 0.283 seconds\n"
     ]
    },
    {
     "name": "stdout",
     "output_type": "stream",
     "text": [
      "browser_manager      - INFO     - BROWSER 3380372220: EXECUTING COMMAND: FinalizeCommand(5)\n"
     ]
    },
    {
     "name": "stderr",
     "output_type": "stream",
     "text": [
      "Executing <Task pending name='Task-6375' coro=<StorageController._handler() running at /Users/sychuang/My Drive (sc2357@cornell.edu)/Curriculum/2022SP/CS 5436 Privacy in the Digital Age/HW1/OpenWPM/openwpm/storage/storage_controller.py:94> wait_for=<Future pending cb=[<TaskWakeupMethWrapper object at 0x10c36e790>()] created at /Users/sychuang/miniconda3/envs/openwpm/lib/python3.9/asyncio/base_events.py:424> created at /Users/sychuang/miniconda3/envs/openwpm/lib/python3.9/asyncio/streams.py:263> took 0.453 seconds\n",
      "Executing <Task pending name='Task-2975' coro=<StorageController._handler() running at /Users/sychuang/My Drive (sc2357@cornell.edu)/Curriculum/2022SP/CS 5436 Privacy in the Digital Age/HW1/OpenWPM/openwpm/storage/storage_controller.py:94> wait_for=<Future pending cb=[<TaskWakeupMethWrapper object at 0x10cbe2fd0>()] created at /Users/sychuang/miniconda3/envs/openwpm/lib/python3.9/asyncio/base_events.py:424> created at /Users/sychuang/miniconda3/envs/openwpm/lib/python3.9/asyncio/streams.py:263> took 0.135 seconds\n"
     ]
    },
    {
     "name": "stdout",
     "output_type": "stream",
     "text": [
      "browser_manager      - INFO     - BROWSER 3889681542: EXECUTING COMMAND: RecursiveDumpPageSourceCommand()\n",
      "browser_manager      - INFO     - BROWSER 3889681542: EXECUTING COMMAND: FinalizeCommand(5)\n"
     ]
    },
    {
     "name": "stderr",
     "output_type": "stream",
     "text": [
      "Executing <Task pending name='Task-2976' coro=<StorageController._handler() running at /Users/sychuang/My Drive (sc2357@cornell.edu)/Curriculum/2022SP/CS 5436 Privacy in the Digital Age/HW1/OpenWPM/openwpm/storage/storage_controller.py:94> wait_for=<Future pending cb=[<TaskWakeupMethWrapper object at 0x10d2ac4f0>()] created at /Users/sychuang/miniconda3/envs/openwpm/lib/python3.9/asyncio/base_events.py:424> created at /Users/sychuang/miniconda3/envs/openwpm/lib/python3.9/asyncio/streams.py:263> took 0.362 seconds\n",
      "Executing <Task pending name='Task-26' coro=<StorageController._handler() running at /Users/sychuang/My Drive (sc2357@cornell.edu)/Curriculum/2022SP/CS 5436 Privacy in the Digital Age/HW1/OpenWPM/openwpm/storage/storage_controller.py:94> wait_for=<Future pending cb=[<TaskWakeupMethWrapper object at 0x10d95b250>()] created at /Users/sychuang/miniconda3/envs/openwpm/lib/python3.9/asyncio/base_events.py:424> created at /Users/sychuang/miniconda3/envs/openwpm/lib/python3.9/asyncio/streams.py:263> took 0.181 seconds\n",
      "Executing <Task pending name='Task-12986' coro=<StorageController._handler() running at /Users/sychuang/My Drive (sc2357@cornell.edu)/Curriculum/2022SP/CS 5436 Privacy in the Digital Age/HW1/OpenWPM/openwpm/storage/storage_controller.py:94> wait_for=<Future pending cb=[<TaskWakeupMethWrapper object at 0x10c064a60>()] created at /Users/sychuang/miniconda3/envs/openwpm/lib/python3.9/asyncio/base_events.py:424> created at /Users/sychuang/miniconda3/envs/openwpm/lib/python3.9/asyncio/streams.py:263> took 0.421 seconds\n"
     ]
    },
    {
     "name": "stdout",
     "output_type": "stream",
     "text": [
      "browser_manager      - INFO     - Finished working on CommandSequence with visit_id 7058421122346954 on browser with id 2433889453\n"
     ]
    },
    {
     "name": "stderr",
     "output_type": "stream",
     "text": [
      "Executing <Task pending name='Task-6375' coro=<StorageController._handler() running at /Users/sychuang/My Drive (sc2357@cornell.edu)/Curriculum/2022SP/CS 5436 Privacy in the Digital Age/HW1/OpenWPM/openwpm/storage/storage_controller.py:94> wait_for=<Future pending cb=[<TaskWakeupMethWrapper object at 0x10c9819d0>()] created at /Users/sychuang/miniconda3/envs/openwpm/lib/python3.9/asyncio/base_events.py:424> created at /Users/sychuang/miniconda3/envs/openwpm/lib/python3.9/asyncio/streams.py:263> took 0.143 seconds\n",
      "Executing <Task pending name='Task-2976' coro=<StorageController._handler() running at /Users/sychuang/My Drive (sc2357@cornell.edu)/Curriculum/2022SP/CS 5436 Privacy in the Digital Age/HW1/OpenWPM/openwpm/storage/storage_controller.py:94> wait_for=<Future pending cb=[<TaskWakeupMethWrapper object at 0x10cbe2b80>()] created at /Users/sychuang/miniconda3/envs/openwpm/lib/python3.9/asyncio/base_events.py:424> created at /Users/sychuang/miniconda3/envs/openwpm/lib/python3.9/asyncio/streams.py:263> took 0.112 seconds\n",
      "Executing <Task pending name='Task-12986' coro=<StorageController._handler() running at /Users/sychuang/My Drive (sc2357@cornell.edu)/Curriculum/2022SP/CS 5436 Privacy in the Digital Age/HW1/OpenWPM/openwpm/storage/storage_controller.py:94> wait_for=<Future pending cb=[<TaskWakeupMethWrapper object at 0x10fd00550>()] created at /Users/sychuang/miniconda3/envs/openwpm/lib/python3.9/asyncio/base_events.py:424> created at /Users/sychuang/miniconda3/envs/openwpm/lib/python3.9/asyncio/streams.py:263> took 0.315 seconds\n"
     ]
    },
    {
     "name": "stdout",
     "output_type": "stream",
     "text": [
      "storage_controller   - INFO     - Awaiting all tasks for visit_id 7058421122346954\n"
     ]
    },
    {
     "name": "stderr",
     "output_type": "stream",
     "text": [
      "Executing <Task pending name='Task-26' coro=<StorageController._handler() running at /Users/sychuang/My Drive (sc2357@cornell.edu)/Curriculum/2022SP/CS 5436 Privacy in the Digital Age/HW1/OpenWPM/openwpm/storage/storage_controller.py:94> wait_for=<Future pending cb=[<TaskWakeupMethWrapper object at 0x10c283fd0>()] created at /Users/sychuang/miniconda3/envs/openwpm/lib/python3.9/asyncio/base_events.py:424> created at /Users/sychuang/miniconda3/envs/openwpm/lib/python3.9/asyncio/streams.py:263> took 0.213 seconds\n"
     ]
    },
    {
     "name": "stdout",
     "output_type": "stream",
     "text": [
      "browser_manager      - INFO     - Finished working on CommandSequence with visit_id 6475933698854232 on browser with id 695351479\n"
     ]
    },
    {
     "name": "stderr",
     "output_type": "stream",
     "text": [
      "Executing <Task pending name='Task-12986' coro=<StorageController._handler() running at /Users/sychuang/My Drive (sc2357@cornell.edu)/Curriculum/2022SP/CS 5436 Privacy in the Digital Age/HW1/OpenWPM/openwpm/storage/storage_controller.py:94> wait_for=<Future pending cb=[<TaskWakeupMethWrapper object at 0x10fd00280>()] created at /Users/sychuang/miniconda3/envs/openwpm/lib/python3.9/asyncio/base_events.py:424> created at /Users/sychuang/miniconda3/envs/openwpm/lib/python3.9/asyncio/streams.py:263> took 0.280 seconds\n"
     ]
    },
    {
     "name": "stdout",
     "output_type": "stream",
     "text": [
      "browser_manager      - INFO     - BROWSER 3797246577: EXECUTING COMMAND: RecursiveDumpPageSourceCommand()\n"
     ]
    },
    {
     "name": "stderr",
     "output_type": "stream",
     "text": [
      "Executing <Task pending name='Task-26' coro=<StorageController._handler() running at /Users/sychuang/My Drive (sc2357@cornell.edu)/Curriculum/2022SP/CS 5436 Privacy in the Digital Age/HW1/OpenWPM/openwpm/storage/storage_controller.py:94> wait_for=<Future pending cb=[<TaskWakeupMethWrapper object at 0x10cbe24c0>()] created at /Users/sychuang/miniconda3/envs/openwpm/lib/python3.9/asyncio/base_events.py:424> created at /Users/sychuang/miniconda3/envs/openwpm/lib/python3.9/asyncio/streams.py:263> took 0.140 seconds\n"
     ]
    },
    {
     "name": "stdout",
     "output_type": "stream",
     "text": [
      "browser_manager      - INFO     - BROWSER 3797246577: EXECUTING COMMAND: FinalizeCommand(5)\n",
      "storage_controller   - INFO     - Awaiting all tasks for visit_id 6475933698854232\n"
     ]
    },
    {
     "name": "stderr",
     "output_type": "stream",
     "text": [
      "Executing <Task pending name='Task-12986' coro=<StorageController._handler() running at /Users/sychuang/My Drive (sc2357@cornell.edu)/Curriculum/2022SP/CS 5436 Privacy in the Digital Age/HW1/OpenWPM/openwpm/storage/storage_controller.py:94> wait_for=<Future pending cb=[<TaskWakeupMethWrapper object at 0x10fd00fd0>()] created at /Users/sychuang/miniconda3/envs/openwpm/lib/python3.9/asyncio/base_events.py:424> created at /Users/sychuang/miniconda3/envs/openwpm/lib/python3.9/asyncio/streams.py:263> took 0.284 seconds\n"
     ]
    },
    {
     "name": "stdout",
     "output_type": "stream",
     "text": [
      "storage_controller   - INFO     - Awaiting all tasks for visit_id 7433401569233681\n",
      "CommandSequence for http://www.cica.ca/ ran successfully\n",
      "CommandSequence for http://www.otakuanime.org ran successfully\n",
      "CommandSequence for http://www.icai.ie/ ran successfully\n",
      "CommandSequence for http://www.icap.org.pk/ ran successfully\n",
      "browser_manager      - INFO     - Finished working on CommandSequence with visit_id 1588947569080558 on browser with id 208166444\n",
      "browser_manager      - INFO     - Starting to work on CommandSequence with visit_id 112700537401705 on browser with id 2433889453\n",
      "browser_manager      - INFO     - BROWSER 2433889453: EXECUTING COMMAND: InitializeCommand()\n",
      "browser_manager      - INFO     - BROWSER 2433889453: EXECUTING COMMAND: GetCommand(http://www.leekillough.com/heaps/,1)\n"
     ]
    },
    {
     "name": "stderr",
     "output_type": "stream",
     "text": [
      "Executing <Task pending name='Task-12986' coro=<StorageController._handler() running at /Users/sychuang/My Drive (sc2357@cornell.edu)/Curriculum/2022SP/CS 5436 Privacy in the Digital Age/HW1/OpenWPM/openwpm/storage/storage_controller.py:94> wait_for=<Future pending cb=[<TaskWakeupMethWrapper object at 0x10fd003a0>()] created at /Users/sychuang/miniconda3/envs/openwpm/lib/python3.9/asyncio/base_events.py:424> created at /Users/sychuang/miniconda3/envs/openwpm/lib/python3.9/asyncio/streams.py:263> took 0.288 seconds\n"
     ]
    },
    {
     "name": "stdout",
     "output_type": "stream",
     "text": [
      "storage_controller   - INFO     - Awaiting all tasks for visit_id 1588947569080558\n",
      "browser_manager      - INFO     - BROWSER 402892290: EXECUTING COMMAND: RecursiveDumpPageSourceCommand()\n",
      "browser_manager      - INFO     - BROWSER 402892290: EXECUTING COMMAND: FinalizeCommand(5)\n"
     ]
    },
    {
     "name": "stderr",
     "output_type": "stream",
     "text": [
      "Executing <Task pending name='Task-12986' coro=<StorageController._handler() running at /Users/sychuang/My Drive (sc2357@cornell.edu)/Curriculum/2022SP/CS 5436 Privacy in the Digital Age/HW1/OpenWPM/openwpm/storage/storage_controller.py:94> wait_for=<Future pending cb=[<TaskWakeupMethWrapper object at 0x10fd00760>()] created at /Users/sychuang/miniconda3/envs/openwpm/lib/python3.9/asyncio/base_events.py:424> created at /Users/sychuang/miniconda3/envs/openwpm/lib/python3.9/asyncio/streams.py:263> took 0.350 seconds\n",
      "Executing <Task pending name='Task-12986' coro=<StorageController._handler() running at /Users/sychuang/My Drive (sc2357@cornell.edu)/Curriculum/2022SP/CS 5436 Privacy in the Digital Age/HW1/OpenWPM/openwpm/storage/storage_controller.py:94> wait_for=<Future pending cb=[<TaskWakeupMethWrapper object at 0x10fd00430>()] created at /Users/sychuang/miniconda3/envs/openwpm/lib/python3.9/asyncio/base_events.py:424> created at /Users/sychuang/miniconda3/envs/openwpm/lib/python3.9/asyncio/streams.py:263> took 0.233 seconds\n",
      "Executing <Task pending name='Task-12986' coro=<StorageController._handler() running at /Users/sychuang/My Drive (sc2357@cornell.edu)/Curriculum/2022SP/CS 5436 Privacy in the Digital Age/HW1/OpenWPM/openwpm/storage/storage_controller.py:94> wait_for=<Future pending cb=[<TaskWakeupMethWrapper object at 0x10fd00790>()] created at /Users/sychuang/miniconda3/envs/openwpm/lib/python3.9/asyncio/base_events.py:424> created at /Users/sychuang/miniconda3/envs/openwpm/lib/python3.9/asyncio/streams.py:263> took 0.323 seconds\n"
     ]
    },
    {
     "name": "stdout",
     "output_type": "stream",
     "text": [
      "browser_manager      - INFO     - Starting to work on CommandSequence with visit_id 8266213159868992 on browser with id 695351479\n",
      "browser_manager      - INFO     - BROWSER 695351479: EXECUTING COMMAND: InitializeCommand()\n",
      "browser_manager      - INFO     - BROWSER 695351479: EXECUTING COMMAND: GetCommand(http://www.algosort.com/,1)\n"
     ]
    },
    {
     "name": "stderr",
     "output_type": "stream",
     "text": [
      "Executing <Task pending name='Task-12986' coro=<StorageController._handler() running at /Users/sychuang/My Drive (sc2357@cornell.edu)/Curriculum/2022SP/CS 5436 Privacy in the Digital Age/HW1/OpenWPM/openwpm/storage/storage_controller.py:94> wait_for=<Future pending cb=[<TaskWakeupMethWrapper object at 0x10fd007c0>()] created at /Users/sychuang/miniconda3/envs/openwpm/lib/python3.9/asyncio/base_events.py:424> created at /Users/sychuang/miniconda3/envs/openwpm/lib/python3.9/asyncio/streams.py:263> took 0.237 seconds\n"
     ]
    },
    {
     "name": "stdout",
     "output_type": "stream",
     "text": [
      "browser_manager      - INFO     - Finished working on CommandSequence with visit_id 2200463354313244 on browser with id 3380372220\n"
     ]
    },
    {
     "name": "stderr",
     "output_type": "stream",
     "text": [
      "Executing <Task pending name='Task-12986' coro=<StorageController._handler() running at /Users/sychuang/My Drive (sc2357@cornell.edu)/Curriculum/2022SP/CS 5436 Privacy in the Digital Age/HW1/OpenWPM/openwpm/storage/storage_controller.py:94> wait_for=<Future pending cb=[<TaskWakeupMethWrapper object at 0x10fd00040>()] created at /Users/sychuang/miniconda3/envs/openwpm/lib/python3.9/asyncio/base_events.py:424> created at /Users/sychuang/miniconda3/envs/openwpm/lib/python3.9/asyncio/streams.py:263> took 0.322 seconds\n"
     ]
    },
    {
     "name": "stdout",
     "output_type": "stream",
     "text": [
      "storage_controller   - INFO     - Awaiting all tasks for visit_id 2200463354313244\n",
      "browser_manager      - INFO     - Starting to work on CommandSequence with visit_id 621018299497374 on browser with id 208166444\n",
      "browser_manager      - INFO     - BROWSER 208166444: EXECUTING COMMAND: InitializeCommand()\n",
      "browser_manager      - INFO     - BROWSER 208166444: EXECUTING COMMAND: GetCommand(http://www.eli.sdsu.edu/courses/fall95/cs660/notes/,1)\n"
     ]
    },
    {
     "name": "stderr",
     "output_type": "stream",
     "text": [
      "Executing <Task pending name='Task-12986' coro=<StorageController._handler() running at /Users/sychuang/My Drive (sc2357@cornell.edu)/Curriculum/2022SP/CS 5436 Privacy in the Digital Age/HW1/OpenWPM/openwpm/storage/storage_controller.py:94> wait_for=<Future pending cb=[<TaskWakeupMethWrapper object at 0x10fd00430>()] created at /Users/sychuang/miniconda3/envs/openwpm/lib/python3.9/asyncio/base_events.py:424> created at /Users/sychuang/miniconda3/envs/openwpm/lib/python3.9/asyncio/streams.py:263> took 0.248 seconds\n"
     ]
    },
    {
     "name": "stdout",
     "output_type": "stream",
     "text": [
      "browser_manager      - INFO     - Finished working on CommandSequence with visit_id 6596435902677269 on browser with id 3889681542\n"
     ]
    },
    {
     "name": "stderr",
     "output_type": "stream",
     "text": [
      "Executing <Task pending name='Task-12986' coro=<StorageController._handler() running at /Users/sychuang/My Drive (sc2357@cornell.edu)/Curriculum/2022SP/CS 5436 Privacy in the Digital Age/HW1/OpenWPM/openwpm/storage/storage_controller.py:94> wait_for=<Future pending cb=[<TaskWakeupMethWrapper object at 0x10fd00040>()] created at /Users/sychuang/miniconda3/envs/openwpm/lib/python3.9/asyncio/base_events.py:424> created at /Users/sychuang/miniconda3/envs/openwpm/lib/python3.9/asyncio/streams.py:263> took 0.384 seconds\n"
     ]
    },
    {
     "name": "stdout",
     "output_type": "stream",
     "text": [
      "storage_controller   - INFO     - Awaiting all tasks for visit_id 6596435902677269\n",
      "browser_manager      - INFO     - BROWSER 2433889453: EXECUTING COMMAND: RecursiveDumpPageSourceCommand()\n",
      "browser_manager      - INFO     - BROWSER 2433889453: EXECUTING COMMAND: FinalizeCommand(5)\n"
     ]
    },
    {
     "name": "stderr",
     "output_type": "stream",
     "text": [
      "Executing <Task pending name='Task-12986' coro=<StorageController._handler() running at /Users/sychuang/My Drive (sc2357@cornell.edu)/Curriculum/2022SP/CS 5436 Privacy in the Digital Age/HW1/OpenWPM/openwpm/storage/storage_controller.py:94> wait_for=<Future pending cb=[<TaskWakeupMethWrapper object at 0x10fd00a30>()] created at /Users/sychuang/miniconda3/envs/openwpm/lib/python3.9/asyncio/base_events.py:424> created at /Users/sychuang/miniconda3/envs/openwpm/lib/python3.9/asyncio/streams.py:263> took 0.473 seconds\n",
      "Executing <Task pending name='Task-12986' coro=<StorageController._handler() running at /Users/sychuang/My Drive (sc2357@cornell.edu)/Curriculum/2022SP/CS 5436 Privacy in the Digital Age/HW1/OpenWPM/openwpm/storage/storage_controller.py:94> wait_for=<Future pending cb=[<TaskWakeupMethWrapper object at 0x10c7fb820>()] created at /Users/sychuang/miniconda3/envs/openwpm/lib/python3.9/asyncio/base_events.py:424> created at /Users/sychuang/miniconda3/envs/openwpm/lib/python3.9/asyncio/streams.py:263> took 0.169 seconds\n",
      "Executing <Task pending name='Task-12986' coro=<StorageController._handler() running at /Users/sychuang/My Drive (sc2357@cornell.edu)/Curriculum/2022SP/CS 5436 Privacy in the Digital Age/HW1/OpenWPM/openwpm/storage/storage_controller.py:94> wait_for=<Future pending cb=[<TaskWakeupMethWrapper object at 0x10c283d00>()] created at /Users/sychuang/miniconda3/envs/openwpm/lib/python3.9/asyncio/base_events.py:424> created at /Users/sychuang/miniconda3/envs/openwpm/lib/python3.9/asyncio/streams.py:263> took 0.261 seconds\n"
     ]
    },
    {
     "name": "stdout",
     "output_type": "stream",
     "text": [
      "browser_manager      - INFO     - Starting to work on CommandSequence with visit_id 4750525080333345 on browser with id 3380372220\n",
      "browser_manager      - INFO     - BROWSER 3380372220: EXECUTING COMMAND: InitializeCommand()\n",
      "browser_manager      - INFO     - BROWSER 3380372220: EXECUTING COMMAND: GetCommand(http://sigact.acm.org/,1)\n",
      "browser_manager      - INFO     - BROWSER 695351479: EXECUTING COMMAND: RecursiveDumpPageSourceCommand()\n",
      "browser_manager      - INFO     - BROWSER 695351479: EXECUTING COMMAND: FinalizeCommand(5)\n",
      "browser_manager      - INFO     - Starting to work on CommandSequence with visit_id 7920545834653664 on browser with id 3889681542\n",
      "browser_manager      - INFO     - BROWSER 3889681542: EXECUTING COMMAND: InitializeCommand()\n",
      "browser_manager      - INFO     - BROWSER 3889681542: EXECUTING COMMAND: GetCommand(http://www.intelligenceunited.com/index2.html,1)\n",
      "browser_manager      - INFO     - BROWSER 208166444: EXECUTING COMMAND: RecursiveDumpPageSourceCommand()\n",
      "browser_manager      - INFO     - BROWSER 208166444: EXECUTING COMMAND: FinalizeCommand(5)\n",
      "browser_manager      - INFO     - Finished working on CommandSequence with visit_id 2089981355355513 on browser with id 3797246577\n",
      "storage_controller   - INFO     - Awaiting all tasks for visit_id 2089981355355513\n",
      "CommandSequence for http://www.jicpa.or.jp/index.html ran successfully\n",
      "CommandSequence for http://www.isaca.org/ ran successfully\n",
      "CommandSequence for http://www.aicpa.org/ ran successfully\n",
      "CommandSequence for http://www.nasba.org/ ran successfully\n",
      "CommandSequence for http://www.cma-canada.org/ ran successfully\n",
      "CommandSequence for http://www.personal.kent.edu/~rmuhamma/algorithms/algorithm.html ran successfully\n",
      "browser_manager      - INFO     - Finished working on CommandSequence with visit_id 1522003107297183 on browser with id 402892290\n",
      "storage_controller   - INFO     - Awaiting all tasks for visit_id 1522003107297183\n",
      "browser_manager      - INFO     - BROWSER 3380372220: EXECUTING COMMAND: RecursiveDumpPageSourceCommand()\n",
      "browser_manager      - INFO     - BROWSER 3380372220: EXECUTING COMMAND: FinalizeCommand(5)\n",
      "browser_manager      - INFO     - Starting to work on CommandSequence with visit_id 7418874963837796 on browser with id 3797246577\n",
      "browser_manager      - INFO     - BROWSER 3797246577: EXECUTING COMMAND: InitializeCommand()\n",
      "browser_manager      - INFO     - BROWSER 3797246577: EXECUTING COMMAND: GetCommand(http://www.cs.ucr.edu/~stelo/pattern.html,1)\n",
      "browser_manager      - INFO     - Starting to work on CommandSequence with visit_id 1857810086503494 on browser with id 402892290\n",
      "browser_manager      - INFO     - BROWSER 402892290: EXECUTING COMMAND: InitializeCommand()\n",
      "browser_manager      - INFO     - BROWSER 402892290: EXECUTING COMMAND: GetCommand(http://alumni.imsa.edu/~matth/quant/299/paper/,1)\n",
      "browser_manager      - INFO     - Finished working on CommandSequence with visit_id 112700537401705 on browser with id 2433889453\n",
      "storage_controller   - INFO     - Awaiting all tasks for visit_id 112700537401705\n",
      "browser_manager      - INFO     - Finished working on CommandSequence with visit_id 8266213159868992 on browser with id 695351479\n",
      "storage_controller   - INFO     - Awaiting all tasks for visit_id 8266213159868992\n",
      "browser_manager      - INFO     - BROWSER 3797246577: EXECUTING COMMAND: RecursiveDumpPageSourceCommand()\n",
      "browser_manager      - INFO     - BROWSER 3797246577: EXECUTING COMMAND: FinalizeCommand(5)\n",
      "browser_manager      - INFO     - BROWSER 402892290: EXECUTING COMMAND: RecursiveDumpPageSourceCommand()\n",
      "browser_manager      - INFO     - BROWSER 402892290: EXECUTING COMMAND: FinalizeCommand(5)\n",
      "browser_manager      - INFO     - Finished working on CommandSequence with visit_id 621018299497374 on browser with id 208166444\n",
      "storage_controller   - INFO     - Awaiting all tasks for visit_id 621018299497374\n",
      "CommandSequence for http://www.oopweb.com/algorithms/files/algorithms.html ran successfully\n",
      "CommandSequence for http://editor.altervista.org/ ran successfully\n",
      "CommandSequence for http://www.leekillough.com/heaps/ ran successfully\n",
      "CommandSequence for http://www.algosort.com/ ran successfully\n",
      "browser_manager      - INFO     - Starting to work on CommandSequence with visit_id 2164439205891768 on browser with id 2433889453\n",
      "browser_manager      - INFO     - BROWSER 2433889453: EXECUTING COMMAND: InitializeCommand()\n",
      "browser_manager      - INFO     - BROWSER 2433889453: EXECUTING COMMAND: GetCommand(http://www.gamerz.net/pbmserv/amazons.html,1)\n",
      "browser_manager      - INFO     - BROWSER 3889681542: EXECUTING COMMAND: RecursiveDumpPageSourceCommand()\n",
      "browser_manager      - INFO     - BROWSER 3889681542: EXECUTING COMMAND: FinalizeCommand(5)\n",
      "browser_manager      - INFO     - Starting to work on CommandSequence with visit_id 7270289755378217 on browser with id 695351479\n",
      "browser_manager      - INFO     - BROWSER 695351479: EXECUTING COMMAND: InitializeCommand()\n",
      "browser_manager      - INFO     - BROWSER 695351479: EXECUTING COMMAND: GetCommand(http://www.boardgamegeek.com/game/2545,1)\n",
      "browser_manager      - INFO     - Finished working on CommandSequence with visit_id 4750525080333345 on browser with id 3380372220\n",
      "storage_controller   - INFO     - Awaiting all tasks for visit_id 4750525080333345\n",
      "browser_manager      - INFO     - Starting to work on CommandSequence with visit_id 6145595423106887 on browser with id 208166444\n",
      "browser_manager      - INFO     - BROWSER 208166444: EXECUTING COMMAND: InitializeCommand()\n",
      "browser_manager      - INFO     - BROWSER 208166444: EXECUTING COMMAND: GetCommand(http://www.gamereport.com/tgr20/5ivestraight.html,1)\n"
     ]
    },
    {
     "name": "stderr",
     "output_type": "stream",
     "text": [
      "Executing <Task pending name='Task-2975' coro=<StorageController._handler() running at /Users/sychuang/My Drive (sc2357@cornell.edu)/Curriculum/2022SP/CS 5436 Privacy in the Digital Age/HW1/OpenWPM/openwpm/storage/storage_controller.py:94> wait_for=<Future pending cb=[<TaskWakeupMethWrapper object at 0x10cbe2700>()] created at /Users/sychuang/miniconda3/envs/openwpm/lib/python3.9/asyncio/base_events.py:424> created at /Users/sychuang/miniconda3/envs/openwpm/lib/python3.9/asyncio/streams.py:263> took 0.132 seconds\n"
     ]
    },
    {
     "name": "stdout",
     "output_type": "stream",
     "text": [
      "browser_manager      - INFO     - Starting to work on CommandSequence with visit_id 2115473586603632 on browser with id 3380372220\n",
      "browser_manager      - INFO     - BROWSER 3380372220: EXECUTING COMMAND: InitializeCommand()\n",
      "browser_manager      - INFO     - BROWSER 3380372220: EXECUTING COMMAND: GetCommand(http://www.enginuity.com/dwild.htm,1)\n"
     ]
    },
    {
     "name": "stderr",
     "output_type": "stream",
     "text": [
      "Executing <Task pending name='Task-18' coro=<StorageController._handler() running at /Users/sychuang/My Drive (sc2357@cornell.edu)/Curriculum/2022SP/CS 5436 Privacy in the Digital Age/HW1/OpenWPM/openwpm/storage/storage_controller.py:94> wait_for=<Future pending cb=[<TaskWakeupMethWrapper object at 0x10cbe2160>()] created at /Users/sychuang/miniconda3/envs/openwpm/lib/python3.9/asyncio/base_events.py:424> created at /Users/sychuang/miniconda3/envs/openwpm/lib/python3.9/asyncio/streams.py:263> took 0.300 seconds\n"
     ]
    },
    {
     "name": "stdout",
     "output_type": "stream",
     "text": [
      "browser_manager      - INFO     - BROWSER 208166444: EXECUTING COMMAND: RecursiveDumpPageSourceCommand()\n"
     ]
    },
    {
     "name": "stderr",
     "output_type": "stream",
     "text": [
      "Executing <Task pending name='Task-2975' coro=<StorageController._handler() running at /Users/sychuang/My Drive (sc2357@cornell.edu)/Curriculum/2022SP/CS 5436 Privacy in the Digital Age/HW1/OpenWPM/openwpm/storage/storage_controller.py:94> wait_for=<Future pending cb=[<TaskWakeupMethWrapper object at 0x10cbe28b0>()] created at /Users/sychuang/miniconda3/envs/openwpm/lib/python3.9/asyncio/base_events.py:424> created at /Users/sychuang/miniconda3/envs/openwpm/lib/python3.9/asyncio/streams.py:263> took 0.175 seconds\n"
     ]
    },
    {
     "name": "stdout",
     "output_type": "stream",
     "text": [
      "browser_manager      - INFO     - BROWSER 208166444: EXECUTING COMMAND: FinalizeCommand(5)\n",
      "browser_manager      - INFO     - Finished working on CommandSequence with visit_id 7418874963837796 on browser with id 3797246577\n"
     ]
    },
    {
     "name": "stderr",
     "output_type": "stream",
     "text": [
      "Executing <Task pending name='Task-2976' coro=<StorageController._handler() running at /Users/sychuang/My Drive (sc2357@cornell.edu)/Curriculum/2022SP/CS 5436 Privacy in the Digital Age/HW1/OpenWPM/openwpm/storage/storage_controller.py:94> wait_for=<Future pending cb=[<TaskWakeupMethWrapper object at 0x10cbe2e20>()] created at /Users/sychuang/miniconda3/envs/openwpm/lib/python3.9/asyncio/base_events.py:424> created at /Users/sychuang/miniconda3/envs/openwpm/lib/python3.9/asyncio/streams.py:263> took 0.137 seconds\n"
     ]
    },
    {
     "name": "stdout",
     "output_type": "stream",
     "text": [
      "storage_controller   - INFO     - Awaiting all tasks for visit_id 7418874963837796\n",
      "browser_manager      - INFO     - Finished working on CommandSequence with visit_id 1857810086503494 on browser with id 402892290\n",
      "storage_controller   - INFO     - Awaiting all tasks for visit_id 1857810086503494\n",
      "CommandSequence for http://www.eli.sdsu.edu/courses/fall95/cs660/notes/ ran successfully\n",
      "CommandSequence for http://sigact.acm.org/ ran successfully\n",
      "browser_manager      - INFO     - BROWSER 3380372220: EXECUTING COMMAND: RecursiveDumpPageSourceCommand()\n",
      "browser_manager      - INFO     - BROWSER 3380372220: EXECUTING COMMAND: FinalizeCommand(5)\n",
      "browser_manager      - INFO     - Finished working on CommandSequence with visit_id 7920545834653664 on browser with id 3889681542\n",
      "storage_controller   - INFO     - Awaiting all tasks for visit_id 7920545834653664\n",
      "browser_manager      - INFO     - Starting to work on CommandSequence with visit_id 2185171271914708 on browser with id 3797246577\n",
      "browser_manager      - INFO     - BROWSER 3797246577: EXECUTING COMMAND: InitializeCommand()\n",
      "browser_manager      - INFO     - BROWSER 3797246577: EXECUTING COMMAND: GetCommand(647323,http://www.renju.net/,Games,1)\n",
      "browser_manager      - ERROR    - BROWSER 3797246577: WebDriverException while executing command\n",
      "Traceback (most recent call last):\n",
      "  File \"/Users/sychuang/My Drive (sc2357@cornell.edu)/Curriculum/2022SP/CS 5436 Privacy in the Digital Age/HW1/OpenWPM/openwpm/browser_manager.py\", line 761, in run\n",
      "    command.execute(\n",
      "  File \"/Users/sychuang/My Drive (sc2357@cornell.edu)/Curriculum/2022SP/CS 5436 Privacy in the Digital Age/HW1/OpenWPM/openwpm/commands/browser_commands.py\", line 142, in execute\n",
      "    webdriver.get(self.url)\n",
      "  File \"/Users/sychuang/miniconda3/envs/openwpm/lib/python3.9/site-packages/selenium/webdriver/remote/webdriver.py\", line 333, in get\n",
      "    self.execute(Command.GET, {'url': url})\n",
      "  File \"/Users/sychuang/miniconda3/envs/openwpm/lib/python3.9/site-packages/selenium/webdriver/remote/webdriver.py\", line 321, in execute\n",
      "    self.error_handler.check_response(response)\n",
      "  File \"/Users/sychuang/miniconda3/envs/openwpm/lib/python3.9/site-packages/selenium/webdriver/remote/errorhandler.py\", line 242, in check_response\n",
      "    raise exception_class(message, screen, stacktrace)\n",
      "selenium.common.exceptions.InvalidArgumentException: Message: Malformed URL: URL constructor: 647323,http://www.renju.net/,Games is not a valid URL.\n",
      "\n",
      "browser_manager      - INFO     - BROWSER 3797246577: Received failure status while executing command: GetCommand(647323,http://www.renju.net/,Games,1)\n",
      "browser_manager      - INFO     - Finished working on CommandSequence with visit_id 2185171271914708 on browser with id 3797246577\n",
      "storage_controller   - INFO     - Awaiting all tasks for visit_id 2185171271914708\n",
      "sql_provider         - WARNING  - Visit with visit_id 2185171271914708 got interrupted\n",
      "browser_manager      - INFO     - Starting to work on CommandSequence with visit_id 3668317088756277 on browser with id 402892290\n",
      "browser_manager      - INFO     - BROWSER 402892290: EXECUTING COMMAND: InitializeCommand()\n",
      "browser_manager      - INFO     - BROWSER 402892290: EXECUTING COMMAND: GetCommand(http://www.linkfive.com/linkfivethegame.html,1)\n",
      "browser_manager      - INFO     - Starting to work on CommandSequence with visit_id 6274423479855859 on browser with id 3889681542\n",
      "browser_manager      - INFO     - BROWSER 3889681542: EXECUTING COMMAND: InitializeCommand()\n",
      "browser_manager      - INFO     - BROWSER 3889681542: EXECUTING COMMAND: GetCommand(http://www.cox-tv.com/games/rules/morris.html,1)\n"
     ]
    },
    {
     "name": "stderr",
     "output_type": "stream",
     "text": [
      "Executing <Task pending name='Task-2976' coro=<StorageController._handler() running at /Users/sychuang/My Drive (sc2357@cornell.edu)/Curriculum/2022SP/CS 5436 Privacy in the Digital Age/HW1/OpenWPM/openwpm/storage/storage_controller.py:94> wait_for=<Future pending cb=[<TaskWakeupMethWrapper object at 0x10beb9a30>()] created at /Users/sychuang/miniconda3/envs/openwpm/lib/python3.9/asyncio/base_events.py:424> created at /Users/sychuang/miniconda3/envs/openwpm/lib/python3.9/asyncio/streams.py:263> took 0.188 seconds\n"
     ]
    },
    {
     "name": "stdout",
     "output_type": "stream",
     "text": [
      "browser_manager      - INFO     - BROWSER 3797246577: BrowserManager restart initiated. Clear profile? False\n"
     ]
    },
    {
     "name": "stderr",
     "output_type": "stream",
     "text": [
      "Executing <Task pending name='Task-26' coro=<StorageController._handler() running at /Users/sychuang/My Drive (sc2357@cornell.edu)/Curriculum/2022SP/CS 5436 Privacy in the Digital Age/HW1/OpenWPM/openwpm/storage/storage_controller.py:94> wait_for=<Future pending cb=[<TaskWakeupMethWrapper object at 0x10cbe2100>()] created at /Users/sychuang/miniconda3/envs/openwpm/lib/python3.9/asyncio/base_events.py:424> created at /Users/sychuang/miniconda3/envs/openwpm/lib/python3.9/asyncio/streams.py:263> took 0.109 seconds\n",
      "Executing <Task pending name='Task-26' coro=<StorageController._handler() running at /Users/sychuang/My Drive (sc2357@cornell.edu)/Curriculum/2022SP/CS 5436 Privacy in the Digital Age/HW1/OpenWPM/openwpm/storage/storage_controller.py:94> wait_for=<Future pending cb=[<TaskWakeupMethWrapper object at 0x10cbe25e0>()] created at /Users/sychuang/miniconda3/envs/openwpm/lib/python3.9/asyncio/base_events.py:424> created at /Users/sychuang/miniconda3/envs/openwpm/lib/python3.9/asyncio/streams.py:263> took 0.312 seconds\n"
     ]
    },
    {
     "name": "stdout",
     "output_type": "stream",
     "text": [
      "storage_controller   - INFO     - Terminating handler, because the underlying socket closed\n",
      "browser_manager      - INFO     - Finished working on CommandSequence with visit_id 6145595423106887 on browser with id 208166444\n",
      "browser_manager      - INFO     - BROWSER 402892290: EXECUTING COMMAND: RecursiveDumpPageSourceCommand()\n"
     ]
    },
    {
     "name": "stderr",
     "output_type": "stream",
     "text": [
      "Executing <Task pending name='Task-12986' coro=<StorageController._handler() running at /Users/sychuang/My Drive (sc2357@cornell.edu)/Curriculum/2022SP/CS 5436 Privacy in the Digital Age/HW1/OpenWPM/openwpm/storage/storage_controller.py:94> wait_for=<Future pending cb=[<TaskWakeupMethWrapper object at 0x10cbe2850>()] created at /Users/sychuang/miniconda3/envs/openwpm/lib/python3.9/asyncio/base_events.py:424> created at /Users/sychuang/miniconda3/envs/openwpm/lib/python3.9/asyncio/streams.py:263> took 0.153 seconds\n"
     ]
    },
    {
     "name": "stdout",
     "output_type": "stream",
     "text": [
      "storage_controller   - INFO     - Awaiting all tasks for visit_id 6145595423106887\n"
     ]
    },
    {
     "name": "stderr",
     "output_type": "stream",
     "text": [
      "Executing <Task pending name='Task-2976' coro=<StorageController._handler() running at /Users/sychuang/My Drive (sc2357@cornell.edu)/Curriculum/2022SP/CS 5436 Privacy in the Digital Age/HW1/OpenWPM/openwpm/storage/storage_controller.py:94> wait_for=<Future pending cb=[<TaskWakeupMethWrapper object at 0x10cbe2940>()] created at /Users/sychuang/miniconda3/envs/openwpm/lib/python3.9/asyncio/base_events.py:424> created at /Users/sychuang/miniconda3/envs/openwpm/lib/python3.9/asyncio/streams.py:263> took 0.158 seconds\n"
     ]
    },
    {
     "name": "stdout",
     "output_type": "stream",
     "text": [
      "browser_manager      - INFO     - BROWSER 402892290: EXECUTING COMMAND: FinalizeCommand(5)\n",
      "browser_manager      - INFO     - Finished working on CommandSequence with visit_id 2115473586603632 on browser with id 3380372220\n",
      "storage_controller   - INFO     - Awaiting all tasks for visit_id 2115473586603632\n",
      "browser_manager      - INFO     - BROWSER 3797246577: Launching browser...\n",
      "CommandSequence for http://www.cs.ucr.edu/~stelo/pattern.html ran successfully\n",
      "CommandSequence for http://alumni.imsa.edu/~matth/quant/299/paper/ ran successfully\n",
      "CommandSequence for http://www.intelligenceunited.com/index2.html ran successfully\n",
      "CommandSequence for 647323,http://www.renju.net/,Games ran unsuccessfully\n"
     ]
    },
    {
     "name": "stderr",
     "output_type": "stream",
     "text": [
      "Executing <Task pending name='Task-18' coro=<StorageController._handler() running at /Users/sychuang/My Drive (sc2357@cornell.edu)/Curriculum/2022SP/CS 5436 Privacy in the Digital Age/HW1/OpenWPM/openwpm/storage/storage_controller.py:94> wait_for=<Future pending cb=[<TaskWakeupMethWrapper object at 0x10cbe2ee0>()] created at /Users/sychuang/miniconda3/envs/openwpm/lib/python3.9/asyncio/base_events.py:424> created at /Users/sychuang/miniconda3/envs/openwpm/lib/python3.9/asyncio/streams.py:263> took 0.102 seconds\n"
     ]
    },
    {
     "name": "stdout",
     "output_type": "stream",
     "text": [
      "browser_manager      - INFO     - BROWSER 3889681542: EXECUTING COMMAND: RecursiveDumpPageSourceCommand()\n",
      "browser_manager      - INFO     - Starting to work on CommandSequence with visit_id 1002006890661526 on browser with id 208166444\n",
      "browser_manager      - INFO     - BROWSER 208166444: EXECUTING COMMAND: InitializeCommand()\n",
      "browser_manager      - INFO     - BROWSER 208166444: EXECUTING COMMAND: GetCommand(http://www.5straight.com/,1)\n",
      "browser_manager      - INFO     - BROWSER 3889681542: EXECUTING COMMAND: FinalizeCommand(5)\n"
     ]
    },
    {
     "name": "stderr",
     "output_type": "stream",
     "text": [
      "Executing <Task pending name='Task-2976' coro=<StorageController._handler() running at /Users/sychuang/My Drive (sc2357@cornell.edu)/Curriculum/2022SP/CS 5436 Privacy in the Digital Age/HW1/OpenWPM/openwpm/storage/storage_controller.py:94> wait_for=<Future pending cb=[<TaskWakeupMethWrapper object at 0x10cbe2700>()] created at /Users/sychuang/miniconda3/envs/openwpm/lib/python3.9/asyncio/base_events.py:424> created at /Users/sychuang/miniconda3/envs/openwpm/lib/python3.9/asyncio/streams.py:263> took 0.170 seconds\n"
     ]
    },
    {
     "name": "stdout",
     "output_type": "stream",
     "text": [
      "browser_manager      - INFO     - BROWSER 2433889453: EXECUTING COMMAND: RecursiveDumpPageSourceCommand()\n"
     ]
    },
    {
     "name": "stderr",
     "output_type": "stream",
     "text": [
      "Executing <Task pending name='Task-18' coro=<StorageController._handler() running at /Users/sychuang/My Drive (sc2357@cornell.edu)/Curriculum/2022SP/CS 5436 Privacy in the Digital Age/HW1/OpenWPM/openwpm/storage/storage_controller.py:94> wait_for=<Future pending cb=[<TaskWakeupMethWrapper object at 0x10cbe2160>()] created at /Users/sychuang/miniconda3/envs/openwpm/lib/python3.9/asyncio/base_events.py:424> created at /Users/sychuang/miniconda3/envs/openwpm/lib/python3.9/asyncio/streams.py:263> took 0.147 seconds\n"
     ]
    },
    {
     "name": "stdout",
     "output_type": "stream",
     "text": [
      "browser_manager      - INFO     - Starting to work on CommandSequence with visit_id 3591086681941072 on browser with id 3380372220\n",
      "browser_manager      - INFO     - BROWSER 3380372220: EXECUTING COMMAND: InitializeCommand()\n",
      "browser_manager      - INFO     - BROWSER 3380372220: EXECUTING COMMAND: GetCommand(http://www.oellermann.com/morabaraba,1)\n"
     ]
    },
    {
     "name": "stderr",
     "output_type": "stream",
     "text": [
      "Executing <Task pending name='Task-18' coro=<StorageController._handler() running at /Users/sychuang/My Drive (sc2357@cornell.edu)/Curriculum/2022SP/CS 5436 Privacy in the Digital Age/HW1/OpenWPM/openwpm/storage/storage_controller.py:94> wait_for=<Future pending cb=[<TaskWakeupMethWrapper object at 0x10cbe2670>()] created at /Users/sychuang/miniconda3/envs/openwpm/lib/python3.9/asyncio/base_events.py:424> created at /Users/sychuang/miniconda3/envs/openwpm/lib/python3.9/asyncio/streams.py:263> took 0.112 seconds\n"
     ]
    },
    {
     "name": "stdout",
     "output_type": "stream",
     "text": [
      "browser_manager      - INFO     - BROWSER 3380372220: Received neterror connectionFailure while executing command: GetCommand(http://www.oellermann.com/morabaraba,1)\n",
      "browser_manager      - INFO     - Finished working on CommandSequence with visit_id 3591086681941072 on browser with id 3380372220\n"
     ]
    },
    {
     "name": "stderr",
     "output_type": "stream",
     "text": [
      "Executing <Task pending name='Task-2975' coro=<StorageController._handler() running at /Users/sychuang/My Drive (sc2357@cornell.edu)/Curriculum/2022SP/CS 5436 Privacy in the Digital Age/HW1/OpenWPM/openwpm/storage/storage_controller.py:94> wait_for=<Future pending cb=[<TaskWakeupMethWrapper object at 0x10cbe2310>()] created at /Users/sychuang/miniconda3/envs/openwpm/lib/python3.9/asyncio/base_events.py:424> created at /Users/sychuang/miniconda3/envs/openwpm/lib/python3.9/asyncio/streams.py:263> took 0.164 seconds\n"
     ]
    },
    {
     "name": "stdout",
     "output_type": "stream",
     "text": [
      "storage_controller   - INFO     - Awaiting all tasks for visit_id 3591086681941072\n"
     ]
    },
    {
     "name": "stderr",
     "output_type": "stream",
     "text": [
      "Executing <Task pending name='Task-10' coro=<StorageController._handler() running at /Users/sychuang/My Drive (sc2357@cornell.edu)/Curriculum/2022SP/CS 5436 Privacy in the Digital Age/HW1/OpenWPM/openwpm/storage/storage_controller.py:94> wait_for=<Task pending name='Task-22125' coro=<SQLiteStorageProvider.store_record() running at /Users/sychuang/My Drive (sc2357@cornell.edu)/Curriculum/2022SP/CS 5436 Privacy in the Digital Age/HW1/OpenWPM/openwpm/storage/sql_provider.py:48> cb=[<TaskWakeupMethWrapper object at 0x10cbe28e0>()] created at /Users/sychuang/miniconda3/envs/openwpm/lib/python3.9/asyncio/tasks.py:361> created at /Users/sychuang/miniconda3/envs/openwpm/lib/python3.9/asyncio/streams.py:263> took 0.255 seconds\n"
     ]
    },
    {
     "name": "stdout",
     "output_type": "stream",
     "text": [
      "sql_provider         - WARNING  - Visit with visit_id 3591086681941072 got interrupted\n"
     ]
    },
    {
     "name": "stderr",
     "output_type": "stream",
     "text": [
      "Executing <Task pending name='Task-2976' coro=<StorageController._handler() running at /Users/sychuang/My Drive (sc2357@cornell.edu)/Curriculum/2022SP/CS 5436 Privacy in the Digital Age/HW1/OpenWPM/openwpm/storage/storage_controller.py:94> wait_for=<Future pending cb=[<TaskWakeupMethWrapper object at 0x10cbe2b20>()] created at /Users/sychuang/miniconda3/envs/openwpm/lib/python3.9/asyncio/base_events.py:424> created at /Users/sychuang/miniconda3/envs/openwpm/lib/python3.9/asyncio/streams.py:263> took 0.140 seconds\n"
     ]
    },
    {
     "name": "stdout",
     "output_type": "stream",
     "text": [
      "browser_manager      - INFO     - BROWSER 2433889453: EXECUTING COMMAND: FinalizeCommand(5)\n"
     ]
    },
    {
     "name": "stderr",
     "output_type": "stream",
     "text": [
      "Executing <Task pending name='Task-18' coro=<StorageController._handler() running at /Users/sychuang/My Drive (sc2357@cornell.edu)/Curriculum/2022SP/CS 5436 Privacy in the Digital Age/HW1/OpenWPM/openwpm/storage/storage_controller.py:94> wait_for=<Future pending cb=[<TaskWakeupMethWrapper object at 0x10cbe2f40>()] created at /Users/sychuang/miniconda3/envs/openwpm/lib/python3.9/asyncio/base_events.py:424> created at /Users/sychuang/miniconda3/envs/openwpm/lib/python3.9/asyncio/streams.py:263> took 0.104 seconds\n"
     ]
    },
    {
     "name": "stdout",
     "output_type": "stream",
     "text": [
      "browser_manager      - INFO     - BROWSER 3380372220: BrowserManager restart initiated. Clear profile? False\n"
     ]
    },
    {
     "name": "stderr",
     "output_type": "stream",
     "text": [
      "Executing <Task pending name='Task-2976' coro=<StorageController._handler() running at /Users/sychuang/My Drive (sc2357@cornell.edu)/Curriculum/2022SP/CS 5436 Privacy in the Digital Age/HW1/OpenWPM/openwpm/storage/storage_controller.py:94> wait_for=<Future pending cb=[<TaskWakeupMethWrapper object at 0x10cbe2370>()] created at /Users/sychuang/miniconda3/envs/openwpm/lib/python3.9/asyncio/base_events.py:424> created at /Users/sychuang/miniconda3/envs/openwpm/lib/python3.9/asyncio/streams.py:263> took 0.284 seconds\n",
      "Executing <Task pending name='Task-2975' coro=<StorageController._handler() running at /Users/sychuang/My Drive (sc2357@cornell.edu)/Curriculum/2022SP/CS 5436 Privacy in the Digital Age/HW1/OpenWPM/openwpm/storage/storage_controller.py:94> wait_for=<Future pending cb=[<TaskWakeupMethWrapper object at 0x10cbe2970>()] created at /Users/sychuang/miniconda3/envs/openwpm/lib/python3.9/asyncio/base_events.py:424> created at /Users/sychuang/miniconda3/envs/openwpm/lib/python3.9/asyncio/streams.py:263> took 0.138 seconds\n",
      "Executing <Task pending name='Task-2976' coro=<StorageController._handler() running at /Users/sychuang/My Drive (sc2357@cornell.edu)/Curriculum/2022SP/CS 5436 Privacy in the Digital Age/HW1/OpenWPM/openwpm/storage/storage_controller.py:94> wait_for=<Future pending cb=[<TaskWakeupMethWrapper object at 0x10c981b20>()] created at /Users/sychuang/miniconda3/envs/openwpm/lib/python3.9/asyncio/base_events.py:424> created at /Users/sychuang/miniconda3/envs/openwpm/lib/python3.9/asyncio/streams.py:263> took 0.234 seconds\n"
     ]
    },
    {
     "name": "stdout",
     "output_type": "stream",
     "text": [
      "storage_controller   - INFO     - Terminating handler, because the underlying socket closed\n",
      "browser_manager      - INFO     - Finished working on CommandSequence with visit_id 3668317088756277 on browser with id 402892290\n"
     ]
    },
    {
     "name": "stderr",
     "output_type": "stream",
     "text": [
      "Executing <Task pending name='Task-2976' coro=<StorageController._handler() running at /Users/sychuang/My Drive (sc2357@cornell.edu)/Curriculum/2022SP/CS 5436 Privacy in the Digital Age/HW1/OpenWPM/openwpm/storage/storage_controller.py:94> wait_for=<Future pending cb=[<TaskWakeupMethWrapper object at 0x10bcb8ee0>()] created at /Users/sychuang/miniconda3/envs/openwpm/lib/python3.9/asyncio/base_events.py:424> created at /Users/sychuang/miniconda3/envs/openwpm/lib/python3.9/asyncio/streams.py:263> took 0.191 seconds\n"
     ]
    },
    {
     "name": "stdout",
     "output_type": "stream",
     "text": [
      "storage_controller   - INFO     - Awaiting all tasks for visit_id 3668317088756277\n",
      "CommandSequence for http://www.gamereport.com/tgr20/5ivestraight.html ran successfully\n",
      "CommandSequence for http://www.enginuity.com/dwild.htm ran successfully\n",
      "CommandSequence for http://www.oellermann.com/morabaraba ran unsuccessfully\n",
      "browser_manager      - INFO     - BROWSER 3380372220: Launching browser...\n",
      "browser_manager      - INFO     - Finished working on CommandSequence with visit_id 6274423479855859 on browser with id 3889681542\n",
      "storage_controller   - INFO     - Awaiting all tasks for visit_id 6274423479855859\n",
      "browser_manager      - INFO     - BROWSER 208166444: EXECUTING COMMAND: RecursiveDumpPageSourceCommand()\n",
      "browser_manager      - INFO     - BROWSER 208166444: EXECUTING COMMAND: FinalizeCommand(5)\n",
      "browser_manager      - INFO     - Starting to work on CommandSequence with visit_id 5103561205590869 on browser with id 3797246577\n",
      "browser_manager      - INFO     - BROWSER 3797246577: EXECUTING COMMAND: InitializeCommand()\n",
      "browser_manager      - INFO     - BROWSER 3797246577: EXECUTING COMMAND: GetCommand(http://ourworld.compuserve.com/homepages/dennis_matheson/3m21.htm,1)\n",
      "browser_manager      - INFO     - Starting to work on CommandSequence with visit_id 2380183410400907 on browser with id 402892290\n",
      "browser_manager      - INFO     - BROWSER 402892290: EXECUTING COMMAND: InitializeCommand()\n",
      "browser_manager      - INFO     - BROWSER 402892290: EXECUTING COMMAND: GetCommand(http://news.bbc.co.uk/,1)\n",
      "browser_manager      - INFO     - BROWSER 3797246577: Received neterror dnsNotFound while executing command: GetCommand(http://ourworld.compuserve.com/homepages/dennis_matheson/3m21.htm,1)\n",
      "browser_manager      - INFO     - Finished working on CommandSequence with visit_id 5103561205590869 on browser with id 3797246577\n",
      "storage_controller   - INFO     - Awaiting all tasks for visit_id 5103561205590869\n",
      "sql_provider         - WARNING  - Visit with visit_id 5103561205590869 got interrupted\n",
      "browser_manager      - INFO     - Starting to work on CommandSequence with visit_id 1331711164210780 on browser with id 3889681542\n",
      "browser_manager      - INFO     - BROWSER 3889681542: EXECUTING COMMAND: InitializeCommand()\n",
      "browser_manager      - INFO     - BROWSER 3889681542: EXECUTING COMMAND: GetCommand(http://www.foxnews.com/,1)\n",
      "browser_manager      - INFO     - BROWSER 695351479: EXECUTING COMMAND: RecursiveDumpPageSourceCommand()\n",
      "browser_manager      - INFO     - Finished working on CommandSequence with visit_id 2164439205891768 on browser with id 2433889453\n",
      "storage_controller   - INFO     - Awaiting all tasks for visit_id 2164439205891768\n",
      "browser_manager      - INFO     - BROWSER 3797246577: BrowserManager restart initiated. Clear profile? False\n",
      "storage_controller   - INFO     - Terminating handler, because the underlying socket closed\n",
      "browser_manager      - INFO     - BROWSER 695351479: EXECUTING COMMAND: FinalizeCommand(5)\n",
      "CommandSequence for http://www.linkfive.com/linkfivethegame.html ran successfully\n",
      "CommandSequence for http://www.cox-tv.com/games/rules/morris.html ran successfully\n",
      "CommandSequence for http://ourworld.compuserve.com/homepages/dennis_matheson/3m21.htm ran unsuccessfully\n",
      "CommandSequence for http://www.gamerz.net/pbmserv/amazons.html ran successfully\n"
     ]
    },
    {
     "name": "stderr",
     "output_type": "stream",
     "text": [
      "Executing <Task finished name='Task-23296' coro=<SQLiteStorageProvider.store_record() done, defined at /Users/sychuang/My Drive (sc2357@cornell.edu)/Curriculum/2022SP/CS 5436 Privacy in the Digital Age/HW1/OpenWPM/openwpm/storage/sql_provider.py:48> result=None created at /Users/sychuang/miniconda3/envs/openwpm/lib/python3.9/asyncio/tasks.py:361> took 0.127 seconds\n"
     ]
    },
    {
     "name": "stdout",
     "output_type": "stream",
     "text": [
      "browser_manager      - INFO     - BROWSER 3797246577: Launching browser...\n"
     ]
    },
    {
     "name": "stderr",
     "output_type": "stream",
     "text": [
      "Executing <Task pending name='Task-12986' coro=<StorageController._handler() running at /Users/sychuang/My Drive (sc2357@cornell.edu)/Curriculum/2022SP/CS 5436 Privacy in the Digital Age/HW1/OpenWPM/openwpm/storage/storage_controller.py:94> wait_for=<Future pending cb=[<TaskWakeupMethWrapper object at 0x10beb9a90>()] created at /Users/sychuang/miniconda3/envs/openwpm/lib/python3.9/asyncio/base_events.py:424> created at /Users/sychuang/miniconda3/envs/openwpm/lib/python3.9/asyncio/streams.py:263> took 0.568 seconds\n"
     ]
    },
    {
     "name": "stdout",
     "output_type": "stream",
     "text": [
      "browser_manager      - INFO     - Starting to work on CommandSequence with visit_id 7064008843707401 on browser with id 2433889453\n",
      "browser_manager      - INFO     - BROWSER 2433889453: EXECUTING COMMAND: InitializeCommand()\n",
      "browser_manager      - INFO     - BROWSER 2433889453: EXECUTING COMMAND: GetCommand(http://www.cbc.ca/news/,1)\n",
      "browser_manager      - INFO     - Finished working on CommandSequence with visit_id 1002006890661526 on browser with id 208166444\n"
     ]
    },
    {
     "name": "stderr",
     "output_type": "stream",
     "text": [
      "Executing <Task pending name='Task-26' coro=<StorageController._handler() running at /Users/sychuang/My Drive (sc2357@cornell.edu)/Curriculum/2022SP/CS 5436 Privacy in the Digital Age/HW1/OpenWPM/openwpm/storage/storage_controller.py:94> wait_for=<Future pending cb=[<TaskWakeupMethWrapper object at 0x10cbe2a90>()] created at /Users/sychuang/miniconda3/envs/openwpm/lib/python3.9/asyncio/base_events.py:424> created at /Users/sychuang/miniconda3/envs/openwpm/lib/python3.9/asyncio/streams.py:263> took 0.428 seconds\n"
     ]
    },
    {
     "name": "stdout",
     "output_type": "stream",
     "text": [
      "browser_manager      - INFO     - Starting to work on CommandSequence with visit_id 5932869803478779 on browser with id 3380372220\n",
      "browser_manager      - INFO     - BROWSER 3380372220: EXECUTING COMMAND: InitializeCommand()\n",
      "browser_manager      - INFO     - BROWSER 3380372220: EXECUTING COMMAND: GetCommand(http://www.nytimes.com/,1)\n"
     ]
    },
    {
     "name": "stderr",
     "output_type": "stream",
     "text": [
      "Executing <Task pending name='Task-12986' coro=<StorageController._handler() running at /Users/sychuang/My Drive (sc2357@cornell.edu)/Curriculum/2022SP/CS 5436 Privacy in the Digital Age/HW1/OpenWPM/openwpm/storage/storage_controller.py:94> wait_for=<Future pending cb=[<TaskWakeupMethWrapper object at 0x10c981ee0>()] created at /Users/sychuang/miniconda3/envs/openwpm/lib/python3.9/asyncio/base_events.py:424> created at /Users/sychuang/miniconda3/envs/openwpm/lib/python3.9/asyncio/streams.py:263> took 0.807 seconds\n"
     ]
    },
    {
     "name": "stdout",
     "output_type": "stream",
     "text": [
      "storage_controller   - INFO     - Awaiting all tasks for visit_id 1002006890661526\n"
     ]
    },
    {
     "name": "stderr",
     "output_type": "stream",
     "text": [
      "Executing <Task pending name='Task-12986' coro=<StorageController._handler() running at /Users/sychuang/My Drive (sc2357@cornell.edu)/Curriculum/2022SP/CS 5436 Privacy in the Digital Age/HW1/OpenWPM/openwpm/storage/storage_controller.py:94> wait_for=<Future pending cb=[<TaskWakeupMethWrapper object at 0x10c981c10>()] created at /Users/sychuang/miniconda3/envs/openwpm/lib/python3.9/asyncio/base_events.py:424> created at /Users/sychuang/miniconda3/envs/openwpm/lib/python3.9/asyncio/streams.py:263> took 0.392 seconds\n",
      "Executing <Task pending name='Task-18' coro=<StorageController._handler() running at /Users/sychuang/My Drive (sc2357@cornell.edu)/Curriculum/2022SP/CS 5436 Privacy in the Digital Age/HW1/OpenWPM/openwpm/storage/storage_controller.py:94> wait_for=<Future pending cb=[<TaskWakeupMethWrapper object at 0x10cbe29a0>()] created at /Users/sychuang/miniconda3/envs/openwpm/lib/python3.9/asyncio/base_events.py:424> created at /Users/sychuang/miniconda3/envs/openwpm/lib/python3.9/asyncio/streams.py:263> took 0.119 seconds\n",
      "Executing <Task pending name='Task-26' coro=<StorageController._handler() running at /Users/sychuang/My Drive (sc2357@cornell.edu)/Curriculum/2022SP/CS 5436 Privacy in the Digital Age/HW1/OpenWPM/openwpm/storage/storage_controller.py:94> wait_for=<Future pending cb=[<TaskWakeupMethWrapper object at 0x10cbe2e80>()] created at /Users/sychuang/miniconda3/envs/openwpm/lib/python3.9/asyncio/base_events.py:424> created at /Users/sychuang/miniconda3/envs/openwpm/lib/python3.9/asyncio/streams.py:263> took 0.108 seconds\n"
     ]
    },
    {
     "name": "stdout",
     "output_type": "stream",
     "text": [
      "browser_manager      - INFO     - Starting to work on CommandSequence with visit_id 6409593993770003 on browser with id 208166444\n",
      "browser_manager      - INFO     - BROWSER 208166444: EXECUTING COMMAND: InitializeCommand()\n",
      "browser_manager      - INFO     - BROWSER 208166444: EXECUTING COMMAND: GetCommand(http://www.guardian.co.uk/,1)\n"
     ]
    },
    {
     "name": "stderr",
     "output_type": "stream",
     "text": [
      "Executing <Task pending name='Task-12986' coro=<StorageController._handler() running at /Users/sychuang/My Drive (sc2357@cornell.edu)/Curriculum/2022SP/CS 5436 Privacy in the Digital Age/HW1/OpenWPM/openwpm/storage/storage_controller.py:94> wait_for=<Future pending cb=[<TaskWakeupMethWrapper object at 0x10c981e50>()] created at /Users/sychuang/miniconda3/envs/openwpm/lib/python3.9/asyncio/base_events.py:424> created at /Users/sychuang/miniconda3/envs/openwpm/lib/python3.9/asyncio/streams.py:263> took 0.599 seconds\n",
      "Executing <Task pending name='Task-23618' coro=<StorageController._handler() running at /Users/sychuang/My Drive (sc2357@cornell.edu)/Curriculum/2022SP/CS 5436 Privacy in the Digital Age/HW1/OpenWPM/openwpm/storage/storage_controller.py:94> wait_for=<Future pending cb=[<TaskWakeupMethWrapper object at 0x10c9814c0>()] created at /Users/sychuang/miniconda3/envs/openwpm/lib/python3.9/asyncio/base_events.py:424> created at /Users/sychuang/miniconda3/envs/openwpm/lib/python3.9/asyncio/streams.py:263> took 0.708 seconds\n",
      "Executing <Task pending name='Task-2975' coro=<StorageController._handler() running at /Users/sychuang/My Drive (sc2357@cornell.edu)/Curriculum/2022SP/CS 5436 Privacy in the Digital Age/HW1/OpenWPM/openwpm/storage/storage_controller.py:94> wait_for=<Future pending cb=[<TaskWakeupMethWrapper object at 0x10c981c10>()] created at /Users/sychuang/miniconda3/envs/openwpm/lib/python3.9/asyncio/base_events.py:424> created at /Users/sychuang/miniconda3/envs/openwpm/lib/python3.9/asyncio/streams.py:263> took 0.228 seconds\n"
     ]
    },
    {
     "name": "stdout",
     "output_type": "stream",
     "text": [
      "browser_manager      - INFO     - Finished working on CommandSequence with visit_id 7270289755378217 on browser with id 695351479\n"
     ]
    },
    {
     "name": "stderr",
     "output_type": "stream",
     "text": [
      "Executing <Task pending name='Task-23618' coro=<StorageController._handler() running at /Users/sychuang/My Drive (sc2357@cornell.edu)/Curriculum/2022SP/CS 5436 Privacy in the Digital Age/HW1/OpenWPM/openwpm/storage/storage_controller.py:94> wait_for=<Future pending cb=[<TaskWakeupMethWrapper object at 0x10c981a90>()] created at /Users/sychuang/miniconda3/envs/openwpm/lib/python3.9/asyncio/base_events.py:424> created at /Users/sychuang/miniconda3/envs/openwpm/lib/python3.9/asyncio/streams.py:263> took 0.650 seconds\n",
      "Executing <Task pending name='Task-12986' coro=<StorageController._handler() running at /Users/sychuang/My Drive (sc2357@cornell.edu)/Curriculum/2022SP/CS 5436 Privacy in the Digital Age/HW1/OpenWPM/openwpm/storage/storage_controller.py:94> wait_for=<Future pending cb=[<TaskWakeupMethWrapper object at 0x10c2838e0>()] created at /Users/sychuang/miniconda3/envs/openwpm/lib/python3.9/asyncio/base_events.py:424> created at /Users/sychuang/miniconda3/envs/openwpm/lib/python3.9/asyncio/streams.py:263> took 0.573 seconds\n",
      "Executing <Task finished name='Task-24239' coro=<SQLiteStorageProvider.store_record() done, defined at /Users/sychuang/My Drive (sc2357@cornell.edu)/Curriculum/2022SP/CS 5436 Privacy in the Digital Age/HW1/OpenWPM/openwpm/storage/sql_provider.py:48> result=None created at /Users/sychuang/miniconda3/envs/openwpm/lib/python3.9/asyncio/tasks.py:361> took 0.107 seconds\n"
     ]
    },
    {
     "name": "stdout",
     "output_type": "stream",
     "text": [
      "CommandSequence for http://www.5straight.com/ ran successfully\n",
      "browser_manager      - INFO     - Starting to work on CommandSequence with visit_id 3276218237244105 on browser with id 695351479\n",
      "browser_manager      - INFO     - BROWSER 695351479: EXECUTING COMMAND: InitializeCommand()\n",
      "browser_manager      - INFO     - BROWSER 695351479: EXECUTING COMMAND: GetCommand(http://www.cbsnews.com/,1)\n"
     ]
    },
    {
     "name": "stderr",
     "output_type": "stream",
     "text": [
      "Executing <Task pending name='Task-23618' coro=<StorageController._handler() running at /Users/sychuang/My Drive (sc2357@cornell.edu)/Curriculum/2022SP/CS 5436 Privacy in the Digital Age/HW1/OpenWPM/openwpm/storage/storage_controller.py:94> wait_for=<Future pending cb=[<TaskWakeupMethWrapper object at 0x10cbe2070>()] created at /Users/sychuang/miniconda3/envs/openwpm/lib/python3.9/asyncio/base_events.py:424> created at /Users/sychuang/miniconda3/envs/openwpm/lib/python3.9/asyncio/streams.py:263> took 1.202 seconds\n"
     ]
    },
    {
     "name": "stdout",
     "output_type": "stream",
     "text": [
      "storage_controller   - INFO     - Awaiting all tasks for visit_id 7270289755378217\n"
     ]
    },
    {
     "name": "stderr",
     "output_type": "stream",
     "text": [
      "Executing <Task pending name='Task-12986' coro=<StorageController._handler() running at /Users/sychuang/My Drive (sc2357@cornell.edu)/Curriculum/2022SP/CS 5436 Privacy in the Digital Age/HW1/OpenWPM/openwpm/storage/storage_controller.py:94> wait_for=<Future pending cb=[<TaskWakeupMethWrapper object at 0x10c7fbb20>()] created at /Users/sychuang/miniconda3/envs/openwpm/lib/python3.9/asyncio/base_events.py:424> created at /Users/sychuang/miniconda3/envs/openwpm/lib/python3.9/asyncio/streams.py:263> took 0.458 seconds\n",
      "Executing <Task finished name='Task-24572' coro=<SQLiteStorageProvider.store_record() done, defined at /Users/sychuang/My Drive (sc2357@cornell.edu)/Curriculum/2022SP/CS 5436 Privacy in the Digital Age/HW1/OpenWPM/openwpm/storage/sql_provider.py:48> result=None created at /Users/sychuang/miniconda3/envs/openwpm/lib/python3.9/asyncio/tasks.py:361> took 0.276 seconds\n",
      "Executing <Task pending name='Task-2975' coro=<StorageController._handler() running at /Users/sychuang/My Drive (sc2357@cornell.edu)/Curriculum/2022SP/CS 5436 Privacy in the Digital Age/HW1/OpenWPM/openwpm/storage/storage_controller.py:94> wait_for=<Future pending cb=[<TaskWakeupMethWrapper object at 0x10cbe29d0>()] created at /Users/sychuang/miniconda3/envs/openwpm/lib/python3.9/asyncio/base_events.py:424> created at /Users/sychuang/miniconda3/envs/openwpm/lib/python3.9/asyncio/streams.py:263> took 0.426 seconds\n",
      "Executing <Task pending name='Task-18' coro=<StorageController._handler() running at /Users/sychuang/My Drive (sc2357@cornell.edu)/Curriculum/2022SP/CS 5436 Privacy in the Digital Age/HW1/OpenWPM/openwpm/storage/storage_controller.py:94> wait_for=<Future pending cb=[<TaskWakeupMethWrapper object at 0x10cbe2370>()] created at /Users/sychuang/miniconda3/envs/openwpm/lib/python3.9/asyncio/base_events.py:424> created at /Users/sychuang/miniconda3/envs/openwpm/lib/python3.9/asyncio/streams.py:263> took 1.712 seconds\n"
     ]
    },
    {
     "name": "stdout",
     "output_type": "stream",
     "text": [
      "browser_manager      - INFO     - Starting to work on CommandSequence with visit_id 7597883124465833 on browser with id 3797246577\n",
      "browser_manager      - INFO     - BROWSER 3797246577: EXECUTING COMMAND: InitializeCommand()\n",
      "browser_manager      - INFO     - BROWSER 3797246577: EXECUTING COMMAND: GetCommand(http://www.newsinpictures.com/,1)\n"
     ]
    },
    {
     "name": "stderr",
     "output_type": "stream",
     "text": [
      "Executing <Task pending name='Task-2976' coro=<StorageController._handler() running at /Users/sychuang/My Drive (sc2357@cornell.edu)/Curriculum/2022SP/CS 5436 Privacy in the Digital Age/HW1/OpenWPM/openwpm/storage/storage_controller.py:94> wait_for=<Future pending cb=[<TaskWakeupMethWrapper object at 0x10c283be0>()] created at /Users/sychuang/miniconda3/envs/openwpm/lib/python3.9/asyncio/base_events.py:424> created at /Users/sychuang/miniconda3/envs/openwpm/lib/python3.9/asyncio/streams.py:263> took 0.596 seconds\n",
      "Executing <Task pending name='Task-12986' coro=<StorageController._handler() running at /Users/sychuang/My Drive (sc2357@cornell.edu)/Curriculum/2022SP/CS 5436 Privacy in the Digital Age/HW1/OpenWPM/openwpm/storage/storage_controller.py:94> wait_for=<Future pending cb=[<TaskWakeupMethWrapper object at 0x10c283af0>()] created at /Users/sychuang/miniconda3/envs/openwpm/lib/python3.9/asyncio/base_events.py:424> created at /Users/sychuang/miniconda3/envs/openwpm/lib/python3.9/asyncio/streams.py:263> took 0.984 seconds\n"
     ]
    },
    {
     "name": "stdout",
     "output_type": "stream",
     "text": [
      "browser_manager      - INFO     - BROWSER 3294789765: Timeout while executing command, GetCommand(http://www.accountants.org.sg/,1), killing browser manager\n",
      "browser_manager      - INFO     - Finished working on CommandSequence with visit_id 5141868303720913 on browser with id 3294789765\n"
     ]
    },
    {
     "name": "stderr",
     "output_type": "stream",
     "text": [
      "Executing <Task pending name='Task-23618' coro=<StorageController._handler() running at /Users/sychuang/My Drive (sc2357@cornell.edu)/Curriculum/2022SP/CS 5436 Privacy in the Digital Age/HW1/OpenWPM/openwpm/storage/storage_controller.py:94> wait_for=<Future pending cb=[<TaskWakeupMethWrapper object at 0x10bec2d60>()] created at /Users/sychuang/miniconda3/envs/openwpm/lib/python3.9/asyncio/base_events.py:424> created at /Users/sychuang/miniconda3/envs/openwpm/lib/python3.9/asyncio/streams.py:263> took 1.301 seconds\n"
     ]
    },
    {
     "name": "stdout",
     "output_type": "stream",
     "text": [
      "browser_manager      - INFO     - BROWSER 695351479: EXECUTING COMMAND: RecursiveDumpPageSourceCommand()\n"
     ]
    },
    {
     "name": "stderr",
     "output_type": "stream",
     "text": [
      "Executing <Task finished name='Task-24874' coro=<SQLiteStorageProvider.store_record() done, defined at /Users/sychuang/My Drive (sc2357@cornell.edu)/Curriculum/2022SP/CS 5436 Privacy in the Digital Age/HW1/OpenWPM/openwpm/storage/sql_provider.py:48> result=None created at /Users/sychuang/miniconda3/envs/openwpm/lib/python3.9/asyncio/tasks.py:361> took 0.181 seconds\n",
      "Executing <Task pending name='Task-18' coro=<StorageController._handler() running at /Users/sychuang/My Drive (sc2357@cornell.edu)/Curriculum/2022SP/CS 5436 Privacy in the Digital Age/HW1/OpenWPM/openwpm/storage/storage_controller.py:94> wait_for=<Future pending cb=[<TaskWakeupMethWrapper object at 0x10c36e9d0>()] created at /Users/sychuang/miniconda3/envs/openwpm/lib/python3.9/asyncio/base_events.py:424> created at /Users/sychuang/miniconda3/envs/openwpm/lib/python3.9/asyncio/streams.py:263> took 0.349 seconds\n"
     ]
    },
    {
     "name": "stdout",
     "output_type": "stream",
     "text": [
      "browser_manager      - INFO     - BROWSER 3294789765: BrowserManager restart initiated. Clear profile? False\n",
      "browser_manager      - INFO     - BROWSER 3797246577: EXECUTING COMMAND: RecursiveDumpPageSourceCommand()\n",
      "browser_manager      - INFO     - BROWSER 3797246577: EXECUTING COMMAND: FinalizeCommand(5)\n"
     ]
    },
    {
     "name": "stderr",
     "output_type": "stream",
     "text": [
      "Executing <Task pending name='Task-2975' coro=<StorageController._handler() running at /Users/sychuang/My Drive (sc2357@cornell.edu)/Curriculum/2022SP/CS 5436 Privacy in the Digital Age/HW1/OpenWPM/openwpm/storage/storage_controller.py:94> wait_for=<Future pending cb=[<TaskWakeupMethWrapper object at 0x10c064ca0>()] created at /Users/sychuang/miniconda3/envs/openwpm/lib/python3.9/asyncio/base_events.py:424> created at /Users/sychuang/miniconda3/envs/openwpm/lib/python3.9/asyncio/streams.py:263> took 1.346 seconds\n",
      "Executing <Task pending name='Task-2976' coro=<StorageController._handler() running at /Users/sychuang/My Drive (sc2357@cornell.edu)/Curriculum/2022SP/CS 5436 Privacy in the Digital Age/HW1/OpenWPM/openwpm/storage/storage_controller.py:94> wait_for=<Future pending cb=[<TaskWakeupMethWrapper object at 0x10c36e400>()] created at /Users/sychuang/miniconda3/envs/openwpm/lib/python3.9/asyncio/base_events.py:424> created at /Users/sychuang/miniconda3/envs/openwpm/lib/python3.9/asyncio/streams.py:263> took 1.295 seconds\n"
     ]
    },
    {
     "name": "stdout",
     "output_type": "stream",
     "text": [
      "storage_controller   - INFO     - Awaiting all tasks for visit_id 5141868303720913\n"
     ]
    },
    {
     "name": "stderr",
     "output_type": "stream",
     "text": [
      "Executing <Task pending name='Task-12986' coro=<StorageController._handler() running at /Users/sychuang/My Drive (sc2357@cornell.edu)/Curriculum/2022SP/CS 5436 Privacy in the Digital Age/HW1/OpenWPM/openwpm/storage/storage_controller.py:94> wait_for=<Future pending cb=[<TaskWakeupMethWrapper object at 0x10c981cd0>()] created at /Users/sychuang/miniconda3/envs/openwpm/lib/python3.9/asyncio/base_events.py:424> created at /Users/sychuang/miniconda3/envs/openwpm/lib/python3.9/asyncio/streams.py:263> took 0.996 seconds\n"
     ]
    },
    {
     "name": "stdout",
     "output_type": "stream",
     "text": [
      "browser_manager      - ERROR    - BROWSER 695351479: WebDriverException while executing command\n",
      "Traceback (most recent call last):\n",
      "  File \"/Users/sychuang/My Drive (sc2357@cornell.edu)/Curriculum/2022SP/CS 5436 Privacy in the Digital Age/HW1/OpenWPM/openwpm/browser_manager.py\", line 761, in run\n",
      "    command.execute(\n",
      "  File \"/Users/sychuang/My Drive (sc2357@cornell.edu)/Curriculum/2022SP/CS 5436 Privacy in the Digital Age/HW1/OpenWPM/openwpm/commands/browser_commands.py\", line 466, in execute\n",
      "    execute_in_all_frames(webdriver, collect_source, {\"rv\": page_source})\n",
      "  File \"/Users/sychuang/My Drive (sc2357@cornell.edu)/Curriculum/2022SP/CS 5436 Privacy in the Digital Age/HW1/OpenWPM/openwpm/commands/utils/webdriver_utils.py\", line 353, in execute_in_all_frames\n",
      "    driver.switch_to.default_content()\n",
      "  File \"/Users/sychuang/miniconda3/envs/openwpm/lib/python3.9/site-packages/selenium/webdriver/remote/switch_to.py\", line 65, in default_content\n",
      "    self._driver.execute(Command.SWITCH_TO_FRAME, {'id': None})\n",
      "  File \"/Users/sychuang/miniconda3/envs/openwpm/lib/python3.9/site-packages/selenium/webdriver/remote/webdriver.py\", line 321, in execute\n",
      "    self.error_handler.check_response(response)\n",
      "  File \"/Users/sychuang/miniconda3/envs/openwpm/lib/python3.9/site-packages/selenium/webdriver/remote/errorhandler.py\", line 242, in check_response\n",
      "    raise exception_class(message, screen, stacktrace)\n",
      "selenium.common.exceptions.WebDriverException: Message: Failed to decode response from marionette\n",
      "\n",
      "browser_manager      - INFO     - BROWSER 695351479: Received failure status while executing command: RecursiveDumpPageSourceCommand()\n",
      "browser_manager      - INFO     - Finished working on CommandSequence with visit_id 3276218237244105 on browser with id 695351479\n"
     ]
    },
    {
     "name": "stderr",
     "output_type": "stream",
     "text": [
      "Executing <Task pending name='Task-23618' coro=<StorageController._handler() running at /Users/sychuang/My Drive (sc2357@cornell.edu)/Curriculum/2022SP/CS 5436 Privacy in the Digital Age/HW1/OpenWPM/openwpm/storage/storage_controller.py:94> wait_for=<Future pending cb=[<TaskWakeupMethWrapper object at 0x10d95b190>()] created at /Users/sychuang/miniconda3/envs/openwpm/lib/python3.9/asyncio/base_events.py:424> created at /Users/sychuang/miniconda3/envs/openwpm/lib/python3.9/asyncio/streams.py:263> took 1.161 seconds\n",
      "Executing <Task finished name='Task-25628' coro=<SQLiteStorageProvider.store_record() done, defined at /Users/sychuang/My Drive (sc2357@cornell.edu)/Curriculum/2022SP/CS 5436 Privacy in the Digital Age/HW1/OpenWPM/openwpm/storage/sql_provider.py:48> result=None created at /Users/sychuang/miniconda3/envs/openwpm/lib/python3.9/asyncio/tasks.py:361> took 0.179 seconds\n"
     ]
    },
    {
     "name": "stdout",
     "output_type": "stream",
     "text": [
      "CommandSequence for http://www.boardgamegeek.com/game/2545 ran successfully\n"
     ]
    },
    {
     "name": "stderr",
     "output_type": "stream",
     "text": [
      "Executing <Task pending name='Task-18' coro=<StorageController._handler() running at /Users/sychuang/My Drive (sc2357@cornell.edu)/Curriculum/2022SP/CS 5436 Privacy in the Digital Age/HW1/OpenWPM/openwpm/storage/storage_controller.py:94> wait_for=<Future pending cb=[<TaskWakeupMethWrapper object at 0x10ed9a970>()] created at /Users/sychuang/miniconda3/envs/openwpm/lib/python3.9/asyncio/base_events.py:424> created at /Users/sychuang/miniconda3/envs/openwpm/lib/python3.9/asyncio/streams.py:263> took 0.350 seconds\n"
     ]
    },
    {
     "name": "stdout",
     "output_type": "stream",
     "text": [
      "browser_manager      - INFO     - BROWSER 402892290: EXECUTING COMMAND: RecursiveDumpPageSourceCommand()\n",
      "browser_manager      - INFO     - Finished working on CommandSequence with visit_id 7597883124465833 on browser with id 3797246577\n",
      "browser_manager      - INFO     - BROWSER 695351479: BrowserManager restart initiated. Clear profile? False\n"
     ]
    },
    {
     "name": "stderr",
     "output_type": "stream",
     "text": [
      "Executing <Task pending name='Task-2975' coro=<StorageController._handler() running at /Users/sychuang/My Drive (sc2357@cornell.edu)/Curriculum/2022SP/CS 5436 Privacy in the Digital Age/HW1/OpenWPM/openwpm/storage/storage_controller.py:94> wait_for=<Future pending cb=[<TaskWakeupMethWrapper object at 0x10bec2df0>()] created at /Users/sychuang/miniconda3/envs/openwpm/lib/python3.9/asyncio/base_events.py:424> created at /Users/sychuang/miniconda3/envs/openwpm/lib/python3.9/asyncio/streams.py:263> took 2.274 seconds\n"
     ]
    },
    {
     "name": "stdout",
     "output_type": "stream",
     "text": [
      "sql_provider         - WARNING  - Visit with visit_id 5141868303720913 got interrupted\n",
      "storage_controller   - INFO     - Awaiting all tasks for visit_id 3276218237244105\n",
      "storage_controller   - INFO     - Awaiting all tasks for visit_id 7597883124465833\n"
     ]
    },
    {
     "name": "stderr",
     "output_type": "stream",
     "text": [
      "Executing <Task pending name='Task-25434' coro=<StorageController._handler() running at /Users/sychuang/My Drive (sc2357@cornell.edu)/Curriculum/2022SP/CS 5436 Privacy in the Digital Age/HW1/OpenWPM/openwpm/storage/storage_controller.py:94> wait_for=<Task pending name='Task-26195' coro=<SQLiteStorageProvider.store_record() running at /Users/sychuang/My Drive (sc2357@cornell.edu)/Curriculum/2022SP/CS 5436 Privacy in the Digital Age/HW1/OpenWPM/openwpm/storage/sql_provider.py:48> cb=[<TaskWakeupMethWrapper object at 0x10c981670>()] created at /Users/sychuang/miniconda3/envs/openwpm/lib/python3.9/asyncio/tasks.py:361> created at /Users/sychuang/miniconda3/envs/openwpm/lib/python3.9/asyncio/streams.py:263> took 0.319 seconds\n"
     ]
    },
    {
     "name": "stdout",
     "output_type": "stream",
     "text": [
      "browser_manager      - INFO     - Starting to work on CommandSequence with visit_id 7409750651766206 on browser with id 3797246577\n",
      "browser_manager      - INFO     - BROWSER 3797246577: EXECUTING COMMAND: InitializeCommand()\n",
      "browser_manager      - INFO     - BROWSER 3797246577: EXECUTING COMMAND: GetCommand(http://abcnews.go.com/,1)\n"
     ]
    },
    {
     "name": "stderr",
     "output_type": "stream",
     "text": [
      "Executing <Task pending name='Task-2976' coro=<StorageController._handler() running at /Users/sychuang/My Drive (sc2357@cornell.edu)/Curriculum/2022SP/CS 5436 Privacy in the Digital Age/HW1/OpenWPM/openwpm/storage/storage_controller.py:94> wait_for=<Future pending cb=[<TaskWakeupMethWrapper object at 0x10cbe24f0>()] created at /Users/sychuang/miniconda3/envs/openwpm/lib/python3.9/asyncio/base_events.py:424> created at /Users/sychuang/miniconda3/envs/openwpm/lib/python3.9/asyncio/streams.py:263> took 0.264 seconds\n",
      "Executing <Task pending name='Task-12986' coro=<StorageController._handler() running at /Users/sychuang/My Drive (sc2357@cornell.edu)/Curriculum/2022SP/CS 5436 Privacy in the Digital Age/HW1/OpenWPM/openwpm/storage/storage_controller.py:94> wait_for=<Future pending cb=[<TaskWakeupMethWrapper object at 0x10c36e550>()] created at /Users/sychuang/miniconda3/envs/openwpm/lib/python3.9/asyncio/base_events.py:424> created at /Users/sychuang/miniconda3/envs/openwpm/lib/python3.9/asyncio/streams.py:263> took 0.758 seconds\n"
     ]
    },
    {
     "name": "stdout",
     "output_type": "stream",
     "text": [
      "browser_manager      - INFO     - BROWSER 695351479: Launching browser...\n"
     ]
    },
    {
     "name": "stderr",
     "output_type": "stream",
     "text": [
      "Executing <Task pending name='Task-23618' coro=<StorageController._handler() running at /Users/sychuang/My Drive (sc2357@cornell.edu)/Curriculum/2022SP/CS 5436 Privacy in the Digital Age/HW1/OpenWPM/openwpm/storage/storage_controller.py:94> wait_for=<Future pending cb=[<TaskWakeupMethWrapper object at 0x10c283b20>()] created at /Users/sychuang/miniconda3/envs/openwpm/lib/python3.9/asyncio/base_events.py:424> created at /Users/sychuang/miniconda3/envs/openwpm/lib/python3.9/asyncio/streams.py:263> took 0.992 seconds\n"
     ]
    },
    {
     "name": "stdout",
     "output_type": "stream",
     "text": [
      "storage_controller   - INFO     - Terminating handler, because the underlying socket closed\n"
     ]
    },
    {
     "name": "stderr",
     "output_type": "stream",
     "text": [
      "Executing <Task pending name='Task-18' coro=<StorageController._handler() running at /Users/sychuang/My Drive (sc2357@cornell.edu)/Curriculum/2022SP/CS 5436 Privacy in the Digital Age/HW1/OpenWPM/openwpm/storage/storage_controller.py:94> wait_for=<Future pending cb=[<TaskWakeupMethWrapper object at 0x10c36e400>()] created at /Users/sychuang/miniconda3/envs/openwpm/lib/python3.9/asyncio/base_events.py:424> created at /Users/sychuang/miniconda3/envs/openwpm/lib/python3.9/asyncio/streams.py:263> took 0.826 seconds\n"
     ]
    },
    {
     "name": "stdout",
     "output_type": "stream",
     "text": [
      "browser_manager      - INFO     - BROWSER 2433889453: EXECUTING COMMAND: RecursiveDumpPageSourceCommand()\n"
     ]
    },
    {
     "name": "stderr",
     "output_type": "stream",
     "text": [
      "Executing <Task pending name='Task-2975' coro=<StorageController._handler() running at /Users/sychuang/My Drive (sc2357@cornell.edu)/Curriculum/2022SP/CS 5436 Privacy in the Digital Age/HW1/OpenWPM/openwpm/storage/storage_controller.py:94> wait_for=<Future pending cb=[<TaskWakeupMethWrapper object at 0x10c2834f0>()] created at /Users/sychuang/miniconda3/envs/openwpm/lib/python3.9/asyncio/base_events.py:424> created at /Users/sychuang/miniconda3/envs/openwpm/lib/python3.9/asyncio/streams.py:263> took 1.778 seconds\n"
     ]
    },
    {
     "name": "stdout",
     "output_type": "stream",
     "text": [
      "sql_provider         - WARNING  - Visit with visit_id 3276218237244105 got interrupted\n"
     ]
    },
    {
     "name": "stderr",
     "output_type": "stream",
     "text": [
      "Executing <Task pending name='Task-10' coro=<StorageController._handler() running at /Users/sychuang/My Drive (sc2357@cornell.edu)/Curriculum/2022SP/CS 5436 Privacy in the Digital Age/HW1/OpenWPM/openwpm/storage/storage_controller.py:94> wait_for=<Future pending cb=[<TaskWakeupMethWrapper object at 0x10c283550>()] created at /Users/sychuang/miniconda3/envs/openwpm/lib/python3.9/asyncio/base_events.py:424> created at /Users/sychuang/miniconda3/envs/openwpm/lib/python3.9/asyncio/streams.py:263> took 0.288 seconds\n",
      "Executing <Task finished name='Task-26863' coro=<SQLiteStorageProvider.store_record() done, defined at /Users/sychuang/My Drive (sc2357@cornell.edu)/Curriculum/2022SP/CS 5436 Privacy in the Digital Age/HW1/OpenWPM/openwpm/storage/sql_provider.py:48> result=None created at /Users/sychuang/miniconda3/envs/openwpm/lib/python3.9/asyncio/tasks.py:361> took 0.114 seconds\n",
      "Executing <Task pending name='Task-12986' coro=<StorageController._handler() running at /Users/sychuang/My Drive (sc2357@cornell.edu)/Curriculum/2022SP/CS 5436 Privacy in the Digital Age/HW1/OpenWPM/openwpm/storage/storage_controller.py:94> wait_for=<Future pending cb=[<TaskWakeupMethWrapper object at 0x10cbe2cd0>()] created at /Users/sychuang/miniconda3/envs/openwpm/lib/python3.9/asyncio/base_events.py:424> created at /Users/sychuang/miniconda3/envs/openwpm/lib/python3.9/asyncio/streams.py:263> took 0.922 seconds\n",
      "Executing <Task pending name='Task-23618' coro=<StorageController._handler() running at /Users/sychuang/My Drive (sc2357@cornell.edu)/Curriculum/2022SP/CS 5436 Privacy in the Digital Age/HW1/OpenWPM/openwpm/storage/storage_controller.py:94> wait_for=<Future pending cb=[<TaskWakeupMethWrapper object at 0x10ed9af70>()] created at /Users/sychuang/miniconda3/envs/openwpm/lib/python3.9/asyncio/base_events.py:424> created at /Users/sychuang/miniconda3/envs/openwpm/lib/python3.9/asyncio/streams.py:263> took 0.428 seconds\n",
      "Executing <Task pending name='StatusQueue' coro=<StorageController.update_status_queue() running at /Users/sychuang/My Drive (sc2357@cornell.edu)/Curriculum/2022SP/CS 5436 Privacy in the Digital Age/HW1/OpenWPM/openwpm/storage/storage_controller.py:233> wait_for=<Future pending cb=[<TaskWakeupMethWrapper object at 0x10ed9af40>()] created at /Users/sychuang/miniconda3/envs/openwpm/lib/python3.9/asyncio/base_events.py:424> created at /Users/sychuang/miniconda3/envs/openwpm/lib/python3.9/asyncio/tasks.py:361> took 0.143 seconds\n",
      "Executing <Task pending name='Task-18' coro=<StorageController._handler() running at /Users/sychuang/My Drive (sc2357@cornell.edu)/Curriculum/2022SP/CS 5436 Privacy in the Digital Age/HW1/OpenWPM/openwpm/storage/storage_controller.py:94> wait_for=<Future pending cb=[<TaskWakeupMethWrapper object at 0x10c981730>()] created at /Users/sychuang/miniconda3/envs/openwpm/lib/python3.9/asyncio/base_events.py:424> created at /Users/sychuang/miniconda3/envs/openwpm/lib/python3.9/asyncio/streams.py:263> took 0.277 seconds\n"
     ]
    },
    {
     "name": "stdout",
     "output_type": "stream",
     "text": [
      "CommandSequence for http://www.accountants.org.sg/ ran unsuccessfully\n",
      "CommandSequence for http://www.cbsnews.com/ ran unsuccessfully\n"
     ]
    },
    {
     "name": "stderr",
     "output_type": "stream",
     "text": [
      "Executing <Task pending name='Task-2975' coro=<StorageController._handler() running at /Users/sychuang/My Drive (sc2357@cornell.edu)/Curriculum/2022SP/CS 5436 Privacy in the Digital Age/HW1/OpenWPM/openwpm/storage/storage_controller.py:94> wait_for=<Future pending cb=[<TaskWakeupMethWrapper object at 0x10c7fb6d0>()] created at /Users/sychuang/miniconda3/envs/openwpm/lib/python3.9/asyncio/base_events.py:424> created at /Users/sychuang/miniconda3/envs/openwpm/lib/python3.9/asyncio/streams.py:263> took 3.242 seconds\n",
      "Executing <Task pending name='Task-25434' coro=<StorageController._handler() running at /Users/sychuang/My Drive (sc2357@cornell.edu)/Curriculum/2022SP/CS 5436 Privacy in the Digital Age/HW1/OpenWPM/openwpm/storage/storage_controller.py:94> wait_for=<Future pending cb=[<TaskWakeupMethWrapper object at 0x10d95b370>()] created at /Users/sychuang/miniconda3/envs/openwpm/lib/python3.9/asyncio/base_events.py:424> created at /Users/sychuang/miniconda3/envs/openwpm/lib/python3.9/asyncio/streams.py:263> took 1.526 seconds\n",
      "Executing <Task pending name='Task-18' coro=<StorageController._handler() running at /Users/sychuang/My Drive (sc2357@cornell.edu)/Curriculum/2022SP/CS 5436 Privacy in the Digital Age/HW1/OpenWPM/openwpm/storage/storage_controller.py:94> wait_for=<Future pending cb=[<TaskWakeupMethWrapper object at 0x10c36ecd0>()] created at /Users/sychuang/miniconda3/envs/openwpm/lib/python3.9/asyncio/base_events.py:424> created at /Users/sychuang/miniconda3/envs/openwpm/lib/python3.9/asyncio/streams.py:263> took 0.216 seconds\n",
      "Executing <Task pending name='Task-12986' coro=<StorageController._handler() running at /Users/sychuang/My Drive (sc2357@cornell.edu)/Curriculum/2022SP/CS 5436 Privacy in the Digital Age/HW1/OpenWPM/openwpm/storage/storage_controller.py:94> wait_for=<Future pending cb=[<TaskWakeupMethWrapper object at 0x10c36e3a0>()] created at /Users/sychuang/miniconda3/envs/openwpm/lib/python3.9/asyncio/base_events.py:424> created at /Users/sychuang/miniconda3/envs/openwpm/lib/python3.9/asyncio/streams.py:263> took 0.209 seconds\n",
      "Executing <Task pending name='Task-23618' coro=<StorageController._handler() running at /Users/sychuang/My Drive (sc2357@cornell.edu)/Curriculum/2022SP/CS 5436 Privacy in the Digital Age/HW1/OpenWPM/openwpm/storage/storage_controller.py:94> wait_for=<Future pending cb=[<TaskWakeupMethWrapper object at 0x10c981a60>()] created at /Users/sychuang/miniconda3/envs/openwpm/lib/python3.9/asyncio/base_events.py:424> created at /Users/sychuang/miniconda3/envs/openwpm/lib/python3.9/asyncio/streams.py:263> took 0.896 seconds\n",
      "Executing <Task finished name='Task-27718' coro=<SQLiteStorageProvider.store_record() done, defined at /Users/sychuang/My Drive (sc2357@cornell.edu)/Curriculum/2022SP/CS 5436 Privacy in the Digital Age/HW1/OpenWPM/openwpm/storage/sql_provider.py:48> result=None created at /Users/sychuang/miniconda3/envs/openwpm/lib/python3.9/asyncio/tasks.py:361> took 0.144 seconds\n"
     ]
    },
    {
     "name": "stdout",
     "output_type": "stream",
     "text": [
      "browser_manager      - INFO     - BROWSER 3380372220: EXECUTING COMMAND: RecursiveDumpPageSourceCommand()\n",
      "browser_manager      - INFO     - BROWSER 3797246577: EXECUTING COMMAND: RecursiveDumpPageSourceCommand()\n",
      "browser_manager      - INFO     - Starting to work on CommandSequence with visit_id 5643547856815088 on browser with id 695351479\n",
      "browser_manager      - INFO     - BROWSER 695351479: EXECUTING COMMAND: InitializeCommand()\n",
      "browser_manager      - INFO     - BROWSER 695351479: EXECUTING COMMAND: GetCommand(http://english.aljazeera.net/,1)\n"
     ]
    },
    {
     "name": "stderr",
     "output_type": "stream",
     "text": [
      "Executing <Task pending name='Task-2975' coro=<StorageController._handler() running at /Users/sychuang/My Drive (sc2357@cornell.edu)/Curriculum/2022SP/CS 5436 Privacy in the Digital Age/HW1/OpenWPM/openwpm/storage/storage_controller.py:94> wait_for=<Future pending cb=[<TaskWakeupMethWrapper object at 0x10c283100>()] created at /Users/sychuang/miniconda3/envs/openwpm/lib/python3.9/asyncio/base_events.py:424> created at /Users/sychuang/miniconda3/envs/openwpm/lib/python3.9/asyncio/streams.py:263> took 1.353 seconds\n",
      "Executing <Task finished name='Task-28087' coro=<SQLiteStorageProvider.store_record() done, defined at /Users/sychuang/My Drive (sc2357@cornell.edu)/Curriculum/2022SP/CS 5436 Privacy in the Digital Age/HW1/OpenWPM/openwpm/storage/sql_provider.py:48> result=None created at /Users/sychuang/miniconda3/envs/openwpm/lib/python3.9/asyncio/tasks.py:361> took 0.475 seconds\n",
      "Executing <Task pending name='Task-25434' coro=<StorageController._handler() running at /Users/sychuang/My Drive (sc2357@cornell.edu)/Curriculum/2022SP/CS 5436 Privacy in the Digital Age/HW1/OpenWPM/openwpm/storage/storage_controller.py:94> wait_for=<Future pending cb=[<TaskWakeupMethWrapper object at 0x10cbe2340>()] created at /Users/sychuang/miniconda3/envs/openwpm/lib/python3.9/asyncio/base_events.py:424> created at /Users/sychuang/miniconda3/envs/openwpm/lib/python3.9/asyncio/streams.py:263> took 1.269 seconds\n",
      "Executing <Task pending name='Task-12986' coro=<StorageController._handler() running at /Users/sychuang/My Drive (sc2357@cornell.edu)/Curriculum/2022SP/CS 5436 Privacy in the Digital Age/HW1/OpenWPM/openwpm/storage/storage_controller.py:94> wait_for=<Future pending cb=[<TaskWakeupMethWrapper object at 0x10c283e20>()] created at /Users/sychuang/miniconda3/envs/openwpm/lib/python3.9/asyncio/base_events.py:424> created at /Users/sychuang/miniconda3/envs/openwpm/lib/python3.9/asyncio/streams.py:263> took 0.547 seconds\n",
      "Executing <Task pending name='Task-23618' coro=<StorageController._handler() running at /Users/sychuang/My Drive (sc2357@cornell.edu)/Curriculum/2022SP/CS 5436 Privacy in the Digital Age/HW1/OpenWPM/openwpm/storage/storage_controller.py:94> wait_for=<Future pending cb=[<TaskWakeupMethWrapper object at 0x10c981bb0>()] created at /Users/sychuang/miniconda3/envs/openwpm/lib/python3.9/asyncio/base_events.py:424> created at /Users/sychuang/miniconda3/envs/openwpm/lib/python3.9/asyncio/streams.py:263> took 1.323 seconds\n"
     ]
    },
    {
     "name": "stdout",
     "output_type": "stream",
     "text": [
      "browser_manager      - ERROR    - BROWSER 208166444: WebDriverException while executing command\n",
      "Traceback (most recent call last):\n",
      "  File \"/Users/sychuang/My Drive (sc2357@cornell.edu)/Curriculum/2022SP/CS 5436 Privacy in the Digital Age/HW1/OpenWPM/openwpm/browser_manager.py\", line 761, in run\n",
      "    command.execute(\n",
      "  File \"/Users/sychuang/My Drive (sc2357@cornell.edu)/Curriculum/2022SP/CS 5436 Privacy in the Digital Age/HW1/OpenWPM/openwpm/commands/browser_commands.py\", line 142, in execute\n",
      "    webdriver.get(self.url)\n",
      "  File \"/Users/sychuang/miniconda3/envs/openwpm/lib/python3.9/site-packages/selenium/webdriver/remote/webdriver.py\", line 333, in get\n",
      "    self.execute(Command.GET, {'url': url})\n",
      "  File \"/Users/sychuang/miniconda3/envs/openwpm/lib/python3.9/site-packages/selenium/webdriver/remote/webdriver.py\", line 321, in execute\n",
      "    self.error_handler.check_response(response)\n",
      "  File \"/Users/sychuang/miniconda3/envs/openwpm/lib/python3.9/site-packages/selenium/webdriver/remote/errorhandler.py\", line 242, in check_response\n",
      "    raise exception_class(message, screen, stacktrace)\n",
      "selenium.common.exceptions.WebDriverException: Message: Failed to decode response from marionette\n",
      "\n",
      "browser_manager      - INFO     - BROWSER 208166444: Received failure status while executing command: GetCommand(http://www.guardian.co.uk/,1)\n",
      "browser_manager      - INFO     - Finished working on CommandSequence with visit_id 6409593993770003 on browser with id 208166444\n"
     ]
    },
    {
     "name": "stderr",
     "output_type": "stream",
     "text": [
      "Executing <Task pending name='Task-28611' coro=<BaseSelectorEventLoop._accept_connection2() running at /Users/sychuang/miniconda3/envs/openwpm/lib/python3.9/asyncio/selector_events.py:218> wait_for=<Future pending cb=[<TaskWakeupMethWrapper object at 0x10c7fb460>()] created at /Users/sychuang/miniconda3/envs/openwpm/lib/python3.9/asyncio/base_events.py:424> created at /Users/sychuang/miniconda3/envs/openwpm/lib/python3.9/asyncio/selector_events.py:196> took 0.254 seconds\n",
      "Executing <Task pending name='Task-18' coro=<StorageController._handler() running at /Users/sychuang/My Drive (sc2357@cornell.edu)/Curriculum/2022SP/CS 5436 Privacy in the Digital Age/HW1/OpenWPM/openwpm/storage/storage_controller.py:94> wait_for=<Future pending cb=[<TaskWakeupMethWrapper object at 0x10c7fb430>()] created at /Users/sychuang/miniconda3/envs/openwpm/lib/python3.9/asyncio/base_events.py:424> created at /Users/sychuang/miniconda3/envs/openwpm/lib/python3.9/asyncio/streams.py:263> took 0.318 seconds\n"
     ]
    },
    {
     "name": "stdout",
     "output_type": "stream",
     "text": [
      "CommandSequence for http://www.newsinpictures.com/ ran successfully\n",
      "browser_manager      - INFO     - BROWSER 3294789765: Launching browser...\n"
     ]
    },
    {
     "name": "stderr",
     "output_type": "stream",
     "text": [
      "Executing <Task pending name='Task-25434' coro=<StorageController._handler() running at /Users/sychuang/My Drive (sc2357@cornell.edu)/Curriculum/2022SP/CS 5436 Privacy in the Digital Age/HW1/OpenWPM/openwpm/storage/storage_controller.py:94> wait_for=<Future pending cb=[<TaskWakeupMethWrapper object at 0x10cbe26a0>()] created at /Users/sychuang/miniconda3/envs/openwpm/lib/python3.9/asyncio/base_events.py:424> created at /Users/sychuang/miniconda3/envs/openwpm/lib/python3.9/asyncio/streams.py:263> took 1.053 seconds\n"
     ]
    },
    {
     "name": "stdout",
     "output_type": "stream",
     "text": [
      "browser_manager      - INFO     - BROWSER 208166444: BrowserManager restart initiated. Clear profile? False\n"
     ]
    },
    {
     "name": "stderr",
     "output_type": "stream",
     "text": [
      "Executing <Task pending name='Task-12986' coro=<StorageController._handler() running at /Users/sychuang/My Drive (sc2357@cornell.edu)/Curriculum/2022SP/CS 5436 Privacy in the Digital Age/HW1/OpenWPM/openwpm/storage/storage_controller.py:94> wait_for=<Future pending cb=[<TaskWakeupMethWrapper object at 0x10beb9c40>()] created at /Users/sychuang/miniconda3/envs/openwpm/lib/python3.9/asyncio/base_events.py:424> created at /Users/sychuang/miniconda3/envs/openwpm/lib/python3.9/asyncio/streams.py:263> took 1.664 seconds\n",
      "Executing <Task pending name='Task-23618' coro=<StorageController._handler() running at /Users/sychuang/My Drive (sc2357@cornell.edu)/Curriculum/2022SP/CS 5436 Privacy in the Digital Age/HW1/OpenWPM/openwpm/storage/storage_controller.py:94> wait_for=<Future pending cb=[<TaskWakeupMethWrapper object at 0x10c202760>()] created at /Users/sychuang/miniconda3/envs/openwpm/lib/python3.9/asyncio/base_events.py:424> created at /Users/sychuang/miniconda3/envs/openwpm/lib/python3.9/asyncio/streams.py:263> took 1.759 seconds\n"
     ]
    },
    {
     "name": "stdout",
     "output_type": "stream",
     "text": [
      "browser_manager      - INFO     - BROWSER 208166444: Launching browser...\n"
     ]
    },
    {
     "name": "stderr",
     "output_type": "stream",
     "text": [
      "Executing <Task finished name='Task-28866' coro=<SQLiteStorageProvider.store_record() done, defined at /Users/sychuang/My Drive (sc2357@cornell.edu)/Curriculum/2022SP/CS 5436 Privacy in the Digital Age/HW1/OpenWPM/openwpm/storage/sql_provider.py:48> result=None created at /Users/sychuang/miniconda3/envs/openwpm/lib/python3.9/asyncio/tasks.py:361> took 0.195 seconds\n",
      "Executing <Task finished name='Task-29209' coro=<SQLiteStorageProvider.store_record() done, defined at /Users/sychuang/My Drive (sc2357@cornell.edu)/Curriculum/2022SP/CS 5436 Privacy in the Digital Age/HW1/OpenWPM/openwpm/storage/sql_provider.py:48> result=None created at /Users/sychuang/miniconda3/envs/openwpm/lib/python3.9/asyncio/tasks.py:361> took 0.185 seconds\n"
     ]
    },
    {
     "name": "stdout",
     "output_type": "stream",
     "text": [
      "storage_controller   - INFO     - Terminating handler, because the underlying socket closed\n",
      "storage_controller   - INFO     - Awaiting all tasks for visit_id 6409593993770003\n"
     ]
    },
    {
     "name": "stderr",
     "output_type": "stream",
     "text": [
      "Executing <Task pending name='Task-2975' coro=<StorageController._handler() running at /Users/sychuang/My Drive (sc2357@cornell.edu)/Curriculum/2022SP/CS 5436 Privacy in the Digital Age/HW1/OpenWPM/openwpm/storage/storage_controller.py:94> wait_for=<Future pending cb=[<TaskWakeupMethWrapper object at 0x10ed9a970>()] created at /Users/sychuang/miniconda3/envs/openwpm/lib/python3.9/asyncio/base_events.py:424> created at /Users/sychuang/miniconda3/envs/openwpm/lib/python3.9/asyncio/streams.py:263> took 0.392 seconds\n",
      "Executing <Task pending name='Task-28692' coro=<StorageController._handler() running at /Users/sychuang/My Drive (sc2357@cornell.edu)/Curriculum/2022SP/CS 5436 Privacy in the Digital Age/HW1/OpenWPM/openwpm/storage/storage_controller.py:94> wait_for=<Future pending cb=[<TaskWakeupMethWrapper object at 0x10c36e6d0>()] created at /Users/sychuang/miniconda3/envs/openwpm/lib/python3.9/asyncio/base_events.py:424> created at /Users/sychuang/miniconda3/envs/openwpm/lib/python3.9/asyncio/streams.py:263> took 1.788 seconds\n"
     ]
    },
    {
     "name": "stdout",
     "output_type": "stream",
     "text": [
      "browser_manager      - INFO     - BROWSER 402892290: Timeout while executing command, RecursiveDumpPageSourceCommand(), killing browser manager\n",
      "browser_manager      - INFO     - Finished working on CommandSequence with visit_id 2380183410400907 on browser with id 402892290\n"
     ]
    },
    {
     "name": "stderr",
     "output_type": "stream",
     "text": [
      "Executing <Task pending name='Task-25434' coro=<StorageController._handler() running at /Users/sychuang/My Drive (sc2357@cornell.edu)/Curriculum/2022SP/CS 5436 Privacy in the Digital Age/HW1/OpenWPM/openwpm/storage/storage_controller.py:94> wait_for=<Future pending cb=[<TaskWakeupMethWrapper object at 0x10c283a30>()] created at /Users/sychuang/miniconda3/envs/openwpm/lib/python3.9/asyncio/base_events.py:424> created at /Users/sychuang/miniconda3/envs/openwpm/lib/python3.9/asyncio/streams.py:263> took 1.222 seconds\n"
     ]
    },
    {
     "name": "stdout",
     "output_type": "stream",
     "text": [
      "browser_manager      - INFO     - BROWSER 402892290: BrowserManager restart initiated. Clear profile? False\n"
     ]
    },
    {
     "name": "stderr",
     "output_type": "stream",
     "text": [
      "Executing <Task pending name='Task-18' coro=<StorageController._handler() running at /Users/sychuang/My Drive (sc2357@cornell.edu)/Curriculum/2022SP/CS 5436 Privacy in the Digital Age/HW1/OpenWPM/openwpm/storage/storage_controller.py:94> wait_for=<Future pending cb=[<TaskWakeupMethWrapper object at 0x10da1d580>()] created at /Users/sychuang/miniconda3/envs/openwpm/lib/python3.9/asyncio/base_events.py:424> created at /Users/sychuang/miniconda3/envs/openwpm/lib/python3.9/asyncio/streams.py:263> took 1.524 seconds\n",
      "Executing <Task pending name='Task-12986' coro=<StorageController._handler() running at /Users/sychuang/My Drive (sc2357@cornell.edu)/Curriculum/2022SP/CS 5436 Privacy in the Digital Age/HW1/OpenWPM/openwpm/storage/storage_controller.py:94> wait_for=<Future pending cb=[<TaskWakeupMethWrapper object at 0x10de9a5b0>()] created at /Users/sychuang/miniconda3/envs/openwpm/lib/python3.9/asyncio/base_events.py:424> created at /Users/sychuang/miniconda3/envs/openwpm/lib/python3.9/asyncio/streams.py:263> took 0.833 seconds\n",
      "Executing <Task pending name='Task-23618' coro=<StorageController._handler() running at /Users/sychuang/My Drive (sc2357@cornell.edu)/Curriculum/2022SP/CS 5436 Privacy in the Digital Age/HW1/OpenWPM/openwpm/storage/storage_controller.py:94> wait_for=<Future pending cb=[<TaskWakeupMethWrapper object at 0x1100342e0>()] created at /Users/sychuang/miniconda3/envs/openwpm/lib/python3.9/asyncio/base_events.py:424> created at /Users/sychuang/miniconda3/envs/openwpm/lib/python3.9/asyncio/streams.py:263> took 0.507 seconds\n"
     ]
    },
    {
     "name": "stdout",
     "output_type": "stream",
     "text": [
      "sql_provider         - WARNING  - Visit with visit_id 6409593993770003 got interrupted\n"
     ]
    },
    {
     "name": "stderr",
     "output_type": "stream",
     "text": [
      "Executing <Task pending name='Task-10' coro=<StorageController._handler() running at /Users/sychuang/My Drive (sc2357@cornell.edu)/Curriculum/2022SP/CS 5436 Privacy in the Digital Age/HW1/OpenWPM/openwpm/storage/storage_controller.py:94> wait_for=<Future pending cb=[<TaskWakeupMethWrapper object at 0x10ed9afd0>()] created at /Users/sychuang/miniconda3/envs/openwpm/lib/python3.9/asyncio/base_events.py:424> created at /Users/sychuang/miniconda3/envs/openwpm/lib/python3.9/asyncio/streams.py:263> took 0.309 seconds\n",
      "Executing <Task finished name='Task-29866' coro=<SQLiteStorageProvider.store_record() done, defined at /Users/sychuang/My Drive (sc2357@cornell.edu)/Curriculum/2022SP/CS 5436 Privacy in the Digital Age/HW1/OpenWPM/openwpm/storage/sql_provider.py:48> result=None created at /Users/sychuang/miniconda3/envs/openwpm/lib/python3.9/asyncio/tasks.py:361> took 0.371 seconds\n",
      "Executing <Task pending name='Task-2975' coro=<StorageController._handler() running at /Users/sychuang/My Drive (sc2357@cornell.edu)/Curriculum/2022SP/CS 5436 Privacy in the Digital Age/HW1/OpenWPM/openwpm/storage/storage_controller.py:94> wait_for=<Future pending cb=[<TaskWakeupMethWrapper object at 0x10da1dc70>()] created at /Users/sychuang/miniconda3/envs/openwpm/lib/python3.9/asyncio/base_events.py:424> created at /Users/sychuang/miniconda3/envs/openwpm/lib/python3.9/asyncio/streams.py:263> took 0.626 seconds\n"
     ]
    },
    {
     "name": "stdout",
     "output_type": "stream",
     "text": [
      "browser_manager      - INFO     - Starting to work on CommandSequence with visit_id 5578129004891164 on browser with id 3294789765\n",
      "browser_manager      - INFO     - BROWSER 3294789765: EXECUTING COMMAND: InitializeCommand()\n",
      "browser_manager      - INFO     - BROWSER 3294789765: EXECUTING COMMAND: GetCommand(http://www.cnn.com/,1)\n",
      "browser_manager      - INFO     - BROWSER 2433889453: Timeout while executing command, RecursiveDumpPageSourceCommand(), killing browser manager\n",
      "browser_manager      - INFO     - Finished working on CommandSequence with visit_id 7064008843707401 on browser with id 2433889453\n"
     ]
    },
    {
     "name": "stderr",
     "output_type": "stream",
     "text": [
      "Executing <Task pending name='Task-28692' coro=<StorageController._handler() running at /Users/sychuang/My Drive (sc2357@cornell.edu)/Curriculum/2022SP/CS 5436 Privacy in the Digital Age/HW1/OpenWPM/openwpm/storage/storage_controller.py:94> wait_for=<Future pending cb=[<TaskWakeupMethWrapper object at 0x10c7fbbe0>()] created at /Users/sychuang/miniconda3/envs/openwpm/lib/python3.9/asyncio/base_events.py:424> created at /Users/sychuang/miniconda3/envs/openwpm/lib/python3.9/asyncio/streams.py:263> took 1.420 seconds\n"
     ]
    },
    {
     "name": "stdout",
     "output_type": "stream",
     "text": [
      "storage_controller   - INFO     - Awaiting all tasks for visit_id 2380183410400907\n",
      "browser_manager      - INFO     - BROWSER 3889681542: Timeout while executing command, GetCommand(http://www.foxnews.com/,1), killing browser manager\n",
      "browser_manager      - INFO     - Finished working on CommandSequence with visit_id 1331711164210780 on browser with id 3889681542\n"
     ]
    },
    {
     "name": "stderr",
     "output_type": "stream",
     "text": [
      "Executing <Task pending name='Task-25434' coro=<StorageController._handler() running at /Users/sychuang/My Drive (sc2357@cornell.edu)/Curriculum/2022SP/CS 5436 Privacy in the Digital Age/HW1/OpenWPM/openwpm/storage/storage_controller.py:94> wait_for=<Future pending cb=[<TaskWakeupMethWrapper object at 0x10c7fb790>()] created at /Users/sychuang/miniconda3/envs/openwpm/lib/python3.9/asyncio/base_events.py:424> created at /Users/sychuang/miniconda3/envs/openwpm/lib/python3.9/asyncio/streams.py:263> took 0.359 seconds\n"
     ]
    },
    {
     "name": "stdout",
     "output_type": "stream",
     "text": [
      "browser_manager      - INFO     - BROWSER 2433889453: BrowserManager restart initiated. Clear profile? False\n",
      "browser_manager      - INFO     - BROWSER 3889681542: BrowserManager restart initiated. Clear profile? False\n",
      "browser_manager      - INFO     - Starting to work on CommandSequence with visit_id 593527618628639 on browser with id 208166444\n",
      "browser_manager      - INFO     - BROWSER 208166444: EXECUTING COMMAND: InitializeCommand()\n",
      "browser_manager      - INFO     - BROWSER 208166444: EXECUTING COMMAND: GetCommand(http://www.bassboy.com.au/getreel/,1)\n"
     ]
    },
    {
     "name": "stderr",
     "output_type": "stream",
     "text": [
      "Executing <Task pending name='Task-18' coro=<StorageController._handler() running at /Users/sychuang/My Drive (sc2357@cornell.edu)/Curriculum/2022SP/CS 5436 Privacy in the Digital Age/HW1/OpenWPM/openwpm/storage/storage_controller.py:94> wait_for=<Future pending cb=[<TaskWakeupMethWrapper object at 0x10c064c10>()] created at /Users/sychuang/miniconda3/envs/openwpm/lib/python3.9/asyncio/base_events.py:424> created at /Users/sychuang/miniconda3/envs/openwpm/lib/python3.9/asyncio/streams.py:263> took 4.422 seconds\n",
      "Executing <Task pending name='Task-23618' coro=<StorageController._handler() running at /Users/sychuang/My Drive (sc2357@cornell.edu)/Curriculum/2022SP/CS 5436 Privacy in the Digital Age/HW1/OpenWPM/openwpm/storage/storage_controller.py:94> wait_for=<Future pending cb=[<TaskWakeupMethWrapper object at 0x10ed9a760>()] created at /Users/sychuang/miniconda3/envs/openwpm/lib/python3.9/asyncio/base_events.py:424> created at /Users/sychuang/miniconda3/envs/openwpm/lib/python3.9/asyncio/streams.py:263> took 0.962 seconds\n",
      "Executing <Task finished name='Task-30907' coro=<SQLiteStorageProvider.store_record() done, defined at /Users/sychuang/My Drive (sc2357@cornell.edu)/Curriculum/2022SP/CS 5436 Privacy in the Digital Age/HW1/OpenWPM/openwpm/storage/sql_provider.py:48> result=None created at /Users/sychuang/miniconda3/envs/openwpm/lib/python3.9/asyncio/tasks.py:361> took 0.148 seconds\n"
     ]
    },
    {
     "name": "stdout",
     "output_type": "stream",
     "text": [
      "browser_manager      - ERROR    - BROWSER 3797246577: WebDriverException while executing command\n",
      "Traceback (most recent call last):\n",
      "  File \"/Users/sychuang/My Drive (sc2357@cornell.edu)/Curriculum/2022SP/CS 5436 Privacy in the Digital Age/HW1/OpenWPM/openwpm/browser_manager.py\", line 761, in run\n",
      "    command.execute(\n",
      "  File \"/Users/sychuang/My Drive (sc2357@cornell.edu)/Curriculum/2022SP/CS 5436 Privacy in the Digital Age/HW1/OpenWPM/openwpm/commands/browser_commands.py\", line 466, in execute\n",
      "    execute_in_all_frames(webdriver, collect_source, {\"rv\": page_source})\n",
      "  File \"/Users/sychuang/My Drive (sc2357@cornell.edu)/Curriculum/2022SP/CS 5436 Privacy in the Digital Age/HW1/OpenWPM/openwpm/commands/utils/webdriver_utils.py\", line 382, in execute_in_all_frames\n",
      "    execute_in_all_frames(driver, func, kwargs, frame_stack, max_depth)\n",
      "  File \"/Users/sychuang/My Drive (sc2357@cornell.edu)/Curriculum/2022SP/CS 5436 Privacy in the Digital Age/HW1/OpenWPM/openwpm/commands/utils/webdriver_utils.py\", line 360, in execute_in_all_frames\n",
      "    func(driver, frame_stack, **kwargs)\n",
      "  File \"/Users/sychuang/My Drive (sc2357@cornell.edu)/Curriculum/2022SP/CS 5436 Privacy in the Digital Age/HW1/OpenWPM/openwpm/commands/browser_commands.py\", line 445, in collect_source\n",
      "    doc_url = webdriver.execute_script(\"return window.document.URL;\")\n",
      "  File \"/Users/sychuang/miniconda3/envs/openwpm/lib/python3.9/site-packages/selenium/webdriver/remote/webdriver.py\", line 634, in execute_script\n",
      "    return self.execute(command, {\n",
      "  File \"/Users/sychuang/miniconda3/envs/openwpm/lib/python3.9/site-packages/selenium/webdriver/remote/webdriver.py\", line 321, in execute\n",
      "    self.error_handler.check_response(response)\n",
      "  File \"/Users/sychuang/miniconda3/envs/openwpm/lib/python3.9/site-packages/selenium/webdriver/remote/errorhandler.py\", line 242, in check_response\n",
      "    raise exception_class(message, screen, stacktrace)\n",
      "selenium.common.exceptions.WebDriverException: Message: Failed to decode response from marionette\n",
      "\n",
      "browser_manager      - INFO     - BROWSER 3797246577: Received failure status while executing command: RecursiveDumpPageSourceCommand()\n",
      "browser_manager      - INFO     - Finished working on CommandSequence with visit_id 7409750651766206 on browser with id 3797246577\n",
      "browser_manager      - INFO     - BROWSER 3380372220: EXECUTING COMMAND: FinalizeCommand(5)\n",
      "sql_provider         - WARNING  - Visit with visit_id 2380183410400907 got interrupted\n",
      "storage_controller   - INFO     - Awaiting all tasks for visit_id 7064008843707401\n",
      "storage_controller   - INFO     - Terminating handler, because the underlying socket closed\n"
     ]
    },
    {
     "name": "stderr",
     "output_type": "stream",
     "text": [
      "Executing <Task pending name='Task-28692' coro=<StorageController._handler() running at /Users/sychuang/My Drive (sc2357@cornell.edu)/Curriculum/2022SP/CS 5436 Privacy in the Digital Age/HW1/OpenWPM/openwpm/storage/storage_controller.py:94> wait_for=<Future pending cb=[<TaskWakeupMethWrapper object at 0x10beb9d90>()] created at /Users/sychuang/miniconda3/envs/openwpm/lib/python3.9/asyncio/base_events.py:424> created at /Users/sychuang/miniconda3/envs/openwpm/lib/python3.9/asyncio/streams.py:263> took 0.512 seconds\n",
      "Executing <Task pending name='Task-25434' coro=<StorageController._handler() running at /Users/sychuang/My Drive (sc2357@cornell.edu)/Curriculum/2022SP/CS 5436 Privacy in the Digital Age/HW1/OpenWPM/openwpm/storage/storage_controller.py:94> wait_for=<Future pending cb=[<TaskWakeupMethWrapper object at 0x10c36e520>()] created at /Users/sychuang/miniconda3/envs/openwpm/lib/python3.9/asyncio/base_events.py:424> created at /Users/sychuang/miniconda3/envs/openwpm/lib/python3.9/asyncio/streams.py:263> took 0.412 seconds\n",
      "Executing <Task pending name='Task-18' coro=<StorageController._handler() running at /Users/sychuang/My Drive (sc2357@cornell.edu)/Curriculum/2022SP/CS 5436 Privacy in the Digital Age/HW1/OpenWPM/openwpm/storage/storage_controller.py:94> wait_for=<Future pending cb=[<TaskWakeupMethWrapper object at 0x10cbe2ca0>()] created at /Users/sychuang/miniconda3/envs/openwpm/lib/python3.9/asyncio/base_events.py:424> created at /Users/sychuang/miniconda3/envs/openwpm/lib/python3.9/asyncio/streams.py:263> took 0.453 seconds\n"
     ]
    },
    {
     "name": "stdout",
     "output_type": "stream",
     "text": [
      "browser_manager      - INFO     - BROWSER 3797246577: BrowserManager restart initiated. Clear profile? False\n"
     ]
    },
    {
     "name": "stderr",
     "output_type": "stream",
     "text": [
      "Executing <Task pending name='Task-12986' coro=<StorageController._handler() running at /Users/sychuang/My Drive (sc2357@cornell.edu)/Curriculum/2022SP/CS 5436 Privacy in the Digital Age/HW1/OpenWPM/openwpm/storage/storage_controller.py:94> wait_for=<Future pending cb=[<TaskWakeupMethWrapper object at 0x10c2831f0>()] created at /Users/sychuang/miniconda3/envs/openwpm/lib/python3.9/asyncio/base_events.py:424> created at /Users/sychuang/miniconda3/envs/openwpm/lib/python3.9/asyncio/streams.py:263> took 0.530 seconds\n",
      "Executing <Task pending name='Task-23618' coro=<StorageController._handler() running at /Users/sychuang/My Drive (sc2357@cornell.edu)/Curriculum/2022SP/CS 5436 Privacy in the Digital Age/HW1/OpenWPM/openwpm/storage/storage_controller.py:94> wait_for=<Future pending cb=[<TaskWakeupMethWrapper object at 0x10c202ca0>()] created at /Users/sychuang/miniconda3/envs/openwpm/lib/python3.9/asyncio/base_events.py:424> created at /Users/sychuang/miniconda3/envs/openwpm/lib/python3.9/asyncio/streams.py:263> took 0.441 seconds\n"
     ]
    },
    {
     "name": "stdout",
     "output_type": "stream",
     "text": [
      "browser_manager      - ERROR    - BROWSER 695351479: WebDriverException while executing command\n",
      "Traceback (most recent call last):\n",
      "  File \"/Users/sychuang/My Drive (sc2357@cornell.edu)/Curriculum/2022SP/CS 5436 Privacy in the Digital Age/HW1/OpenWPM/openwpm/browser_manager.py\", line 761, in run\n",
      "    command.execute(\n",
      "  File \"/Users/sychuang/My Drive (sc2357@cornell.edu)/Curriculum/2022SP/CS 5436 Privacy in the Digital Age/HW1/OpenWPM/openwpm/commands/browser_commands.py\", line 142, in execute\n",
      "    webdriver.get(self.url)\n",
      "  File \"/Users/sychuang/miniconda3/envs/openwpm/lib/python3.9/site-packages/selenium/webdriver/remote/webdriver.py\", line 333, in get\n",
      "    self.execute(Command.GET, {'url': url})\n",
      "  File \"/Users/sychuang/miniconda3/envs/openwpm/lib/python3.9/site-packages/selenium/webdriver/remote/webdriver.py\", line 321, in execute\n",
      "    self.error_handler.check_response(response)\n",
      "  File \"/Users/sychuang/miniconda3/envs/openwpm/lib/python3.9/site-packages/selenium/webdriver/remote/errorhandler.py\", line 242, in check_response\n",
      "    raise exception_class(message, screen, stacktrace)\n",
      "selenium.common.exceptions.WebDriverException: Message: Failed to decode response from marionette\n",
      "\n",
      "browser_manager      - INFO     - BROWSER 695351479: Received failure status while executing command: GetCommand(http://english.aljazeera.net/,1)\n",
      "browser_manager      - INFO     - Finished working on CommandSequence with visit_id 5643547856815088 on browser with id 695351479\n",
      "browser_manager      - INFO     - BROWSER 208166444: EXECUTING COMMAND: RecursiveDumpPageSourceCommand()\n"
     ]
    },
    {
     "name": "stderr",
     "output_type": "stream",
     "text": [
      "Executing <Task finished name='Task-31013' coro=<SQLiteStorageProvider.store_record() done, defined at /Users/sychuang/My Drive (sc2357@cornell.edu)/Curriculum/2022SP/CS 5436 Privacy in the Digital Age/HW1/OpenWPM/openwpm/storage/sql_provider.py:48> result=None created at /Users/sychuang/miniconda3/envs/openwpm/lib/python3.9/asyncio/tasks.py:361> took 0.104 seconds\n"
     ]
    },
    {
     "name": "stdout",
     "output_type": "stream",
     "text": [
      "sql_provider         - WARNING  - Visit with visit_id 7064008843707401 got interrupted\n",
      "storage_controller   - INFO     - Awaiting all tasks for visit_id 1331711164210780\n",
      "browser_manager      - INFO     - BROWSER 208166444: EXECUTING COMMAND: FinalizeCommand(5)\n"
     ]
    },
    {
     "name": "stderr",
     "output_type": "stream",
     "text": [
      "Executing <Task pending name='Task-30922' coro=<StorageController._handler() running at /Users/sychuang/My Drive (sc2357@cornell.edu)/Curriculum/2022SP/CS 5436 Privacy in the Digital Age/HW1/OpenWPM/openwpm/storage/storage_controller.py:94> wait_for=<Future pending cb=[<TaskWakeupMethWrapper object at 0x10cbe2b80>()] created at /Users/sychuang/miniconda3/envs/openwpm/lib/python3.9/asyncio/base_events.py:424> created at /Users/sychuang/miniconda3/envs/openwpm/lib/python3.9/asyncio/streams.py:263> took 0.728 seconds\n"
     ]
    },
    {
     "name": "stdout",
     "output_type": "stream",
     "text": [
      "CommandSequence for http://www.guardian.co.uk/ ran unsuccessfully\n",
      "CommandSequence for http://news.bbc.co.uk/ ran unsuccessfully\n",
      "browser_manager      - INFO     - BROWSER 3797246577: Launching browser...\n"
     ]
    },
    {
     "name": "stderr",
     "output_type": "stream",
     "text": [
      "Executing <Task pending name='Task-30923' coro=<StorageController._handler() running at /Users/sychuang/My Drive (sc2357@cornell.edu)/Curriculum/2022SP/CS 5436 Privacy in the Digital Age/HW1/OpenWPM/openwpm/storage/storage_controller.py:94> wait_for=<Future pending cb=[<TaskWakeupMethWrapper object at 0x10c36e040>()] created at /Users/sychuang/miniconda3/envs/openwpm/lib/python3.9/asyncio/base_events.py:424> created at /Users/sychuang/miniconda3/envs/openwpm/lib/python3.9/asyncio/streams.py:263> took 0.333 seconds\n"
     ]
    },
    {
     "name": "stdout",
     "output_type": "stream",
     "text": [
      "browser_manager      - INFO     - BROWSER 695351479: BrowserManager restart initiated. Clear profile? False\n"
     ]
    },
    {
     "name": "stderr",
     "output_type": "stream",
     "text": [
      "Executing <Task pending name='Task-28692' coro=<StorageController._handler() running at /Users/sychuang/My Drive (sc2357@cornell.edu)/Curriculum/2022SP/CS 5436 Privacy in the Digital Age/HW1/OpenWPM/openwpm/storage/storage_controller.py:94> wait_for=<Future pending cb=[<TaskWakeupMethWrapper object at 0x10ed9a310>()] created at /Users/sychuang/miniconda3/envs/openwpm/lib/python3.9/asyncio/base_events.py:424> created at /Users/sychuang/miniconda3/envs/openwpm/lib/python3.9/asyncio/streams.py:263> took 1.137 seconds\n",
      "Executing <Task pending name='Task-18' coro=<StorageController._handler() running at /Users/sychuang/My Drive (sc2357@cornell.edu)/Curriculum/2022SP/CS 5436 Privacy in the Digital Age/HW1/OpenWPM/openwpm/storage/storage_controller.py:94> wait_for=<Future pending cb=[<TaskWakeupMethWrapper object at 0x10eda3ca0>()] created at /Users/sychuang/miniconda3/envs/openwpm/lib/python3.9/asyncio/base_events.py:424> created at /Users/sychuang/miniconda3/envs/openwpm/lib/python3.9/asyncio/streams.py:263> took 0.366 seconds\n",
      "Executing <Task pending name='Task-12986' coro=<StorageController._handler() running at /Users/sychuang/My Drive (sc2357@cornell.edu)/Curriculum/2022SP/CS 5436 Privacy in the Digital Age/HW1/OpenWPM/openwpm/storage/storage_controller.py:94> wait_for=<Future pending cb=[<TaskWakeupMethWrapper object at 0x10df81700>()] created at /Users/sychuang/miniconda3/envs/openwpm/lib/python3.9/asyncio/base_events.py:424> created at /Users/sychuang/miniconda3/envs/openwpm/lib/python3.9/asyncio/streams.py:263> took 0.237 seconds\n",
      "Executing <Task pending name='Task-23618' coro=<StorageController._handler() running at /Users/sychuang/My Drive (sc2357@cornell.edu)/Curriculum/2022SP/CS 5436 Privacy in the Digital Age/HW1/OpenWPM/openwpm/storage/storage_controller.py:94> wait_for=<Future pending cb=[<TaskWakeupMethWrapper object at 0x10ddd42e0>()] created at /Users/sychuang/miniconda3/envs/openwpm/lib/python3.9/asyncio/base_events.py:424> created at /Users/sychuang/miniconda3/envs/openwpm/lib/python3.9/asyncio/streams.py:263> took 0.460 seconds\n"
     ]
    },
    {
     "name": "stdout",
     "output_type": "stream",
     "text": [
      "sql_provider         - WARNING  - Visit with visit_id 1331711164210780 got interrupted\n",
      "storage_controller   - INFO     - Awaiting all tasks for visit_id 7409750651766206\n",
      "browser_manager      - INFO     - BROWSER 695351479: Launching browser...\n",
      "browser_manager      - INFO     - Finished working on CommandSequence with visit_id 5932869803478779 on browser with id 3380372220\n"
     ]
    },
    {
     "name": "stderr",
     "output_type": "stream",
     "text": [
      "Executing <Task pending name='Task-30922' coro=<StorageController._handler() running at /Users/sychuang/My Drive (sc2357@cornell.edu)/Curriculum/2022SP/CS 5436 Privacy in the Digital Age/HW1/OpenWPM/openwpm/storage/storage_controller.py:94> wait_for=<Future pending cb=[<TaskWakeupMethWrapper object at 0x10c981130>()] created at /Users/sychuang/miniconda3/envs/openwpm/lib/python3.9/asyncio/base_events.py:424> created at /Users/sychuang/miniconda3/envs/openwpm/lib/python3.9/asyncio/streams.py:263> took 1.324 seconds\n"
     ]
    },
    {
     "name": "stdout",
     "output_type": "stream",
     "text": [
      "browser_manager      - INFO     - Finished working on CommandSequence with visit_id 593527618628639 on browser with id 208166444\n",
      "browser_manager      - INFO     - Starting to work on CommandSequence with visit_id 5010108955920966 on browser with id 3380372220\n",
      "browser_manager      - INFO     - BROWSER 3380372220: EXECUTING COMMAND: InitializeCommand()\n",
      "browser_manager      - INFO     - BROWSER 3380372220: EXECUTING COMMAND: GetCommand(http://www.currierprints.com,1)\n"
     ]
    },
    {
     "name": "stderr",
     "output_type": "stream",
     "text": [
      "Executing <Task pending name='Task-28692' coro=<StorageController._handler() running at /Users/sychuang/My Drive (sc2357@cornell.edu)/Curriculum/2022SP/CS 5436 Privacy in the Digital Age/HW1/OpenWPM/openwpm/storage/storage_controller.py:94> wait_for=<Future pending cb=[<TaskWakeupMethWrapper object at 0x10c36e760>()] created at /Users/sychuang/miniconda3/envs/openwpm/lib/python3.9/asyncio/base_events.py:424> created at /Users/sychuang/miniconda3/envs/openwpm/lib/python3.9/asyncio/streams.py:263> took 1.584 seconds\n",
      "Executing <Task pending name='Task-18' coro=<StorageController._handler() running at /Users/sychuang/My Drive (sc2357@cornell.edu)/Curriculum/2022SP/CS 5436 Privacy in the Digital Age/HW1/OpenWPM/openwpm/storage/storage_controller.py:94> wait_for=<Future pending cb=[<TaskWakeupMethWrapper object at 0x10c2838e0>()] created at /Users/sychuang/miniconda3/envs/openwpm/lib/python3.9/asyncio/base_events.py:424> created at /Users/sychuang/miniconda3/envs/openwpm/lib/python3.9/asyncio/streams.py:263> took 0.662 seconds\n"
     ]
    },
    {
     "name": "stdout",
     "output_type": "stream",
     "text": [
      "browser_manager      - INFO     - Starting to work on CommandSequence with visit_id 1395920232789912 on browser with id 208166444\n",
      "browser_manager      - INFO     - BROWSER 208166444: EXECUTING COMMAND: InitializeCommand()\n",
      "browser_manager      - INFO     - BROWSER 208166444: EXECUTING COMMAND: GetCommand(http://antiquerestorers.com/,1)\n"
     ]
    },
    {
     "name": "stderr",
     "output_type": "stream",
     "text": [
      "Executing <Task pending name='Task-23618' coro=<StorageController._handler() running at /Users/sychuang/My Drive (sc2357@cornell.edu)/Curriculum/2022SP/CS 5436 Privacy in the Digital Age/HW1/OpenWPM/openwpm/storage/storage_controller.py:94> wait_for=<Future pending cb=[<TaskWakeupMethWrapper object at 0x10d72f940>()] created at /Users/sychuang/miniconda3/envs/openwpm/lib/python3.9/asyncio/base_events.py:424> created at /Users/sychuang/miniconda3/envs/openwpm/lib/python3.9/asyncio/streams.py:263> took 0.985 seconds\n"
     ]
    },
    {
     "name": "stdout",
     "output_type": "stream",
     "text": [
      "sql_provider         - WARNING  - Visit with visit_id 7409750651766206 got interrupted\n",
      "storage_controller   - INFO     - Awaiting all tasks for visit_id 5643547856815088\n"
     ]
    },
    {
     "name": "stderr",
     "output_type": "stream",
     "text": [
      "Executing <Task pending name='Task-30922' coro=<StorageController._handler() running at /Users/sychuang/My Drive (sc2357@cornell.edu)/Curriculum/2022SP/CS 5436 Privacy in the Digital Age/HW1/OpenWPM/openwpm/storage/storage_controller.py:94> wait_for=<Future pending cb=[<TaskWakeupMethWrapper object at 0x10c064c70>()] created at /Users/sychuang/miniconda3/envs/openwpm/lib/python3.9/asyncio/base_events.py:424> created at /Users/sychuang/miniconda3/envs/openwpm/lib/python3.9/asyncio/streams.py:263> took 1.116 seconds\n"
     ]
    },
    {
     "name": "stdout",
     "output_type": "stream",
     "text": [
      "storage_controller   - INFO     - Awaiting all tasks for visit_id 593527618628639\n",
      "browser_manager      - INFO     - BROWSER 208166444: EXECUTING COMMAND: RecursiveDumpPageSourceCommand()\n",
      "browser_manager      - INFO     - BROWSER 208166444: EXECUTING COMMAND: FinalizeCommand(5)\n"
     ]
    },
    {
     "name": "stderr",
     "output_type": "stream",
     "text": [
      "Executing <Task pending name='Task-28692' coro=<StorageController._handler() running at /Users/sychuang/My Drive (sc2357@cornell.edu)/Curriculum/2022SP/CS 5436 Privacy in the Digital Age/HW1/OpenWPM/openwpm/storage/storage_controller.py:94> wait_for=<Future pending cb=[<TaskWakeupMethWrapper object at 0x10be76370>()] created at /Users/sychuang/miniconda3/envs/openwpm/lib/python3.9/asyncio/base_events.py:424> created at /Users/sychuang/miniconda3/envs/openwpm/lib/python3.9/asyncio/streams.py:263> took 0.387 seconds\n"
     ]
    },
    {
     "name": "stdout",
     "output_type": "stream",
     "text": [
      "storage_controller   - INFO     - Terminating handler, because the underlying socket closed\n",
      "browser_manager      - INFO     - BROWSER 3380372220: EXECUTING COMMAND: RecursiveDumpPageSourceCommand()\n",
      "browser_manager      - INFO     - BROWSER 3380372220: EXECUTING COMMAND: FinalizeCommand(5)\n"
     ]
    },
    {
     "name": "stderr",
     "output_type": "stream",
     "text": [
      "Executing <Task pending name='Task-18' coro=<StorageController._handler() running at /Users/sychuang/My Drive (sc2357@cornell.edu)/Curriculum/2022SP/CS 5436 Privacy in the Digital Age/HW1/OpenWPM/openwpm/storage/storage_controller.py:94> wait_for=<Future pending cb=[<TaskWakeupMethWrapper object at 0x10c202be0>()] created at /Users/sychuang/miniconda3/envs/openwpm/lib/python3.9/asyncio/base_events.py:424> created at /Users/sychuang/miniconda3/envs/openwpm/lib/python3.9/asyncio/streams.py:263> took 0.645 seconds\n"
     ]
    },
    {
     "name": "stdout",
     "output_type": "stream",
     "text": [
      "browser_manager      - INFO     - Starting to work on CommandSequence with visit_id 596041514122120 on browser with id 3797246577\n",
      "browser_manager      - INFO     - BROWSER 3797246577: EXECUTING COMMAND: InitializeCommand()\n",
      "browser_manager      - INFO     - BROWSER 3797246577: EXECUTING COMMAND: GetCommand(http://www.charleslocksmith.com,1)\n"
     ]
    },
    {
     "name": "stderr",
     "output_type": "stream",
     "text": [
      "Executing <Task pending name='Task-23618' coro=<StorageController._handler() running at /Users/sychuang/My Drive (sc2357@cornell.edu)/Curriculum/2022SP/CS 5436 Privacy in the Digital Age/HW1/OpenWPM/openwpm/storage/storage_controller.py:94> wait_for=<Future pending cb=[<TaskWakeupMethWrapper object at 0x10ec7cd00>()] created at /Users/sychuang/miniconda3/envs/openwpm/lib/python3.9/asyncio/base_events.py:424> created at /Users/sychuang/miniconda3/envs/openwpm/lib/python3.9/asyncio/streams.py:263> took 1.559 seconds\n"
     ]
    },
    {
     "name": "stdout",
     "output_type": "stream",
     "text": [
      "sql_provider         - WARNING  - Visit with visit_id 5643547856815088 got interrupted\n",
      "CommandSequence for http://www.cbc.ca/news/ ran unsuccessfully\n",
      "CommandSequence for http://www.foxnews.com/ ran unsuccessfully\n",
      "CommandSequence for http://abcnews.go.com/ ran unsuccessfully\n",
      "CommandSequence for http://www.bassboy.com.au/getreel/ ran successfully\n"
     ]
    },
    {
     "name": "stderr",
     "output_type": "stream",
     "text": [
      "Executing <Task pending name='Task-26' coro=<StorageController._handler() running at /Users/sychuang/My Drive (sc2357@cornell.edu)/Curriculum/2022SP/CS 5436 Privacy in the Digital Age/HW1/OpenWPM/openwpm/storage/storage_controller.py:94> wait_for=<Future pending cb=[<TaskWakeupMethWrapper object at 0x10c981c40>()] created at /Users/sychuang/miniconda3/envs/openwpm/lib/python3.9/asyncio/base_events.py:424> created at /Users/sychuang/miniconda3/envs/openwpm/lib/python3.9/asyncio/streams.py:263> took 1.116 seconds\n"
     ]
    },
    {
     "name": "stdout",
     "output_type": "stream",
     "text": [
      "browser_manager      - INFO     - BROWSER 3797246577: EXECUTING COMMAND: RecursiveDumpPageSourceCommand()\n",
      "browser_manager      - INFO     - BROWSER 3797246577: EXECUTING COMMAND: FinalizeCommand(5)\n",
      "browser_manager      - INFO     - Finished working on CommandSequence with visit_id 1395920232789912 on browser with id 208166444\n"
     ]
    },
    {
     "name": "stderr",
     "output_type": "stream",
     "text": [
      "Executing <Task pending name='Task-30922' coro=<StorageController._handler() running at /Users/sychuang/My Drive (sc2357@cornell.edu)/Curriculum/2022SP/CS 5436 Privacy in the Digital Age/HW1/OpenWPM/openwpm/storage/storage_controller.py:94> wait_for=<Future pending cb=[<TaskWakeupMethWrapper object at 0x10cbe2df0>()] created at /Users/sychuang/miniconda3/envs/openwpm/lib/python3.9/asyncio/base_events.py:424> created at /Users/sychuang/miniconda3/envs/openwpm/lib/python3.9/asyncio/streams.py:263> took 1.898 seconds\n"
     ]
    },
    {
     "name": "stdout",
     "output_type": "stream",
     "text": [
      "storage_controller   - INFO     - Terminating handler, because the underlying socket closed\n"
     ]
    },
    {
     "name": "stderr",
     "output_type": "stream",
     "text": [
      "Executing <Task pending name='Task-33945' coro=<BaseSelectorEventLoop._accept_connection2() running at /Users/sychuang/miniconda3/envs/openwpm/lib/python3.9/asyncio/selector_events.py:218> wait_for=<Future pending cb=[<TaskWakeupMethWrapper object at 0x10cbe2940>()] created at /Users/sychuang/miniconda3/envs/openwpm/lib/python3.9/asyncio/base_events.py:424> created at /Users/sychuang/miniconda3/envs/openwpm/lib/python3.9/asyncio/selector_events.py:196> took 0.296 seconds\n",
      "Executing <Task pending name='Task-18' coro=<StorageController._handler() running at /Users/sychuang/My Drive (sc2357@cornell.edu)/Curriculum/2022SP/CS 5436 Privacy in the Digital Age/HW1/OpenWPM/openwpm/storage/storage_controller.py:94> wait_for=<Future pending cb=[<TaskWakeupMethWrapper object at 0x10c2837f0>()] created at /Users/sychuang/miniconda3/envs/openwpm/lib/python3.9/asyncio/base_events.py:424> created at /Users/sychuang/miniconda3/envs/openwpm/lib/python3.9/asyncio/streams.py:263> took 0.474 seconds\n"
     ]
    },
    {
     "name": "stdout",
     "output_type": "stream",
     "text": [
      "browser_manager      - INFO     - Finished working on CommandSequence with visit_id 5010108955920966 on browser with id 3380372220\n"
     ]
    },
    {
     "name": "stderr",
     "output_type": "stream",
     "text": [
      "Executing <Task pending name='Task-12986' coro=<StorageController._handler() running at /Users/sychuang/My Drive (sc2357@cornell.edu)/Curriculum/2022SP/CS 5436 Privacy in the Digital Age/HW1/OpenWPM/openwpm/storage/storage_controller.py:94> wait_for=<Future pending cb=[<TaskWakeupMethWrapper object at 0x10c7fb8e0>()] created at /Users/sychuang/miniconda3/envs/openwpm/lib/python3.9/asyncio/base_events.py:424> created at /Users/sychuang/miniconda3/envs/openwpm/lib/python3.9/asyncio/streams.py:263> took 0.272 seconds\n"
     ]
    },
    {
     "name": "stdout",
     "output_type": "stream",
     "text": [
      "browser_manager      - INFO     - Starting to work on CommandSequence with visit_id 1167691061753591 on browser with id 695351479\n",
      "browser_manager      - INFO     - Starting to work on CommandSequence with visit_id 6676204476615074 on browser with id 208166444\n",
      "browser_manager      - INFO     - BROWSER 208166444: EXECUTING COMMAND: InitializeCommand()\n",
      "browser_manager      - INFO     - BROWSER 695351479: EXECUTING COMMAND: InitializeCommand()\n",
      "browser_manager      - INFO     - BROWSER 695351479: EXECUTING COMMAND: GetCommand(http://www.restoration-advice.org/,1)\n",
      "browser_manager      - INFO     - BROWSER 208166444: EXECUTING COMMAND: GetCommand(http://www.tefaf.com,1)\n"
     ]
    },
    {
     "name": "stderr",
     "output_type": "stream",
     "text": [
      "Executing <Task pending name='Task-23618' coro=<StorageController._handler() running at /Users/sychuang/My Drive (sc2357@cornell.edu)/Curriculum/2022SP/CS 5436 Privacy in the Digital Age/HW1/OpenWPM/openwpm/storage/storage_controller.py:94> wait_for=<Future pending cb=[<TaskWakeupMethWrapper object at 0x10d7643d0>()] created at /Users/sychuang/miniconda3/envs/openwpm/lib/python3.9/asyncio/base_events.py:424> created at /Users/sychuang/miniconda3/envs/openwpm/lib/python3.9/asyncio/streams.py:263> took 1.587 seconds\n"
     ]
    },
    {
     "name": "stdout",
     "output_type": "stream",
     "text": [
      "browser_manager      - INFO     - Starting to work on CommandSequence with visit_id 5489583607411376 on browser with id 3380372220\n",
      "browser_manager      - INFO     - BROWSER 3380372220: EXECUTING COMMAND: InitializeCommand()\n",
      "browser_manager      - INFO     - BROWSER 3380372220: EXECUTING COMMAND: GetCommand(http://www.ukulele.com/,1)\n"
     ]
    },
    {
     "name": "stderr",
     "output_type": "stream",
     "text": [
      "Executing <Task finished name='Task-34646' coro=<SQLiteStorageProvider.store_record() done, defined at /Users/sychuang/My Drive (sc2357@cornell.edu)/Curriculum/2022SP/CS 5436 Privacy in the Digital Age/HW1/OpenWPM/openwpm/storage/sql_provider.py:48> result=None created at /Users/sychuang/miniconda3/envs/openwpm/lib/python3.9/asyncio/tasks.py:361> took 0.367 seconds\n",
      "Executing <Task pending name='Task-26' coro=<StorageController._handler() running at /Users/sychuang/My Drive (sc2357@cornell.edu)/Curriculum/2022SP/CS 5436 Privacy in the Digital Age/HW1/OpenWPM/openwpm/storage/storage_controller.py:94> wait_for=<Future pending cb=[<TaskWakeupMethWrapper object at 0x10c7fb850>()] created at /Users/sychuang/miniconda3/envs/openwpm/lib/python3.9/asyncio/base_events.py:424> created at /Users/sychuang/miniconda3/envs/openwpm/lib/python3.9/asyncio/streams.py:263> took 0.516 seconds\n"
     ]
    },
    {
     "name": "stdout",
     "output_type": "stream",
     "text": [
      "browser_manager      - INFO     - BROWSER 3294789765: EXECUTING COMMAND: RecursiveDumpPageSourceCommand()\n",
      "browser_manager      - INFO     - BROWSER 695351479: EXECUTING COMMAND: RecursiveDumpPageSourceCommand()\n",
      "browser_manager      - INFO     - Finished working on CommandSequence with visit_id 596041514122120 on browser with id 3797246577\n",
      "browser_manager      - INFO     - BROWSER 695351479: EXECUTING COMMAND: FinalizeCommand(5)\n"
     ]
    },
    {
     "name": "stderr",
     "output_type": "stream",
     "text": [
      "Executing <Task pending name='Task-30922' coro=<StorageController._handler() running at /Users/sychuang/My Drive (sc2357@cornell.edu)/Curriculum/2022SP/CS 5436 Privacy in the Digital Age/HW1/OpenWPM/openwpm/storage/storage_controller.py:94> wait_for=<Future pending cb=[<TaskWakeupMethWrapper object at 0x10c064430>()] created at /Users/sychuang/miniconda3/envs/openwpm/lib/python3.9/asyncio/base_events.py:424> created at /Users/sychuang/miniconda3/envs/openwpm/lib/python3.9/asyncio/streams.py:263> took 1.637 seconds\n"
     ]
    },
    {
     "name": "stdout",
     "output_type": "stream",
     "text": [
      "storage_controller   - INFO     - Awaiting all tasks for visit_id 1395920232789912\n"
     ]
    },
    {
     "name": "stderr",
     "output_type": "stream",
     "text": [
      "Executing <Task pending name='Task-18' coro=<StorageController._handler() running at /Users/sychuang/My Drive (sc2357@cornell.edu)/Curriculum/2022SP/CS 5436 Privacy in the Digital Age/HW1/OpenWPM/openwpm/storage/storage_controller.py:94> wait_for=<Future pending cb=[<TaskWakeupMethWrapper object at 0x10c9810d0>()] created at /Users/sychuang/miniconda3/envs/openwpm/lib/python3.9/asyncio/base_events.py:424> created at /Users/sychuang/miniconda3/envs/openwpm/lib/python3.9/asyncio/streams.py:263> took 0.226 seconds\n",
      "Executing <Task pending name='Task-12986' coro=<StorageController._handler() running at /Users/sychuang/My Drive (sc2357@cornell.edu)/Curriculum/2022SP/CS 5436 Privacy in the Digital Age/HW1/OpenWPM/openwpm/storage/storage_controller.py:94> wait_for=<Future pending cb=[<TaskWakeupMethWrapper object at 0x10c9813a0>()] created at /Users/sychuang/miniconda3/envs/openwpm/lib/python3.9/asyncio/base_events.py:424> created at /Users/sychuang/miniconda3/envs/openwpm/lib/python3.9/asyncio/streams.py:263> took 0.281 seconds\n"
     ]
    },
    {
     "name": "stdout",
     "output_type": "stream",
     "text": [
      "browser_manager      - INFO     - Starting to work on CommandSequence with visit_id 654617052881750 on browser with id 3797246577\n",
      "browser_manager      - INFO     - BROWSER 3797246577: EXECUTING COMMAND: InitializeCommand()\n",
      "browser_manager      - INFO     - BROWSER 3797246577: EXECUTING COMMAND: GetCommand(http://www.debencemusicworld.com,1)\n"
     ]
    },
    {
     "name": "stderr",
     "output_type": "stream",
     "text": [
      "Executing <Task pending name='Task-23618' coro=<StorageController._handler() running at /Users/sychuang/My Drive (sc2357@cornell.edu)/Curriculum/2022SP/CS 5436 Privacy in the Digital Age/HW1/OpenWPM/openwpm/storage/storage_controller.py:94> wait_for=<Future pending cb=[<TaskWakeupMethWrapper object at 0x10d72fe20>()] created at /Users/sychuang/miniconda3/envs/openwpm/lib/python3.9/asyncio/base_events.py:424> created at /Users/sychuang/miniconda3/envs/openwpm/lib/python3.9/asyncio/streams.py:263> took 0.717 seconds\n",
      "Executing <Task finished name='Task-34997' coro=<SQLiteStorageProvider.store_record() done, defined at /Users/sychuang/My Drive (sc2357@cornell.edu)/Curriculum/2022SP/CS 5436 Privacy in the Digital Age/HW1/OpenWPM/openwpm/storage/sql_provider.py:48> result=None created at /Users/sychuang/miniconda3/envs/openwpm/lib/python3.9/asyncio/tasks.py:361> took 0.130 seconds\n"
     ]
    },
    {
     "name": "stdout",
     "output_type": "stream",
     "text": [
      "browser_manager      - INFO     - BROWSER 3380372220: EXECUTING COMMAND: RecursiveDumpPageSourceCommand()\n",
      "CommandSequence for http://english.aljazeera.net/ ran unsuccessfully\n",
      "browser_manager      - INFO     - BROWSER 3380372220: EXECUTING COMMAND: FinalizeCommand(5)\n",
      "storage_controller   - INFO     - Awaiting all tasks for visit_id 596041514122120\n"
     ]
    },
    {
     "name": "stderr",
     "output_type": "stream",
     "text": [
      "Executing <Task pending name='Task-34809' coro=<StorageController._handler() running at /Users/sychuang/My Drive (sc2357@cornell.edu)/Curriculum/2022SP/CS 5436 Privacy in the Digital Age/HW1/OpenWPM/openwpm/storage/storage_controller.py:94> wait_for=<Task pending name='Task-35553' coro=<SQLiteStorageProvider.store_record() running at /Users/sychuang/My Drive (sc2357@cornell.edu)/Curriculum/2022SP/CS 5436 Privacy in the Digital Age/HW1/OpenWPM/openwpm/storage/sql_provider.py:48> cb=[<TaskWakeupMethWrapper object at 0x10ed9a5b0>()] created at /Users/sychuang/miniconda3/envs/openwpm/lib/python3.9/asyncio/tasks.py:361> created at /Users/sychuang/miniconda3/envs/openwpm/lib/python3.9/asyncio/streams.py:263> took 0.320 seconds\n",
      "Executing <Handle cancelled _SelectorSocketTransport._read_ready() created at /Users/sychuang/miniconda3/envs/openwpm/lib/python3.9/asyncio/selector_events.py:259> took 0.108 seconds\n",
      "Executing <Task pending name='Task-30923' coro=<StorageController._handler() running at /Users/sychuang/My Drive (sc2357@cornell.edu)/Curriculum/2022SP/CS 5436 Privacy in the Digital Age/HW1/OpenWPM/openwpm/storage/storage_controller.py:94> wait_for=<Future pending cb=[<TaskWakeupMethWrapper object at 0x10cbe2be0>()] created at /Users/sychuang/miniconda3/envs/openwpm/lib/python3.9/asyncio/base_events.py:424> created at /Users/sychuang/miniconda3/envs/openwpm/lib/python3.9/asyncio/streams.py:263> took 1.197 seconds\n"
     ]
    },
    {
     "name": "stdout",
     "output_type": "stream",
     "text": [
      "browser_manager      - ERROR    - BROWSER 208166444: WebDriverException while executing command\n",
      "Traceback (most recent call last):\n",
      "  File \"/Users/sychuang/My Drive (sc2357@cornell.edu)/Curriculum/2022SP/CS 5436 Privacy in the Digital Age/HW1/OpenWPM/openwpm/browser_manager.py\", line 761, in run\n",
      "    command.execute(\n",
      "  File \"/Users/sychuang/My Drive (sc2357@cornell.edu)/Curriculum/2022SP/CS 5436 Privacy in the Digital Age/HW1/OpenWPM/openwpm/commands/browser_commands.py\", line 158, in execute\n",
      "    close_other_windows(webdriver)\n",
      "  File \"/Users/sychuang/My Drive (sc2357@cornell.edu)/Curriculum/2022SP/CS 5436 Privacy in the Digital Age/HW1/OpenWPM/openwpm/commands/browser_commands.py\", line 78, in close_other_windows\n",
      "    main_handle = webdriver.current_window_handle\n",
      "  File \"/Users/sychuang/miniconda3/envs/openwpm/lib/python3.9/site-packages/selenium/webdriver/remote/webdriver.py\", line 711, in current_window_handle\n",
      "    return self.execute(Command.W3C_GET_CURRENT_WINDOW_HANDLE)['value']\n",
      "  File \"/Users/sychuang/miniconda3/envs/openwpm/lib/python3.9/site-packages/selenium/webdriver/remote/webdriver.py\", line 321, in execute\n",
      "    self.error_handler.check_response(response)\n",
      "  File \"/Users/sychuang/miniconda3/envs/openwpm/lib/python3.9/site-packages/selenium/webdriver/remote/errorhandler.py\", line 242, in check_response\n",
      "    raise exception_class(message, screen, stacktrace)\n",
      "selenium.common.exceptions.WebDriverException: Message: Failed to decode response from marionette\n",
      "\n",
      "browser_manager      - INFO     - BROWSER 208166444: Received failure status while executing command: GetCommand(http://www.tefaf.com,1)\n",
      "browser_manager      - INFO     - Finished working on CommandSequence with visit_id 6676204476615074 on browser with id 208166444\n"
     ]
    },
    {
     "name": "stderr",
     "output_type": "stream",
     "text": [
      "Executing <Task pending name='Task-26' coro=<StorageController._handler() running at /Users/sychuang/My Drive (sc2357@cornell.edu)/Curriculum/2022SP/CS 5436 Privacy in the Digital Age/HW1/OpenWPM/openwpm/storage/storage_controller.py:94> wait_for=<Future pending cb=[<TaskWakeupMethWrapper object at 0x10ed9a100>()] created at /Users/sychuang/miniconda3/envs/openwpm/lib/python3.9/asyncio/base_events.py:424> created at /Users/sychuang/miniconda3/envs/openwpm/lib/python3.9/asyncio/streams.py:263> took 1.094 seconds\n"
     ]
    },
    {
     "name": "stdout",
     "output_type": "stream",
     "text": [
      "browser_manager      - INFO     - Finished working on CommandSequence with visit_id 1167691061753591 on browser with id 695351479\n"
     ]
    },
    {
     "name": "stderr",
     "output_type": "stream",
     "text": [
      "Executing <Task pending name='Task-30922' coro=<StorageController._handler() running at /Users/sychuang/My Drive (sc2357@cornell.edu)/Curriculum/2022SP/CS 5436 Privacy in the Digital Age/HW1/OpenWPM/openwpm/storage/storage_controller.py:94> wait_for=<Future pending cb=[<TaskWakeupMethWrapper object at 0x10c7fbfa0>()] created at /Users/sychuang/miniconda3/envs/openwpm/lib/python3.9/asyncio/base_events.py:424> created at /Users/sychuang/miniconda3/envs/openwpm/lib/python3.9/asyncio/streams.py:263> took 0.660 seconds\n",
      "Executing <Task pending name='Task-18' coro=<StorageController._handler() running at /Users/sychuang/My Drive (sc2357@cornell.edu)/Curriculum/2022SP/CS 5436 Privacy in the Digital Age/HW1/OpenWPM/openwpm/storage/storage_controller.py:94> wait_for=<Future pending cb=[<TaskWakeupMethWrapper object at 0x10ec7c070>()] created at /Users/sychuang/miniconda3/envs/openwpm/lib/python3.9/asyncio/base_events.py:424> created at /Users/sychuang/miniconda3/envs/openwpm/lib/python3.9/asyncio/streams.py:263> took 0.263 seconds\n"
     ]
    },
    {
     "name": "stdout",
     "output_type": "stream",
     "text": [
      "browser_manager      - INFO     - BROWSER 208166444: BrowserManager restart initiated. Clear profile? False\n"
     ]
    },
    {
     "name": "stderr",
     "output_type": "stream",
     "text": [
      "Executing <Task pending name='Task-23618' coro=<StorageController._handler() running at /Users/sychuang/My Drive (sc2357@cornell.edu)/Curriculum/2022SP/CS 5436 Privacy in the Digital Age/HW1/OpenWPM/openwpm/storage/storage_controller.py:94> wait_for=<Future pending cb=[<TaskWakeupMethWrapper object at 0x1102a3640>()] created at /Users/sychuang/miniconda3/envs/openwpm/lib/python3.9/asyncio/base_events.py:424> created at /Users/sychuang/miniconda3/envs/openwpm/lib/python3.9/asyncio/streams.py:263> took 0.233 seconds\n"
     ]
    },
    {
     "name": "stdout",
     "output_type": "stream",
     "text": [
      "storage_controller   - INFO     - Awaiting all tasks for visit_id 1167691061753591\n",
      "browser_manager      - INFO     - BROWSER 3797246577: EXECUTING COMMAND: RecursiveDumpPageSourceCommand()\n",
      "browser_manager      - INFO     - BROWSER 3797246577: EXECUTING COMMAND: FinalizeCommand(5)\n"
     ]
    },
    {
     "name": "stderr",
     "output_type": "stream",
     "text": [
      "Executing <Task pending name='Task-34809' coro=<StorageController._handler() running at /Users/sychuang/My Drive (sc2357@cornell.edu)/Curriculum/2022SP/CS 5436 Privacy in the Digital Age/HW1/OpenWPM/openwpm/storage/storage_controller.py:94> wait_for=<Future pending cb=[<TaskWakeupMethWrapper object at 0x10bec2d00>()] created at /Users/sychuang/miniconda3/envs/openwpm/lib/python3.9/asyncio/base_events.py:424> created at /Users/sychuang/miniconda3/envs/openwpm/lib/python3.9/asyncio/streams.py:263> took 0.384 seconds\n"
     ]
    },
    {
     "name": "stdout",
     "output_type": "stream",
     "text": [
      "storage_controller   - INFO     - Awaiting all tasks for visit_id 6676204476615074\n",
      "browser_manager      - INFO     - BROWSER 208166444: Launching browser...\n"
     ]
    },
    {
     "name": "stderr",
     "output_type": "stream",
     "text": [
      "Executing <Task pending name='Task-30922' coro=<StorageController._handler() running at /Users/sychuang/My Drive (sc2357@cornell.edu)/Curriculum/2022SP/CS 5436 Privacy in the Digital Age/HW1/OpenWPM/openwpm/storage/storage_controller.py:94> wait_for=<Future pending cb=[<TaskWakeupMethWrapper object at 0x10c202340>()] created at /Users/sychuang/miniconda3/envs/openwpm/lib/python3.9/asyncio/base_events.py:424> created at /Users/sychuang/miniconda3/envs/openwpm/lib/python3.9/asyncio/streams.py:263> took 0.444 seconds\n"
     ]
    },
    {
     "name": "stdout",
     "output_type": "stream",
     "text": [
      "browser_manager      - INFO     - Starting to work on CommandSequence with visit_id 4378492543697131 on browser with id 695351479\n",
      "browser_manager      - INFO     - BROWSER 695351479: EXECUTING COMMAND: InitializeCommand()\n",
      "browser_manager      - INFO     - BROWSER 695351479: EXECUTING COMMAND: GetCommand(http://www.antiquelures.com/,1)\n"
     ]
    },
    {
     "name": "stderr",
     "output_type": "stream",
     "text": [
      "Executing <Task pending name='Task-18' coro=<StorageController._handler() running at /Users/sychuang/My Drive (sc2357@cornell.edu)/Curriculum/2022SP/CS 5436 Privacy in the Digital Age/HW1/OpenWPM/openwpm/storage/storage_controller.py:94> wait_for=<Future pending cb=[<TaskWakeupMethWrapper object at 0x1102a3ca0>()] created at /Users/sychuang/miniconda3/envs/openwpm/lib/python3.9/asyncio/base_events.py:424> created at /Users/sychuang/miniconda3/envs/openwpm/lib/python3.9/asyncio/streams.py:263> took 0.461 seconds\n"
     ]
    },
    {
     "name": "stdout",
     "output_type": "stream",
     "text": [
      "browser_manager      - INFO     - Finished working on CommandSequence with visit_id 5489583607411376 on browser with id 3380372220\n"
     ]
    },
    {
     "name": "stderr",
     "output_type": "stream",
     "text": [
      "Executing <Task pending name='Task-12986' coro=<StorageController._handler() running at /Users/sychuang/My Drive (sc2357@cornell.edu)/Curriculum/2022SP/CS 5436 Privacy in the Digital Age/HW1/OpenWPM/openwpm/storage/storage_controller.py:94> wait_for=<Future pending cb=[<TaskWakeupMethWrapper object at 0x110bc4850>()] created at /Users/sychuang/miniconda3/envs/openwpm/lib/python3.9/asyncio/base_events.py:424> created at /Users/sychuang/miniconda3/envs/openwpm/lib/python3.9/asyncio/streams.py:263> took 0.363 seconds\n",
      "Executing <Task pending name='Task-23618' coro=<StorageController._handler() running at /Users/sychuang/My Drive (sc2357@cornell.edu)/Curriculum/2022SP/CS 5436 Privacy in the Digital Age/HW1/OpenWPM/openwpm/storage/storage_controller.py:94> wait_for=<Future pending cb=[<TaskWakeupMethWrapper object at 0x110ce0910>()] created at /Users/sychuang/miniconda3/envs/openwpm/lib/python3.9/asyncio/base_events.py:424> created at /Users/sychuang/miniconda3/envs/openwpm/lib/python3.9/asyncio/streams.py:263> took 0.131 seconds\n"
     ]
    },
    {
     "name": "stdout",
     "output_type": "stream",
     "text": [
      "storage_controller   - INFO     - Terminating handler, because the underlying socket closed\n",
      "sql_provider         - WARNING  - Visit with visit_id 6676204476615074 got interrupted\n"
     ]
    },
    {
     "name": "stderr",
     "output_type": "stream",
     "text": [
      "Executing <Task pending name='Task-26' coro=<StorageController._handler() running at /Users/sychuang/My Drive (sc2357@cornell.edu)/Curriculum/2022SP/CS 5436 Privacy in the Digital Age/HW1/OpenWPM/openwpm/storage/storage_controller.py:94> wait_for=<Future pending cb=[<TaskWakeupMethWrapper object at 0x10ed9ac40>()] created at /Users/sychuang/miniconda3/envs/openwpm/lib/python3.9/asyncio/base_events.py:424> created at /Users/sychuang/miniconda3/envs/openwpm/lib/python3.9/asyncio/streams.py:263> took 0.253 seconds\n"
     ]
    },
    {
     "name": "stdout",
     "output_type": "stream",
     "text": [
      "browser_manager      - INFO     - BROWSER 695351479: EXECUTING COMMAND: RecursiveDumpPageSourceCommand()\n",
      "browser_manager      - INFO     - BROWSER 695351479: EXECUTING COMMAND: FinalizeCommand(5)\n"
     ]
    },
    {
     "name": "stderr",
     "output_type": "stream",
     "text": [
      "Executing <Task pending name='Task-30922' coro=<StorageController._handler() running at /Users/sychuang/My Drive (sc2357@cornell.edu)/Curriculum/2022SP/CS 5436 Privacy in the Digital Age/HW1/OpenWPM/openwpm/storage/storage_controller.py:94> wait_for=<Future pending cb=[<TaskWakeupMethWrapper object at 0x110bc4d00>()] created at /Users/sychuang/miniconda3/envs/openwpm/lib/python3.9/asyncio/base_events.py:424> created at /Users/sychuang/miniconda3/envs/openwpm/lib/python3.9/asyncio/streams.py:263> took 0.940 seconds\n"
     ]
    },
    {
     "name": "stdout",
     "output_type": "stream",
     "text": [
      "browser_manager      - INFO     - Starting to work on CommandSequence with visit_id 5267310005292353 on browser with id 3380372220\n",
      "browser_manager      - INFO     - BROWSER 3380372220: EXECUTING COMMAND: InitializeCommand()\n",
      "browser_manager      - INFO     - BROWSER 3380372220: EXECUTING COMMAND: GetCommand(http://www.colonialarts.com/retablos.htm,1)\n"
     ]
    },
    {
     "name": "stderr",
     "output_type": "stream",
     "text": [
      "Executing <Task pending name='Task-18' coro=<StorageController._handler() running at /Users/sychuang/My Drive (sc2357@cornell.edu)/Curriculum/2022SP/CS 5436 Privacy in the Digital Age/HW1/OpenWPM/openwpm/storage/storage_controller.py:94> wait_for=<Future pending cb=[<TaskWakeupMethWrapper object at 0x10c283f70>()] created at /Users/sychuang/miniconda3/envs/openwpm/lib/python3.9/asyncio/base_events.py:424> created at /Users/sychuang/miniconda3/envs/openwpm/lib/python3.9/asyncio/streams.py:263> took 0.410 seconds\n",
      "Executing <Task pending name='Task-35552' coro=<StorageController._handler() running at /Users/sychuang/My Drive (sc2357@cornell.edu)/Curriculum/2022SP/CS 5436 Privacy in the Digital Age/HW1/OpenWPM/openwpm/storage/storage_controller.py:94> wait_for=<Future pending cb=[<TaskWakeupMethWrapper object at 0x10c7fb730>()] created at /Users/sychuang/miniconda3/envs/openwpm/lib/python3.9/asyncio/base_events.py:424> created at /Users/sychuang/miniconda3/envs/openwpm/lib/python3.9/asyncio/streams.py:263> took 0.204 seconds\n",
      "Executing <Task pending name='Task-12986' coro=<StorageController._handler() running at /Users/sychuang/My Drive (sc2357@cornell.edu)/Curriculum/2022SP/CS 5436 Privacy in the Digital Age/HW1/OpenWPM/openwpm/storage/storage_controller.py:94> wait_for=<Future pending cb=[<TaskWakeupMethWrapper object at 0x10d72f7c0>()] created at /Users/sychuang/miniconda3/envs/openwpm/lib/python3.9/asyncio/base_events.py:424> created at /Users/sychuang/miniconda3/envs/openwpm/lib/python3.9/asyncio/streams.py:263> took 0.780 seconds\n"
     ]
    },
    {
     "name": "stdout",
     "output_type": "stream",
     "text": [
      "browser_manager      - INFO     - Finished working on CommandSequence with visit_id 654617052881750 on browser with id 3797246577\n"
     ]
    },
    {
     "name": "stderr",
     "output_type": "stream",
     "text": [
      "Executing <Task pending name='Task-23618' coro=<StorageController._handler() running at /Users/sychuang/My Drive (sc2357@cornell.edu)/Curriculum/2022SP/CS 5436 Privacy in the Digital Age/HW1/OpenWPM/openwpm/storage/storage_controller.py:94> wait_for=<Future pending cb=[<TaskWakeupMethWrapper object at 0x111318820>()] created at /Users/sychuang/miniconda3/envs/openwpm/lib/python3.9/asyncio/base_events.py:424> created at /Users/sychuang/miniconda3/envs/openwpm/lib/python3.9/asyncio/streams.py:263> took 0.331 seconds\n"
     ]
    },
    {
     "name": "stdout",
     "output_type": "stream",
     "text": [
      "CommandSequence for http://antiquerestorers.com/ ran successfully\n",
      "CommandSequence for http://www.charleslocksmith.com ran successfully\n",
      "CommandSequence for http://www.restoration-advice.org/ ran successfully\n",
      "CommandSequence for http://www.tefaf.com ran unsuccessfully\n"
     ]
    },
    {
     "name": "stderr",
     "output_type": "stream",
     "text": [
      "Executing <Task pending name='Task-26' coro=<StorageController._handler() running at /Users/sychuang/My Drive (sc2357@cornell.edu)/Curriculum/2022SP/CS 5436 Privacy in the Digital Age/HW1/OpenWPM/openwpm/storage/storage_controller.py:94> wait_for=<Future pending cb=[<TaskWakeupMethWrapper object at 0x10ec7cfa0>()] created at /Users/sychuang/miniconda3/envs/openwpm/lib/python3.9/asyncio/base_events.py:424> created at /Users/sychuang/miniconda3/envs/openwpm/lib/python3.9/asyncio/streams.py:263> took 0.728 seconds\n",
      "Executing <Task pending name='Task-30922' coro=<StorageController._handler() running at /Users/sychuang/My Drive (sc2357@cornell.edu)/Curriculum/2022SP/CS 5436 Privacy in the Digital Age/HW1/OpenWPM/openwpm/storage/storage_controller.py:94> wait_for=<Future pending cb=[<TaskWakeupMethWrapper object at 0x10c283be0>()] created at /Users/sychuang/miniconda3/envs/openwpm/lib/python3.9/asyncio/base_events.py:424> created at /Users/sychuang/miniconda3/envs/openwpm/lib/python3.9/asyncio/streams.py:263> took 0.202 seconds\n"
     ]
    },
    {
     "name": "stdout",
     "output_type": "stream",
     "text": [
      "browser_manager      - INFO     - Starting to work on CommandSequence with visit_id 3614585179702502 on browser with id 3797246577\n",
      "browser_manager      - INFO     - BROWSER 3797246577: EXECUTING COMMAND: InitializeCommand()\n",
      "browser_manager      - INFO     - BROWSER 3797246577: EXECUTING COMMAND: GetCommand(http://www.fao.org/ag,1)\n"
     ]
    },
    {
     "name": "stderr",
     "output_type": "stream",
     "text": [
      "Executing <Task pending name='Task-18' coro=<StorageController._handler() running at /Users/sychuang/My Drive (sc2357@cornell.edu)/Curriculum/2022SP/CS 5436 Privacy in the Digital Age/HW1/OpenWPM/openwpm/storage/storage_controller.py:94> wait_for=<Future pending cb=[<TaskWakeupMethWrapper object at 0x10c064370>()] created at /Users/sychuang/miniconda3/envs/openwpm/lib/python3.9/asyncio/base_events.py:424> created at /Users/sychuang/miniconda3/envs/openwpm/lib/python3.9/asyncio/streams.py:263> took 0.784 seconds\n",
      "Executing <Task pending name='Task-12986' coro=<StorageController._handler() running at /Users/sychuang/My Drive (sc2357@cornell.edu)/Curriculum/2022SP/CS 5436 Privacy in the Digital Age/HW1/OpenWPM/openwpm/storage/storage_controller.py:94> wait_for=<Future pending cb=[<TaskWakeupMethWrapper object at 0x10be76d60>()] created at /Users/sychuang/miniconda3/envs/openwpm/lib/python3.9/asyncio/base_events.py:424> created at /Users/sychuang/miniconda3/envs/openwpm/lib/python3.9/asyncio/streams.py:263> took 0.128 seconds\n",
      "Executing <Task pending name='Task-23618' coro=<StorageController._handler() running at /Users/sychuang/My Drive (sc2357@cornell.edu)/Curriculum/2022SP/CS 5436 Privacy in the Digital Age/HW1/OpenWPM/openwpm/storage/storage_controller.py:94> wait_for=<Future pending cb=[<TaskWakeupMethWrapper object at 0x10ed9aa00>()] created at /Users/sychuang/miniconda3/envs/openwpm/lib/python3.9/asyncio/base_events.py:424> created at /Users/sychuang/miniconda3/envs/openwpm/lib/python3.9/asyncio/streams.py:263> took 0.482 seconds\n"
     ]
    },
    {
     "name": "stdout",
     "output_type": "stream",
     "text": [
      "storage_controller   - INFO     - Awaiting all tasks for visit_id 654617052881750\n",
      "browser_manager      - INFO     - Starting to work on CommandSequence with visit_id 1584945722496414 on browser with id 208166444\n",
      "browser_manager      - INFO     - BROWSER 208166444: EXECUTING COMMAND: InitializeCommand()\n",
      "browser_manager      - INFO     - BROWSER 208166444: EXECUTING COMMAND: GetCommand(http://www.agr.gc.ca/,1)\n",
      "storage_controller   - INFO     - Terminating handler, because the underlying socket closed\n",
      "browser_manager      - INFO     - Finished working on CommandSequence with visit_id 4378492543697131 on browser with id 695351479\n"
     ]
    },
    {
     "name": "stderr",
     "output_type": "stream",
     "text": [
      "Executing <Task pending name='Task-26' coro=<StorageController._handler() running at /Users/sychuang/My Drive (sc2357@cornell.edu)/Curriculum/2022SP/CS 5436 Privacy in the Digital Age/HW1/OpenWPM/openwpm/storage/storage_controller.py:94> wait_for=<Future pending cb=[<TaskWakeupMethWrapper object at 0x10c2028b0>()] created at /Users/sychuang/miniconda3/envs/openwpm/lib/python3.9/asyncio/base_events.py:424> created at /Users/sychuang/miniconda3/envs/openwpm/lib/python3.9/asyncio/streams.py:263> took 0.323 seconds\n",
      "Executing <Task pending name='Task-30922' coro=<StorageController._handler() running at /Users/sychuang/My Drive (sc2357@cornell.edu)/Curriculum/2022SP/CS 5436 Privacy in the Digital Age/HW1/OpenWPM/openwpm/storage/storage_controller.py:94> wait_for=<Future pending cb=[<TaskWakeupMethWrapper object at 0x10c064ca0>()] created at /Users/sychuang/miniconda3/envs/openwpm/lib/python3.9/asyncio/base_events.py:424> created at /Users/sychuang/miniconda3/envs/openwpm/lib/python3.9/asyncio/streams.py:263> took 0.370 seconds\n"
     ]
    },
    {
     "name": "stdout",
     "output_type": "stream",
     "text": [
      "browser_manager      - INFO     - BROWSER 3380372220: EXECUTING COMMAND: RecursiveDumpPageSourceCommand()\n",
      "browser_manager      - INFO     - BROWSER 3797246577: EXECUTING COMMAND: RecursiveDumpPageSourceCommand()\n"
     ]
    },
    {
     "name": "stderr",
     "output_type": "stream",
     "text": [
      "Executing <Task pending name='Task-18' coro=<StorageController._handler() running at /Users/sychuang/My Drive (sc2357@cornell.edu)/Curriculum/2022SP/CS 5436 Privacy in the Digital Age/HW1/OpenWPM/openwpm/storage/storage_controller.py:94> wait_for=<Future pending cb=[<TaskWakeupMethWrapper object at 0x10cbe28b0>()] created at /Users/sychuang/miniconda3/envs/openwpm/lib/python3.9/asyncio/base_events.py:424> created at /Users/sychuang/miniconda3/envs/openwpm/lib/python3.9/asyncio/streams.py:263> took 1.044 seconds\n"
     ]
    },
    {
     "name": "stdout",
     "output_type": "stream",
     "text": [
      "browser_manager      - INFO     - BROWSER 3797246577: EXECUTING COMMAND: FinalizeCommand(5)\n",
      "browser_manager      - INFO     - Starting to work on CommandSequence with visit_id 1001189454621324 on browser with id 695351479\n",
      "browser_manager      - INFO     - BROWSER 695351479: EXECUTING COMMAND: InitializeCommand()\n",
      "browser_manager      - INFO     - BROWSER 695351479: EXECUTING COMMAND: GetCommand(http://www.usda.gov/,1)\n"
     ]
    },
    {
     "name": "stderr",
     "output_type": "stream",
     "text": [
      "Executing <Task pending name='Task-23618' coro=<StorageController._handler() running at /Users/sychuang/My Drive (sc2357@cornell.edu)/Curriculum/2022SP/CS 5436 Privacy in the Digital Age/HW1/OpenWPM/openwpm/storage/storage_controller.py:94> wait_for=<Future pending cb=[<TaskWakeupMethWrapper object at 0x10c7fb4f0>()] created at /Users/sychuang/miniconda3/envs/openwpm/lib/python3.9/asyncio/base_events.py:424> created at /Users/sychuang/miniconda3/envs/openwpm/lib/python3.9/asyncio/streams.py:263> took 0.497 seconds\n"
     ]
    },
    {
     "name": "stdout",
     "output_type": "stream",
     "text": [
      "storage_controller   - INFO     - Awaiting all tasks for visit_id 4378492543697131\n"
     ]
    },
    {
     "name": "stderr",
     "output_type": "stream",
     "text": [
      "Executing <Task pending name='Task-34809' coro=<StorageController._handler() running at /Users/sychuang/My Drive (sc2357@cornell.edu)/Curriculum/2022SP/CS 5436 Privacy in the Digital Age/HW1/OpenWPM/openwpm/storage/storage_controller.py:94> wait_for=<Future pending cb=[<TaskWakeupMethWrapper object at 0x10c36ebb0>()] created at /Users/sychuang/miniconda3/envs/openwpm/lib/python3.9/asyncio/base_events.py:424> created at /Users/sychuang/miniconda3/envs/openwpm/lib/python3.9/asyncio/streams.py:263> took 0.768 seconds\n",
      "Executing <Task pending name='Task-30922' coro=<StorageController._handler() running at /Users/sychuang/My Drive (sc2357@cornell.edu)/Curriculum/2022SP/CS 5436 Privacy in the Digital Age/HW1/OpenWPM/openwpm/storage/storage_controller.py:94> wait_for=<Future pending cb=[<TaskWakeupMethWrapper object at 0x10c9817c0>()] created at /Users/sychuang/miniconda3/envs/openwpm/lib/python3.9/asyncio/base_events.py:424> created at /Users/sychuang/miniconda3/envs/openwpm/lib/python3.9/asyncio/streams.py:263> took 0.528 seconds\n"
     ]
    },
    {
     "name": "stdout",
     "output_type": "stream",
     "text": [
      "browser_manager      - INFO     - BROWSER 3380372220: EXECUTING COMMAND: FinalizeCommand(5)\n",
      "browser_manager      - INFO     - BROWSER 208166444: EXECUTING COMMAND: RecursiveDumpPageSourceCommand()\n"
     ]
    },
    {
     "name": "stderr",
     "output_type": "stream",
     "text": [
      "Executing <Task pending name='Task-18' coro=<StorageController._handler() running at /Users/sychuang/My Drive (sc2357@cornell.edu)/Curriculum/2022SP/CS 5436 Privacy in the Digital Age/HW1/OpenWPM/openwpm/storage/storage_controller.py:94> wait_for=<Future pending cb=[<TaskWakeupMethWrapper object at 0x10ec7cbb0>()] created at /Users/sychuang/miniconda3/envs/openwpm/lib/python3.9/asyncio/base_events.py:424> created at /Users/sychuang/miniconda3/envs/openwpm/lib/python3.9/asyncio/streams.py:263> took 1.411 seconds\n"
     ]
    },
    {
     "name": "stdout",
     "output_type": "stream",
     "text": [
      "browser_manager      - INFO     - BROWSER 402892290: Launching browser...\n",
      "browser_manager      - INFO     - BROWSER 208166444: EXECUTING COMMAND: FinalizeCommand(5)\n",
      "storage_controller   - INFO     - Terminating handler, because the underlying socket closed\n",
      "CommandSequence for http://www.debencemusicworld.com ran successfully\n"
     ]
    },
    {
     "name": "stderr",
     "output_type": "stream",
     "text": [
      "Executing <Task pending name='Task-39785' coro=<StorageController._handler() running at /Users/sychuang/My Drive (sc2357@cornell.edu)/Curriculum/2022SP/CS 5436 Privacy in the Digital Age/HW1/OpenWPM/openwpm/storage/storage_controller.py:94> wait_for=<Future pending cb=[<TaskWakeupMethWrapper object at 0x10beb9c10>()] created at /Users/sychuang/miniconda3/envs/openwpm/lib/python3.9/asyncio/base_events.py:424> created at /Users/sychuang/miniconda3/envs/openwpm/lib/python3.9/asyncio/streams.py:263> took 0.481 seconds\n",
      "Executing <Task pending name='Task-35552' coro=<StorageController._handler() running at /Users/sychuang/My Drive (sc2357@cornell.edu)/Curriculum/2022SP/CS 5436 Privacy in the Digital Age/HW1/OpenWPM/openwpm/storage/storage_controller.py:94> wait_for=<Future pending cb=[<TaskWakeupMethWrapper object at 0x10ec7c760>()] created at /Users/sychuang/miniconda3/envs/openwpm/lib/python3.9/asyncio/base_events.py:424> created at /Users/sychuang/miniconda3/envs/openwpm/lib/python3.9/asyncio/streams.py:263> took 0.380 seconds\n"
     ]
    },
    {
     "name": "stdout",
     "output_type": "stream",
     "text": [
      "browser_manager      - INFO     - BROWSER 695351479: EXECUTING COMMAND: RecursiveDumpPageSourceCommand()\n",
      "browser_manager      - INFO     - BROWSER 695351479: EXECUTING COMMAND: FinalizeCommand(5)\n"
     ]
    },
    {
     "name": "stderr",
     "output_type": "stream",
     "text": [
      "Executing <Task pending name='Task-30922' coro=<StorageController._handler() running at /Users/sychuang/My Drive (sc2357@cornell.edu)/Curriculum/2022SP/CS 5436 Privacy in the Digital Age/HW1/OpenWPM/openwpm/storage/storage_controller.py:94> wait_for=<Future pending cb=[<TaskWakeupMethWrapper object at 0x10c981d60>()] created at /Users/sychuang/miniconda3/envs/openwpm/lib/python3.9/asyncio/base_events.py:424> created at /Users/sychuang/miniconda3/envs/openwpm/lib/python3.9/asyncio/streams.py:263> took 0.348 seconds\n",
      "Executing <Task pending name='Task-18' coro=<StorageController._handler() running at /Users/sychuang/My Drive (sc2357@cornell.edu)/Curriculum/2022SP/CS 5436 Privacy in the Digital Age/HW1/OpenWPM/openwpm/storage/storage_controller.py:94> wait_for=<Future pending cb=[<TaskWakeupMethWrapper object at 0x10ec7c940>()] created at /Users/sychuang/miniconda3/envs/openwpm/lib/python3.9/asyncio/base_events.py:424> created at /Users/sychuang/miniconda3/envs/openwpm/lib/python3.9/asyncio/streams.py:263> took 0.152 seconds\n"
     ]
    },
    {
     "name": "stdout",
     "output_type": "stream",
     "text": [
      "browser_manager      - INFO     - Finished working on CommandSequence with visit_id 3614585179702502 on browser with id 3797246577\n"
     ]
    },
    {
     "name": "stderr",
     "output_type": "stream",
     "text": [
      "Executing <Task pending name='Task-23618' coro=<StorageController._handler() running at /Users/sychuang/My Drive (sc2357@cornell.edu)/Curriculum/2022SP/CS 5436 Privacy in the Digital Age/HW1/OpenWPM/openwpm/storage/storage_controller.py:94> wait_for=<Future pending cb=[<TaskWakeupMethWrapper object at 0x110bc4b20>()] created at /Users/sychuang/miniconda3/envs/openwpm/lib/python3.9/asyncio/base_events.py:424> created at /Users/sychuang/miniconda3/envs/openwpm/lib/python3.9/asyncio/streams.py:263> took 0.204 seconds\n",
      "Executing <Task pending name='Task-39785' coro=<StorageController._handler() running at /Users/sychuang/My Drive (sc2357@cornell.edu)/Curriculum/2022SP/CS 5436 Privacy in the Digital Age/HW1/OpenWPM/openwpm/storage/storage_controller.py:94> wait_for=<Future pending cb=[<TaskWakeupMethWrapper object at 0x10c981730>()] created at /Users/sychuang/miniconda3/envs/openwpm/lib/python3.9/asyncio/base_events.py:424> created at /Users/sychuang/miniconda3/envs/openwpm/lib/python3.9/asyncio/streams.py:263> took 0.494 seconds\n",
      "Executing <Task pending name='Task-35552' coro=<StorageController._handler() running at /Users/sychuang/My Drive (sc2357@cornell.edu)/Curriculum/2022SP/CS 5436 Privacy in the Digital Age/HW1/OpenWPM/openwpm/storage/storage_controller.py:94> wait_for=<Future pending cb=[<TaskWakeupMethWrapper object at 0x10c0641f0>()] created at /Users/sychuang/miniconda3/envs/openwpm/lib/python3.9/asyncio/base_events.py:424> created at /Users/sychuang/miniconda3/envs/openwpm/lib/python3.9/asyncio/streams.py:263> took 0.498 seconds\n",
      "Executing <Task pending name='Task-30922' coro=<StorageController._handler() running at /Users/sychuang/My Drive (sc2357@cornell.edu)/Curriculum/2022SP/CS 5436 Privacy in the Digital Age/HW1/OpenWPM/openwpm/storage/storage_controller.py:94> wait_for=<Future pending cb=[<TaskWakeupMethWrapper object at 0x10ec7c0a0>()] created at /Users/sychuang/miniconda3/envs/openwpm/lib/python3.9/asyncio/base_events.py:424> created at /Users/sychuang/miniconda3/envs/openwpm/lib/python3.9/asyncio/streams.py:263> took 0.322 seconds\n"
     ]
    },
    {
     "name": "stdout",
     "output_type": "stream",
     "text": [
      "storage_controller   - INFO     - Terminating handler, because the underlying socket closed\n",
      "storage_controller   - INFO     - Awaiting all tasks for visit_id 3614585179702502\n"
     ]
    },
    {
     "name": "stderr",
     "output_type": "stream",
     "text": [
      "Executing <Task pending name='Task-23618' coro=<StorageController._handler() running at /Users/sychuang/My Drive (sc2357@cornell.edu)/Curriculum/2022SP/CS 5436 Privacy in the Digital Age/HW1/OpenWPM/openwpm/storage/storage_controller.py:94> wait_for=<Future pending cb=[<TaskWakeupMethWrapper object at 0x10c36e7c0>()] created at /Users/sychuang/miniconda3/envs/openwpm/lib/python3.9/asyncio/base_events.py:424> created at /Users/sychuang/miniconda3/envs/openwpm/lib/python3.9/asyncio/streams.py:263> took 0.450 seconds\n"
     ]
    },
    {
     "name": "stdout",
     "output_type": "stream",
     "text": [
      "browser_manager      - INFO     - Starting to work on CommandSequence with visit_id 4354126379332629 on browser with id 3797246577\n",
      "browser_manager      - INFO     - BROWSER 3797246577: EXECUTING COMMAND: InitializeCommand()\n",
      "browser_manager      - INFO     - BROWSER 3797246577: EXECUTING COMMAND: GetCommand(http://www.infosysplus.org/,1)\n",
      "browser_manager      - INFO     - Finished working on CommandSequence with visit_id 5267310005292353 on browser with id 3380372220\n"
     ]
    },
    {
     "name": "stderr",
     "output_type": "stream",
     "text": [
      "Executing <Task pending name='Task-30922' coro=<StorageController._handler() running at /Users/sychuang/My Drive (sc2357@cornell.edu)/Curriculum/2022SP/CS 5436 Privacy in the Digital Age/HW1/OpenWPM/openwpm/storage/storage_controller.py:94> wait_for=<Future pending cb=[<TaskWakeupMethWrapper object at 0x10c283940>()] created at /Users/sychuang/miniconda3/envs/openwpm/lib/python3.9/asyncio/base_events.py:424> created at /Users/sychuang/miniconda3/envs/openwpm/lib/python3.9/asyncio/streams.py:263> took 0.318 seconds\n",
      "Executing <Task pending name='Task-23618' coro=<StorageController._handler() running at /Users/sychuang/My Drive (sc2357@cornell.edu)/Curriculum/2022SP/CS 5436 Privacy in the Digital Age/HW1/OpenWPM/openwpm/storage/storage_controller.py:94> wait_for=<Future pending cb=[<TaskWakeupMethWrapper object at 0x10c064eb0>()] created at /Users/sychuang/miniconda3/envs/openwpm/lib/python3.9/asyncio/base_events.py:424> created at /Users/sychuang/miniconda3/envs/openwpm/lib/python3.9/asyncio/streams.py:263> took 0.535 seconds\n",
      "Executing <Task pending name='Task-30922' coro=<StorageController._handler() running at /Users/sychuang/My Drive (sc2357@cornell.edu)/Curriculum/2022SP/CS 5436 Privacy in the Digital Age/HW1/OpenWPM/openwpm/storage/storage_controller.py:94> wait_for=<Future pending cb=[<TaskWakeupMethWrapper object at 0x10c283e20>()] created at /Users/sychuang/miniconda3/envs/openwpm/lib/python3.9/asyncio/base_events.py:424> created at /Users/sychuang/miniconda3/envs/openwpm/lib/python3.9/asyncio/streams.py:263> took 0.327 seconds\n"
     ]
    },
    {
     "name": "stdout",
     "output_type": "stream",
     "text": [
      "browser_manager      - INFO     - Finished working on CommandSequence with visit_id 1584945722496414 on browser with id 208166444\n"
     ]
    },
    {
     "name": "stderr",
     "output_type": "stream",
     "text": [
      "Executing <Task pending name='Task-23618' coro=<StorageController._handler() running at /Users/sychuang/My Drive (sc2357@cornell.edu)/Curriculum/2022SP/CS 5436 Privacy in the Digital Age/HW1/OpenWPM/openwpm/storage/storage_controller.py:94> wait_for=<Future pending cb=[<TaskWakeupMethWrapper object at 0x10c981df0>()] created at /Users/sychuang/miniconda3/envs/openwpm/lib/python3.9/asyncio/base_events.py:424> created at /Users/sychuang/miniconda3/envs/openwpm/lib/python3.9/asyncio/streams.py:263> took 0.734 seconds\n"
     ]
    },
    {
     "name": "stdout",
     "output_type": "stream",
     "text": [
      "browser_manager      - INFO     - BROWSER 2433889453: Launching browser...\n",
      "browser_manager      - INFO     - Starting to work on CommandSequence with visit_id 6263530544956200 on browser with id 402892290\n",
      "browser_manager      - INFO     - BROWSER 402892290: EXECUTING COMMAND: InitializeCommand()\n",
      "browser_manager      - INFO     - BROWSER 402892290: EXECUTING COMMAND: GetCommand(http://www.ruaf.org/,1)\n",
      "browser_manager      - INFO     - Starting to work on CommandSequence with visit_id 1546647745891379 on browser with id 3380372220\n",
      "browser_manager      - INFO     - BROWSER 3380372220: EXECUTING COMMAND: InitializeCommand()\n",
      "browser_manager      - INFO     - BROWSER 3380372220: EXECUTING COMMAND: GetCommand(http://www.garden-infosys.de/,1)\n",
      "browser_manager      - INFO     - Finished working on CommandSequence with visit_id 1001189454621324 on browser with id 695351479\n"
     ]
    },
    {
     "name": "stderr",
     "output_type": "stream",
     "text": [
      "Executing <Task pending name='Task-30922' coro=<StorageController._handler() running at /Users/sychuang/My Drive (sc2357@cornell.edu)/Curriculum/2022SP/CS 5436 Privacy in the Digital Age/HW1/OpenWPM/openwpm/storage/storage_controller.py:94> wait_for=<Future pending cb=[<TaskWakeupMethWrapper object at 0x10c283e50>()] created at /Users/sychuang/miniconda3/envs/openwpm/lib/python3.9/asyncio/base_events.py:424> created at /Users/sychuang/miniconda3/envs/openwpm/lib/python3.9/asyncio/streams.py:263> took 0.592 seconds\n"
     ]
    },
    {
     "name": "stdout",
     "output_type": "stream",
     "text": [
      "storage_controller   - INFO     - Awaiting all tasks for visit_id 1584945722496414\n",
      "browser_manager      - INFO     - BROWSER 3889681542: Launching browser...\n",
      "browser_manager      - INFO     - Starting to work on CommandSequence with visit_id 5792603507430324 on browser with id 208166444\n",
      "browser_manager      - INFO     - BROWSER 208166444: EXECUTING COMMAND: InitializeCommand()\n",
      "browser_manager      - INFO     - BROWSER 208166444: EXECUTING COMMAND: GetCommand(http://dels.nas.edu/banr/,1)\n",
      "browser_manager      - INFO     - BROWSER 3380372220: Received neterror dnsNotFound while executing command: GetCommand(http://www.garden-infosys.de/,1)\n",
      "browser_manager      - INFO     - Finished working on CommandSequence with visit_id 1546647745891379 on browser with id 3380372220\n",
      "browser_manager      - INFO     - Starting to work on CommandSequence with visit_id 389135429326026 on browser with id 695351479\n",
      "browser_manager      - INFO     - BROWSER 695351479: EXECUTING COMMAND: InitializeCommand()\n",
      "browser_manager      - INFO     - BROWSER 695351479: EXECUTING COMMAND: GetCommand(http://www.farminfo.org/,1)\n",
      "browser_manager      - INFO     - BROWSER 3797246577: EXECUTING COMMAND: RecursiveDumpPageSourceCommand()\n",
      "browser_manager      - INFO     - BROWSER 3797246577: EXECUTING COMMAND: FinalizeCommand(5)\n"
     ]
    },
    {
     "name": "stderr",
     "output_type": "stream",
     "text": [
      "Executing <Task pending name='Task-23618' coro=<StorageController._handler() running at /Users/sychuang/My Drive (sc2357@cornell.edu)/Curriculum/2022SP/CS 5436 Privacy in the Digital Age/HW1/OpenWPM/openwpm/storage/storage_controller.py:94> wait_for=<Future pending cb=[<TaskWakeupMethWrapper object at 0x10c36ee50>()] created at /Users/sychuang/miniconda3/envs/openwpm/lib/python3.9/asyncio/base_events.py:424> created at /Users/sychuang/miniconda3/envs/openwpm/lib/python3.9/asyncio/streams.py:263> took 2.402 seconds\n"
     ]
    },
    {
     "name": "stdout",
     "output_type": "stream",
     "text": [
      "browser_manager      - INFO     - BROWSER 3294789765: Timeout while executing command, RecursiveDumpPageSourceCommand(), killing browser manager\n",
      "browser_manager      - INFO     - Finished working on CommandSequence with visit_id 5578129004891164 on browser with id 3294789765\n",
      "browser_manager      - INFO     - BROWSER 695351479: Received neterror dnsNotFound while executing command: GetCommand(http://www.farminfo.org/,1)\n",
      "browser_manager      - INFO     - Finished working on CommandSequence with visit_id 389135429326026 on browser with id 695351479\n",
      "CommandSequence for http://www.antiquelures.com/ ran successfully\n",
      "CommandSequence for http://www.fao.org/ag ran successfully\n"
     ]
    },
    {
     "name": "stderr",
     "output_type": "stream",
     "text": [
      "Executing <Task pending name='Task-39785' coro=<StorageController._handler() running at /Users/sychuang/My Drive (sc2357@cornell.edu)/Curriculum/2022SP/CS 5436 Privacy in the Digital Age/HW1/OpenWPM/openwpm/storage/storage_controller.py:94> wait_for=<Future pending cb=[<TaskWakeupMethWrapper object at 0x10c7fb7f0>()] created at /Users/sychuang/miniconda3/envs/openwpm/lib/python3.9/asyncio/base_events.py:424> created at /Users/sychuang/miniconda3/envs/openwpm/lib/python3.9/asyncio/streams.py:263> took 0.318 seconds\n"
     ]
    },
    {
     "name": "stdout",
     "output_type": "stream",
     "text": [
      "browser_manager      - INFO     - BROWSER 3380372220: BrowserManager restart initiated. Clear profile? False\n"
     ]
    },
    {
     "name": "stderr",
     "output_type": "stream",
     "text": [
      "Executing <Task pending name='Task-34809' coro=<StorageController._handler() running at /Users/sychuang/My Drive (sc2357@cornell.edu)/Curriculum/2022SP/CS 5436 Privacy in the Digital Age/HW1/OpenWPM/openwpm/storage/storage_controller.py:94> wait_for=<Future pending cb=[<TaskWakeupMethWrapper object at 0x10ed9a8e0>()] created at /Users/sychuang/miniconda3/envs/openwpm/lib/python3.9/asyncio/base_events.py:424> created at /Users/sychuang/miniconda3/envs/openwpm/lib/python3.9/asyncio/streams.py:263> took 0.262 seconds\n"
     ]
    },
    {
     "name": "stdout",
     "output_type": "stream",
     "text": [
      "storage_controller   - INFO     - Awaiting all tasks for visit_id 1546647745891379\n",
      "storage_controller   - INFO     - Awaiting all tasks for visit_id 1001189454621324\n"
     ]
    },
    {
     "name": "stderr",
     "output_type": "stream",
     "text": [
      "Executing <Task pending name='Task-30922' coro=<StorageController._handler() running at /Users/sychuang/My Drive (sc2357@cornell.edu)/Curriculum/2022SP/CS 5436 Privacy in the Digital Age/HW1/OpenWPM/openwpm/storage/storage_controller.py:94> wait_for=<Future pending cb=[<TaskWakeupMethWrapper object at 0x10c981730>()] created at /Users/sychuang/miniconda3/envs/openwpm/lib/python3.9/asyncio/base_events.py:424> created at /Users/sychuang/miniconda3/envs/openwpm/lib/python3.9/asyncio/streams.py:263> took 0.434 seconds\n"
     ]
    },
    {
     "name": "stdout",
     "output_type": "stream",
     "text": [
      "browser_manager      - INFO     - BROWSER 208166444: EXECUTING COMMAND: RecursiveDumpPageSourceCommand()\n"
     ]
    },
    {
     "name": "stderr",
     "output_type": "stream",
     "text": [
      "Executing <Task pending name='Task-23618' coro=<StorageController._handler() running at /Users/sychuang/My Drive (sc2357@cornell.edu)/Curriculum/2022SP/CS 5436 Privacy in the Digital Age/HW1/OpenWPM/openwpm/storage/storage_controller.py:94> wait_for=<Future pending cb=[<TaskWakeupMethWrapper object at 0x10bec2340>()] created at /Users/sychuang/miniconda3/envs/openwpm/lib/python3.9/asyncio/base_events.py:424> created at /Users/sychuang/miniconda3/envs/openwpm/lib/python3.9/asyncio/streams.py:263> took 0.733 seconds\n"
     ]
    },
    {
     "name": "stdout",
     "output_type": "stream",
     "text": [
      "browser_manager      - ERROR    - BROWSER 402892290: WebDriverException while executing command\n",
      "Traceback (most recent call last):\n",
      "  File \"/Users/sychuang/My Drive (sc2357@cornell.edu)/Curriculum/2022SP/CS 5436 Privacy in the Digital Age/HW1/OpenWPM/openwpm/browser_manager.py\", line 761, in run\n",
      "    command.execute(\n",
      "  File \"/Users/sychuang/My Drive (sc2357@cornell.edu)/Curriculum/2022SP/CS 5436 Privacy in the Digital Age/HW1/OpenWPM/openwpm/commands/browser_commands.py\", line 142, in execute\n",
      "    webdriver.get(self.url)\n",
      "  File \"/Users/sychuang/miniconda3/envs/openwpm/lib/python3.9/site-packages/selenium/webdriver/remote/webdriver.py\", line 333, in get\n",
      "    self.execute(Command.GET, {'url': url})\n",
      "  File \"/Users/sychuang/miniconda3/envs/openwpm/lib/python3.9/site-packages/selenium/webdriver/remote/webdriver.py\", line 321, in execute\n",
      "    self.error_handler.check_response(response)\n",
      "  File \"/Users/sychuang/miniconda3/envs/openwpm/lib/python3.9/site-packages/selenium/webdriver/remote/errorhandler.py\", line 242, in check_response\n",
      "    raise exception_class(message, screen, stacktrace)\n",
      "selenium.common.exceptions.WebDriverException: Message: Failed to decode response from marionette\n",
      "\n",
      "browser_manager      - INFO     - BROWSER 402892290: Received failure status while executing command: GetCommand(http://www.ruaf.org/,1)\n",
      "browser_manager      - INFO     - Finished working on CommandSequence with visit_id 6263530544956200 on browser with id 402892290\n",
      "browser_manager      - INFO     - BROWSER 3294789765: BrowserManager restart initiated. Clear profile? False\n",
      "browser_manager      - INFO     - BROWSER 695351479: BrowserManager restart initiated. Clear profile? False\n"
     ]
    },
    {
     "name": "stderr",
     "output_type": "stream",
     "text": [
      "Executing <Task pending name='Task-43033' coro=<StorageController._handler() running at /Users/sychuang/My Drive (sc2357@cornell.edu)/Curriculum/2022SP/CS 5436 Privacy in the Digital Age/HW1/OpenWPM/openwpm/storage/storage_controller.py:94> wait_for=<Future pending cb=[<TaskWakeupMethWrapper object at 0x10ec7cc40>()] created at /Users/sychuang/miniconda3/envs/openwpm/lib/python3.9/asyncio/base_events.py:424> created at /Users/sychuang/miniconda3/envs/openwpm/lib/python3.9/asyncio/streams.py:263> took 0.774 seconds\n"
     ]
    },
    {
     "name": "stdout",
     "output_type": "stream",
     "text": [
      "sql_provider         - WARNING  - Visit with visit_id 1546647745891379 got interrupted\n",
      "storage_controller   - INFO     - Awaiting all tasks for visit_id 5578129004891164\n"
     ]
    },
    {
     "name": "stderr",
     "output_type": "stream",
     "text": [
      "Executing <Task pending name='Task-39785' coro=<StorageController._handler() running at /Users/sychuang/My Drive (sc2357@cornell.edu)/Curriculum/2022SP/CS 5436 Privacy in the Digital Age/HW1/OpenWPM/openwpm/storage/storage_controller.py:94> wait_for=<Future pending cb=[<TaskWakeupMethWrapper object at 0x10c283a30>()] created at /Users/sychuang/miniconda3/envs/openwpm/lib/python3.9/asyncio/base_events.py:424> created at /Users/sychuang/miniconda3/envs/openwpm/lib/python3.9/asyncio/streams.py:263> took 0.389 seconds\n"
     ]
    },
    {
     "name": "stdout",
     "output_type": "stream",
     "text": [
      "browser_manager      - INFO     - BROWSER 402892290: BrowserManager restart initiated. Clear profile? False\n"
     ]
    },
    {
     "name": "stderr",
     "output_type": "stream",
     "text": [
      "Executing <Task pending name='Task-30922' coro=<StorageController._handler() running at /Users/sychuang/My Drive (sc2357@cornell.edu)/Curriculum/2022SP/CS 5436 Privacy in the Digital Age/HW1/OpenWPM/openwpm/storage/storage_controller.py:94> wait_for=<Future pending cb=[<TaskWakeupMethWrapper object at 0x10ed9aca0>()] created at /Users/sychuang/miniconda3/envs/openwpm/lib/python3.9/asyncio/base_events.py:424> created at /Users/sychuang/miniconda3/envs/openwpm/lib/python3.9/asyncio/streams.py:263> took 1.096 seconds\n"
     ]
    },
    {
     "name": "stdout",
     "output_type": "stream",
     "text": [
      "browser_manager      - INFO     - Finished working on CommandSequence with visit_id 4354126379332629 on browser with id 3797246577\n"
     ]
    },
    {
     "name": "stderr",
     "output_type": "stream",
     "text": [
      "Executing <Task pending name='Task-23618' coro=<StorageController._handler() running at /Users/sychuang/My Drive (sc2357@cornell.edu)/Curriculum/2022SP/CS 5436 Privacy in the Digital Age/HW1/OpenWPM/openwpm/storage/storage_controller.py:94> wait_for=<Future pending cb=[<TaskWakeupMethWrapper object at 0x10c064c70>()] created at /Users/sychuang/miniconda3/envs/openwpm/lib/python3.9/asyncio/base_events.py:424> created at /Users/sychuang/miniconda3/envs/openwpm/lib/python3.9/asyncio/streams.py:263> took 1.036 seconds\n"
     ]
    },
    {
     "name": "stdout",
     "output_type": "stream",
     "text": [
      "browser_manager      - INFO     - BROWSER 402892290: Launching browser...\n"
     ]
    },
    {
     "name": "stderr",
     "output_type": "stream",
     "text": [
      "Executing <Task finished name='Task-43657' coro=<SQLiteStorageProvider.store_record() done, defined at /Users/sychuang/My Drive (sc2357@cornell.edu)/Curriculum/2022SP/CS 5436 Privacy in the Digital Age/HW1/OpenWPM/openwpm/storage/sql_provider.py:48> result=None created at /Users/sychuang/miniconda3/envs/openwpm/lib/python3.9/asyncio/tasks.py:361> took 0.282 seconds\n"
     ]
    },
    {
     "name": "stdout",
     "output_type": "stream",
     "text": [
      "storage_controller   - INFO     - Terminating handler, because the underlying socket closed\n",
      "storage_controller   - INFO     - Terminating handler, because the underlying socket closed\n",
      "sql_provider         - WARNING  - Visit with visit_id 5578129004891164 got interrupted\n",
      "storage_controller   - INFO     - Awaiting all tasks for visit_id 389135429326026\n"
     ]
    },
    {
     "name": "stderr",
     "output_type": "stream",
     "text": [
      "Executing <Task pending name='Task-10' coro=<StorageController._handler() running at /Users/sychuang/My Drive (sc2357@cornell.edu)/Curriculum/2022SP/CS 5436 Privacy in the Digital Age/HW1/OpenWPM/openwpm/storage/storage_controller.py:94> wait_for=<Task pending name='Task-44050' coro=<SQLiteStorageProvider.store_record() running at /Users/sychuang/My Drive (sc2357@cornell.edu)/Curriculum/2022SP/CS 5436 Privacy in the Digital Age/HW1/OpenWPM/openwpm/storage/sql_provider.py:48> cb=[<TaskWakeupMethWrapper object at 0x10cbe2f10>()] created at /Users/sychuang/miniconda3/envs/openwpm/lib/python3.9/asyncio/tasks.py:361> created at /Users/sychuang/miniconda3/envs/openwpm/lib/python3.9/asyncio/streams.py:263> took 0.348 seconds\n"
     ]
    },
    {
     "name": "stdout",
     "output_type": "stream",
     "text": [
      "browser_manager      - INFO     - BROWSER 208166444: EXECUTING COMMAND: FinalizeCommand(5)\n",
      "browser_manager      - INFO     - Starting to work on CommandSequence with visit_id 1015318766844275 on browser with id 2433889453\n",
      "browser_manager      - INFO     - BROWSER 2433889453: EXECUTING COMMAND: InitializeCommand()\n",
      "browser_manager      - INFO     - BROWSER 2433889453: EXECUTING COMMAND: GetCommand(http://www.ciat.cgiar.org,1)\n"
     ]
    },
    {
     "name": "stderr",
     "output_type": "stream",
     "text": [
      "Executing <Task pending name='Task-39785' coro=<StorageController._handler() running at /Users/sychuang/My Drive (sc2357@cornell.edu)/Curriculum/2022SP/CS 5436 Privacy in the Digital Age/HW1/OpenWPM/openwpm/storage/storage_controller.py:94> wait_for=<Future pending cb=[<TaskWakeupMethWrapper object at 0x10c7fb9d0>()] created at /Users/sychuang/miniconda3/envs/openwpm/lib/python3.9/asyncio/base_events.py:424> created at /Users/sychuang/miniconda3/envs/openwpm/lib/python3.9/asyncio/streams.py:263> took 0.838 seconds\n"
     ]
    },
    {
     "name": "stdout",
     "output_type": "stream",
     "text": [
      "browser_manager      - INFO     - Starting to work on CommandSequence with visit_id 7286453644054520 on browser with id 3797246577\n",
      "browser_manager      - INFO     - BROWSER 3797246577: EXECUTING COMMAND: InitializeCommand()\n",
      "browser_manager      - INFO     - BROWSER 3797246577: EXECUTING COMMAND: GetCommand(http://www.niab.com/,1)\n"
     ]
    },
    {
     "name": "stderr",
     "output_type": "stream",
     "text": [
      "Executing <Task pending name='Task-30922' coro=<StorageController._handler() running at /Users/sychuang/My Drive (sc2357@cornell.edu)/Curriculum/2022SP/CS 5436 Privacy in the Digital Age/HW1/OpenWPM/openwpm/storage/storage_controller.py:94> wait_for=<Future pending cb=[<TaskWakeupMethWrapper object at 0x10c283c10>()] created at /Users/sychuang/miniconda3/envs/openwpm/lib/python3.9/asyncio/base_events.py:424> created at /Users/sychuang/miniconda3/envs/openwpm/lib/python3.9/asyncio/streams.py:263> took 0.694 seconds\n"
     ]
    },
    {
     "name": "stdout",
     "output_type": "stream",
     "text": [
      "storage_controller   - INFO     - Awaiting all tasks for visit_id 4354126379332629\n",
      "browser_manager      - INFO     - BROWSER 3380372220: Launching browser...\n"
     ]
    },
    {
     "name": "stderr",
     "output_type": "stream",
     "text": [
      "Executing <Task pending name='Task-23618' coro=<StorageController._handler() running at /Users/sychuang/My Drive (sc2357@cornell.edu)/Curriculum/2022SP/CS 5436 Privacy in the Digital Age/HW1/OpenWPM/openwpm/storage/storage_controller.py:94> wait_for=<Future pending cb=[<TaskWakeupMethWrapper object at 0x10ec7c8b0>()] created at /Users/sychuang/miniconda3/envs/openwpm/lib/python3.9/asyncio/base_events.py:424> created at /Users/sychuang/miniconda3/envs/openwpm/lib/python3.9/asyncio/streams.py:263> took 0.749 seconds\n"
     ]
    },
    {
     "name": "stdout",
     "output_type": "stream",
     "text": [
      "sql_provider         - WARNING  - Visit with visit_id 389135429326026 got interrupted\n",
      "storage_controller   - INFO     - Awaiting all tasks for visit_id 6263530544956200\n"
     ]
    },
    {
     "name": "stderr",
     "output_type": "stream",
     "text": [
      "Executing <Task pending name='Task-10' coro=<StorageController._handler() running at /Users/sychuang/My Drive (sc2357@cornell.edu)/Curriculum/2022SP/CS 5436 Privacy in the Digital Age/HW1/OpenWPM/openwpm/storage/storage_controller.py:94> wait_for=<Task pending name='Task-44471' coro=<SQLiteStorageProvider.store_record() running at /Users/sychuang/My Drive (sc2357@cornell.edu)/Curriculum/2022SP/CS 5436 Privacy in the Digital Age/HW1/OpenWPM/openwpm/storage/sql_provider.py:48> cb=[<TaskWakeupMethWrapper object at 0x10c9817f0>()] created at /Users/sychuang/miniconda3/envs/openwpm/lib/python3.9/asyncio/tasks.py:361> created at /Users/sychuang/miniconda3/envs/openwpm/lib/python3.9/asyncio/streams.py:263> took 0.395 seconds\n"
     ]
    },
    {
     "name": "stdout",
     "output_type": "stream",
     "text": [
      "CommandSequence for http://www.agr.gc.ca/ ran successfullybrowser_manager      - INFO     - Starting to work on CommandSequence with visit_id 5591259286223698 on browser with id 3889681542\n",
      "\n",
      "browser_manager      - INFO     - BROWSER 3889681542: EXECUTING COMMAND: InitializeCommand()\n",
      "browser_manager      - INFO     - BROWSER 3889681542: EXECUTING COMMAND: GetCommand(http://www.dowahdiddy.com/,1)\n",
      "CommandSequence for http://www.garden-infosys.de/ ran unsuccessfully\n",
      "CommandSequence for http://www.usda.gov/ ran successfully\n",
      "CommandSequence for http://www.cnn.com/ ran unsuccessfully\n",
      "CommandSequence for http://www.infosysplus.org/ ran successfully\n",
      "browser_manager      - INFO     - BROWSER 695351479: Launching browser...\n"
     ]
    },
    {
     "name": "stderr",
     "output_type": "stream",
     "text": [
      "Executing <Task pending name='Task-39785' coro=<StorageController._handler() running at /Users/sychuang/My Drive (sc2357@cornell.edu)/Curriculum/2022SP/CS 5436 Privacy in the Digital Age/HW1/OpenWPM/openwpm/storage/storage_controller.py:94> wait_for=<Future pending cb=[<TaskWakeupMethWrapper object at 0x10c283250>()] created at /Users/sychuang/miniconda3/envs/openwpm/lib/python3.9/asyncio/base_events.py:424> created at /Users/sychuang/miniconda3/envs/openwpm/lib/python3.9/asyncio/streams.py:263> took 0.828 seconds\n",
      "Executing <Task pending name='Task-34809' coro=<StorageController._handler() running at /Users/sychuang/My Drive (sc2357@cornell.edu)/Curriculum/2022SP/CS 5436 Privacy in the Digital Age/HW1/OpenWPM/openwpm/storage/storage_controller.py:94> wait_for=<Future pending cb=[<TaskWakeupMethWrapper object at 0x10ed9a640>()] created at /Users/sychuang/miniconda3/envs/openwpm/lib/python3.9/asyncio/base_events.py:424> created at /Users/sychuang/miniconda3/envs/openwpm/lib/python3.9/asyncio/streams.py:263> took 0.206 seconds\n",
      "Executing <Task pending name='Task-30922' coro=<StorageController._handler() running at /Users/sychuang/My Drive (sc2357@cornell.edu)/Curriculum/2022SP/CS 5436 Privacy in the Digital Age/HW1/OpenWPM/openwpm/storage/storage_controller.py:94> wait_for=<Future pending cb=[<TaskWakeupMethWrapper object at 0x10cbe2d90>()] created at /Users/sychuang/miniconda3/envs/openwpm/lib/python3.9/asyncio/base_events.py:424> created at /Users/sychuang/miniconda3/envs/openwpm/lib/python3.9/asyncio/streams.py:263> took 1.012 seconds\n",
      "Executing <Task pending name='Task-23618' coro=<StorageController._handler() running at /Users/sychuang/My Drive (sc2357@cornell.edu)/Curriculum/2022SP/CS 5436 Privacy in the Digital Age/HW1/OpenWPM/openwpm/storage/storage_controller.py:94> wait_for=<Future pending cb=[<TaskWakeupMethWrapper object at 0x10c36eac0>()] created at /Users/sychuang/miniconda3/envs/openwpm/lib/python3.9/asyncio/base_events.py:424> created at /Users/sychuang/miniconda3/envs/openwpm/lib/python3.9/asyncio/streams.py:263> took 1.030 seconds\n"
     ]
    },
    {
     "name": "stdout",
     "output_type": "stream",
     "text": [
      "sql_provider         - WARNING  - Visit with visit_id 6263530544956200 got interrupted\n",
      "browser_manager      - INFO     - BROWSER 3797246577: EXECUTING COMMAND: RecursiveDumpPageSourceCommand()\n",
      "browser_manager      - INFO     - BROWSER 3797246577: EXECUTING COMMAND: FinalizeCommand(5)\n"
     ]
    },
    {
     "name": "stderr",
     "output_type": "stream",
     "text": [
      "Executing <Task pending name='Task-44472' coro=<StorageController._handler() running at /Users/sychuang/My Drive (sc2357@cornell.edu)/Curriculum/2022SP/CS 5436 Privacy in the Digital Age/HW1/OpenWPM/openwpm/storage/storage_controller.py:94> wait_for=<Future pending cb=[<TaskWakeupMethWrapper object at 0x10ed9a0a0>()] created at /Users/sychuang/miniconda3/envs/openwpm/lib/python3.9/asyncio/base_events.py:424> created at /Users/sychuang/miniconda3/envs/openwpm/lib/python3.9/asyncio/streams.py:263> took 1.778 seconds\n"
     ]
    },
    {
     "name": "stdout",
     "output_type": "stream",
     "text": [
      "browser_manager      - INFO     - BROWSER 3294789765: Launching browser...\n"
     ]
    },
    {
     "name": "stderr",
     "output_type": "stream",
     "text": [
      "Executing <Task pending name='Task-34809' coro=<StorageController._handler() running at /Users/sychuang/My Drive (sc2357@cornell.edu)/Curriculum/2022SP/CS 5436 Privacy in the Digital Age/HW1/OpenWPM/openwpm/storage/storage_controller.py:94> wait_for=<Future pending cb=[<TaskWakeupMethWrapper object at 0x10c36e610>()] created at /Users/sychuang/miniconda3/envs/openwpm/lib/python3.9/asyncio/base_events.py:424> created at /Users/sychuang/miniconda3/envs/openwpm/lib/python3.9/asyncio/streams.py:263> took 0.667 seconds\n",
      "Executing <Task pending name='Task-44473' coro=<StorageController._handler() running at /Users/sychuang/My Drive (sc2357@cornell.edu)/Curriculum/2022SP/CS 5436 Privacy in the Digital Age/HW1/OpenWPM/openwpm/storage/storage_controller.py:94> wait_for=<Future pending cb=[<TaskWakeupMethWrapper object at 0x10beb9be0>()] created at /Users/sychuang/miniconda3/envs/openwpm/lib/python3.9/asyncio/base_events.py:424> created at /Users/sychuang/miniconda3/envs/openwpm/lib/python3.9/asyncio/streams.py:263> took 0.191 seconds\n",
      "Executing <Task pending name='Task-39785' coro=<StorageController._handler() running at /Users/sychuang/My Drive (sc2357@cornell.edu)/Curriculum/2022SP/CS 5436 Privacy in the Digital Age/HW1/OpenWPM/openwpm/storage/storage_controller.py:94> wait_for=<Future pending cb=[<TaskWakeupMethWrapper object at 0x110bc4250>()] created at /Users/sychuang/miniconda3/envs/openwpm/lib/python3.9/asyncio/base_events.py:424> created at /Users/sychuang/miniconda3/envs/openwpm/lib/python3.9/asyncio/streams.py:263> took 0.181 seconds\n",
      "Executing <Task pending name='Task-30922' coro=<StorageController._handler() running at /Users/sychuang/My Drive (sc2357@cornell.edu)/Curriculum/2022SP/CS 5436 Privacy in the Digital Age/HW1/OpenWPM/openwpm/storage/storage_controller.py:94> wait_for=<Future pending cb=[<TaskWakeupMethWrapper object at 0x110ec67f0>()] created at /Users/sychuang/miniconda3/envs/openwpm/lib/python3.9/asyncio/base_events.py:424> created at /Users/sychuang/miniconda3/envs/openwpm/lib/python3.9/asyncio/streams.py:263> took 0.550 seconds\n",
      "Executing <Task pending name='Task-23618' coro=<StorageController._handler() running at /Users/sychuang/My Drive (sc2357@cornell.edu)/Curriculum/2022SP/CS 5436 Privacy in the Digital Age/HW1/OpenWPM/openwpm/storage/storage_controller.py:94> wait_for=<Future pending cb=[<TaskWakeupMethWrapper object at 0x10e102dc0>()] created at /Users/sychuang/miniconda3/envs/openwpm/lib/python3.9/asyncio/base_events.py:424> created at /Users/sychuang/miniconda3/envs/openwpm/lib/python3.9/asyncio/streams.py:263> took 0.468 seconds\n",
      "Executing <Task finished name='Task-45225' coro=<SQLiteStorageProvider.store_record() done, defined at /Users/sychuang/My Drive (sc2357@cornell.edu)/Curriculum/2022SP/CS 5436 Privacy in the Digital Age/HW1/OpenWPM/openwpm/storage/sql_provider.py:48> result=None created at /Users/sychuang/miniconda3/envs/openwpm/lib/python3.9/asyncio/tasks.py:361> took 0.148 seconds\n"
     ]
    },
    {
     "name": "stdout",
     "output_type": "stream",
     "text": [
      "browser_manager      - INFO     - BROWSER 208166444: Timeout while executing command, FinalizeCommand(5), killing browser manager\n",
      "browser_manager      - INFO     - Finished working on CommandSequence with visit_id 5792603507430324 on browser with id 208166444\n"
     ]
    },
    {
     "name": "stderr",
     "output_type": "stream",
     "text": [
      "Executing <Task finished name='Task-45517' coro=<SQLiteStorageProvider.store_record() done, defined at /Users/sychuang/My Drive (sc2357@cornell.edu)/Curriculum/2022SP/CS 5436 Privacy in the Digital Age/HW1/OpenWPM/openwpm/storage/sql_provider.py:48> result=None created at /Users/sychuang/miniconda3/envs/openwpm/lib/python3.9/asyncio/tasks.py:361> took 0.151 seconds\n"
     ]
    },
    {
     "name": "stdout",
     "output_type": "stream",
     "text": [
      "storage_controller   - INFO     - Awaiting all tasks for visit_id 5792603507430324\n",
      "browser_manager      - INFO     - BROWSER 208166444: BrowserManager restart initiated. Clear profile? False\n"
     ]
    },
    {
     "name": "stderr",
     "output_type": "stream",
     "text": [
      "Executing <Task pending name='Task-44473' coro=<StorageController._handler() running at /Users/sychuang/My Drive (sc2357@cornell.edu)/Curriculum/2022SP/CS 5436 Privacy in the Digital Age/HW1/OpenWPM/openwpm/storage/storage_controller.py:94> wait_for=<Future pending cb=[<TaskWakeupMethWrapper object at 0x110bc43a0>()] created at /Users/sychuang/miniconda3/envs/openwpm/lib/python3.9/asyncio/base_events.py:424> created at /Users/sychuang/miniconda3/envs/openwpm/lib/python3.9/asyncio/streams.py:263> took 1.927 seconds\n"
     ]
    },
    {
     "name": "stdout",
     "output_type": "stream",
     "text": [
      "browser_manager      - INFO     - Finished working on CommandSequence with visit_id 7286453644054520 on browser with id 3797246577\n",
      "browser_manager      - INFO     - BROWSER 3889681542: EXECUTING COMMAND: RecursiveDumpPageSourceCommand()\n",
      "browser_manager      - INFO     - BROWSER 3889681542: EXECUTING COMMAND: FinalizeCommand(5)\n",
      "browser_manager      - INFO     - Starting to work on CommandSequence with visit_id 1243070466683318 on browser with id 402892290\n",
      "browser_manager      - INFO     - BROWSER 402892290: EXECUTING COMMAND: InitializeCommand()\n",
      "browser_manager      - INFO     - BROWSER 402892290: EXECUTING COMMAND: GetCommand(http://www.trashdaddy.com/,1)\n",
      "browser_manager      - INFO     - Starting to work on CommandSequence with visit_id 6268987711839442 on browser with id 695351479\n",
      "browser_manager      - INFO     - BROWSER 695351479: EXECUTING COMMAND: InitializeCommand()\n",
      "browser_manager      - INFO     - BROWSER 695351479: EXECUTING COMMAND: GetCommand(http://monimania.home.att.net,1)\n"
     ]
    },
    {
     "name": "stderr",
     "output_type": "stream",
     "text": [
      "Executing <Task pending name='Task-44472' coro=<StorageController._handler() running at /Users/sychuang/My Drive (sc2357@cornell.edu)/Curriculum/2022SP/CS 5436 Privacy in the Digital Age/HW1/OpenWPM/openwpm/storage/storage_controller.py:94> wait_for=<Future pending cb=[<TaskWakeupMethWrapper object at 0x10ed9a580>()] created at /Users/sychuang/miniconda3/envs/openwpm/lib/python3.9/asyncio/base_events.py:424> created at /Users/sychuang/miniconda3/envs/openwpm/lib/python3.9/asyncio/streams.py:263> took 1.190 seconds\n"
     ]
    },
    {
     "name": "stdout",
     "output_type": "stream",
     "text": [
      "browser_manager      - INFO     - BROWSER 695351479: Received neterror dnsNotFound while executing command: GetCommand(http://monimania.home.att.net,1)\n",
      "browser_manager      - INFO     - Finished working on CommandSequence with visit_id 6268987711839442 on browser with id 695351479\n",
      "browser_manager      - INFO     - Starting to work on CommandSequence with visit_id 7505633660648240 on browser with id 3797246577\n",
      "browser_manager      - INFO     - BROWSER 3797246577: EXECUTING COMMAND: InitializeCommand()\n",
      "browser_manager      - INFO     - BROWSER 3797246577: EXECUTING COMMAND: GetCommand(http://ourworld.cs.com/sllmt12345,1)\n",
      "browser_manager      - INFO     - BROWSER 2433889453: EXECUTING COMMAND: RecursiveDumpPageSourceCommand()\n"
     ]
    },
    {
     "name": "stderr",
     "output_type": "stream",
     "text": [
      "Executing <Task pending name='Task-30922' coro=<StorageController._handler() running at /Users/sychuang/My Drive (sc2357@cornell.edu)/Curriculum/2022SP/CS 5436 Privacy in the Digital Age/HW1/OpenWPM/openwpm/storage/storage_controller.py:94> wait_for=<Future pending cb=[<TaskWakeupMethWrapper object at 0x10ec7c4c0>()] created at /Users/sychuang/miniconda3/envs/openwpm/lib/python3.9/asyncio/base_events.py:424> created at /Users/sychuang/miniconda3/envs/openwpm/lib/python3.9/asyncio/streams.py:263> took 1.065 seconds\n"
     ]
    },
    {
     "name": "stdout",
     "output_type": "stream",
     "text": [
      "storage_controller   - INFO     - Awaiting all tasks for visit_id 5932869803478779\n"
     ]
    },
    {
     "name": "stderr",
     "output_type": "stream",
     "text": [
      "Executing <Task finished name='Task-46117' coro=<SQLiteStorageProvider.store_record() done, defined at /Users/sychuang/My Drive (sc2357@cornell.edu)/Curriculum/2022SP/CS 5436 Privacy in the Digital Age/HW1/OpenWPM/openwpm/storage/sql_provider.py:48> result=None created at /Users/sychuang/miniconda3/envs/openwpm/lib/python3.9/asyncio/tasks.py:361> took 0.127 seconds\n"
     ]
    },
    {
     "name": "stdout",
     "output_type": "stream",
     "text": [
      "sql_provider         - WARNING  - Visit with visit_id 5792603507430324 got interrupted\n",
      "storage_controller   - INFO     - Awaiting all tasks for visit_id 6268987711839442\n",
      "storage_controller   - INFO     - Awaiting all tasks for visit_id 5010108955920966\n"
     ]
    },
    {
     "name": "stderr",
     "output_type": "stream",
     "text": [
      "Executing <Task pending name='Task-23618' coro=<StorageController._handler() running at /Users/sychuang/My Drive (sc2357@cornell.edu)/Curriculum/2022SP/CS 5436 Privacy in the Digital Age/HW1/OpenWPM/openwpm/storage/storage_controller.py:94> wait_for=<Task pending name='Task-46572' coro=<SQLiteStorageProvider.store_record() running at /Users/sychuang/My Drive (sc2357@cornell.edu)/Curriculum/2022SP/CS 5436 Privacy in the Digital Age/HW1/OpenWPM/openwpm/storage/sql_provider.py:48> cb=[<TaskWakeupMethWrapper object at 0x10cbe28b0>()] created at /Users/sychuang/miniconda3/envs/openwpm/lib/python3.9/asyncio/tasks.py:361> created at /Users/sychuang/miniconda3/envs/openwpm/lib/python3.9/asyncio/streams.py:263> took 0.405 seconds\n"
     ]
    },
    {
     "name": "stdout",
     "output_type": "stream",
     "text": [
      "CommandSequence for http://www.farminfo.org/ ran unsuccessfully\n",
      "CommandSequence for http://www.ruaf.org/ ran unsuccessfully\n",
      "browser_manager      - INFO     - BROWSER 3797246577: Received neterror dnsNotFound while executing command: GetCommand(http://ourworld.cs.com/sllmt12345,1)\n",
      "browser_manager      - INFO     - Finished working on CommandSequence with visit_id 7505633660648240 on browser with id 3797246577\n"
     ]
    },
    {
     "name": "stderr",
     "output_type": "stream",
     "text": [
      "Executing <Task pending name='Task-44473' coro=<StorageController._handler() running at /Users/sychuang/My Drive (sc2357@cornell.edu)/Curriculum/2022SP/CS 5436 Privacy in the Digital Age/HW1/OpenWPM/openwpm/storage/storage_controller.py:94> wait_for=<Future pending cb=[<TaskWakeupMethWrapper object at 0x10c7fb4c0>()] created at /Users/sychuang/miniconda3/envs/openwpm/lib/python3.9/asyncio/base_events.py:424> created at /Users/sychuang/miniconda3/envs/openwpm/lib/python3.9/asyncio/streams.py:263> took 0.280 seconds\n"
     ]
    },
    {
     "name": "stdout",
     "output_type": "stream",
     "text": [
      "storage_controller   - INFO     - Awaiting all tasks for visit_id 7286453644054520\n"
     ]
    },
    {
     "name": "stderr",
     "output_type": "stream",
     "text": [
      "Executing <Task pending name='Task-46562' coro=<BaseSelectorEventLoop._accept_connection2() running at /Users/sychuang/miniconda3/envs/openwpm/lib/python3.9/asyncio/selector_events.py:218> wait_for=<Future pending cb=[<TaskWakeupMethWrapper object at 0x10c7fbd30>()] created at /Users/sychuang/miniconda3/envs/openwpm/lib/python3.9/asyncio/base_events.py:424> created at /Users/sychuang/miniconda3/envs/openwpm/lib/python3.9/asyncio/selector_events.py:196> took 0.153 seconds\n"
     ]
    },
    {
     "name": "stdout",
     "output_type": "stream",
     "text": [
      "browser_manager      - INFO     - BROWSER 695351479: BrowserManager restart initiated. Clear profile? False\n",
      "browser_manager      - INFO     - Starting to work on CommandSequence with visit_id 893990763597775 on browser with id 3380372220\n",
      "browser_manager      - INFO     - BROWSER 3380372220: EXECUTING COMMAND: InitializeCommand()\n",
      "browser_manager      - INFO     - BROWSER 3380372220: EXECUTING COMMAND: GetCommand(http://www.ohioseeburgrepair.com,1)\n",
      "browser_manager      - INFO     - Starting to work on CommandSequence with visit_id 5011345724853561 on browser with id 3294789765\n",
      "browser_manager      - INFO     - BROWSER 3294789765: EXECUTING COMMAND: InitializeCommand()\n",
      "browser_manager      - INFO     - BROWSER 3294789765: EXECUTING COMMAND: GetCommand(http://www.classicmalt.com,1)\n",
      "browser_manager      - INFO     - BROWSER 2433889453: EXECUTING COMMAND: FinalizeCommand(5)\n",
      "browser_manager      - INFO     - BROWSER 402892290: EXECUTING COMMAND: RecursiveDumpPageSourceCommand()\n",
      "browser_manager      - INFO     - BROWSER 402892290: EXECUTING COMMAND: FinalizeCommand(5)\n"
     ]
    },
    {
     "name": "stderr",
     "output_type": "stream",
     "text": [
      "Executing <Task pending name='Task-44472' coro=<StorageController._handler() running at /Users/sychuang/My Drive (sc2357@cornell.edu)/Curriculum/2022SP/CS 5436 Privacy in the Digital Age/HW1/OpenWPM/openwpm/storage/storage_controller.py:94> wait_for=<Future pending cb=[<TaskWakeupMethWrapper object at 0x10beb9d90>()] created at /Users/sychuang/miniconda3/envs/openwpm/lib/python3.9/asyncio/base_events.py:424> created at /Users/sychuang/miniconda3/envs/openwpm/lib/python3.9/asyncio/streams.py:263> took 1.243 seconds\n"
     ]
    },
    {
     "name": "stdout",
     "output_type": "stream",
     "text": [
      "browser_manager      - INFO     - BROWSER 3797246577: BrowserManager restart initiated. Clear profile? False\n",
      "browser_manager      - INFO     - BROWSER 208166444: Launching browser...\n",
      "browser_manager      - INFO     - Finished working on CommandSequence with visit_id 5591259286223698 on browser with id 3889681542\n",
      "storage_controller   - INFO     - Awaiting all tasks for visit_id 5792603507430324\n"
     ]
    },
    {
     "name": "stderr",
     "output_type": "stream",
     "text": [
      "Executing <Task pending name='Task-39785' coro=<StorageController._handler() running at /Users/sychuang/My Drive (sc2357@cornell.edu)/Curriculum/2022SP/CS 5436 Privacy in the Digital Age/HW1/OpenWPM/openwpm/storage/storage_controller.py:94> wait_for=<Task pending name='Task-47006' coro=<SQLiteStorageProvider.store_record() running at /Users/sychuang/My Drive (sc2357@cornell.edu)/Curriculum/2022SP/CS 5436 Privacy in the Digital Age/HW1/OpenWPM/openwpm/storage/sql_provider.py:48> cb=[<TaskWakeupMethWrapper object at 0x110ec6b50>()] created at /Users/sychuang/miniconda3/envs/openwpm/lib/python3.9/asyncio/tasks.py:361> created at /Users/sychuang/miniconda3/envs/openwpm/lib/python3.9/asyncio/streams.py:263> took 0.612 seconds\n",
      "Executing <Task pending name='Task-30922' coro=<StorageController._handler() running at /Users/sychuang/My Drive (sc2357@cornell.edu)/Curriculum/2022SP/CS 5436 Privacy in the Digital Age/HW1/OpenWPM/openwpm/storage/storage_controller.py:94> wait_for=<Future pending cb=[<TaskWakeupMethWrapper object at 0x10ec7cc40>()] created at /Users/sychuang/miniconda3/envs/openwpm/lib/python3.9/asyncio/base_events.py:424> created at /Users/sychuang/miniconda3/envs/openwpm/lib/python3.9/asyncio/streams.py:263> took 0.207 seconds\n"
     ]
    },
    {
     "name": "stdout",
     "output_type": "stream",
     "text": [
      "sql_provider         - WARNING  - Visit with visit_id 6268987711839442 got interrupted\n",
      "storage_controller   - INFO     - Awaiting all tasks for visit_id 7505633660648240\n",
      "storage_controller   - INFO     - Awaiting all tasks for visit_id 5489583607411376\n",
      "storage_controller   - INFO     - Terminating handler, because the underlying socket closed\n",
      "browser_manager      - INFO     - BROWSER 695351479: Launching browser...\n",
      "browser_manager      - INFO     - BROWSER 3294789765: EXECUTING COMMAND: RecursiveDumpPageSourceCommand()\n",
      "browser_manager      - INFO     - BROWSER 3294789765: EXECUTING COMMAND: FinalizeCommand(5)\n"
     ]
    },
    {
     "name": "stderr",
     "output_type": "stream",
     "text": [
      "Executing <Task pending name='Task-44472' coro=<StorageController._handler() running at /Users/sychuang/My Drive (sc2357@cornell.edu)/Curriculum/2022SP/CS 5436 Privacy in the Digital Age/HW1/OpenWPM/openwpm/storage/storage_controller.py:94> wait_for=<Future pending cb=[<TaskWakeupMethWrapper object at 0x10c283550>()] created at /Users/sychuang/miniconda3/envs/openwpm/lib/python3.9/asyncio/base_events.py:424> created at /Users/sychuang/miniconda3/envs/openwpm/lib/python3.9/asyncio/streams.py:263> took 1.052 seconds\n"
     ]
    },
    {
     "name": "stdout",
     "output_type": "stream",
     "text": [
      "storage_controller   - INFO     - Awaiting all tasks for visit_id 5591259286223698\n"
     ]
    },
    {
     "name": "stderr",
     "output_type": "stream",
     "text": [
      "Executing <Task finished name='Task-47366' coro=<SQLiteStorageProvider.store_record() done, defined at /Users/sychuang/My Drive (sc2357@cornell.edu)/Curriculum/2022SP/CS 5436 Privacy in the Digital Age/HW1/OpenWPM/openwpm/storage/sql_provider.py:48> result=None created at /Users/sychuang/miniconda3/envs/openwpm/lib/python3.9/asyncio/tasks.py:361> took 0.101 seconds\n"
     ]
    },
    {
     "name": "stdout",
     "output_type": "stream",
     "text": [
      "storage_controller   - INFO     - Terminating handler, because the underlying socket closed\n",
      "browser_manager      - INFO     - Starting to work on CommandSequence with visit_id 3914436351143762 on browser with id 3889681542\n",
      "browser_manager      - INFO     - BROWSER 3889681542: EXECUTING COMMAND: InitializeCommand()\n",
      "browser_manager      - INFO     - BROWSER 3889681542: EXECUTING COMMAND: GetCommand(http://www.go-kat-go.com/,1)\n"
     ]
    },
    {
     "name": "stderr",
     "output_type": "stream",
     "text": [
      "Executing <Task pending name='Task-47212' coro=<StorageController._handler() running at /Users/sychuang/My Drive (sc2357@cornell.edu)/Curriculum/2022SP/CS 5436 Privacy in the Digital Age/HW1/OpenWPM/openwpm/storage/storage_controller.py:94> wait_for=<Future pending cb=[<TaskWakeupMethWrapper object at 0x110bc4100>()] created at /Users/sychuang/miniconda3/envs/openwpm/lib/python3.9/asyncio/base_events.py:424> created at /Users/sychuang/miniconda3/envs/openwpm/lib/python3.9/asyncio/streams.py:263> took 1.187 seconds\n"
     ]
    },
    {
     "name": "stdout",
     "output_type": "stream",
     "text": [
      "browser_manager      - INFO     - BROWSER 3797246577: Launching browser...\n",
      "browser_manager      - INFO     - Finished working on CommandSequence with visit_id 1015318766844275 on browser with id 2433889453\n",
      "browser_manager      - INFO     - Finished working on CommandSequence with visit_id 1243070466683318 on browser with id 402892290\n"
     ]
    },
    {
     "name": "stderr",
     "output_type": "stream",
     "text": [
      "Executing <Task pending name='Task-47214' coro=<StorageController._handler() running at /Users/sychuang/My Drive (sc2357@cornell.edu)/Curriculum/2022SP/CS 5436 Privacy in the Digital Age/HW1/OpenWPM/openwpm/storage/storage_controller.py:94> wait_for=<Future pending cb=[<TaskWakeupMethWrapper object at 0x10c7fb460>()] created at /Users/sychuang/miniconda3/envs/openwpm/lib/python3.9/asyncio/base_events.py:424> created at /Users/sychuang/miniconda3/envs/openwpm/lib/python3.9/asyncio/streams.py:263> took 1.990 seconds\n"
     ]
    },
    {
     "name": "stdout",
     "output_type": "stream",
     "text": [
      "sql_provider         - WARNING  - Visit with visit_id 7505633660648240 got interrupted\n"
     ]
    },
    {
     "name": "stderr",
     "output_type": "stream",
     "text": [
      "Executing <Task pending name='Task-10' coro=<StorageController._handler() running at /Users/sychuang/My Drive (sc2357@cornell.edu)/Curriculum/2022SP/CS 5436 Privacy in the Digital Age/HW1/OpenWPM/openwpm/storage/storage_controller.py:94> wait_for=<Future pending cb=[<TaskWakeupMethWrapper object at 0x10bec2e80>()] created at /Users/sychuang/miniconda3/envs/openwpm/lib/python3.9/asyncio/base_events.py:424> created at /Users/sychuang/miniconda3/envs/openwpm/lib/python3.9/asyncio/streams.py:263> took 0.284 seconds\n"
     ]
    },
    {
     "name": "stdout",
     "output_type": "stream",
     "text": [
      "browser_manager      - INFO     - Finished working on CommandSequence with visit_id 5011345724853561 on browser with id 3294789765\n",
      "browser_manager      - INFO     - Starting to work on CommandSequence with visit_id 556416356006168 on browser with id 2433889453\n",
      "browser_manager      - INFO     - BROWSER 2433889453: EXECUTING COMMAND: InitializeCommand()\n",
      "browser_manager      - INFO     - BROWSER 2433889453: EXECUTING COMMAND: GetCommand(http://www.decoworld.com,1)\n"
     ]
    },
    {
     "name": "stderr",
     "output_type": "stream",
     "text": [
      "Executing <Task pending name='Task-23618' coro=<StorageController._handler() running at /Users/sychuang/My Drive (sc2357@cornell.edu)/Curriculum/2022SP/CS 5436 Privacy in the Digital Age/HW1/OpenWPM/openwpm/storage/storage_controller.py:94> wait_for=<Future pending cb=[<TaskWakeupMethWrapper object at 0x10c064a60>()] created at /Users/sychuang/miniconda3/envs/openwpm/lib/python3.9/asyncio/base_events.py:424> created at /Users/sychuang/miniconda3/envs/openwpm/lib/python3.9/asyncio/streams.py:263> took 1.259 seconds\n"
     ]
    },
    {
     "name": "stdout",
     "output_type": "stream",
     "text": [
      "browser_manager      - INFO     - Starting to work on CommandSequence with visit_id 2372970650668514 on browser with id 402892290\n",
      "browser_manager      - INFO     - BROWSER 402892290: EXECUTING COMMAND: InitializeCommand()\n",
      "browser_manager      - INFO     - BROWSER 402892290: EXECUTING COMMAND: GetCommand(http://tias.com/stores/grannyscupboard,1)\n"
     ]
    },
    {
     "name": "stderr",
     "output_type": "stream",
     "text": [
      "Executing <Task finished name='Task-47846' coro=<SQLiteStorageProvider.store_record() done, defined at /Users/sychuang/My Drive (sc2357@cornell.edu)/Curriculum/2022SP/CS 5436 Privacy in the Digital Age/HW1/OpenWPM/openwpm/storage/sql_provider.py:48> result=None created at /Users/sychuang/miniconda3/envs/openwpm/lib/python3.9/asyncio/tasks.py:361> took 0.271 seconds\n"
     ]
    },
    {
     "name": "stdout",
     "output_type": "stream",
     "text": [
      "storage_controller   - INFO     - Terminating handler, because the underlying socket closed\n",
      "browser_manager      - INFO     - Starting to work on CommandSequence with visit_id 8677130896869752 on browser with id 3294789765\n",
      "browser_manager      - INFO     - BROWSER 3294789765: EXECUTING COMMAND: InitializeCommand()\n",
      "browser_manager      - INFO     - BROWSER 3294789765: EXECUTING COMMAND: GetCommand(http://www.decodan.com,1)\n"
     ]
    },
    {
     "name": "stderr",
     "output_type": "stream",
     "text": [
      "Executing <Task pending name='Task-44472' coro=<StorageController._handler() running at /Users/sychuang/My Drive (sc2357@cornell.edu)/Curriculum/2022SP/CS 5436 Privacy in the Digital Age/HW1/OpenWPM/openwpm/storage/storage_controller.py:94> wait_for=<Future pending cb=[<TaskWakeupMethWrapper object at 0x10beb9c10>()] created at /Users/sychuang/miniconda3/envs/openwpm/lib/python3.9/asyncio/base_events.py:424> created at /Users/sychuang/miniconda3/envs/openwpm/lib/python3.9/asyncio/streams.py:263> took 2.199 seconds\n",
      "Executing <Task pending name='Task-30922' coro=<StorageController._handler() running at /Users/sychuang/My Drive (sc2357@cornell.edu)/Curriculum/2022SP/CS 5436 Privacy in the Digital Age/HW1/OpenWPM/openwpm/storage/storage_controller.py:94> wait_for=<Future pending cb=[<TaskWakeupMethWrapper object at 0x10c36e730>()] created at /Users/sychuang/miniconda3/envs/openwpm/lib/python3.9/asyncio/base_events.py:424> created at /Users/sychuang/miniconda3/envs/openwpm/lib/python3.9/asyncio/streams.py:263> took 0.362 seconds\n",
      "Executing <Task finished name='Task-48169' coro=<SQLiteStorageProvider.store_record() done, defined at /Users/sychuang/My Drive (sc2357@cornell.edu)/Curriculum/2022SP/CS 5436 Privacy in the Digital Age/HW1/OpenWPM/openwpm/storage/sql_provider.py:48> result=None created at /Users/sychuang/miniconda3/envs/openwpm/lib/python3.9/asyncio/tasks.py:361> took 0.317 seconds\n",
      "Executing <Task finished name='Task-48375' coro=<SQLiteStorageProvider.store_record() done, defined at /Users/sychuang/My Drive (sc2357@cornell.edu)/Curriculum/2022SP/CS 5436 Privacy in the Digital Age/HW1/OpenWPM/openwpm/storage/sql_provider.py:48> result=None created at /Users/sychuang/miniconda3/envs/openwpm/lib/python3.9/asyncio/tasks.py:361> took 0.113 seconds\n"
     ]
    },
    {
     "name": "stdout",
     "output_type": "stream",
     "text": [
      "storage_controller   - INFO     - Awaiting all tasks for visit_id 5011345724853561\n",
      "browser_manager      - INFO     - BROWSER 2433889453: EXECUTING COMMAND: RecursiveDumpPageSourceCommand()\n",
      "browser_manager      - INFO     - BROWSER 2433889453: EXECUTING COMMAND: FinalizeCommand(5)\n",
      "browser_manager      - INFO     - BROWSER 3294789765: EXECUTING COMMAND: RecursiveDumpPageSourceCommand()\n",
      "browser_manager      - INFO     - Starting to work on CommandSequence with visit_id 3356730759697298 on browser with id 208166444\n",
      "browser_manager      - INFO     - BROWSER 208166444: EXECUTING COMMAND: InitializeCommand()\n",
      "browser_manager      - INFO     - BROWSER 208166444: EXECUTING COMMAND: GetCommand(http://www.oarevents.com/,1)\n",
      "browser_manager      - INFO     - BROWSER 3294789765: EXECUTING COMMAND: FinalizeCommand(5)\n"
     ]
    },
    {
     "name": "stderr",
     "output_type": "stream",
     "text": [
      "Executing <Task pending name='Task-44473' coro=<StorageController._handler() running at /Users/sychuang/My Drive (sc2357@cornell.edu)/Curriculum/2022SP/CS 5436 Privacy in the Digital Age/HW1/OpenWPM/openwpm/storage/storage_controller.py:94> wait_for=<Future pending cb=[<TaskWakeupMethWrapper object at 0x10cbe2760>()] created at /Users/sychuang/miniconda3/envs/openwpm/lib/python3.9/asyncio/base_events.py:424> created at /Users/sychuang/miniconda3/envs/openwpm/lib/python3.9/asyncio/streams.py:263> took 3.835 seconds\n"
     ]
    },
    {
     "name": "stdout",
     "output_type": "stream",
     "text": [
      "storage_controller   - INFO     - Awaiting all tasks for visit_id 1243070466683318\n"
     ]
    },
    {
     "name": "stderr",
     "output_type": "stream",
     "text": [
      "Executing <Task pending name='Task-47212' coro=<StorageController._handler() running at /Users/sychuang/My Drive (sc2357@cornell.edu)/Curriculum/2022SP/CS 5436 Privacy in the Digital Age/HW1/OpenWPM/openwpm/storage/storage_controller.py:94> wait_for=<Future pending cb=[<TaskWakeupMethWrapper object at 0x10c283970>()] created at /Users/sychuang/miniconda3/envs/openwpm/lib/python3.9/asyncio/base_events.py:424> created at /Users/sychuang/miniconda3/envs/openwpm/lib/python3.9/asyncio/streams.py:263> took 0.645 seconds\n"
     ]
    },
    {
     "name": "stdout",
     "output_type": "stream",
     "text": [
      "browser_manager      - INFO     - Starting to work on CommandSequence with visit_id 4904902055012157 on browser with id 695351479\n",
      "browser_manager      - INFO     - BROWSER 695351479: EXECUTING COMMAND: InitializeCommand()\n",
      "browser_manager      - INFO     - BROWSER 695351479: EXECUTING COMMAND: GetCommand(http://www.fmij.com,1)\n",
      "browser_manager      - INFO     - BROWSER 695351479: Received neterror dnsNotFound while executing command: GetCommand(http://www.fmij.com,1)\n",
      "browser_manager      - INFO     - Finished working on CommandSequence with visit_id 4904902055012157 on browser with id 695351479\n"
     ]
    },
    {
     "name": "stderr",
     "output_type": "stream",
     "text": [
      "Executing <Task pending name='Task-47214' coro=<StorageController._handler() running at /Users/sychuang/My Drive (sc2357@cornell.edu)/Curriculum/2022SP/CS 5436 Privacy in the Digital Age/HW1/OpenWPM/openwpm/storage/storage_controller.py:94> wait_for=<Future pending cb=[<TaskWakeupMethWrapper object at 0x10c064760>()] created at /Users/sychuang/miniconda3/envs/openwpm/lib/python3.9/asyncio/base_events.py:424> created at /Users/sychuang/miniconda3/envs/openwpm/lib/python3.9/asyncio/streams.py:263> took 1.698 seconds\n",
      "Executing <Task finished name='Task-48792' coro=<SQLiteStorageProvider.store_record() done, defined at /Users/sychuang/My Drive (sc2357@cornell.edu)/Curriculum/2022SP/CS 5436 Privacy in the Digital Age/HW1/OpenWPM/openwpm/storage/sql_provider.py:48> result=None created at /Users/sychuang/miniconda3/envs/openwpm/lib/python3.9/asyncio/tasks.py:361> took 0.253 seconds\n"
     ]
    },
    {
     "name": "stdout",
     "output_type": "stream",
     "text": [
      "storage_controller   - INFO     - Awaiting all tasks for visit_id 4904902055012157\n",
      "CommandSequence for http://dels.nas.edu/banr/ ran unsuccessfully\n",
      "CommandSequence for http://www.nytimes.com/ ran successfully\n",
      "CommandSequence for http://www.niab.com/ ran successfully\n",
      "CommandSequence for http://monimania.home.att.net ran unsuccessfully\n",
      "CommandSequence for http://www.currierprints.com ran successfully\n",
      "CommandSequence for http://www.dowahdiddy.com/ ran successfully\n",
      "CommandSequence for http://ourworld.cs.com/sllmt12345 ran unsuccessfully\n",
      "CommandSequence for http://www.ukulele.com/ ran successfully\n",
      "CommandSequence for http://www.trashdaddy.com/ ran successfully\n",
      "browser_manager      - INFO     - Finished working on CommandSequence with visit_id 556416356006168 on browser with id 2433889453\n"
     ]
    },
    {
     "name": "stderr",
     "output_type": "stream",
     "text": [
      "Executing <Task pending name='Task-23618' coro=<StorageController._handler() running at /Users/sychuang/My Drive (sc2357@cornell.edu)/Curriculum/2022SP/CS 5436 Privacy in the Digital Age/HW1/OpenWPM/openwpm/storage/storage_controller.py:94> wait_for=<Future pending cb=[<TaskWakeupMethWrapper object at 0x10c36ed30>()] created at /Users/sychuang/miniconda3/envs/openwpm/lib/python3.9/asyncio/base_events.py:424> created at /Users/sychuang/miniconda3/envs/openwpm/lib/python3.9/asyncio/streams.py:263> took 1.389 seconds\n"
     ]
    },
    {
     "name": "stdout",
     "output_type": "stream",
     "text": [
      "browser_manager      - INFO     - BROWSER 695351479: BrowserManager restart initiated. Clear profile? False\n",
      "browser_manager      - INFO     - BROWSER 402892290: EXECUTING COMMAND: RecursiveDumpPageSourceCommand()\n",
      "browser_manager      - INFO     - Finished working on CommandSequence with visit_id 8677130896869752 on browser with id 3294789765\n",
      "browser_manager      - INFO     - BROWSER 208166444: EXECUTING COMMAND: RecursiveDumpPageSourceCommand()\n",
      "browser_manager      - INFO     - Starting to work on CommandSequence with visit_id 261557747463411 on browser with id 3797246577\n",
      "browser_manager      - INFO     - BROWSER 3797246577: EXECUTING COMMAND: InitializeCommand()\n",
      "browser_manager      - INFO     - BROWSER 3797246577: EXECUTING COMMAND: GetCommand(http://www.archronicles.com/,1)\n",
      "browser_manager      - INFO     - BROWSER 208166444: EXECUTING COMMAND: FinalizeCommand(5)\n",
      "browser_manager      - INFO     - BROWSER 402892290: EXECUTING COMMAND: FinalizeCommand(5)\n"
     ]
    },
    {
     "name": "stderr",
     "output_type": "stream",
     "text": [
      "Executing <Task pending name='Task-44472' coro=<StorageController._handler() running at /Users/sychuang/My Drive (sc2357@cornell.edu)/Curriculum/2022SP/CS 5436 Privacy in the Digital Age/HW1/OpenWPM/openwpm/storage/storage_controller.py:94> wait_for=<Future pending cb=[<TaskWakeupMethWrapper object at 0x10ec7cf10>()] created at /Users/sychuang/miniconda3/envs/openwpm/lib/python3.9/asyncio/base_events.py:424> created at /Users/sychuang/miniconda3/envs/openwpm/lib/python3.9/asyncio/streams.py:263> took 1.719 seconds\n",
      "Executing <Task pending name='Task-30922' coro=<StorageController._handler() running at /Users/sychuang/My Drive (sc2357@cornell.edu)/Curriculum/2022SP/CS 5436 Privacy in the Digital Age/HW1/OpenWPM/openwpm/storage/storage_controller.py:94> wait_for=<Future pending cb=[<TaskWakeupMethWrapper object at 0x10ed9a8b0>()] created at /Users/sychuang/miniconda3/envs/openwpm/lib/python3.9/asyncio/base_events.py:424> created at /Users/sychuang/miniconda3/envs/openwpm/lib/python3.9/asyncio/streams.py:263> took 0.273 seconds\n"
     ]
    },
    {
     "name": "stdout",
     "output_type": "stream",
     "text": [
      "browser_manager      - INFO     - Starting to work on CommandSequence with visit_id 1393352209044108 on browser with id 2433889453\n",
      "browser_manager      - INFO     - BROWSER 2433889453: EXECUTING COMMAND: InitializeCommand()\n",
      "browser_manager      - INFO     - BROWSER 2433889453: EXECUTING COMMAND: GetCommand(http://www.ar.co.za,1)\n",
      "browser_manager      - INFO     - Starting to work on CommandSequence with visit_id 3614799480860529 on browser with id 3294789765\n",
      "browser_manager      - INFO     - BROWSER 3294789765: EXECUTING COMMAND: InitializeCommand()\n",
      "browser_manager      - INFO     - BROWSER 3294789765: EXECUTING COMMAND: GetCommand(http://www.active.com/moresports/adventureracing/,1)\n",
      "browser_manager      - INFO     - BROWSER 3380372220: EXECUTING COMMAND: RecursiveDumpPageSourceCommand()\n",
      "browser_manager      - INFO     - BROWSER 3889681542: EXECUTING COMMAND: RecursiveDumpPageSourceCommand()\n",
      "browser_manager      - INFO     - BROWSER 3797246577: EXECUTING COMMAND: RecursiveDumpPageSourceCommand()\n"
     ]
    },
    {
     "name": "stderr",
     "output_type": "stream",
     "text": [
      "Executing <Task pending name='Task-47212' coro=<StorageController._handler() running at /Users/sychuang/My Drive (sc2357@cornell.edu)/Curriculum/2022SP/CS 5436 Privacy in the Digital Age/HW1/OpenWPM/openwpm/storage/storage_controller.py:94> wait_for=<Future pending cb=[<TaskWakeupMethWrapper object at 0x10c283a30>()] created at /Users/sychuang/miniconda3/envs/openwpm/lib/python3.9/asyncio/base_events.py:424> created at /Users/sychuang/miniconda3/envs/openwpm/lib/python3.9/asyncio/streams.py:263> took 1.345 seconds\n"
     ]
    },
    {
     "name": "stdout",
     "output_type": "stream",
     "text": [
      "browser_manager      - INFO     - BROWSER 3797246577: EXECUTING COMMAND: FinalizeCommand(5)\n",
      "browser_manager      - INFO     - BROWSER 695351479: Launching browser...\n"
     ]
    },
    {
     "name": "stderr",
     "output_type": "stream",
     "text": [
      "Executing <Task pending name='Task-44473' coro=<StorageController._handler() running at /Users/sychuang/My Drive (sc2357@cornell.edu)/Curriculum/2022SP/CS 5436 Privacy in the Digital Age/HW1/OpenWPM/openwpm/storage/storage_controller.py:94> wait_for=<Future pending cb=[<TaskWakeupMethWrapper object at 0x10ed9a970>()] created at /Users/sychuang/miniconda3/envs/openwpm/lib/python3.9/asyncio/base_events.py:424> created at /Users/sychuang/miniconda3/envs/openwpm/lib/python3.9/asyncio/streams.py:263> took 1.434 seconds\n",
      "Executing <Task pending name='Task-47214' coro=<StorageController._handler() running at /Users/sychuang/My Drive (sc2357@cornell.edu)/Curriculum/2022SP/CS 5436 Privacy in the Digital Age/HW1/OpenWPM/openwpm/storage/storage_controller.py:94> wait_for=<Future pending cb=[<TaskWakeupMethWrapper object at 0x10d978c10>()] created at /Users/sychuang/miniconda3/envs/openwpm/lib/python3.9/asyncio/base_events.py:424> created at /Users/sychuang/miniconda3/envs/openwpm/lib/python3.9/asyncio/streams.py:263> took 1.606 seconds\n"
     ]
    },
    {
     "name": "stdout",
     "output_type": "stream",
     "text": [
      "storage_controller   - INFO     - Awaiting all tasks for visit_id 8677130896869752\n"
     ]
    },
    {
     "name": "stderr",
     "output_type": "stream",
     "text": [
      "Executing <Task pending name='Task-47559' coro=<StorageController._handler() running at /Users/sychuang/My Drive (sc2357@cornell.edu)/Curriculum/2022SP/CS 5436 Privacy in the Digital Age/HW1/OpenWPM/openwpm/storage/storage_controller.py:94> wait_for=<Task pending name='Task-50775' coro=<SQLiteStorageProvider.store_record() running at /Users/sychuang/My Drive (sc2357@cornell.edu)/Curriculum/2022SP/CS 5436 Privacy in the Digital Age/HW1/OpenWPM/openwpm/storage/sql_provider.py:48> cb=[<TaskWakeupMethWrapper object at 0x10c512d30>()] created at /Users/sychuang/miniconda3/envs/openwpm/lib/python3.9/asyncio/tasks.py:361> created at /Users/sychuang/miniconda3/envs/openwpm/lib/python3.9/asyncio/streams.py:263> took 0.399 seconds\n"
     ]
    },
    {
     "name": "stdout",
     "output_type": "stream",
     "text": [
      "sql_provider         - WARNING  - Visit with visit_id 4904902055012157 got interrupted\n",
      "browser_manager      - INFO     - Finished working on CommandSequence with visit_id 3356730759697298 on browser with id 208166444\n",
      "browser_manager      - INFO     - Finished working on CommandSequence with visit_id 2372970650668514 on browser with id 402892290\n"
     ]
    },
    {
     "name": "stderr",
     "output_type": "stream",
     "text": [
      "Executing <Handle _SelectorTransport._add_reader(108, <bound method..., bufsize=0>>>) created at /Users/sychuang/miniconda3/envs/openwpm/lib/python3.9/asyncio/selector_events.py:778> took 0.263 seconds\n"
     ]
    },
    {
     "name": "stdout",
     "output_type": "stream",
     "text": [
      "browser_manager      - INFO     - BROWSER 3889681542: EXECUTING COMMAND: FinalizeCommand(5)\n",
      "browser_manager      - INFO     - Starting to work on CommandSequence with visit_id 8529904718207148 on browser with id 208166444\n",
      "browser_manager      - INFO     - BROWSER 208166444: EXECUTING COMMAND: InitializeCommand()\n",
      "browser_manager      - INFO     - BROWSER 208166444: EXECUTING COMMAND: GetCommand(http://www.checkpointzero.com,1)\n",
      "browser_manager      - INFO     - Starting to work on CommandSequence with visit_id 862312214463887 on browser with id 402892290\n",
      "browser_manager      - INFO     - BROWSER 402892290: EXECUTING COMMAND: InitializeCommand()\n",
      "browser_manager      - INFO     - BROWSER 402892290: EXECUTING COMMAND: GetCommand(http://www.dynamicadventureracing.co.uk/,1)\n",
      "browser_manager      - INFO     - Finished working on CommandSequence with visit_id 261557747463411 on browser with id 3797246577\n"
     ]
    },
    {
     "name": "stderr",
     "output_type": "stream",
     "text": [
      "Executing <Task pending name='Task-23618' coro=<StorageController._handler() running at /Users/sychuang/My Drive (sc2357@cornell.edu)/Curriculum/2022SP/CS 5436 Privacy in the Digital Age/HW1/OpenWPM/openwpm/storage/storage_controller.py:94> wait_for=<Future pending cb=[<TaskWakeupMethWrapper object at 0x110bc4250>()] created at /Users/sychuang/miniconda3/envs/openwpm/lib/python3.9/asyncio/base_events.py:424> created at /Users/sychuang/miniconda3/envs/openwpm/lib/python3.9/asyncio/streams.py:263> took 2.509 seconds\n"
     ]
    },
    {
     "name": "stdout",
     "output_type": "stream",
     "text": [
      "browser_manager      - INFO     - BROWSER 402892290: Received neterror dnsNotFound while executing command: GetCommand(http://www.dynamicadventureracing.co.uk/,1)\n",
      "browser_manager      - INFO     - Finished working on CommandSequence with visit_id 862312214463887 on browser with id 402892290\n"
     ]
    },
    {
     "name": "stderr",
     "output_type": "stream",
     "text": [
      "Executing <Task pending name='Task-44472' coro=<StorageController._handler() running at /Users/sychuang/My Drive (sc2357@cornell.edu)/Curriculum/2022SP/CS 5436 Privacy in the Digital Age/HW1/OpenWPM/openwpm/storage/storage_controller.py:94> wait_for=<Future pending cb=[<TaskWakeupMethWrapper object at 0x110ec6700>()] created at /Users/sychuang/miniconda3/envs/openwpm/lib/python3.9/asyncio/base_events.py:424> created at /Users/sychuang/miniconda3/envs/openwpm/lib/python3.9/asyncio/streams.py:263> took 0.491 seconds\n"
     ]
    },
    {
     "name": "stdout",
     "output_type": "stream",
     "text": [
      "storage_controller   - INFO     - Terminating handler, because the underlying socket closed\n"
     ]
    },
    {
     "name": "stderr",
     "output_type": "stream",
     "text": [
      "Executing <Task finished name='Task-51078' coro=<SQLiteStorageProvider.store_record() done, defined at /Users/sychuang/My Drive (sc2357@cornell.edu)/Curriculum/2022SP/CS 5436 Privacy in the Digital Age/HW1/OpenWPM/openwpm/storage/sql_provider.py:48> result=None created at /Users/sychuang/miniconda3/envs/openwpm/lib/python3.9/asyncio/tasks.py:361> took 0.160 seconds\n"
     ]
    },
    {
     "name": "stdout",
     "output_type": "stream",
     "text": [
      "browser_manager      - INFO     - Starting to work on CommandSequence with visit_id 1689140418981853 on browser with id 3797246577\n",
      "browser_manager      - INFO     - BROWSER 3797246577: EXECUTING COMMAND: InitializeCommand()\n"
     ]
    },
    {
     "name": "stderr",
     "output_type": "stream",
     "text": [
      "Executing <Task pending name='Task-47212' coro=<StorageController._handler() running at /Users/sychuang/My Drive (sc2357@cornell.edu)/Curriculum/2022SP/CS 5436 Privacy in the Digital Age/HW1/OpenWPM/openwpm/storage/storage_controller.py:94> wait_for=<Future pending cb=[<TaskWakeupMethWrapper object at 0x10c064c40>()] created at /Users/sychuang/miniconda3/envs/openwpm/lib/python3.9/asyncio/base_events.py:424> created at /Users/sychuang/miniconda3/envs/openwpm/lib/python3.9/asyncio/streams.py:263> took 0.543 seconds\n"
     ]
    },
    {
     "name": "stdout",
     "output_type": "stream",
     "text": [
      "browser_manager      - INFO     - BROWSER 3797246577: EXECUTING COMMAND: GetCommand(http://www.indianaar.com/,1)\n"
     ]
    },
    {
     "name": "stderr",
     "output_type": "stream",
     "text": [
      "Executing <Task pending name='Task-44473' coro=<StorageController._handler() running at /Users/sychuang/My Drive (sc2357@cornell.edu)/Curriculum/2022SP/CS 5436 Privacy in the Digital Age/HW1/OpenWPM/openwpm/storage/storage_controller.py:94> wait_for=<Future pending cb=[<TaskWakeupMethWrapper object at 0x10beb9df0>()] created at /Users/sychuang/miniconda3/envs/openwpm/lib/python3.9/asyncio/base_events.py:424> created at /Users/sychuang/miniconda3/envs/openwpm/lib/python3.9/asyncio/streams.py:263> took 1.037 seconds\n"
     ]
    },
    {
     "name": "stdout",
     "output_type": "stream",
     "text": [
      "browser_manager      - INFO     - BROWSER 402892290: BrowserManager restart initiated. Clear profile? False\n",
      "browser_manager      - INFO     - BROWSER 208166444: EXECUTING COMMAND: RecursiveDumpPageSourceCommand()\n",
      "browser_manager      - INFO     - BROWSER 208166444: EXECUTING COMMAND: FinalizeCommand(5)\n",
      "browser_manager      - INFO     - Finished working on CommandSequence with visit_id 3914436351143762 on browser with id 3889681542\n"
     ]
    },
    {
     "name": "stderr",
     "output_type": "stream",
     "text": [
      "Executing <Task pending name='Task-47214' coro=<StorageController._handler() running at /Users/sychuang/My Drive (sc2357@cornell.edu)/Curriculum/2022SP/CS 5436 Privacy in the Digital Age/HW1/OpenWPM/openwpm/storage/storage_controller.py:94> wait_for=<Future pending cb=[<TaskWakeupMethWrapper object at 0x10c2830a0>()] created at /Users/sychuang/miniconda3/envs/openwpm/lib/python3.9/asyncio/base_events.py:424> created at /Users/sychuang/miniconda3/envs/openwpm/lib/python3.9/asyncio/streams.py:263> took 1.267 seconds\n"
     ]
    },
    {
     "name": "stdout",
     "output_type": "stream",
     "text": [
      "CommandSequence for http://www.classicmalt.com ran successfully\n",
      "CommandSequence for http://www.fmij.com ran unsuccessfully\n",
      "browser_manager      - INFO     - Starting to work on CommandSequence with visit_id 2369138317631411 on browser with id 3889681542\n",
      "browser_manager      - INFO     - BROWSER 3889681542: EXECUTING COMMAND: InitializeCommand()\n",
      "browser_manager      - INFO     - BROWSER 3889681542: EXECUTING COMMAND: GetCommand(http://www.infiterrasports.com,1)\n"
     ]
    },
    {
     "name": "stderr",
     "output_type": "stream",
     "text": [
      "Executing <Task pending name='Task-47559' coro=<StorageController._handler() running at /Users/sychuang/My Drive (sc2357@cornell.edu)/Curriculum/2022SP/CS 5436 Privacy in the Digital Age/HW1/OpenWPM/openwpm/storage/storage_controller.py:94> wait_for=<Future pending cb=[<TaskWakeupMethWrapper object at 0x10da42400>()] created at /Users/sychuang/miniconda3/envs/openwpm/lib/python3.9/asyncio/base_events.py:424> created at /Users/sychuang/miniconda3/envs/openwpm/lib/python3.9/asyncio/streams.py:263> took 1.220 seconds\n"
     ]
    },
    {
     "name": "stdout",
     "output_type": "stream",
     "text": [
      "storage_controller   - INFO     - Awaiting all tasks for visit_id 862312214463887\n"
     ]
    },
    {
     "name": "stderr",
     "output_type": "stream",
     "text": [
      "Executing <Task pending name='Task-10' coro=<StorageController._handler() running at /Users/sychuang/My Drive (sc2357@cornell.edu)/Curriculum/2022SP/CS 5436 Privacy in the Digital Age/HW1/OpenWPM/openwpm/storage/storage_controller.py:94> wait_for=<Task pending name='Task-52124' coro=<SQLiteStorageProvider.store_record() running at /Users/sychuang/My Drive (sc2357@cornell.edu)/Curriculum/2022SP/CS 5436 Privacy in the Digital Age/HW1/OpenWPM/openwpm/storage/sql_provider.py:48> cb=[<TaskWakeupMethWrapper object at 0x10c283040>()] created at /Users/sychuang/miniconda3/envs/openwpm/lib/python3.9/asyncio/tasks.py:361> created at /Users/sychuang/miniconda3/envs/openwpm/lib/python3.9/asyncio/streams.py:263> took 0.393 seconds\n"
     ]
    },
    {
     "name": "stdout",
     "output_type": "stream",
     "text": [
      "browser_manager      - INFO     - Starting to work on CommandSequence with visit_id 5513764350385352 on browser with id 695351479\n",
      "browser_manager      - INFO     - BROWSER 695351479: EXECUTING COMMAND: InitializeCommand()\n",
      "browser_manager      - INFO     - BROWSER 695351479: EXECUTING COMMAND: GetCommand(http://www.hairyscaryevolutions.com/,1)\n",
      "storage_controller   - INFO     - Awaiting all tasks for visit_id 3356730759697298\n"
     ]
    },
    {
     "name": "stderr",
     "output_type": "stream",
     "text": [
      "Executing <Task pending name='Task-50885' coro=<StorageController._handler() running at /Users/sychuang/My Drive (sc2357@cornell.edu)/Curriculum/2022SP/CS 5436 Privacy in the Digital Age/HW1/OpenWPM/openwpm/storage/storage_controller.py:94> wait_for=<Task pending name='Task-52119' coro=<SQLiteStorageProvider.store_record() running at /Users/sychuang/My Drive (sc2357@cornell.edu)/Curriculum/2022SP/CS 5436 Privacy in the Digital Age/HW1/OpenWPM/openwpm/storage/sql_provider.py:48> cb=[<TaskWakeupMethWrapper object at 0x110ec6760>()] created at /Users/sychuang/miniconda3/envs/openwpm/lib/python3.9/asyncio/tasks.py:361> created at /Users/sychuang/miniconda3/envs/openwpm/lib/python3.9/asyncio/streams.py:263> took 1.220 seconds\n"
     ]
    },
    {
     "name": "stdout",
     "output_type": "stream",
     "text": [
      "storage_controller   - INFO     - Awaiting all tasks for visit_id 261557747463411\n"
     ]
    },
    {
     "name": "stderr",
     "output_type": "stream",
     "text": [
      "Executing <Task pending name='Task-50887' coro=<StorageController._handler() running at /Users/sychuang/My Drive (sc2357@cornell.edu)/Curriculum/2022SP/CS 5436 Privacy in the Digital Age/HW1/OpenWPM/openwpm/storage/storage_controller.py:94> wait_for=<Task pending name='Task-52126' coro=<SQLiteStorageProvider.store_record() running at /Users/sychuang/My Drive (sc2357@cornell.edu)/Curriculum/2022SP/CS 5436 Privacy in the Digital Age/HW1/OpenWPM/openwpm/storage/sql_provider.py:48> cb=[<TaskWakeupMethWrapper object at 0x10ed9a970>()] created at /Users/sychuang/miniconda3/envs/openwpm/lib/python3.9/asyncio/tasks.py:361> created at /Users/sychuang/miniconda3/envs/openwpm/lib/python3.9/asyncio/streams.py:263> took 0.474 seconds\n",
      "Executing <Task pending name='Task-23618' coro=<StorageController._handler() running at /Users/sychuang/My Drive (sc2357@cornell.edu)/Curriculum/2022SP/CS 5436 Privacy in the Digital Age/HW1/OpenWPM/openwpm/storage/storage_controller.py:94> wait_for=<Future pending cb=[<TaskWakeupMethWrapper object at 0x10ed9a250>()] created at /Users/sychuang/miniconda3/envs/openwpm/lib/python3.9/asyncio/base_events.py:424> created at /Users/sychuang/miniconda3/envs/openwpm/lib/python3.9/asyncio/streams.py:263> took 0.104 seconds\n",
      "Executing <Task pending name='Task-44472' coro=<StorageController._handler() running at /Users/sychuang/My Drive (sc2357@cornell.edu)/Curriculum/2022SP/CS 5436 Privacy in the Digital Age/HW1/OpenWPM/openwpm/storage/storage_controller.py:94> wait_for=<Future pending cb=[<TaskWakeupMethWrapper object at 0x10d978f10>()] created at /Users/sychuang/miniconda3/envs/openwpm/lib/python3.9/asyncio/base_events.py:424> created at /Users/sychuang/miniconda3/envs/openwpm/lib/python3.9/asyncio/streams.py:263> took 0.232 seconds\n"
     ]
    },
    {
     "name": "stdout",
     "output_type": "stream",
     "text": [
      "browser_manager      - INFO     - BROWSER 3889681542: EXECUTING COMMAND: RecursiveDumpPageSourceCommand()\n"
     ]
    },
    {
     "name": "stderr",
     "output_type": "stream",
     "text": [
      "Executing <Task finished name='Task-52087' coro=<SQLiteStorageProvider.store_record() done, defined at /Users/sychuang/My Drive (sc2357@cornell.edu)/Curriculum/2022SP/CS 5436 Privacy in the Digital Age/HW1/OpenWPM/openwpm/storage/sql_provider.py:48> result=None created at /Users/sychuang/miniconda3/envs/openwpm/lib/python3.9/asyncio/tasks.py:361> took 0.173 seconds\n"
     ]
    },
    {
     "name": "stdout",
     "output_type": "stream",
     "text": [
      "browser_manager      - INFO     - BROWSER 3889681542: EXECUTING COMMAND: FinalizeCommand(5)\n",
      "storage_controller   - INFO     - Terminating handler, because the underlying socket closed\n",
      "storage_controller   - INFO     - Terminating handler, because the underlying socket closed\n",
      "browser_manager      - INFO     - Finished working on CommandSequence with visit_id 8529904718207148 on browser with id 208166444\n",
      "browser_manager      - INFO     - BROWSER 402892290: Launching browser...\n"
     ]
    },
    {
     "name": "stderr",
     "output_type": "stream",
     "text": [
      "Executing <Task pending name='Task-47212' coro=<StorageController._handler() running at /Users/sychuang/My Drive (sc2357@cornell.edu)/Curriculum/2022SP/CS 5436 Privacy in the Digital Age/HW1/OpenWPM/openwpm/storage/storage_controller.py:94> wait_for=<Future pending cb=[<TaskWakeupMethWrapper object at 0x110ec6d00>()] created at /Users/sychuang/miniconda3/envs/openwpm/lib/python3.9/asyncio/base_events.py:424> created at /Users/sychuang/miniconda3/envs/openwpm/lib/python3.9/asyncio/streams.py:263> took 0.274 seconds\n"
     ]
    },
    {
     "name": "stdout",
     "output_type": "stream",
     "text": [
      "browser_manager      - INFO     - BROWSER 3797246577: EXECUTING COMMAND: RecursiveDumpPageSourceCommand()\n",
      "browser_manager      - INFO     - BROWSER 3797246577: EXECUTING COMMAND: FinalizeCommand(5)\n"
     ]
    },
    {
     "name": "stderr",
     "output_type": "stream",
     "text": [
      "Executing <Task pending name='Task-44473' coro=<StorageController._handler() running at /Users/sychuang/My Drive (sc2357@cornell.edu)/Curriculum/2022SP/CS 5436 Privacy in the Digital Age/HW1/OpenWPM/openwpm/storage/storage_controller.py:94> wait_for=<Future pending cb=[<TaskWakeupMethWrapper object at 0x10c7fb4c0>()] created at /Users/sychuang/miniconda3/envs/openwpm/lib/python3.9/asyncio/base_events.py:424> created at /Users/sychuang/miniconda3/envs/openwpm/lib/python3.9/asyncio/streams.py:263> took 1.241 seconds\n"
     ]
    },
    {
     "name": "stdout",
     "output_type": "stream",
     "text": [
      "browser_manager      - INFO     - BROWSER 2433889453: EXECUTING COMMAND: RecursiveDumpPageSourceCommand()\n",
      "browser_manager      - INFO     - BROWSER 2433889453: EXECUTING COMMAND: FinalizeCommand(5)\n"
     ]
    },
    {
     "name": "stderr",
     "output_type": "stream",
     "text": [
      "Executing <Task pending name='Task-47214' coro=<StorageController._handler() running at /Users/sychuang/My Drive (sc2357@cornell.edu)/Curriculum/2022SP/CS 5436 Privacy in the Digital Age/HW1/OpenWPM/openwpm/storage/storage_controller.py:94> wait_for=<Future pending cb=[<TaskWakeupMethWrapper object at 0x10c512ee0>()] created at /Users/sychuang/miniconda3/envs/openwpm/lib/python3.9/asyncio/base_events.py:424> created at /Users/sychuang/miniconda3/envs/openwpm/lib/python3.9/asyncio/streams.py:263> took 1.886 seconds\n"
     ]
    },
    {
     "name": "stdout",
     "output_type": "stream",
     "text": [
      "browser_manager      - INFO     - BROWSER 3380372220: EXECUTING COMMAND: FinalizeCommand(5)\n"
     ]
    },
    {
     "name": "stderr",
     "output_type": "stream",
     "text": [
      "Executing <Task pending name='Task-50885' coro=<StorageController._handler() running at /Users/sychuang/My Drive (sc2357@cornell.edu)/Curriculum/2022SP/CS 5436 Privacy in the Digital Age/HW1/OpenWPM/openwpm/storage/storage_controller.py:94> wait_for=<Future pending cb=[<TaskWakeupMethWrapper object at 0x110bc4340>()] created at /Users/sychuang/miniconda3/envs/openwpm/lib/python3.9/asyncio/base_events.py:424> created at /Users/sychuang/miniconda3/envs/openwpm/lib/python3.9/asyncio/streams.py:263> took 0.658 seconds\n"
     ]
    },
    {
     "name": "stdout",
     "output_type": "stream",
     "text": [
      "sql_provider         - WARNING  - Visit with visit_id 862312214463887 got interrupted\n"
     ]
    },
    {
     "name": "stderr",
     "output_type": "stream",
     "text": [
      "Executing <Task pending name='Task-10' coro=<StorageController._handler() running at /Users/sychuang/My Drive (sc2357@cornell.edu)/Curriculum/2022SP/CS 5436 Privacy in the Digital Age/HW1/OpenWPM/openwpm/storage/storage_controller.py:94> wait_for=<Future pending cb=[<TaskWakeupMethWrapper object at 0x110bc4760>()] created at /Users/sychuang/miniconda3/envs/openwpm/lib/python3.9/asyncio/base_events.py:424> created at /Users/sychuang/miniconda3/envs/openwpm/lib/python3.9/asyncio/streams.py:263> took 0.168 seconds\n"
     ]
    },
    {
     "name": "stdout",
     "output_type": "stream",
     "text": [
      "browser_manager      - INFO     - Finished working on CommandSequence with visit_id 2369138317631411 on browser with id 3889681542\n",
      "browser_manager      - INFO     - Finished working on CommandSequence with visit_id 1689140418981853 on browser with id 3797246577\n",
      "browser_manager      - INFO     - BROWSER 695351479: EXECUTING COMMAND: RecursiveDumpPageSourceCommand()\n",
      "browser_manager      - INFO     - BROWSER 695351479: EXECUTING COMMAND: FinalizeCommand(5)\n"
     ]
    },
    {
     "name": "stderr",
     "output_type": "stream",
     "text": [
      "Executing <Task pending name='Task-50887' coro=<StorageController._handler() running at /Users/sychuang/My Drive (sc2357@cornell.edu)/Curriculum/2022SP/CS 5436 Privacy in the Digital Age/HW1/OpenWPM/openwpm/storage/storage_controller.py:94> wait_for=<Future pending cb=[<TaskWakeupMethWrapper object at 0x112c76a00>()] created at /Users/sychuang/miniconda3/envs/openwpm/lib/python3.9/asyncio/base_events.py:424> created at /Users/sychuang/miniconda3/envs/openwpm/lib/python3.9/asyncio/streams.py:263> took 2.678 seconds\n",
      "Executing <Task pending name='Task-47559' coro=<StorageController._handler() running at /Users/sychuang/My Drive (sc2357@cornell.edu)/Curriculum/2022SP/CS 5436 Privacy in the Digital Age/HW1/OpenWPM/openwpm/storage/storage_controller.py:94> wait_for=<Future pending cb=[<TaskWakeupMethWrapper object at 0x10ed9a6a0>()] created at /Users/sychuang/miniconda3/envs/openwpm/lib/python3.9/asyncio/base_events.py:424> created at /Users/sychuang/miniconda3/envs/openwpm/lib/python3.9/asyncio/streams.py:263> took 0.549 seconds\n"
     ]
    },
    {
     "name": "stdout",
     "output_type": "stream",
     "text": [
      "browser_manager      - INFO     - Finished working on CommandSequence with visit_id 1393352209044108 on browser with id 2433889453\n"
     ]
    },
    {
     "name": "stderr",
     "output_type": "stream",
     "text": [
      "Executing <Task pending name='Task-44472' coro=<StorageController._handler() running at /Users/sychuang/My Drive (sc2357@cornell.edu)/Curriculum/2022SP/CS 5436 Privacy in the Digital Age/HW1/OpenWPM/openwpm/storage/storage_controller.py:94> wait_for=<Future pending cb=[<TaskWakeupMethWrapper object at 0x10c2837f0>()] created at /Users/sychuang/miniconda3/envs/openwpm/lib/python3.9/asyncio/base_events.py:424> created at /Users/sychuang/miniconda3/envs/openwpm/lib/python3.9/asyncio/streams.py:263> took 0.193 seconds\n",
      "Executing <Task pending name='Task-47212' coro=<StorageController._handler() running at /Users/sychuang/My Drive (sc2357@cornell.edu)/Curriculum/2022SP/CS 5436 Privacy in the Digital Age/HW1/OpenWPM/openwpm/storage/storage_controller.py:94> wait_for=<Future pending cb=[<TaskWakeupMethWrapper object at 0x10d978880>()] created at /Users/sychuang/miniconda3/envs/openwpm/lib/python3.9/asyncio/base_events.py:424> created at /Users/sychuang/miniconda3/envs/openwpm/lib/python3.9/asyncio/streams.py:263> took 0.497 seconds\n",
      "Executing <Task pending name='Task-44473' coro=<StorageController._handler() running at /Users/sychuang/My Drive (sc2357@cornell.edu)/Curriculum/2022SP/CS 5436 Privacy in the Digital Age/HW1/OpenWPM/openwpm/storage/storage_controller.py:94> wait_for=<Future pending cb=[<TaskWakeupMethWrapper object at 0x10c064460>()] created at /Users/sychuang/miniconda3/envs/openwpm/lib/python3.9/asyncio/base_events.py:424> created at /Users/sychuang/miniconda3/envs/openwpm/lib/python3.9/asyncio/streams.py:263> took 0.649 seconds\n",
      "Executing <Task pending name='Task-47214' coro=<StorageController._handler() running at /Users/sychuang/My Drive (sc2357@cornell.edu)/Curriculum/2022SP/CS 5436 Privacy in the Digital Age/HW1/OpenWPM/openwpm/storage/storage_controller.py:94> wait_for=<Future pending cb=[<TaskWakeupMethWrapper object at 0x10cbe2430>()] created at /Users/sychuang/miniconda3/envs/openwpm/lib/python3.9/asyncio/base_events.py:424> created at /Users/sychuang/miniconda3/envs/openwpm/lib/python3.9/asyncio/streams.py:263> took 1.235 seconds\n",
      "Executing <Task finished name='Task-54261' coro=<SQLiteStorageProvider.store_record() done, defined at /Users/sychuang/My Drive (sc2357@cornell.edu)/Curriculum/2022SP/CS 5436 Privacy in the Digital Age/HW1/OpenWPM/openwpm/storage/sql_provider.py:48> result=None created at /Users/sychuang/miniconda3/envs/openwpm/lib/python3.9/asyncio/tasks.py:361> took 0.101 seconds\n"
     ]
    },
    {
     "name": "stdout",
     "output_type": "stream",
     "text": [
      "storage_controller   - INFO     - Awaiting all tasks for visit_id 8529904718207148\n",
      "storage_controller   - INFO     - Awaiting all tasks for visit_id 1689140418981853\n"
     ]
    },
    {
     "name": "stderr",
     "output_type": "stream",
     "text": [
      "Executing <Task pending name='Task-44472' coro=<StorageController._handler() running at /Users/sychuang/My Drive (sc2357@cornell.edu)/Curriculum/2022SP/CS 5436 Privacy in the Digital Age/HW1/OpenWPM/openwpm/storage/storage_controller.py:94> wait_for=<Future pending cb=[<TaskWakeupMethWrapper object at 0x10c283d90>()] created at /Users/sychuang/miniconda3/envs/openwpm/lib/python3.9/asyncio/base_events.py:424> created at /Users/sychuang/miniconda3/envs/openwpm/lib/python3.9/asyncio/streams.py:263> took 0.279 seconds\n"
     ]
    },
    {
     "name": "stdout",
     "output_type": "stream",
     "text": [
      "CommandSequence for http://www.decodan.com ran successfully\n",
      "CommandSequence for http://www.oarevents.com/ ran successfully\n",
      "CommandSequence for http://www.dynamicadventureracing.co.uk/ ran unsuccessfully\n",
      "CommandSequence for http://www.archronicles.com/ ran successfully\n",
      "browser_manager      - INFO     - Finished working on CommandSequence with visit_id 893990763597775 on browser with id 3380372220\n"
     ]
    },
    {
     "name": "stderr",
     "output_type": "stream",
     "text": [
      "Executing <Task pending name='Task-53776' coro=<StorageController._handler() running at /Users/sychuang/My Drive (sc2357@cornell.edu)/Curriculum/2022SP/CS 5436 Privacy in the Digital Age/HW1/OpenWPM/openwpm/storage/storage_controller.py:94> wait_for=<Future pending cb=[<TaskWakeupMethWrapper object at 0x10d84f0d0>()] created at /Users/sychuang/miniconda3/envs/openwpm/lib/python3.9/asyncio/base_events.py:424> created at /Users/sychuang/miniconda3/envs/openwpm/lib/python3.9/asyncio/streams.py:263> took 0.829 seconds\n",
      "Executing <Task pending name='Task-47212' coro=<StorageController._handler() running at /Users/sychuang/My Drive (sc2357@cornell.edu)/Curriculum/2022SP/CS 5436 Privacy in the Digital Age/HW1/OpenWPM/openwpm/storage/storage_controller.py:94> wait_for=<Future pending cb=[<TaskWakeupMethWrapper object at 0x10d84fcd0>()] created at /Users/sychuang/miniconda3/envs/openwpm/lib/python3.9/asyncio/base_events.py:424> created at /Users/sychuang/miniconda3/envs/openwpm/lib/python3.9/asyncio/streams.py:263> took 0.238 seconds\n"
     ]
    },
    {
     "name": "stdout",
     "output_type": "stream",
     "text": [
      "browser_manager      - INFO     - Finished working on CommandSequence with visit_id 5513764350385352 on browser with id 695351479\n"
     ]
    },
    {
     "name": "stderr",
     "output_type": "stream",
     "text": [
      "Executing <Task pending name='Task-44473' coro=<StorageController._handler() running at /Users/sychuang/My Drive (sc2357@cornell.edu)/Curriculum/2022SP/CS 5436 Privacy in the Digital Age/HW1/OpenWPM/openwpm/storage/storage_controller.py:94> wait_for=<Future pending cb=[<TaskWakeupMethWrapper object at 0x10ed9ae20>()] created at /Users/sychuang/miniconda3/envs/openwpm/lib/python3.9/asyncio/base_events.py:424> created at /Users/sychuang/miniconda3/envs/openwpm/lib/python3.9/asyncio/streams.py:263> took 0.278 seconds\n",
      "Executing <Task pending name='Task-47214' coro=<StorageController._handler() running at /Users/sychuang/My Drive (sc2357@cornell.edu)/Curriculum/2022SP/CS 5436 Privacy in the Digital Age/HW1/OpenWPM/openwpm/storage/storage_controller.py:94> wait_for=<Future pending cb=[<TaskWakeupMethWrapper object at 0x110ec6eb0>()] created at /Users/sychuang/miniconda3/envs/openwpm/lib/python3.9/asyncio/base_events.py:424> created at /Users/sychuang/miniconda3/envs/openwpm/lib/python3.9/asyncio/streams.py:263> took 0.520 seconds\n"
     ]
    },
    {
     "name": "stdout",
     "output_type": "stream",
     "text": [
      "storage_controller   - INFO     - Terminating handler, because the underlying socket closed\n"
     ]
    },
    {
     "name": "stderr",
     "output_type": "stream",
     "text": [
      "Executing <Task pending name='Task-47559' coro=<StorageController._handler() running at /Users/sychuang/My Drive (sc2357@cornell.edu)/Curriculum/2022SP/CS 5436 Privacy in the Digital Age/HW1/OpenWPM/openwpm/storage/storage_controller.py:94> wait_for=<Future pending cb=[<TaskWakeupMethWrapper object at 0x10c36e970>()] created at /Users/sychuang/miniconda3/envs/openwpm/lib/python3.9/asyncio/base_events.py:424> created at /Users/sychuang/miniconda3/envs/openwpm/lib/python3.9/asyncio/streams.py:263> took 0.127 seconds\n"
     ]
    },
    {
     "name": "stdout",
     "output_type": "stream",
     "text": [
      "storage_controller   - INFO     - Terminating handler, because the underlying socket closed\n"
     ]
    },
    {
     "name": "stderr",
     "output_type": "stream",
     "text": [
      "Executing <Task pending name='Task-53776' coro=<StorageController._handler() running at /Users/sychuang/My Drive (sc2357@cornell.edu)/Curriculum/2022SP/CS 5436 Privacy in the Digital Age/HW1/OpenWPM/openwpm/storage/storage_controller.py:94> wait_for=<Future pending cb=[<TaskWakeupMethWrapper object at 0x10c512b20>()] created at /Users/sychuang/miniconda3/envs/openwpm/lib/python3.9/asyncio/base_events.py:424> created at /Users/sychuang/miniconda3/envs/openwpm/lib/python3.9/asyncio/streams.py:263> took 0.418 seconds\n",
      "Executing <Task pending name='Task-44473' coro=<StorageController._handler() running at /Users/sychuang/My Drive (sc2357@cornell.edu)/Curriculum/2022SP/CS 5436 Privacy in the Digital Age/HW1/OpenWPM/openwpm/storage/storage_controller.py:94> wait_for=<Future pending cb=[<TaskWakeupMethWrapper object at 0x10d978190>()] created at /Users/sychuang/miniconda3/envs/openwpm/lib/python3.9/asyncio/base_events.py:424> created at /Users/sychuang/miniconda3/envs/openwpm/lib/python3.9/asyncio/streams.py:263> took 0.530 seconds\n",
      "Executing <Task pending name='Task-47214' coro=<StorageController._handler() running at /Users/sychuang/My Drive (sc2357@cornell.edu)/Curriculum/2022SP/CS 5436 Privacy in the Digital Age/HW1/OpenWPM/openwpm/storage/storage_controller.py:94> wait_for=<Future pending cb=[<TaskWakeupMethWrapper object at 0x10c7fb580>()] created at /Users/sychuang/miniconda3/envs/openwpm/lib/python3.9/asyncio/base_events.py:424> created at /Users/sychuang/miniconda3/envs/openwpm/lib/python3.9/asyncio/streams.py:263> took 0.659 seconds\n",
      "Executing <Task finished name='Task-55628' coro=<SQLiteStorageProvider.store_record() done, defined at /Users/sychuang/My Drive (sc2357@cornell.edu)/Curriculum/2022SP/CS 5436 Privacy in the Digital Age/HW1/OpenWPM/openwpm/storage/sql_provider.py:48> result=None created at /Users/sychuang/miniconda3/envs/openwpm/lib/python3.9/asyncio/tasks.py:361> took 0.113 seconds\n"
     ]
    },
    {
     "name": "stdout",
     "output_type": "stream",
     "text": [
      "storage_controller   - INFO     - Terminating handler, because the underlying socket closed\n"
     ]
    },
    {
     "name": "stderr",
     "output_type": "stream",
     "text": [
      "Executing <Task pending name='Task-47559' coro=<StorageController._handler() running at /Users/sychuang/My Drive (sc2357@cornell.edu)/Curriculum/2022SP/CS 5436 Privacy in the Digital Age/HW1/OpenWPM/openwpm/storage/storage_controller.py:94> wait_for=<Future pending cb=[<TaskWakeupMethWrapper object at 0x10c064040>()] created at /Users/sychuang/miniconda3/envs/openwpm/lib/python3.9/asyncio/base_events.py:424> created at /Users/sychuang/miniconda3/envs/openwpm/lib/python3.9/asyncio/streams.py:263> took 0.302 seconds\n"
     ]
    },
    {
     "name": "stdout",
     "output_type": "stream",
     "text": [
      "storage_controller   - INFO     - Awaiting all tasks for visit_id 5513764350385352\n"
     ]
    },
    {
     "name": "stderr",
     "output_type": "stream",
     "text": [
      "Executing <Task pending name='Task-53776' coro=<StorageController._handler() running at /Users/sychuang/My Drive (sc2357@cornell.edu)/Curriculum/2022SP/CS 5436 Privacy in the Digital Age/HW1/OpenWPM/openwpm/storage/storage_controller.py:94> wait_for=<Task pending name='Task-56259' coro=<SQLiteStorageProvider.store_record() running at /Users/sychuang/My Drive (sc2357@cornell.edu)/Curriculum/2022SP/CS 5436 Privacy in the Digital Age/HW1/OpenWPM/openwpm/storage/sql_provider.py:48> cb=[<TaskWakeupMethWrapper object at 0x10bec2ac0>()] created at /Users/sychuang/miniconda3/envs/openwpm/lib/python3.9/asyncio/tasks.py:361> created at /Users/sychuang/miniconda3/envs/openwpm/lib/python3.9/asyncio/streams.py:263> took 1.075 seconds\n",
      "Executing <Task pending name='Task-44473' coro=<StorageController._handler() running at /Users/sychuang/My Drive (sc2357@cornell.edu)/Curriculum/2022SP/CS 5436 Privacy in the Digital Age/HW1/OpenWPM/openwpm/storage/storage_controller.py:94> wait_for=<Future pending cb=[<TaskWakeupMethWrapper object at 0x10ed9ab20>()] created at /Users/sychuang/miniconda3/envs/openwpm/lib/python3.9/asyncio/base_events.py:424> created at /Users/sychuang/miniconda3/envs/openwpm/lib/python3.9/asyncio/streams.py:263> took 0.749 seconds\n",
      "Executing <Task pending name='Task-47214' coro=<StorageController._handler() running at /Users/sychuang/My Drive (sc2357@cornell.edu)/Curriculum/2022SP/CS 5436 Privacy in the Digital Age/HW1/OpenWPM/openwpm/storage/storage_controller.py:94> wait_for=<Future pending cb=[<TaskWakeupMethWrapper object at 0x10c36e910>()] created at /Users/sychuang/miniconda3/envs/openwpm/lib/python3.9/asyncio/base_events.py:424> created at /Users/sychuang/miniconda3/envs/openwpm/lib/python3.9/asyncio/streams.py:263> took 0.438 seconds\n",
      "Executing <Task pending name='Task-47559' coro=<StorageController._handler() running at /Users/sychuang/My Drive (sc2357@cornell.edu)/Curriculum/2022SP/CS 5436 Privacy in the Digital Age/HW1/OpenWPM/openwpm/storage/storage_controller.py:94> wait_for=<Future pending cb=[<TaskWakeupMethWrapper object at 0x10c512940>()] created at /Users/sychuang/miniconda3/envs/openwpm/lib/python3.9/asyncio/base_events.py:424> created at /Users/sychuang/miniconda3/envs/openwpm/lib/python3.9/asyncio/streams.py:263> took 0.176 seconds\n"
     ]
    },
    {
     "name": "stdout",
     "output_type": "stream",
     "text": [
      "storage_controller   - INFO     - Terminating handler, because the underlying socket closed\n"
     ]
    },
    {
     "name": "stderr",
     "output_type": "stream",
     "text": [
      "Executing <Task pending name='Task-44473' coro=<StorageController._handler() running at /Users/sychuang/My Drive (sc2357@cornell.edu)/Curriculum/2022SP/CS 5436 Privacy in the Digital Age/HW1/OpenWPM/openwpm/storage/storage_controller.py:94> wait_for=<Future pending cb=[<TaskWakeupMethWrapper object at 0x10ed9a2e0>()] created at /Users/sychuang/miniconda3/envs/openwpm/lib/python3.9/asyncio/base_events.py:424> created at /Users/sychuang/miniconda3/envs/openwpm/lib/python3.9/asyncio/streams.py:263> took 0.243 seconds\n"
     ]
    },
    {
     "name": "stdout",
     "output_type": "stream",
     "text": [
      "storage_controller   - INFO     - Terminating handler, because the underlying socket closed\n"
     ]
    },
    {
     "name": "stderr",
     "output_type": "stream",
     "text": [
      "Executing <Task pending name='Task-47214' coro=<StorageController._handler() running at /Users/sychuang/My Drive (sc2357@cornell.edu)/Curriculum/2022SP/CS 5436 Privacy in the Digital Age/HW1/OpenWPM/openwpm/storage/storage_controller.py:94> wait_for=<Future pending cb=[<TaskWakeupMethWrapper object at 0x10c36e100>()] created at /Users/sychuang/miniconda3/envs/openwpm/lib/python3.9/asyncio/base_events.py:424> created at /Users/sychuang/miniconda3/envs/openwpm/lib/python3.9/asyncio/streams.py:263> took 0.381 seconds\n",
      "Executing <Task pending name='Task-47559' coro=<StorageController._handler() running at /Users/sychuang/My Drive (sc2357@cornell.edu)/Curriculum/2022SP/CS 5436 Privacy in the Digital Age/HW1/OpenWPM/openwpm/storage/storage_controller.py:94> wait_for=<Future pending cb=[<TaskWakeupMethWrapper object at 0x10c0648e0>()] created at /Users/sychuang/miniconda3/envs/openwpm/lib/python3.9/asyncio/base_events.py:424> created at /Users/sychuang/miniconda3/envs/openwpm/lib/python3.9/asyncio/streams.py:263> took 0.153 seconds\n"
     ]
    },
    {
     "name": "stdout",
     "output_type": "stream",
     "text": [
      "CommandSequence for http://www.checkpointzero.com ran successfully\n",
      "CommandSequence for http://www.indianaar.com/ ran successfully\n"
     ]
    },
    {
     "name": "stderr",
     "output_type": "stream",
     "text": [
      "Executing <Task pending name='Task-44473' coro=<StorageController._handler() running at /Users/sychuang/My Drive (sc2357@cornell.edu)/Curriculum/2022SP/CS 5436 Privacy in the Digital Age/HW1/OpenWPM/openwpm/storage/storage_controller.py:94> wait_for=<Future pending cb=[<TaskWakeupMethWrapper object at 0x10d9784f0>()] created at /Users/sychuang/miniconda3/envs/openwpm/lib/python3.9/asyncio/base_events.py:424> created at /Users/sychuang/miniconda3/envs/openwpm/lib/python3.9/asyncio/streams.py:263> took 0.212 seconds\n",
      "Executing <Task pending name='Task-47214' coro=<StorageController._handler() running at /Users/sychuang/My Drive (sc2357@cornell.edu)/Curriculum/2022SP/CS 5436 Privacy in the Digital Age/HW1/OpenWPM/openwpm/storage/storage_controller.py:94> wait_for=<Future pending cb=[<TaskWakeupMethWrapper object at 0x10c5129a0>()] created at /Users/sychuang/miniconda3/envs/openwpm/lib/python3.9/asyncio/base_events.py:424> created at /Users/sychuang/miniconda3/envs/openwpm/lib/python3.9/asyncio/streams.py:263> took 0.489 seconds\n"
     ]
    },
    {
     "name": "stdout",
     "output_type": "stream",
     "text": [
      "storage_controller   - INFO     - Awaiting all tasks for visit_id 3914436351143762\n"
     ]
    },
    {
     "name": "stderr",
     "output_type": "stream",
     "text": [
      "Executing <Task pending name='Task-47214' coro=<StorageController._handler() running at /Users/sychuang/My Drive (sc2357@cornell.edu)/Curriculum/2022SP/CS 5436 Privacy in the Digital Age/HW1/OpenWPM/openwpm/storage/storage_controller.py:94> wait_for=<Future pending cb=[<TaskWakeupMethWrapper object at 0x10c064040>()] created at /Users/sychuang/miniconda3/envs/openwpm/lib/python3.9/asyncio/base_events.py:424> created at /Users/sychuang/miniconda3/envs/openwpm/lib/python3.9/asyncio/streams.py:263> took 0.403 seconds\n",
      "Executing <Task pending name='Task-47559' coro=<StorageController._handler() running at /Users/sychuang/My Drive (sc2357@cornell.edu)/Curriculum/2022SP/CS 5436 Privacy in the Digital Age/HW1/OpenWPM/openwpm/storage/storage_controller.py:94> wait_for=<Future pending cb=[<TaskWakeupMethWrapper object at 0x110bc4f40>()] created at /Users/sychuang/miniconda3/envs/openwpm/lib/python3.9/asyncio/base_events.py:424> created at /Users/sychuang/miniconda3/envs/openwpm/lib/python3.9/asyncio/streams.py:263> took 0.102 seconds\n"
     ]
    },
    {
     "name": "stdout",
     "output_type": "stream",
     "text": [
      "storage_controller   - INFO     - Awaiting all tasks for visit_id 2369138317631411\n",
      "storage_controller   - INFO     - Terminating handler, because the underlying socket closed\n"
     ]
    },
    {
     "name": "stderr",
     "output_type": "stream",
     "text": [
      "Executing <Task pending name='Task-47214' coro=<StorageController._handler() running at /Users/sychuang/My Drive (sc2357@cornell.edu)/Curriculum/2022SP/CS 5436 Privacy in the Digital Age/HW1/OpenWPM/openwpm/storage/storage_controller.py:94> wait_for=<Future pending cb=[<TaskWakeupMethWrapper object at 0x10cbe25b0>()] created at /Users/sychuang/miniconda3/envs/openwpm/lib/python3.9/asyncio/base_events.py:424> created at /Users/sychuang/miniconda3/envs/openwpm/lib/python3.9/asyncio/streams.py:263> took 0.503 seconds\n",
      "Executing <Task pending name='Task-47559' coro=<StorageController._handler() running at /Users/sychuang/My Drive (sc2357@cornell.edu)/Curriculum/2022SP/CS 5436 Privacy in the Digital Age/HW1/OpenWPM/openwpm/storage/storage_controller.py:94> wait_for=<Future pending cb=[<TaskWakeupMethWrapper object at 0x10d9787f0>()] created at /Users/sychuang/miniconda3/envs/openwpm/lib/python3.9/asyncio/base_events.py:424> created at /Users/sychuang/miniconda3/envs/openwpm/lib/python3.9/asyncio/streams.py:263> took 0.175 seconds\n",
      "Executing <Task pending name='Task-47214' coro=<StorageController._handler() running at /Users/sychuang/My Drive (sc2357@cornell.edu)/Curriculum/2022SP/CS 5436 Privacy in the Digital Age/HW1/OpenWPM/openwpm/storage/storage_controller.py:94> wait_for=<Future pending cb=[<TaskWakeupMethWrapper object at 0x10cbe2160>()] created at /Users/sychuang/miniconda3/envs/openwpm/lib/python3.9/asyncio/base_events.py:424> created at /Users/sychuang/miniconda3/envs/openwpm/lib/python3.9/asyncio/streams.py:263> took 0.299 seconds\n"
     ]
    },
    {
     "name": "stdout",
     "output_type": "stream",
     "text": [
      "browser_manager      - INFO     - BROWSER 3294789765: EXECUTING COMMAND: RecursiveDumpPageSourceCommand()\n"
     ]
    },
    {
     "name": "stderr",
     "output_type": "stream",
     "text": [
      "Executing <Task pending name='Task-47559' coro=<StorageController._handler() running at /Users/sychuang/My Drive (sc2357@cornell.edu)/Curriculum/2022SP/CS 5436 Privacy in the Digital Age/HW1/OpenWPM/openwpm/storage/storage_controller.py:94> wait_for=<Future pending cb=[<TaskWakeupMethWrapper object at 0x10ed9a550>()] created at /Users/sychuang/miniconda3/envs/openwpm/lib/python3.9/asyncio/base_events.py:424> created at /Users/sychuang/miniconda3/envs/openwpm/lib/python3.9/asyncio/streams.py:263> took 0.195 seconds\n",
      "Executing <Task pending name='Task-47214' coro=<StorageController._handler() running at /Users/sychuang/My Drive (sc2357@cornell.edu)/Curriculum/2022SP/CS 5436 Privacy in the Digital Age/HW1/OpenWPM/openwpm/storage/storage_controller.py:94> wait_for=<Future pending cb=[<TaskWakeupMethWrapper object at 0x10ed9a670>()] created at /Users/sychuang/miniconda3/envs/openwpm/lib/python3.9/asyncio/base_events.py:424> created at /Users/sychuang/miniconda3/envs/openwpm/lib/python3.9/asyncio/streams.py:263> took 0.193 seconds\n",
      "Executing <Task pending name='Task-47214' coro=<StorageController._handler() running at /Users/sychuang/My Drive (sc2357@cornell.edu)/Curriculum/2022SP/CS 5436 Privacy in the Digital Age/HW1/OpenWPM/openwpm/storage/storage_controller.py:94> wait_for=<Future pending cb=[<TaskWakeupMethWrapper object at 0x10ed9ad90>()] created at /Users/sychuang/miniconda3/envs/openwpm/lib/python3.9/asyncio/base_events.py:424> created at /Users/sychuang/miniconda3/envs/openwpm/lib/python3.9/asyncio/streams.py:263> took 0.515 seconds\n",
      "Executing <Task pending name='Task-47559' coro=<StorageController._handler() running at /Users/sychuang/My Drive (sc2357@cornell.edu)/Curriculum/2022SP/CS 5436 Privacy in the Digital Age/HW1/OpenWPM/openwpm/storage/storage_controller.py:94> wait_for=<Future pending cb=[<TaskWakeupMethWrapper object at 0x110bc43d0>()] created at /Users/sychuang/miniconda3/envs/openwpm/lib/python3.9/asyncio/base_events.py:424> created at /Users/sychuang/miniconda3/envs/openwpm/lib/python3.9/asyncio/streams.py:263> took 0.104 seconds\n",
      "Executing <Task pending name='Task-47214' coro=<StorageController._handler() running at /Users/sychuang/My Drive (sc2357@cornell.edu)/Curriculum/2022SP/CS 5436 Privacy in the Digital Age/HW1/OpenWPM/openwpm/storage/storage_controller.py:94> wait_for=<Future pending cb=[<TaskWakeupMethWrapper object at 0x10ed9aee0>()] created at /Users/sychuang/miniconda3/envs/openwpm/lib/python3.9/asyncio/base_events.py:424> created at /Users/sychuang/miniconda3/envs/openwpm/lib/python3.9/asyncio/streams.py:263> took 0.183 seconds\n",
      "Executing <Task pending name='Task-47559' coro=<StorageController._handler() running at /Users/sychuang/My Drive (sc2357@cornell.edu)/Curriculum/2022SP/CS 5436 Privacy in the Digital Age/HW1/OpenWPM/openwpm/storage/storage_controller.py:94> wait_for=<Future pending cb=[<TaskWakeupMethWrapper object at 0x10d978e20>()] created at /Users/sychuang/miniconda3/envs/openwpm/lib/python3.9/asyncio/base_events.py:424> created at /Users/sychuang/miniconda3/envs/openwpm/lib/python3.9/asyncio/streams.py:263> took 0.124 seconds\n"
     ]
    },
    {
     "name": "stdout",
     "output_type": "stream",
     "text": [
      "storage_controller   - INFO     - Terminating handler, because the underlying socket closed\n"
     ]
    },
    {
     "name": "stderr",
     "output_type": "stream",
     "text": [
      "Executing <Task pending name='Task-47559' coro=<StorageController._handler() running at /Users/sychuang/My Drive (sc2357@cornell.edu)/Curriculum/2022SP/CS 5436 Privacy in the Digital Age/HW1/OpenWPM/openwpm/storage/storage_controller.py:94> wait_for=<Future pending cb=[<TaskWakeupMethWrapper object at 0x10d978c10>()] created at /Users/sychuang/miniconda3/envs/openwpm/lib/python3.9/asyncio/base_events.py:424> created at /Users/sychuang/miniconda3/envs/openwpm/lib/python3.9/asyncio/streams.py:263> took 0.112 seconds\n",
      "Executing <Task pending name='Task-47559' coro=<StorageController._handler() running at /Users/sychuang/My Drive (sc2357@cornell.edu)/Curriculum/2022SP/CS 5436 Privacy in the Digital Age/HW1/OpenWPM/openwpm/storage/storage_controller.py:94> wait_for=<Future pending cb=[<TaskWakeupMethWrapper object at 0x10ed9a700>()] created at /Users/sychuang/miniconda3/envs/openwpm/lib/python3.9/asyncio/base_events.py:424> created at /Users/sychuang/miniconda3/envs/openwpm/lib/python3.9/asyncio/streams.py:263> took 0.102 seconds\n",
      "Executing <Task pending name='Task-47559' coro=<StorageController._handler() running at /Users/sychuang/My Drive (sc2357@cornell.edu)/Curriculum/2022SP/CS 5436 Privacy in the Digital Age/HW1/OpenWPM/openwpm/storage/storage_controller.py:94> wait_for=<Future pending cb=[<TaskWakeupMethWrapper object at 0x10cbe20d0>()] created at /Users/sychuang/miniconda3/envs/openwpm/lib/python3.9/asyncio/base_events.py:424> created at /Users/sychuang/miniconda3/envs/openwpm/lib/python3.9/asyncio/streams.py:263> took 0.195 seconds\n",
      "Executing <Task pending name='Task-47559' coro=<StorageController._handler() running at /Users/sychuang/My Drive (sc2357@cornell.edu)/Curriculum/2022SP/CS 5436 Privacy in the Digital Age/HW1/OpenWPM/openwpm/storage/storage_controller.py:94> wait_for=<Future pending cb=[<TaskWakeupMethWrapper object at 0x10d978220>()] created at /Users/sychuang/miniconda3/envs/openwpm/lib/python3.9/asyncio/base_events.py:424> created at /Users/sychuang/miniconda3/envs/openwpm/lib/python3.9/asyncio/streams.py:263> took 0.162 seconds\n"
     ]
    },
    {
     "name": "stdout",
     "output_type": "stream",
     "text": [
      "CommandSequence for http://www.hairyscaryevolutions.com/ ran successfully\n",
      "CommandSequence for http://www.go-kat-go.com/ ran successfully\n",
      "CommandSequence for http://www.infiterrasports.com ran successfully\n"
     ]
    },
    {
     "name": "stderr",
     "output_type": "stream",
     "text": [
      "Executing <Task pending name='Task-47559' coro=<StorageController._handler() running at /Users/sychuang/My Drive (sc2357@cornell.edu)/Curriculum/2022SP/CS 5436 Privacy in the Digital Age/HW1/OpenWPM/openwpm/storage/storage_controller.py:94> wait_for=<Future pending cb=[<TaskWakeupMethWrapper object at 0x10d978be0>()] created at /Users/sychuang/miniconda3/envs/openwpm/lib/python3.9/asyncio/base_events.py:424> created at /Users/sychuang/miniconda3/envs/openwpm/lib/python3.9/asyncio/streams.py:263> took 0.173 seconds\n",
      "Executing <Task pending name='Task-47559' coro=<StorageController._handler() running at /Users/sychuang/My Drive (sc2357@cornell.edu)/Curriculum/2022SP/CS 5436 Privacy in the Digital Age/HW1/OpenWPM/openwpm/storage/storage_controller.py:94> wait_for=<Future pending cb=[<TaskWakeupMethWrapper object at 0x10cbe2250>()] created at /Users/sychuang/miniconda3/envs/openwpm/lib/python3.9/asyncio/base_events.py:424> created at /Users/sychuang/miniconda3/envs/openwpm/lib/python3.9/asyncio/streams.py:263> took 0.234 seconds\n",
      "Executing <Task pending name='Task-47559' coro=<StorageController._handler() running at /Users/sychuang/My Drive (sc2357@cornell.edu)/Curriculum/2022SP/CS 5436 Privacy in the Digital Age/HW1/OpenWPM/openwpm/storage/storage_controller.py:94> wait_for=<Future pending cb=[<TaskWakeupMethWrapper object at 0x10ed9a130>()] created at /Users/sychuang/miniconda3/envs/openwpm/lib/python3.9/asyncio/base_events.py:424> created at /Users/sychuang/miniconda3/envs/openwpm/lib/python3.9/asyncio/streams.py:263> took 0.127 seconds\n",
      "Executing <Task pending name='Task-47559' coro=<StorageController._handler() running at /Users/sychuang/My Drive (sc2357@cornell.edu)/Curriculum/2022SP/CS 5436 Privacy in the Digital Age/HW1/OpenWPM/openwpm/storage/storage_controller.py:94> wait_for=<Future pending cb=[<TaskWakeupMethWrapper object at 0x10ed9ab20>()] created at /Users/sychuang/miniconda3/envs/openwpm/lib/python3.9/asyncio/base_events.py:424> created at /Users/sychuang/miniconda3/envs/openwpm/lib/python3.9/asyncio/streams.py:263> took 0.114 seconds\n",
      "Executing <Task pending name='Task-47559' coro=<StorageController._handler() running at /Users/sychuang/My Drive (sc2357@cornell.edu)/Curriculum/2022SP/CS 5436 Privacy in the Digital Age/HW1/OpenWPM/openwpm/storage/storage_controller.py:94> wait_for=<Future pending cb=[<TaskWakeupMethWrapper object at 0x10ed9aac0>()] created at /Users/sychuang/miniconda3/envs/openwpm/lib/python3.9/asyncio/base_events.py:424> created at /Users/sychuang/miniconda3/envs/openwpm/lib/python3.9/asyncio/streams.py:263> took 0.125 seconds\n",
      "Executing <Task pending name='Task-47559' coro=<StorageController._handler() running at /Users/sychuang/My Drive (sc2357@cornell.edu)/Curriculum/2022SP/CS 5436 Privacy in the Digital Age/HW1/OpenWPM/openwpm/storage/storage_controller.py:94> wait_for=<Future pending cb=[<TaskWakeupMethWrapper object at 0x10ed9a7c0>()] created at /Users/sychuang/miniconda3/envs/openwpm/lib/python3.9/asyncio/base_events.py:424> created at /Users/sychuang/miniconda3/envs/openwpm/lib/python3.9/asyncio/streams.py:263> took 0.107 seconds\n",
      "Executing <Task pending name='Task-47559' coro=<StorageController._handler() running at /Users/sychuang/My Drive (sc2357@cornell.edu)/Curriculum/2022SP/CS 5436 Privacy in the Digital Age/HW1/OpenWPM/openwpm/storage/storage_controller.py:94> wait_for=<Future pending cb=[<TaskWakeupMethWrapper object at 0x10ed9a5b0>()] created at /Users/sychuang/miniconda3/envs/openwpm/lib/python3.9/asyncio/base_events.py:424> created at /Users/sychuang/miniconda3/envs/openwpm/lib/python3.9/asyncio/streams.py:263> took 0.139 seconds\n",
      "Executing <Task pending name='Task-47559' coro=<StorageController._handler() running at /Users/sychuang/My Drive (sc2357@cornell.edu)/Curriculum/2022SP/CS 5436 Privacy in the Digital Age/HW1/OpenWPM/openwpm/storage/storage_controller.py:94> wait_for=<Future pending cb=[<TaskWakeupMethWrapper object at 0x10bec2dc0>()] created at /Users/sychuang/miniconda3/envs/openwpm/lib/python3.9/asyncio/base_events.py:424> created at /Users/sychuang/miniconda3/envs/openwpm/lib/python3.9/asyncio/streams.py:263> took 0.201 seconds\n",
      "Executing <Task pending name='Task-47559' coro=<StorageController._handler() running at /Users/sychuang/My Drive (sc2357@cornell.edu)/Curriculum/2022SP/CS 5436 Privacy in the Digital Age/HW1/OpenWPM/openwpm/storage/storage_controller.py:94> wait_for=<Future pending cb=[<TaskWakeupMethWrapper object at 0x10cbe2e80>()] created at /Users/sychuang/miniconda3/envs/openwpm/lib/python3.9/asyncio/base_events.py:424> created at /Users/sychuang/miniconda3/envs/openwpm/lib/python3.9/asyncio/streams.py:263> took 0.283 seconds\n",
      "Executing <Task pending name='Task-47559' coro=<StorageController._handler() running at /Users/sychuang/My Drive (sc2357@cornell.edu)/Curriculum/2022SP/CS 5436 Privacy in the Digital Age/HW1/OpenWPM/openwpm/storage/storage_controller.py:94> wait_for=<Future pending cb=[<TaskWakeupMethWrapper object at 0x10be76eb0>()] created at /Users/sychuang/miniconda3/envs/openwpm/lib/python3.9/asyncio/base_events.py:424> created at /Users/sychuang/miniconda3/envs/openwpm/lib/python3.9/asyncio/streams.py:263> took 0.607 seconds\n",
      "Executing <Task pending name='Task-47559' coro=<StorageController._handler() running at /Users/sychuang/My Drive (sc2357@cornell.edu)/Curriculum/2022SP/CS 5436 Privacy in the Digital Age/HW1/OpenWPM/openwpm/storage/storage_controller.py:94> wait_for=<Future pending cb=[<TaskWakeupMethWrapper object at 0x10cbe2df0>()] created at /Users/sychuang/miniconda3/envs/openwpm/lib/python3.9/asyncio/base_events.py:424> created at /Users/sychuang/miniconda3/envs/openwpm/lib/python3.9/asyncio/streams.py:263> took 0.172 seconds\n",
      "Executing <Task pending name='Task-47559' coro=<StorageController._handler() running at /Users/sychuang/My Drive (sc2357@cornell.edu)/Curriculum/2022SP/CS 5436 Privacy in the Digital Age/HW1/OpenWPM/openwpm/storage/storage_controller.py:94> wait_for=<Future pending cb=[<TaskWakeupMethWrapper object at 0x10cbe2970>()] created at /Users/sychuang/miniconda3/envs/openwpm/lib/python3.9/asyncio/base_events.py:424> created at /Users/sychuang/miniconda3/envs/openwpm/lib/python3.9/asyncio/streams.py:263> took 0.155 seconds\n",
      "Executing <Task pending name='Task-47559' coro=<StorageController._handler() running at /Users/sychuang/My Drive (sc2357@cornell.edu)/Curriculum/2022SP/CS 5436 Privacy in the Digital Age/HW1/OpenWPM/openwpm/storage/storage_controller.py:94> wait_for=<Future pending cb=[<TaskWakeupMethWrapper object at 0x110bc4220>()] created at /Users/sychuang/miniconda3/envs/openwpm/lib/python3.9/asyncio/base_events.py:424> created at /Users/sychuang/miniconda3/envs/openwpm/lib/python3.9/asyncio/streams.py:263> took 0.157 seconds\n",
      "Executing <Task pending name='Task-47559' coro=<StorageController._handler() running at /Users/sychuang/My Drive (sc2357@cornell.edu)/Curriculum/2022SP/CS 5436 Privacy in the Digital Age/HW1/OpenWPM/openwpm/storage/storage_controller.py:94> wait_for=<Future pending cb=[<TaskWakeupMethWrapper object at 0x10cbe2790>()] created at /Users/sychuang/miniconda3/envs/openwpm/lib/python3.9/asyncio/base_events.py:424> created at /Users/sychuang/miniconda3/envs/openwpm/lib/python3.9/asyncio/streams.py:263> took 0.215 seconds\n",
      "Executing <Task pending name='Task-47559' coro=<StorageController._handler() running at /Users/sychuang/My Drive (sc2357@cornell.edu)/Curriculum/2022SP/CS 5436 Privacy in the Digital Age/HW1/OpenWPM/openwpm/storage/storage_controller.py:94> wait_for=<Future pending cb=[<TaskWakeupMethWrapper object at 0x10d978ca0>()] created at /Users/sychuang/miniconda3/envs/openwpm/lib/python3.9/asyncio/base_events.py:424> created at /Users/sychuang/miniconda3/envs/openwpm/lib/python3.9/asyncio/streams.py:263> took 0.141 seconds\n",
      "Executing <Task pending name='Task-47559' coro=<StorageController._handler() running at /Users/sychuang/My Drive (sc2357@cornell.edu)/Curriculum/2022SP/CS 5436 Privacy in the Digital Age/HW1/OpenWPM/openwpm/storage/storage_controller.py:94> wait_for=<Future pending cb=[<TaskWakeupMethWrapper object at 0x10d978940>()] created at /Users/sychuang/miniconda3/envs/openwpm/lib/python3.9/asyncio/base_events.py:424> created at /Users/sychuang/miniconda3/envs/openwpm/lib/python3.9/asyncio/streams.py:263> took 0.125 seconds\n",
      "Executing <Task pending name='Task-47559' coro=<StorageController._handler() running at /Users/sychuang/My Drive (sc2357@cornell.edu)/Curriculum/2022SP/CS 5436 Privacy in the Digital Age/HW1/OpenWPM/openwpm/storage/storage_controller.py:94> wait_for=<Future pending cb=[<TaskWakeupMethWrapper object at 0x10d978820>()] created at /Users/sychuang/miniconda3/envs/openwpm/lib/python3.9/asyncio/base_events.py:424> created at /Users/sychuang/miniconda3/envs/openwpm/lib/python3.9/asyncio/streams.py:263> took 0.165 seconds\n",
      "Executing <Task pending name='Task-47559' coro=<StorageController._handler() running at /Users/sychuang/My Drive (sc2357@cornell.edu)/Curriculum/2022SP/CS 5436 Privacy in the Digital Age/HW1/OpenWPM/openwpm/storage/storage_controller.py:94> wait_for=<Future pending cb=[<TaskWakeupMethWrapper object at 0x10cbe2340>()] created at /Users/sychuang/miniconda3/envs/openwpm/lib/python3.9/asyncio/base_events.py:424> created at /Users/sychuang/miniconda3/envs/openwpm/lib/python3.9/asyncio/streams.py:263> took 0.158 seconds\n",
      "Executing <Task pending name='Task-47559' coro=<StorageController._handler() running at /Users/sychuang/My Drive (sc2357@cornell.edu)/Curriculum/2022SP/CS 5436 Privacy in the Digital Age/HW1/OpenWPM/openwpm/storage/storage_controller.py:94> wait_for=<Future pending cb=[<TaskWakeupMethWrapper object at 0x10cbe2580>()] created at /Users/sychuang/miniconda3/envs/openwpm/lib/python3.9/asyncio/base_events.py:424> created at /Users/sychuang/miniconda3/envs/openwpm/lib/python3.9/asyncio/streams.py:263> took 0.508 seconds\n",
      "Executing <Task pending name='Task-47559' coro=<StorageController._handler() running at /Users/sychuang/My Drive (sc2357@cornell.edu)/Curriculum/2022SP/CS 5436 Privacy in the Digital Age/HW1/OpenWPM/openwpm/storage/storage_controller.py:94> wait_for=<Future pending cb=[<TaskWakeupMethWrapper object at 0x110bc4d90>()] created at /Users/sychuang/miniconda3/envs/openwpm/lib/python3.9/asyncio/base_events.py:424> created at /Users/sychuang/miniconda3/envs/openwpm/lib/python3.9/asyncio/streams.py:263> took 0.121 seconds\n",
      "Executing <Task pending name='Task-47559' coro=<StorageController._handler() running at /Users/sychuang/My Drive (sc2357@cornell.edu)/Curriculum/2022SP/CS 5436 Privacy in the Digital Age/HW1/OpenWPM/openwpm/storage/storage_controller.py:94> wait_for=<Future pending cb=[<TaskWakeupMethWrapper object at 0x10d978a90>()] created at /Users/sychuang/miniconda3/envs/openwpm/lib/python3.9/asyncio/base_events.py:424> created at /Users/sychuang/miniconda3/envs/openwpm/lib/python3.9/asyncio/streams.py:263> took 0.163 seconds\n",
      "Executing <Task pending name='Task-47559' coro=<StorageController._handler() running at /Users/sychuang/My Drive (sc2357@cornell.edu)/Curriculum/2022SP/CS 5436 Privacy in the Digital Age/HW1/OpenWPM/openwpm/storage/storage_controller.py:94> wait_for=<Future pending cb=[<TaskWakeupMethWrapper object at 0x10bec2b80>()] created at /Users/sychuang/miniconda3/envs/openwpm/lib/python3.9/asyncio/base_events.py:424> created at /Users/sychuang/miniconda3/envs/openwpm/lib/python3.9/asyncio/streams.py:263> took 0.134 seconds\n"
     ]
    },
    {
     "name": "stdout",
     "output_type": "stream",
     "text": [
      "browser_manager      - INFO     - BROWSER 3294789765: EXECUTING COMMAND: FinalizeCommand(5)\n",
      "browser_manager      - INFO     - Finished working on CommandSequence with visit_id 3614799480860529 on browser with id 3294789765\n",
      "storage_controller   - INFO     - Awaiting all tasks for visit_id 3614799480860529\n",
      "storage_controller   - INFO     - Terminating handler, because the underlying socket closed\n",
      "CommandSequence for http://www.active.com/moresports/adventureracing/ ran successfully\n",
      "storage_controller   - INFO     - Terminating handler, because the underlying socket closed\n",
      "storage_controller   - INFO     - Terminating handler, because the underlying socket closed\n",
      "storage_controller   - INFO     - Received shutdown signal!\n",
      "storage_controller   - INFO     - Awaiting all tasks for visit_id 5828851023599905\n",
      "sql_provider         - WARNING  - Visit with visit_id 5828851023599905 got interrupted\n",
      "storage_controller   - INFO     - Awaiting all tasks for visit_id 1049084272580989\n",
      "sql_provider         - WARNING  - Visit with visit_id 1049084272580989 got interrupted\n",
      "storage_controller   - INFO     - Awaiting all tasks for visit_id 1883324766014815\n",
      "sql_provider         - WARNING  - Visit with visit_id 1883324766014815 got interrupted\n",
      "storage_controller   - INFO     - Awaiting all tasks for visit_id 8206641432277250\n",
      "sql_provider         - WARNING  - Visit with visit_id 8206641432277250 got interrupted\n",
      "storage_controller   - INFO     - Awaiting all tasks for visit_id 2711971102635740\n",
      "sql_provider         - WARNING  - Visit with visit_id 2711971102635740 got interrupted\n",
      "storage_controller   - INFO     - Awaiting all tasks for visit_id 6274423479855859\n",
      "sql_provider         - WARNING  - Visit with visit_id 6274423479855859 got interrupted\n",
      "storage_controller   - INFO     - Awaiting all tasks for visit_id 5141868303720913\n",
      "sql_provider         - WARNING  - Visit with visit_id 5141868303720913 got interrupted\n",
      "storage_controller   - INFO     - Awaiting all tasks for visit_id 6409593993770003\n",
      "sql_provider         - WARNING  - Visit with visit_id 6409593993770003 got interrupted\n",
      "storage_controller   - INFO     - Awaiting all tasks for visit_id 2380183410400907\n",
      "sql_provider         - WARNING  - Visit with visit_id 2380183410400907 got interrupted\n",
      "storage_controller   - INFO     - Awaiting all tasks for visit_id 7064008843707401\n",
      "sql_provider         - WARNING  - Visit with visit_id 7064008843707401 got interrupted\n",
      "storage_controller   - INFO     - Awaiting all tasks for visit_id 593527618628639\n",
      "sql_provider         - WARNING  - Visit with visit_id 593527618628639 got interrupted\n",
      "storage_controller   - INFO     - Awaiting all tasks for visit_id 1331711164210780\n",
      "sql_provider         - WARNING  - Visit with visit_id 1331711164210780 got interrupted\n",
      "storage_controller   - INFO     - Awaiting all tasks for visit_id 1167691061753591\n",
      "sql_provider         - WARNING  - Visit with visit_id 1167691061753591 got interrupted\n",
      "storage_controller   - INFO     - Awaiting all tasks for visit_id 5267310005292353\n",
      "sql_provider         - WARNING  - Visit with visit_id 5267310005292353 got interrupted\n",
      "storage_controller   - INFO     - Awaiting all tasks for visit_id 5578129004891164\n",
      "sql_provider         - WARNING  - Visit with visit_id 5578129004891164 got interrupted\n",
      "storage_controller   - INFO     - Awaiting all tasks for visit_id 4354126379332629\n",
      "sql_provider         - WARNING  - Visit with visit_id 4354126379332629 got interrupted\n",
      "storage_controller   - INFO     - Awaiting all tasks for visit_id 1015318766844275\n",
      "sql_provider         - WARNING  - Visit with visit_id 1015318766844275 got interrupted\n",
      "storage_controller   - INFO     - Awaiting all tasks for visit_id 6268987711839442\n",
      "sql_provider         - WARNING  - Visit with visit_id 6268987711839442 got interrupted\n",
      "storage_controller   - INFO     - Awaiting all tasks for visit_id 893990763597775\n",
      "sql_provider         - WARNING  - Visit with visit_id 893990763597775 got interrupted\n",
      "storage_controller   - INFO     - Awaiting all tasks for visit_id 5591259286223698\n",
      "sql_provider         - WARNING  - Visit with visit_id 5591259286223698 got interrupted\n",
      "storage_controller   - INFO     - Awaiting all tasks for visit_id 2372970650668514\n",
      "sql_provider         - WARNING  - Visit with visit_id 2372970650668514 got interrupted\n",
      "storage_controller   - INFO     - Awaiting all tasks for visit_id 556416356006168\n",
      "sql_provider         - WARNING  - Visit with visit_id 556416356006168 got interrupted\n",
      "storage_controller   - INFO     - Awaiting all tasks for visit_id 1393352209044108\n",
      "sql_provider         - WARNING  - Visit with visit_id 1393352209044108 got interrupted\n",
      "storage_controller   - INFO     - Awaiting all tasks for visit_id 4904902055012157\n",
      "sql_provider         - WARNING  - Visit with visit_id 4904902055012157 got interrupted\n"
     ]
    },
    {
     "name": "stderr",
     "output_type": "stream",
     "text": [
      "Executing <Task pending name='Task-4' coro=<StorageController._run() running at /Users/sychuang/My Drive (sc2357@cornell.edu)/Curriculum/2022SP/CS 5436 Privacy in the Digital Age/HW1/OpenWPM/openwpm/storage/storage_controller.py:352> wait_for=<Task pending name='CompletionQueueFeeder' coro=<StorageController.update_completion_queue() running at /Users/sychuang/My Drive (sc2357@cornell.edu)/Curriculum/2022SP/CS 5436 Privacy in the Digital Age/HW1/OpenWPM/openwpm/storage/storage_controller.py:322> wait_for=<Future pending cb=[<TaskWakeupMethWrapper object at 0x10ed9ab50>()] created at /Users/sychuang/miniconda3/envs/openwpm/lib/python3.9/asyncio/base_events.py:424> cb=[<TaskWakeupMethWrapper object at 0x10ed9a700>()] created at /Users/sychuang/miniconda3/envs/openwpm/lib/python3.9/asyncio/tasks.py:361> cb=[_run_until_complete_cb() at /Users/sychuang/miniconda3/envs/openwpm/lib/python3.9/asyncio/base_events.py:184] created at /Users/sychuang/miniconda3/envs/openwpm/lib/python3.9/asyncio/base_events.py:621> took 0.255 seconds\n"
     ]
    },
    {
     "name": "stdout",
     "output_type": "stream",
     "text": [
      "A connection establish request was performed on a closed socket\n"
     ]
    },
    {
     "ename": "KeyboardInterrupt",
     "evalue": "",
     "output_type": "error",
     "traceback": [
      "\u001b[0;31m---------------------------------------------------------------------------\u001b[0m",
      "\u001b[0;31mKeyboardInterrupt\u001b[0m                         Traceback (most recent call last)",
      "\u001b[0;32m/var/folders/dw/_rf86sr1501ctbn04zzcv0qh0000gn/T/ipykernel_9730/2275565585.py\u001b[0m in \u001b[0;36m<module>\u001b[0;34m\u001b[0m\n\u001b[1;32m     30\u001b[0m \u001b[0;34m\u001b[0m\u001b[0m\n\u001b[1;32m     31\u001b[0m         \u001b[0;31m# Run commands across all browsers (simple parallelization)\u001b[0m\u001b[0;34m\u001b[0m\u001b[0;34m\u001b[0m\u001b[0m\n\u001b[0;32m---> 32\u001b[0;31m         \u001b[0mmanager\u001b[0m\u001b[0;34m.\u001b[0m\u001b[0mexecute_command_sequence\u001b[0m\u001b[0;34m(\u001b[0m\u001b[0mcommand_sequence\u001b[0m\u001b[0;34m)\u001b[0m\u001b[0;34m\u001b[0m\u001b[0;34m\u001b[0m\u001b[0m\n\u001b[0m",
      "\u001b[0;32m~/My Drive (sc2357@cornell.edu)/Curriculum/2022SP/CS 5436 Privacy in the Digital Age/HW1/OpenWPM/openwpm/task_manager.py\u001b[0m in \u001b[0;36m__exit__\u001b[0;34m(self, exc_type, exc_val, exc_tb)\u001b[0m\n\u001b[1;32m    161\u001b[0m         \u001b[0mExecute\u001b[0m \u001b[0mshutdown\u001b[0m \u001b[0mprocedure\u001b[0m \u001b[0;32mfor\u001b[0m \u001b[0mTaskManager\u001b[0m\u001b[0;34m\u001b[0m\u001b[0;34m\u001b[0m\u001b[0m\n\u001b[1;32m    162\u001b[0m         \"\"\"\n\u001b[0;32m--> 163\u001b[0;31m         \u001b[0mself\u001b[0m\u001b[0;34m.\u001b[0m\u001b[0mclose\u001b[0m\u001b[0;34m(\u001b[0m\u001b[0;34m)\u001b[0m\u001b[0;34m\u001b[0m\u001b[0;34m\u001b[0m\u001b[0m\n\u001b[0m\u001b[1;32m    164\u001b[0m \u001b[0;34m\u001b[0m\u001b[0m\n\u001b[1;32m    165\u001b[0m     def _initialize_browsers(\n",
      "\u001b[0;32m~/My Drive (sc2357@cornell.edu)/Curriculum/2022SP/CS 5436 Privacy in the Digital Age/HW1/OpenWPM/openwpm/task_manager.py\u001b[0m in \u001b[0;36mclose\u001b[0;34m(self, relaxed)\u001b[0m\n\u001b[1;32m    484\u001b[0m             \u001b[0;32mreturn\u001b[0m\u001b[0;34m\u001b[0m\u001b[0;34m\u001b[0m\u001b[0m\n\u001b[1;32m    485\u001b[0m         \u001b[0mstart_time\u001b[0m \u001b[0;34m=\u001b[0m \u001b[0mtime\u001b[0m\u001b[0;34m.\u001b[0m\u001b[0mtime\u001b[0m\u001b[0;34m(\u001b[0m\u001b[0;34m)\u001b[0m\u001b[0;34m\u001b[0m\u001b[0;34m\u001b[0m\u001b[0m\n\u001b[0;32m--> 486\u001b[0;31m         \u001b[0mself\u001b[0m\u001b[0;34m.\u001b[0m\u001b[0m_shutdown_manager\u001b[0m\u001b[0;34m(\u001b[0m\u001b[0mrelaxed\u001b[0m\u001b[0;34m=\u001b[0m\u001b[0mrelaxed\u001b[0m\u001b[0;34m)\u001b[0m\u001b[0;34m\u001b[0m\u001b[0;34m\u001b[0m\u001b[0m\n\u001b[0m\u001b[1;32m    487\u001b[0m         \u001b[0;31m# We don't have a logging thread at this time anymore\u001b[0m\u001b[0;34m\u001b[0m\u001b[0;34m\u001b[0m\u001b[0m\n\u001b[1;32m    488\u001b[0m         \u001b[0mprint\u001b[0m\u001b[0;34m(\u001b[0m\u001b[0;34m\"Shutdown took %s seconds\"\u001b[0m \u001b[0;34m%\u001b[0m \u001b[0mstr\u001b[0m\u001b[0;34m(\u001b[0m\u001b[0mtime\u001b[0m\u001b[0;34m.\u001b[0m\u001b[0mtime\u001b[0m\u001b[0;34m(\u001b[0m\u001b[0;34m)\u001b[0m \u001b[0;34m-\u001b[0m \u001b[0mstart_time\u001b[0m\u001b[0;34m)\u001b[0m\u001b[0;34m)\u001b[0m\u001b[0;34m\u001b[0m\u001b[0;34m\u001b[0m\u001b[0m\n",
      "\u001b[0;32m~/My Drive (sc2357@cornell.edu)/Curriculum/2022SP/CS 5436 Privacy in the Digital Age/HW1/OpenWPM/openwpm/task_manager.py\u001b[0m in \u001b[0;36m_shutdown_manager\u001b[0;34m(self, during_init, relaxed)\u001b[0m\n\u001b[1;32m    312\u001b[0m         \u001b[0mself\u001b[0m\u001b[0;34m.\u001b[0m\u001b[0mlogging_server\u001b[0m\u001b[0;34m.\u001b[0m\u001b[0mclose\u001b[0m\u001b[0;34m(\u001b[0m\u001b[0;34m)\u001b[0m\u001b[0;34m\u001b[0m\u001b[0;34m\u001b[0m\u001b[0m\n\u001b[1;32m    313\u001b[0m         \u001b[0;32mif\u001b[0m \u001b[0mhasattr\u001b[0m\u001b[0;34m(\u001b[0m\u001b[0mself\u001b[0m\u001b[0;34m,\u001b[0m \u001b[0;34m\"callback_thread\"\u001b[0m\u001b[0;34m)\u001b[0m\u001b[0;34m:\u001b[0m\u001b[0;34m\u001b[0m\u001b[0;34m\u001b[0m\u001b[0m\n\u001b[0;32m--> 314\u001b[0;31m             \u001b[0mself\u001b[0m\u001b[0;34m.\u001b[0m\u001b[0mcallback_thread\u001b[0m\u001b[0;34m.\u001b[0m\u001b[0mjoin\u001b[0m\u001b[0;34m(\u001b[0m\u001b[0;34m)\u001b[0m\u001b[0;34m\u001b[0m\u001b[0;34m\u001b[0m\u001b[0m\n\u001b[0m\u001b[1;32m    315\u001b[0m \u001b[0;34m\u001b[0m\u001b[0m\n\u001b[1;32m    316\u001b[0m     \u001b[0;32mdef\u001b[0m \u001b[0m_check_failure_status\u001b[0m\u001b[0;34m(\u001b[0m\u001b[0mself\u001b[0m\u001b[0;34m)\u001b[0m \u001b[0;34m->\u001b[0m \u001b[0;32mNone\u001b[0m\u001b[0;34m:\u001b[0m\u001b[0;34m\u001b[0m\u001b[0;34m\u001b[0m\u001b[0m\n",
      "\u001b[0;32m~/miniconda3/envs/openwpm/lib/python3.9/threading.py\u001b[0m in \u001b[0;36mjoin\u001b[0;34m(self, timeout)\u001b[0m\n\u001b[1;32m   1051\u001b[0m \u001b[0;34m\u001b[0m\u001b[0m\n\u001b[1;32m   1052\u001b[0m         \u001b[0;32mif\u001b[0m \u001b[0mtimeout\u001b[0m \u001b[0;32mis\u001b[0m \u001b[0;32mNone\u001b[0m\u001b[0;34m:\u001b[0m\u001b[0;34m\u001b[0m\u001b[0;34m\u001b[0m\u001b[0m\n\u001b[0;32m-> 1053\u001b[0;31m             \u001b[0mself\u001b[0m\u001b[0;34m.\u001b[0m\u001b[0m_wait_for_tstate_lock\u001b[0m\u001b[0;34m(\u001b[0m\u001b[0;34m)\u001b[0m\u001b[0;34m\u001b[0m\u001b[0;34m\u001b[0m\u001b[0m\n\u001b[0m\u001b[1;32m   1054\u001b[0m         \u001b[0;32melse\u001b[0m\u001b[0;34m:\u001b[0m\u001b[0;34m\u001b[0m\u001b[0;34m\u001b[0m\u001b[0m\n\u001b[1;32m   1055\u001b[0m             \u001b[0;31m# the behavior of a negative timeout isn't documented, but\u001b[0m\u001b[0;34m\u001b[0m\u001b[0;34m\u001b[0m\u001b[0m\n",
      "\u001b[0;32m~/miniconda3/envs/openwpm/lib/python3.9/threading.py\u001b[0m in \u001b[0;36m_wait_for_tstate_lock\u001b[0;34m(self, block, timeout)\u001b[0m\n\u001b[1;32m   1067\u001b[0m         \u001b[0;32mif\u001b[0m \u001b[0mlock\u001b[0m \u001b[0;32mis\u001b[0m \u001b[0;32mNone\u001b[0m\u001b[0;34m:\u001b[0m  \u001b[0;31m# already determined that the C code is done\u001b[0m\u001b[0;34m\u001b[0m\u001b[0;34m\u001b[0m\u001b[0m\n\u001b[1;32m   1068\u001b[0m             \u001b[0;32massert\u001b[0m \u001b[0mself\u001b[0m\u001b[0;34m.\u001b[0m\u001b[0m_is_stopped\u001b[0m\u001b[0;34m\u001b[0m\u001b[0;34m\u001b[0m\u001b[0m\n\u001b[0;32m-> 1069\u001b[0;31m         \u001b[0;32melif\u001b[0m \u001b[0mlock\u001b[0m\u001b[0;34m.\u001b[0m\u001b[0macquire\u001b[0m\u001b[0;34m(\u001b[0m\u001b[0mblock\u001b[0m\u001b[0;34m,\u001b[0m \u001b[0mtimeout\u001b[0m\u001b[0;34m)\u001b[0m\u001b[0;34m:\u001b[0m\u001b[0;34m\u001b[0m\u001b[0;34m\u001b[0m\u001b[0m\n\u001b[0m\u001b[1;32m   1070\u001b[0m             \u001b[0mlock\u001b[0m\u001b[0;34m.\u001b[0m\u001b[0mrelease\u001b[0m\u001b[0;34m(\u001b[0m\u001b[0;34m)\u001b[0m\u001b[0;34m\u001b[0m\u001b[0;34m\u001b[0m\u001b[0m\n\u001b[1;32m   1071\u001b[0m             \u001b[0mself\u001b[0m\u001b[0;34m.\u001b[0m\u001b[0m_stop\u001b[0m\u001b[0;34m(\u001b[0m\u001b[0;34m)\u001b[0m\u001b[0;34m\u001b[0m\u001b[0;34m\u001b[0m\u001b[0m\n",
      "\u001b[0;31mKeyboardInterrupt\u001b[0m: "
     ]
    }
   ],
   "source": [
    "# Commands time out by default after 60 seconds\n",
    "with TaskManager(\n",
    "    manager_params,\n",
    "    browser_params,\n",
    "    SQLiteStorageProvider(Path(\"./datadir/crawl-data.sqlite\")),\n",
    "    None,\n",
    ") as manager:\n",
    "    # Visits the sites\n",
    "    for index, site in enumerate(sites):\n",
    "\n",
    "        def callback(success: bool, val: str = site) -> None:\n",
    "            print(\n",
    "                f\"CommandSequence for {val} ran {'successfully' if success else 'unsuccessfully'}\"\n",
    "            )\n",
    "\n",
    "        # Parallelize sites over all number of browsers set above.\n",
    "        command_sequence = CommandSequence(\n",
    "            site,\n",
    "            site_rank=index,\n",
    "            callback=callback,\n",
    "        )\n",
    "\n",
    "        # # Start by visiting the page\n",
    "        # command_sequence.append_command(GetCommand(url=site, sleep=3), timeout=60)\n",
    "        # # Have a look at custom_command.py to see how to implement your own command\n",
    "        # command_sequence.append_command(LinkCountingCommand())\n",
    "\n",
    "        command_sequence.get(sleep=1)\n",
    "        command_sequence.recursive_dump_page_source()\n",
    "\n",
    "        # Run commands across all browsers (simple parallelization)\n",
    "        manager.execute_command_sequence(command_sequence)\n"
   ]
  }
 ],
 "metadata": {
  "interpreter": {
   "hash": "c635a6ebb06be20b27fd0dd1700385ba222857902245c40bc3ce46357b8ba3a2"
  },
  "kernelspec": {
   "display_name": "Python 3.9.7 ('openwpm')",
   "language": "python",
   "name": "python3"
  },
  "language_info": {
   "codemirror_mode": {
    "name": "ipython",
    "version": 3
   },
   "file_extension": ".py",
   "mimetype": "text/x-python",
   "name": "python",
   "nbconvert_exporter": "python",
   "pygments_lexer": "ipython3",
   "version": "3.9.7"
  },
  "orig_nbformat": 4
 },
 "nbformat": 4,
 "nbformat_minor": 2
}
